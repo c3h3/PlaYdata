{
 "metadata": {
  "name": "",
  "signature": "sha256:7da5800a9befc1cfd3f423c2b31c14feae4b5c3d64cddc07e3c2a9d47d7e9270"
 },
 "nbformat": 3,
 "nbformat_minor": 0,
 "worksheets": [
  {
   "cells": [
    {
     "cell_type": "code",
     "collapsed": false,
     "input": [
      "import PlaYnlp.tokenizer as tkr \n",
      "import PlaYnlp.vectorizer as vcr\n",
      "from PlaYnlp import dataio\n",
      "\n",
      "from PlaYnlp.sparse import L0_norm_col_summarizer as L0_col_sum\n",
      "from PlaYnlp.sparse import L1_norm_col_summarizer as L1_col_sum\n",
      "import numpy as np\n",
      "import scipy as sp"
     ],
     "language": "python",
     "metadata": {},
     "outputs": [],
     "prompt_number": 4
    },
    {
     "cell_type": "code",
     "collapsed": false,
     "input": [],
     "language": "python",
     "metadata": {},
     "outputs": [],
     "prompt_number": 4
    },
    {
     "cell_type": "code",
     "collapsed": false,
     "input": [],
     "language": "python",
     "metadata": {},
     "outputs": [],
     "prompt_number": 4
    },
    {
     "cell_type": "code",
     "collapsed": false,
     "input": [
      "import pandas as pd \n",
      "test_text_df = pd.DataFrame([u\"\u4eca\u5929\u5929\u6c23\u5f88\u597d\",u\"\u4eca\u5929\u5929\u6c23\u5f88\u721b\",u\"\u6211\u6068\u5b83\",u\"\u5b83\u6068\u6211\",u\"\u6211\u611b\u5b83\",u\"\u5b83\u611b\u6211\",u\"\u4eca\u5929\u5f88\u8870\",u\"\u65e5\u5b50\u4e00\u5929\u4e00\u5929\u904e\",u\"\u5929\u5929\u5237\u7259\u6d17\u81c9\"])\n",
      "test_text_df.columns = [\"text\"]\n",
      "test_text_df = test_text_df.reset_index()\n",
      "test_text_df[\"idx\"] = map(lambda xx :u\"%05d\" % xx,test_text_df[\"index\"])\n",
      "test_text_df[\"r1\"] = np.random.randn(test_text_df.shape[0])\n",
      "test_text_df[\"r2\"] = np.random.randn(test_text_df.shape[0])\n",
      "test_text_df"
     ],
     "language": "python",
     "metadata": {},
     "outputs": [
      {
       "html": [
        "<div style=\"max-height:1000px;max-width:1500px;overflow:auto;\">\n",
        "<table border=\"1\" class=\"dataframe\">\n",
        "  <thead>\n",
        "    <tr style=\"text-align: right;\">\n",
        "      <th></th>\n",
        "      <th>index</th>\n",
        "      <th>text</th>\n",
        "      <th>idx</th>\n",
        "      <th>r1</th>\n",
        "      <th>r2</th>\n",
        "    </tr>\n",
        "  </thead>\n",
        "  <tbody>\n",
        "    <tr>\n",
        "      <th>0</th>\n",
        "      <td> 0</td>\n",
        "      <td>  \u4eca\u5929\u5929\u6c23\u5f88\u597d</td>\n",
        "      <td> 00000</td>\n",
        "      <td>-2.854750</td>\n",
        "      <td> 1.672708</td>\n",
        "    </tr>\n",
        "    <tr>\n",
        "      <th>1</th>\n",
        "      <td> 1</td>\n",
        "      <td>  \u4eca\u5929\u5929\u6c23\u5f88\u721b</td>\n",
        "      <td> 00001</td>\n",
        "      <td>-0.557328</td>\n",
        "      <td> 0.754843</td>\n",
        "    </tr>\n",
        "    <tr>\n",
        "      <th>2</th>\n",
        "      <td> 2</td>\n",
        "      <td>     \u6211\u6068\u5b83</td>\n",
        "      <td> 00002</td>\n",
        "      <td>-0.764006</td>\n",
        "      <td> 0.809818</td>\n",
        "    </tr>\n",
        "    <tr>\n",
        "      <th>3</th>\n",
        "      <td> 3</td>\n",
        "      <td>     \u5b83\u6068\u6211</td>\n",
        "      <td> 00003</td>\n",
        "      <td> 0.029012</td>\n",
        "      <td> 0.846762</td>\n",
        "    </tr>\n",
        "    <tr>\n",
        "      <th>4</th>\n",
        "      <td> 4</td>\n",
        "      <td>     \u6211\u611b\u5b83</td>\n",
        "      <td> 00004</td>\n",
        "      <td>-0.022972</td>\n",
        "      <td>-1.735852</td>\n",
        "    </tr>\n",
        "    <tr>\n",
        "      <th>5</th>\n",
        "      <td> 5</td>\n",
        "      <td>     \u5b83\u611b\u6211</td>\n",
        "      <td> 00005</td>\n",
        "      <td>-0.061137</td>\n",
        "      <td> 1.477081</td>\n",
        "    </tr>\n",
        "    <tr>\n",
        "      <th>6</th>\n",
        "      <td> 6</td>\n",
        "      <td>    \u4eca\u5929\u5f88\u8870</td>\n",
        "      <td> 00006</td>\n",
        "      <td>-1.311680</td>\n",
        "      <td> 0.525856</td>\n",
        "    </tr>\n",
        "    <tr>\n",
        "      <th>7</th>\n",
        "      <td> 7</td>\n",
        "      <td> \u65e5\u5b50\u4e00\u5929\u4e00\u5929\u904e</td>\n",
        "      <td> 00007</td>\n",
        "      <td>-0.861752</td>\n",
        "      <td>-1.243077</td>\n",
        "    </tr>\n",
        "    <tr>\n",
        "      <th>8</th>\n",
        "      <td> 8</td>\n",
        "      <td>  \u5929\u5929\u5237\u7259\u6d17\u81c9</td>\n",
        "      <td> 00008</td>\n",
        "      <td> 0.833370</td>\n",
        "      <td>-0.059398</td>\n",
        "    </tr>\n",
        "  </tbody>\n",
        "</table>\n",
        "<p>9 rows \u00d7 5 columns</p>\n",
        "</div>"
       ],
       "metadata": {},
       "output_type": "pyout",
       "prompt_number": 5,
       "text": [
        "   index     text    idx        r1        r2\n",
        "0      0   \u4eca\u5929\u5929\u6c23\u5f88\u597d  00000 -2.854750  1.672708\n",
        "1      1   \u4eca\u5929\u5929\u6c23\u5f88\u721b  00001 -0.557328  0.754843\n",
        "2      2      \u6211\u6068\u5b83  00002 -0.764006  0.809818\n",
        "3      3      \u5b83\u6068\u6211  00003  0.029012  0.846762\n",
        "4      4      \u6211\u611b\u5b83  00004 -0.022972 -1.735852\n",
        "5      5      \u5b83\u611b\u6211  00005 -0.061137  1.477081\n",
        "6      6     \u4eca\u5929\u5f88\u8870  00006 -1.311680  0.525856\n",
        "7      7  \u65e5\u5b50\u4e00\u5929\u4e00\u5929\u904e  00007 -0.861752 -1.243077\n",
        "8      8   \u5929\u5929\u5237\u7259\u6d17\u81c9  00008  0.833370 -0.059398\n",
        "\n",
        "[9 rows x 5 columns]"
       ]
      }
     ],
     "prompt_number": 5
    },
    {
     "cell_type": "code",
     "collapsed": false,
     "input": [
      "import numpy as np\n",
      "import inspect\n",
      "import types\n",
      "import PlaYnlp.tokenizer as tkr \n",
      "from PlaYdata.util.args_tools import check_type_of_args\n",
      "import PlaYdata.util.array_tools as tools\n",
      "\n"
     ],
     "language": "python",
     "metadata": {},
     "outputs": [],
     "prompt_number": 6
    },
    {
     "cell_type": "code",
     "collapsed": false,
     "input": [
      "class ValuesArray(np.ndarray):\n",
      "    def __new__(cls, data, dtype=None, force2d=\"as_row\"):\n",
      "        \n",
      "        assert force2d in (\"as_row\",\"as_col\")\n",
      "        \n",
      "        if isinstance(data, cls):\n",
      "            return data\n",
      "        else:\n",
      "            values_array = np.array(data, dtype=dtype)\n",
      "            \n",
      "            if force2d==\"as_row\":\n",
      "                if len(values_array.shape) < 2:\n",
      "                    values_array = np.array([values_array])\n",
      "            elif force2d==\"as_col\":\n",
      "                if len(values_array.shape) < 2:\n",
      "                    values_array = np.array([values_array]).T\n",
      "            \n",
      "            values_array = values_array.view(cls)\n",
      "            \n",
      "            return values_array\n",
      "        \n",
      "    def decompose_into_states_ptrs(self):\n",
      "        u,i = np.unique(self, return_inverse=True)\n",
      "        states_array = StatesArray(data=u, eval_cls=type(self))\n",
      "        ptr_array = PtrArray(data=i)\n",
      "        if len(self.shape) > 1:\n",
      "            ptr_array = ptr_array.reshape(self.shape)\n",
      "        return states_array, ptr_array\n",
      "    \n",
      "#    def to_states_data_array(self):\n",
      "#        return StatesDataArray(*self.decompose_into_states_ptrs())\n",
      "    \n",
      "    \n",
      "class StatesArray(np.ndarray):\n",
      "    def __new__(cls, data, dtype=None, eval_cls=np.ndarray):\n",
      "        if isinstance(data, cls):\n",
      "            data._eval_cls = eval_cls\n",
      "            return data\n",
      "        else:\n",
      "            states_array = np.unique(np.array(data, dtype=dtype)).view(cls)\n",
      "            states_array._eval_cls = eval_cls\n",
      "            return states_array\n",
      "    \n",
      "    def _eval(self, ptr_array):\n",
      "        assert isinstance(ptr_array, PtrArray)\n",
      "        return self[ptr_array].view(self._eval_cls).copy()\n",
      "        \n",
      "    \n",
      "\n",
      "class PtrArray(np.ndarray):\n",
      "    def __new__(cls, data, dtype=None):\n",
      "        if isinstance(data, cls):\n",
      "            return data\n",
      "        else:\n",
      "            data_array = np.array(data, dtype).view(cls)\n",
      "            return data_array\n",
      "    \n",
      "    \n",
      "    def decompose_into_states_ptrs(self):\n",
      "        u,i = np.unique(self, return_inverse=True)\n",
      "        states_array = StatesArray(data=u, eval_cls=type(self))\n",
      "        ptr_array = PtrArray(data=i)\n",
      "        return states_array, ptr_array\n",
      "    \n",
      "    \n",
      "    def transform(self, ptrs_transform):\n",
      "        return type(self)(data = ptrs_transform[self])\n",
      "\n",
      "    \n",
      "    def ngram(self, n):\n",
      "        \n",
      "        ngram_results = list(tools.ngram(self.flatten(),n))\n",
      "        return type(self)(data=ngram_results)\n",
      "    \n",
      "    \n",
      "    \n",
      "class StatesDictionary(object):\n",
      "    def __init__(self, states_array):\n",
      "        assert isinstance(states_array, StatesArray)\n",
      "        self._states_array = states_array\n",
      "        self._referred_by = []\n",
      "    \n",
      "    @property\n",
      "    def dtype(self):\n",
      "        return self._states_array.dtype\n",
      "    \n",
      "    @property\n",
      "    def _eval_cls(self):\n",
      "        return self._states_array._eval_cls\n",
      "    \n",
      "        \n",
      "    def __repr__(self):\n",
      "        return u\"{StatesDictionary} \" + self._states_array.__repr__()\n",
      "    \n",
      "    def _eval(self, ptr_array):\n",
      "        assert isinstance(ptr_array, PtrArray)\n",
      "        return self._states_array._eval(ptr_array)\n",
      "    \n",
      "    \n",
      "    def update_states_array(self, new_states_array, ptrs_transform=None):\n",
      "        self._states_array = new_states_array\n",
      "        for one_states_data_array in self._referred_by:\n",
      "            if ptrs_transform != None:\n",
      "                one_states_data_array._ptr_array = one_states_data_array._ptr_array.transform(ptrs_transform)\n",
      "    \n",
      "    def replace_states_dict(self, new_states_dict, ptrs_transform=None):\n",
      "        \n",
      "        assert isinstance(new_states_dict,type(self))\n",
      "        \n",
      "        for one_states_data_array in self._referred_by:\n",
      "            self._referred_by.remove(one_states_data_array)\n",
      "            new_states_dict._referred_by.append(one_states_data_array)\n",
      "            one_states_data_array._states_dict = new_states_dict\n",
      "            if ptrs_transform != None:\n",
      "                one_states_data_array._ptr_array = one_states_data_array._ptr_array.transform(ptrs_transform)\n",
      "    \n",
      "    \n",
      "    \n",
      "\n",
      "\n",
      "    \n",
      "    \n",
      "    \n",
      "    \n",
      "    \n",
      "\n",
      "        \n",
      "    \n",
      "    "
     ],
     "language": "python",
     "metadata": {},
     "outputs": [],
     "prompt_number": 22
    },
    {
     "cell_type": "code",
     "collapsed": false,
     "input": [
      "val_array = ValuesArray(list(tools.ngram(test_text_df[\"text\"].values[0],[1])))\n",
      "states_array, ptr_array = val_array.decompose_into_states_ptrs()"
     ],
     "language": "python",
     "metadata": {},
     "outputs": [],
     "prompt_number": 23
    },
    {
     "cell_type": "code",
     "collapsed": false,
     "input": [
      "np.array_equal(val_array,states_array._eval(ptr_array))"
     ],
     "language": "python",
     "metadata": {},
     "outputs": [
      {
       "metadata": {},
       "output_type": "pyout",
       "prompt_number": 24,
       "text": [
        "True"
       ]
      }
     ],
     "prompt_number": 24
    },
    {
     "cell_type": "code",
     "collapsed": false,
     "input": [
      "ptr_array.ngram(2)"
     ],
     "language": "python",
     "metadata": {},
     "outputs": [
      {
       "metadata": {},
       "output_type": "pyout",
       "prompt_number": 25,
       "text": [
        "PtrArray([[0, 1],\n",
        "       [1, 1],\n",
        "       [1, 4],\n",
        "       [4, 3],\n",
        "       [3, 2]])"
       ]
      }
     ],
     "prompt_number": 25
    },
    {
     "cell_type": "code",
     "collapsed": false,
     "input": [],
     "language": "python",
     "metadata": {},
     "outputs": [],
     "prompt_number": 26
    },
    {
     "cell_type": "code",
     "collapsed": false,
     "input": [],
     "language": "python",
     "metadata": {},
     "outputs": [],
     "prompt_number": 14
    },
    {
     "cell_type": "code",
     "collapsed": false,
     "input": [
      "text_val_arrays = map(lambda xx:ValuesArray(list(tkr.ngram(xx,[1]))),test_text_df[\"text\"].values)\n",
      "text_states_data_arrays = map(lambda xx:xx.to_states_data_array().ngram(2), \n",
      "                              text_val_arrays)"
     ],
     "language": "python",
     "metadata": {},
     "outputs": [],
     "prompt_number": 7
    },
    {
     "cell_type": "code",
     "collapsed": false,
     "input": [
      "test = text_val_arrays[0]"
     ],
     "language": "python",
     "metadata": {},
     "outputs": [],
     "prompt_number": 12
    },
    {
     "cell_type": "code",
     "collapsed": false,
     "input": [
      "test.decompose_into_states_ptrs()"
     ],
     "language": "python",
     "metadata": {},
     "outputs": [
      {
       "metadata": {},
       "output_type": "pyout",
       "prompt_number": 13,
       "text": [
        "(StatesArray([u'\\u4eca', u'\\u5929', u'\\u597d', u'\\u5f88', u'\\u6c23'], \n",
        "       dtype='<U1'), PtrArray([[0, 1, 1, 4, 3, 2]]))"
       ]
      }
     ],
     "prompt_number": 13
    },
    {
     "cell_type": "code",
     "collapsed": false,
     "input": [],
     "language": "python",
     "metadata": {},
     "outputs": []
    },
    {
     "cell_type": "code",
     "collapsed": false,
     "input": [],
     "language": "python",
     "metadata": {},
     "outputs": []
    },
    {
     "cell_type": "code",
     "collapsed": false,
     "input": [],
     "language": "python",
     "metadata": {},
     "outputs": []
    },
    {
     "cell_type": "code",
     "collapsed": false,
     "input": [],
     "language": "python",
     "metadata": {},
     "outputs": []
    },
    {
     "cell_type": "code",
     "collapsed": false,
     "input": [],
     "language": "python",
     "metadata": {},
     "outputs": []
    },
    {
     "cell_type": "code",
     "collapsed": false,
     "input": [],
     "language": "python",
     "metadata": {},
     "outputs": []
    },
    {
     "cell_type": "code",
     "collapsed": false,
     "input": [
      "text_states_data_array_merger = StatesDataArrayMerger(*text_states_data_arrays)\n",
      "text_test_merge = text_states_data_array_merger.merge()"
     ],
     "language": "python",
     "metadata": {},
     "outputs": [
      {
       "ename": "IndexError",
       "evalue": "arrays used as indices must be of integer (or boolean) type",
       "output_type": "pyerr",
       "traceback": [
        "\u001b[1;31m---------------------------------------------------------------------------\u001b[0m\n\u001b[1;31mIndexError\u001b[0m                                Traceback (most recent call last)",
        "\u001b[1;32m<ipython-input-8-a13fb87a06a6>\u001b[0m in \u001b[0;36m<module>\u001b[1;34m()\u001b[0m\n\u001b[0;32m      1\u001b[0m \u001b[0mtext_states_data_array_merger\u001b[0m \u001b[1;33m=\u001b[0m \u001b[0mStatesDataArrayMerger\u001b[0m\u001b[1;33m(\u001b[0m\u001b[1;33m*\u001b[0m\u001b[0mtext_states_data_arrays\u001b[0m\u001b[1;33m)\u001b[0m\u001b[1;33m\u001b[0m\u001b[0m\n\u001b[1;32m----> 2\u001b[1;33m \u001b[0mtext_test_merge\u001b[0m \u001b[1;33m=\u001b[0m \u001b[0mtext_states_data_array_merger\u001b[0m\u001b[1;33m.\u001b[0m\u001b[0mmerge\u001b[0m\u001b[1;33m(\u001b[0m\u001b[1;33m)\u001b[0m\u001b[1;33m\u001b[0m\u001b[0m\n\u001b[0m",
        "\u001b[1;32m<ipython-input-4-e705426a2ad0>\u001b[0m in \u001b[0;36mmerge\u001b[1;34m(self, axis, auto_extend_rows)\u001b[0m\n\u001b[0;32m    290\u001b[0m \u001b[1;33m\u001b[0m\u001b[0m\n\u001b[0;32m    291\u001b[0m             \u001b[0mstates_dict_merger\u001b[0m \u001b[1;33m=\u001b[0m \u001b[0mStatesDictionaryMerger\u001b[0m\u001b[1;33m(\u001b[0m\u001b[1;33m*\u001b[0m\u001b[0mmap\u001b[0m\u001b[1;33m(\u001b[0m\u001b[1;32mlambda\u001b[0m \u001b[0mxx\u001b[0m\u001b[1;33m:\u001b[0m\u001b[0mxx\u001b[0m\u001b[1;33m.\u001b[0m\u001b[0m_states_dict\u001b[0m\u001b[1;33m,\u001b[0m\u001b[0mself\u001b[0m\u001b[1;33m)\u001b[0m\u001b[1;33m)\u001b[0m\u001b[1;33m\u001b[0m\u001b[0m\n\u001b[1;32m--> 292\u001b[1;33m             \u001b[0mstates_dict_merger\u001b[0m\u001b[1;33m.\u001b[0m\u001b[0mmerge\u001b[0m\u001b[1;33m(\u001b[0m\u001b[1;33m)\u001b[0m\u001b[1;33m.\u001b[0m\u001b[0mupdate\u001b[0m\u001b[1;33m(\u001b[0m\u001b[1;33m)\u001b[0m\u001b[1;33m\u001b[0m\u001b[0m\n\u001b[0m\u001b[0;32m    293\u001b[0m             \u001b[1;31m#print \"states_dict_merger.merge._new_states_array = \",states_dict_merger.merge._new_states_array\u001b[0m\u001b[1;33m\u001b[0m\u001b[1;33m\u001b[0m\u001b[0m\n\u001b[0;32m    294\u001b[0m \u001b[1;33m\u001b[0m\u001b[0m\n",
        "\u001b[1;32m<ipython-input-4-e705426a2ad0>\u001b[0m in \u001b[0;36mupdate\u001b[1;34m(self)\u001b[0m\n\u001b[0;32m    260\u001b[0m             \u001b[1;32mfor\u001b[0m \u001b[0mptrs_trans\u001b[0m\u001b[1;33m,\u001b[0m \u001b[0mstates_dict\u001b[0m \u001b[1;32min\u001b[0m \u001b[0mzip\u001b[0m\u001b[1;33m(\u001b[0m\u001b[0mself\u001b[0m\u001b[1;33m.\u001b[0m\u001b[0m_ptrs_transforms\u001b[0m\u001b[1;33m,\u001b[0m\u001b[0mself\u001b[0m\u001b[1;33m)\u001b[0m\u001b[1;33m:\u001b[0m\u001b[1;33m\u001b[0m\u001b[0m\n\u001b[0;32m    261\u001b[0m                 states_dict.replace_states_dict(new_states_dict = self._new_states_dict, \n\u001b[1;32m--> 262\u001b[1;33m                                                 ptrs_transform = ptrs_trans)\n\u001b[0m\u001b[0;32m    263\u001b[0m \u001b[1;33m\u001b[0m\u001b[0m\n\u001b[0;32m    264\u001b[0m         \u001b[1;32melse\u001b[0m\u001b[1;33m:\u001b[0m\u001b[1;33m\u001b[0m\u001b[0m\n",
        "\u001b[1;32m<ipython-input-4-e705426a2ad0>\u001b[0m in \u001b[0;36mreplace_states_dict\u001b[1;34m(self, new_states_dict, ptrs_transform)\u001b[0m\n\u001b[0;32m    115\u001b[0m             \u001b[0mone_states_data_array\u001b[0m\u001b[1;33m.\u001b[0m\u001b[0m_states_dict\u001b[0m \u001b[1;33m=\u001b[0m \u001b[0mnew_states_dict\u001b[0m\u001b[1;33m\u001b[0m\u001b[0m\n\u001b[0;32m    116\u001b[0m             \u001b[1;32mif\u001b[0m \u001b[0mptrs_transform\u001b[0m \u001b[1;33m!=\u001b[0m \u001b[0mNone\u001b[0m\u001b[1;33m:\u001b[0m\u001b[1;33m\u001b[0m\u001b[0m\n\u001b[1;32m--> 117\u001b[1;33m                 \u001b[0mone_states_data_array\u001b[0m\u001b[1;33m.\u001b[0m\u001b[0m_ptr_array\u001b[0m \u001b[1;33m=\u001b[0m \u001b[0mone_states_data_array\u001b[0m\u001b[1;33m.\u001b[0m\u001b[0m_ptr_array\u001b[0m\u001b[1;33m.\u001b[0m\u001b[0mtransform\u001b[0m\u001b[1;33m(\u001b[0m\u001b[0mptrs_transform\u001b[0m\u001b[1;33m)\u001b[0m\u001b[1;33m\u001b[0m\u001b[0m\n\u001b[0m\u001b[0;32m    118\u001b[0m \u001b[1;33m\u001b[0m\u001b[0m\n\u001b[0;32m    119\u001b[0m \u001b[1;33m\u001b[0m\u001b[0m\n",
        "\u001b[1;32m<ipython-input-4-e705426a2ad0>\u001b[0m in \u001b[0;36mtransform\u001b[1;34m(self, ptrs_transform)\u001b[0m\n\u001b[0;32m     65\u001b[0m \u001b[1;33m\u001b[0m\u001b[0m\n\u001b[0;32m     66\u001b[0m     \u001b[1;32mdef\u001b[0m \u001b[0mtransform\u001b[0m\u001b[1;33m(\u001b[0m\u001b[0mself\u001b[0m\u001b[1;33m,\u001b[0m \u001b[0mptrs_transform\u001b[0m\u001b[1;33m)\u001b[0m\u001b[1;33m:\u001b[0m\u001b[1;33m\u001b[0m\u001b[0m\n\u001b[1;32m---> 67\u001b[1;33m         \u001b[1;32mreturn\u001b[0m \u001b[0mtype\u001b[0m\u001b[1;33m(\u001b[0m\u001b[0mself\u001b[0m\u001b[1;33m)\u001b[0m\u001b[1;33m(\u001b[0m\u001b[0mdata\u001b[0m \u001b[1;33m=\u001b[0m \u001b[0mptrs_transform\u001b[0m\u001b[1;33m[\u001b[0m\u001b[0mself\u001b[0m\u001b[1;33m]\u001b[0m\u001b[1;33m)\u001b[0m\u001b[1;33m\u001b[0m\u001b[0m\n\u001b[0m\u001b[0;32m     68\u001b[0m \u001b[1;33m\u001b[0m\u001b[0m\n\u001b[0;32m     69\u001b[0m \u001b[1;33m\u001b[0m\u001b[0m\n",
        "\u001b[1;31mIndexError\u001b[0m: arrays used as indices must be of integer (or boolean) type"
       ]
      }
     ],
     "prompt_number": 8
    },
    {
     "cell_type": "code",
     "collapsed": false,
     "input": [
      "idx_val_arrays = map(lambda xx:ValuesArray(xx),test_text_df[\"idx\"].values)\n",
      "idx_states_data_arrays = map(lambda xx:StatesDataArray(*xx.decompose_into_states_ptrs()), idx_val_arrays)"
     ],
     "language": "python",
     "metadata": {},
     "outputs": [],
     "prompt_number": 218
    },
    {
     "cell_type": "code",
     "collapsed": false,
     "input": [
      "r1_val_arrays = map(lambda xx:ValuesArray(xx),test_text_df[\"r1\"].values)\n",
      "r1_states_data_arrays = map(lambda xx:StatesDataArray(*xx.decompose_into_states_ptrs()), r1_val_arrays)\n",
      "\n",
      "r2_val_arrays = map(lambda xx:ValuesArray(xx),test_text_df[\"r2\"].values)\n",
      "r2_states_data_arrays = map(lambda xx:StatesDataArray(*xx.decompose_into_states_ptrs()), r2_val_arrays)\n"
     ],
     "language": "python",
     "metadata": {},
     "outputs": [],
     "prompt_number": 219
    },
    {
     "cell_type": "code",
     "collapsed": false,
     "input": [
      "randn_val_arrays = map(lambda xx:ValuesArray(xx),test_text_df[[\"r1\",\"r2\"]].values)\n",
      "randn_states_data_arrays = map(lambda xx:StatesDataArray(*xx.decompose_into_states_ptrs()), randn_val_arrays)"
     ],
     "language": "python",
     "metadata": {},
     "outputs": [],
     "prompt_number": 220
    },
    {
     "cell_type": "code",
     "collapsed": false,
     "input": [
      "#rand_states_data_arrays_merge = StatesDataArrayMerger(*rand_states_data_arrays).merge(axis=0,auto_extend_rows=False)\n",
      "#rand_states_data_arrays_merge"
     ],
     "language": "python",
     "metadata": {},
     "outputs": [],
     "prompt_number": 221
    },
    {
     "cell_type": "code",
     "collapsed": false,
     "input": [
      "#rand_states_data_arrays_merge\n"
     ],
     "language": "python",
     "metadata": {},
     "outputs": [],
     "prompt_number": 222
    },
    {
     "cell_type": "code",
     "collapsed": false,
     "input": [
      "#zip_idx_text = zip(idx_states_data_arrays, randn_states_data_arrays, text_states_data_arrays)\n",
      "zip_idx_text = zip(idx_states_data_arrays, r1_states_data_arrays, r2_states_data_arrays, text_states_data_arrays)\n",
      "\n",
      "test = map(lambda xx:StatesDataArrayMerger(*xx).merge(axis=1),zip_idx_text)"
     ],
     "language": "python",
     "metadata": {},
     "outputs": [
      {
       "output_type": "stream",
       "stream": "stdout",
       "text": [
        "map(lambda xx:xx.shape,self) =  [(1,), (1,), (1,), (5, 2)]\n",
        "map(lambda xx:xx._shape[0],self) =  [1, 1, 1, 5]\n",
        "new_nrows =  5\n",
        "new_ptr_array =  [[0]\n",
        " [0]\n",
        " [0]\n",
        " [0]\n",
        " [0]]\n",
        "new_ptr_array =  [[0]\n",
        " [0]\n",
        " [0]\n",
        " [0]\n",
        " [0]]\n",
        "new_ptr_array =  [[0]\n",
        " [0]\n",
        " [0]\n",
        " [0]\n",
        " [0]]\n",
        "extended_arrays =  [{StatesDataArray} ValuesArray([[u'00000'],\n",
        "       [u'00000'],\n",
        "       [u'00000'],\n",
        "       [u'00000'],\n",
        "       [u'00000']], \n",
        "      dtype='<U5'), {StatesDataArray} ValuesArray([[ 0.9077241],\n",
        "       [ 0.9077241],\n",
        "       [ 0.9077241],\n",
        "       [ 0.9077241],\n",
        "       [ 0.9077241]]), {StatesDataArray} ValuesArray([[ 0.20532866],\n",
        "       [ 0.20532866],\n",
        "       [ 0.20532866],\n",
        "       [ 0.20532866],\n",
        "       [ 0.20532866]]), {StatesDataArray} ValuesArray([[u'\\u4eca', u'\\u5929'],\n",
        "       [u'\\u5929', u'\\u5929'],\n",
        "       [u'\\u5929', u'\\u6c23'],\n",
        "       [u'\\u6c23', u'\\u5f88'],\n",
        "       [u'\\u5f88', u'\\u597d']], \n",
        "      dtype='<U1')]\n",
        "np.array(map(lambda xx:xx._nrow,states_data_arrays)) =  [5 5 5 5]\n",
        "map(lambda xx:xx.shape,self) =  [(1,), (1,), (1,), (5, 2)]\n",
        "map(lambda xx:xx._shape[0],self) =  [1, 1, 1, 5]\n",
        "new_nrows =  5\n",
        "new_ptr_array =  [[0]\n",
        " [0]\n",
        " [0]\n",
        " [0]\n",
        " [0]]\n",
        "new_ptr_array =  [[0]\n",
        " [0]\n",
        " [0]\n",
        " [0]\n",
        " [0]]\n",
        "new_ptr_array =  [[0]\n",
        " [0]\n",
        " [0]\n",
        " [0]\n",
        " [0]]\n",
        "extended_arrays =  [{StatesDataArray} ValuesArray([[u'00001'],\n",
        "       [u'00001'],\n",
        "       [u'00001'],\n",
        "       [u'00001'],\n",
        "       [u'00001']], \n",
        "      dtype='<U5'), {StatesDataArray} ValuesArray([[-1.90173994],\n",
        "       [-1.90173994],\n",
        "       [-1.90173994],\n",
        "       [-1.90173994],\n",
        "       [-1.90173994]]), {StatesDataArray} ValuesArray([[ 0.33418626],\n",
        "       [ 0.33418626],\n",
        "       [ 0.33418626],\n",
        "       [ 0.33418626],\n",
        "       [ 0.33418626]]), {StatesDataArray} ValuesArray([[u'\\u4eca', u'\\u5929'],\n",
        "       [u'\\u5929', u'\\u5929'],\n",
        "       [u'\\u5929', u'\\u6c23'],\n",
        "       [u'\\u6c23', u'\\u5f88'],\n",
        "       [u'\\u5f88', u'\\u721b']], \n",
        "      dtype='<U1')]\n",
        "np.array(map(lambda xx:xx._nrow,states_data_arrays)) =  [5 5 5 5]\n",
        "map(lambda xx:xx.shape,self) =  [(1,), (1,), (1,), (2, 2)]\n",
        "map(lambda xx:xx._shape[0],self) =  [1, 1, 1, 2]\n",
        "new_nrows =  2\n",
        "new_ptr_array =  [[0]\n",
        " [0]]\n",
        "new_ptr_array =  [[0]\n",
        " [0]]\n",
        "new_ptr_array =  [[0]\n",
        " [0]]\n",
        "extended_arrays =  [{StatesDataArray} ValuesArray([[u'00002'],\n",
        "       [u'00002']], \n",
        "      dtype='<U5'), {StatesDataArray} ValuesArray([[-0.21037502],\n",
        "       [-0.21037502]]), {StatesDataArray} ValuesArray([[-0.27454669],\n",
        "       [-0.27454669]]), {StatesDataArray} ValuesArray([[u'\\u6211', u'\\u6068'],\n",
        "       [u'\\u6068', u'\\u5b83']], \n",
        "      dtype='<U1')]\n",
        "np.array(map(lambda xx:xx._nrow,states_data_arrays)) =  [2 2 2 2]\n",
        "map(lambda xx:xx.shape,self) =  [(1,), (1,), (1,), (2, 2)]\n",
        "map(lambda xx:xx._shape[0],self) =  [1, 1, 1, 2]\n",
        "new_nrows =  2\n",
        "new_ptr_array =  [[0]\n",
        " [0]]\n",
        "new_ptr_array =  [[0]\n",
        " [0]]\n",
        "new_ptr_array =  [[0]\n",
        " [0]]\n",
        "extended_arrays =  [{StatesDataArray} ValuesArray([[u'00003'],\n",
        "       [u'00003']], \n",
        "      dtype='<U5'), {StatesDataArray} ValuesArray([[-0.31478521],\n",
        "       [-0.31478521]]), {StatesDataArray} ValuesArray([[-0.38317291],\n",
        "       [-0.38317291]]), {StatesDataArray} ValuesArray([[u'\\u5b83', u'\\u6068'],\n",
        "       [u'\\u6068', u'\\u6211']], \n",
        "      dtype='<U1')]\n",
        "np.array(map(lambda xx:xx._nrow,states_data_arrays)) =  [2 2 2 2]\n",
        "map(lambda xx:xx.shape,self) =  [(1,), (1,), (1,), (2, 2)]\n",
        "map(lambda xx:xx._shape[0],self) =  [1, 1, 1, 2]\n",
        "new_nrows =  2\n",
        "new_ptr_array =  [[0]\n",
        " [0]]\n",
        "new_ptr_array =  [[0]\n",
        " [0]]\n",
        "new_ptr_array =  [[0]\n",
        " [0]]\n",
        "extended_arrays =  [{StatesDataArray} ValuesArray([[u'00004'],\n",
        "       [u'00004']], \n",
        "      dtype='<U5'), {StatesDataArray} ValuesArray([[ 0.45658997],\n",
        "       [ 0.45658997]]), {StatesDataArray} ValuesArray([[ 1.11064397],\n",
        "       [ 1.11064397]]), {StatesDataArray} ValuesArray([[u'\\u6211', u'\\u611b'],\n",
        "       [u'\\u611b', u'\\u5b83']], \n",
        "      dtype='<U1')]\n",
        "np.array(map(lambda xx:xx._nrow,states_data_arrays)) =  [2 2 2 2]\n",
        "map(lambda xx:xx.shape,self) =  [(1,), (1,), (1,), (2, 2)]\n",
        "map(lambda xx:xx._shape[0],self) =  [1, 1, 1, 2]\n",
        "new_nrows =  2\n",
        "new_ptr_array =  [[0]\n",
        " [0]]\n",
        "new_ptr_array =  [[0]\n",
        " [0]]\n",
        "new_ptr_array =  [[0]\n",
        " [0]]\n",
        "extended_arrays =  [{StatesDataArray} ValuesArray([[u'00005'],\n",
        "       [u'00005']], \n",
        "      dtype='<U5'), {StatesDataArray} ValuesArray([[-0.20595221],\n",
        "       [-0.20595221]]), {StatesDataArray} ValuesArray([[ 1.19244951],\n",
        "       [ 1.19244951]]), {StatesDataArray} ValuesArray([[u'\\u5b83', u'\\u611b'],\n",
        "       [u'\\u611b', u'\\u6211']], \n",
        "      dtype='<U1')]\n",
        "np.array(map(lambda xx:xx._nrow,states_data_arrays)) =  [2 2 2 2]\n",
        "map(lambda xx:xx.shape,self) =  [(1,), (1,), (1,), (3, 2)]\n",
        "map(lambda xx:xx._shape[0],self) =  [1, 1, 1, 3]\n",
        "new_nrows =  3\n",
        "new_ptr_array =  [[0]\n",
        " [0]\n",
        " [0]]\n",
        "new_ptr_array =  [[0]\n",
        " [0]\n",
        " [0]]\n",
        "new_ptr_array =  [[0]\n",
        " [0]\n",
        " [0]]\n",
        "extended_arrays =  [{StatesDataArray} ValuesArray([[u'00006'],\n",
        "       [u'00006'],\n",
        "       [u'00006']], \n",
        "      dtype='<U5'), {StatesDataArray} ValuesArray([[-0.05522324],\n",
        "       [-0.05522324],\n",
        "       [-0.05522324]]), {StatesDataArray} ValuesArray([[-1.50171036],\n",
        "       [-1.50171036],\n",
        "       [-1.50171036]]), {StatesDataArray} ValuesArray([[u'\\u4eca', u'\\u5929'],\n",
        "       [u'\\u5929', u'\\u5f88'],\n",
        "       [u'\\u5f88', u'\\u8870']], \n",
        "      dtype='<U1')]\n",
        "np.array(map(lambda xx:xx._nrow,states_data_arrays)) =  [3 3 3 3]\n",
        "map(lambda xx:xx.shape,self) =  [(1,), (1,), (1,), (6, 2)]\n",
        "map(lambda xx:xx._shape[0],self) =  [1, 1, 1, 6]\n",
        "new_nrows =  6\n",
        "new_ptr_array =  [[0]\n",
        " [0]\n",
        " [0]\n",
        " [0]\n",
        " [0]\n",
        " [0]]\n",
        "new_ptr_array =  [[0]\n",
        " [0]\n",
        " [0]\n",
        " [0]\n",
        " [0]\n",
        " [0]]\n",
        "new_ptr_array =  [[0]\n",
        " [0]\n",
        " [0]\n",
        " [0]\n",
        " [0]\n",
        " [0]]\n",
        "extended_arrays =  [{StatesDataArray} ValuesArray([[u'00007'],\n",
        "       [u'00007'],\n",
        "       [u'00007'],\n",
        "       [u'00007'],\n",
        "       [u'00007'],\n",
        "       [u'00007']], \n",
        "      dtype='<U5'), {StatesDataArray} ValuesArray([[ 0.99365578],\n",
        "       [ 0.99365578],\n",
        "       [ 0.99365578],\n",
        "       [ 0.99365578],\n",
        "       [ 0.99365578],\n",
        "       [ 0.99365578]]), {StatesDataArray} ValuesArray([[ 0.77600664],\n",
        "       [ 0.77600664],\n",
        "       [ 0.77600664],\n",
        "       [ 0.77600664],\n",
        "       [ 0.77600664],\n",
        "       [ 0.77600664]]), {StatesDataArray} ValuesArray([[u'\\u65e5', u'\\u5b50'],\n",
        "       [u'\\u5b50', u'\\u4e00'],\n",
        "       [u'\\u4e00', u'\\u5929'],\n",
        "       [u'\\u5929', u'\\u4e00'],\n",
        "       [u'\\u4e00', u'\\u5929'],\n",
        "       [u'\\u5929', u'\\u904e']], \n",
        "      dtype='<U1')]\n",
        "np.array(map(lambda xx:xx._nrow,states_data_arrays)) =  [6 6 6 6]\n",
        "map(lambda xx:xx.shape,self) =  [(1,), (1,), (1,), (5, 2)]\n",
        "map(lambda xx:xx._shape[0],self) =  [1, 1, 1, 5]\n",
        "new_nrows =  5\n",
        "new_ptr_array =  [[0]\n",
        " [0]\n",
        " [0]\n",
        " [0]\n",
        " [0]]\n",
        "new_ptr_array =  [[0]\n",
        " [0]\n",
        " [0]\n",
        " [0]\n",
        " [0]]\n",
        "new_ptr_array =  [[0]\n",
        " [0]\n",
        " [0]\n",
        " [0]\n",
        " [0]]\n",
        "extended_arrays =  [{StatesDataArray} ValuesArray([[u'00008'],\n",
        "       [u'00008'],\n",
        "       [u'00008'],\n",
        "       [u'00008'],\n",
        "       [u'00008']], \n",
        "      dtype='<U5'), {StatesDataArray} ValuesArray([[ 0.14149419],\n",
        "       [ 0.14149419],\n",
        "       [ 0.14149419],\n",
        "       [ 0.14149419],\n",
        "       [ 0.14149419]]), {StatesDataArray} ValuesArray([[-1.20234452],\n",
        "       [-1.20234452],\n",
        "       [-1.20234452],\n",
        "       [-1.20234452],\n",
        "       [-1.20234452]]), {StatesDataArray} ValuesArray([[u'\\u5929', u'\\u5929'],\n",
        "       [u'\\u5929', u'\\u5237'],\n",
        "       [u'\\u5237', u'\\u7259'],\n",
        "       [u'\\u7259', u'\\u6d17'],\n",
        "       [u'\\u6d17', u'\\u81c9']], \n",
        "      dtype='<U1')]\n",
        "np.array(map(lambda xx:xx._nrow,states_data_arrays)) =  [5 5 5 5]\n"
       ]
      }
     ],
     "prompt_number": 223
    },
    {
     "cell_type": "code",
     "collapsed": false,
     "input": [
      "#zip_idx_text[0][2].extend_rows_to_n(n=10, update=False)"
     ],
     "language": "python",
     "metadata": {},
     "outputs": [],
     "prompt_number": 227
    },
    {
     "cell_type": "code",
     "collapsed": false,
     "input": [],
     "language": "python",
     "metadata": {},
     "outputs": [],
     "prompt_number": 227
    },
    {
     "cell_type": "code",
     "collapsed": false,
     "input": [],
     "language": "python",
     "metadata": {},
     "outputs": [],
     "prompt_number": 227
    },
    {
     "cell_type": "code",
     "collapsed": false,
     "input": [
      "\n",
      "states_multi_array_merger = StatesDataMultiArraysMerger(*test)"
     ],
     "language": "python",
     "metadata": {},
     "outputs": [],
     "prompt_number": 228
    },
    {
     "cell_type": "code",
     "collapsed": false,
     "input": [
      "states_multi_array_merger.merge()"
     ],
     "language": "python",
     "metadata": {},
     "outputs": [
      {
       "output_type": "stream",
       "stream": "stdout",
       "text": [
        "np.array(map(lambda xx:xx._nrow,states_data_arrays)) =  [32 32 32 32]\n"
       ]
      },
      {
       "metadata": {},
       "output_type": "pyout",
       "prompt_number": 229,
       "text": [
        "StatesDataMultiArrays([ {StatesDataArray} ValuesArray([[u'00000'],\n",
        "       [u'00000'],\n",
        "       [u'00000'],\n",
        "       [u'00000'],\n",
        "       [u'00000'],\n",
        "       [u'00001'],\n",
        "       [u'00001'],\n",
        "       [u'00001'],\n",
        "       [u'00001'],\n",
        "       [u'00001'],\n",
        "       [u'00002'],\n",
        "       [u'00002'],\n",
        "       [u'00003'],\n",
        "       [u'00003'],\n",
        "       [u'00004'],\n",
        "       [u'00004'],\n",
        "       [u'00005'],\n",
        "       [u'00005'],\n",
        "       [u'00006'],\n",
        "       [u'00006'],\n",
        "       [u'00006'],\n",
        "       [u'00007'],\n",
        "       [u'00007'],\n",
        "       [u'00007'],\n",
        "       [u'00007'],\n",
        "       [u'00007'],\n",
        "       [u'00007'],\n",
        "       [u'00008'],\n",
        "       [u'00008'],\n",
        "       [u'00008'],\n",
        "       [u'00008'],\n",
        "       [u'00008']], \n",
        "      dtype='<U5'),\n",
        "       {StatesDataArray} ValuesArray([[ 0.9077241 ],\n",
        "       [ 0.9077241 ],\n",
        "       [ 0.9077241 ],\n",
        "       [ 0.9077241 ],\n",
        "       [ 0.9077241 ],\n",
        "       [-1.90173994],\n",
        "       [-1.90173994],\n",
        "       [-1.90173994],\n",
        "       [-1.90173994],\n",
        "       [-1.90173994],\n",
        "       [-0.21037502],\n",
        "       [-0.21037502],\n",
        "       [-0.31478521],\n",
        "       [-0.31478521],\n",
        "       [ 0.45658997],\n",
        "       [ 0.45658997],\n",
        "       [-0.20595221],\n",
        "       [-0.20595221],\n",
        "       [-0.05522324],\n",
        "       [-0.05522324],\n",
        "       [-0.05522324],\n",
        "       [ 0.99365578],\n",
        "       [ 0.99365578],\n",
        "       [ 0.99365578],\n",
        "       [ 0.99365578],\n",
        "       [ 0.99365578],\n",
        "       [ 0.99365578],\n",
        "       [ 0.14149419],\n",
        "       [ 0.14149419],\n",
        "       [ 0.14149419],\n",
        "       [ 0.14149419],\n",
        "       [ 0.14149419]]),\n",
        "       {StatesDataArray} ValuesArray([[ 0.20532866],\n",
        "       [ 0.20532866],\n",
        "       [ 0.20532866],\n",
        "       [ 0.20532866],\n",
        "       [ 0.20532866],\n",
        "       [ 0.33418626],\n",
        "       [ 0.33418626],\n",
        "       [ 0.33418626],\n",
        "       [ 0.33418626],\n",
        "       [ 0.33418626],\n",
        "       [-0.27454669],\n",
        "       [-0.27454669],\n",
        "       [-0.38317291],\n",
        "       [-0.38317291],\n",
        "       [ 1.11064397],\n",
        "       [ 1.11064397],\n",
        "       [ 1.19244951],\n",
        "       [ 1.19244951],\n",
        "       [-1.50171036],\n",
        "       [-1.50171036],\n",
        "       [-1.50171036],\n",
        "       [ 0.77600664],\n",
        "       [ 0.77600664],\n",
        "       [ 0.77600664],\n",
        "       [ 0.77600664],\n",
        "       [ 0.77600664],\n",
        "       [ 0.77600664],\n",
        "       [-1.20234452],\n",
        "       [-1.20234452],\n",
        "       [-1.20234452],\n",
        "       [-1.20234452],\n",
        "       [-1.20234452]]),\n",
        "       {StatesDataArray} ValuesArray([[u'\\u4eca', u'\\u5929'],\n",
        "       [u'\\u5929', u'\\u5929'],\n",
        "       [u'\\u5929', u'\\u6c23'],\n",
        "       [u'\\u6c23', u'\\u5f88'],\n",
        "       [u'\\u5f88', u'\\u597d'],\n",
        "       [u'\\u4eca', u'\\u5929'],\n",
        "       [u'\\u5929', u'\\u5929'],\n",
        "       [u'\\u5929', u'\\u6c23'],\n",
        "       [u'\\u6c23', u'\\u5f88'],\n",
        "       [u'\\u5f88', u'\\u721b'],\n",
        "       [u'\\u6211', u'\\u6068'],\n",
        "       [u'\\u6068', u'\\u5b83'],\n",
        "       [u'\\u5b83', u'\\u6068'],\n",
        "       [u'\\u6068', u'\\u6211'],\n",
        "       [u'\\u6211', u'\\u611b'],\n",
        "       [u'\\u611b', u'\\u5b83'],\n",
        "       [u'\\u5b83', u'\\u611b'],\n",
        "       [u'\\u611b', u'\\u6211'],\n",
        "       [u'\\u4eca', u'\\u5929'],\n",
        "       [u'\\u5929', u'\\u5f88'],\n",
        "       [u'\\u5f88', u'\\u8870'],\n",
        "       [u'\\u65e5', u'\\u5b50'],\n",
        "       [u'\\u5b50', u'\\u4e00'],\n",
        "       [u'\\u4e00', u'\\u5929'],\n",
        "       [u'\\u5929', u'\\u4e00'],\n",
        "       [u'\\u4e00', u'\\u5929'],\n",
        "       [u'\\u5929', u'\\u904e'],\n",
        "       [u'\\u5929', u'\\u5929'],\n",
        "       [u'\\u5929', u'\\u5237'],\n",
        "       [u'\\u5237', u'\\u7259'],\n",
        "       [u'\\u7259', u'\\u6d17'],\n",
        "       [u'\\u6d17', u'\\u81c9']], \n",
        "      dtype='<U1')], dtype=object)"
       ]
      }
     ],
     "prompt_number": 229
    },
    {
     "cell_type": "code",
     "collapsed": false,
     "input": [],
     "language": "python",
     "metadata": {},
     "outputs": []
    },
    {
     "cell_type": "code",
     "collapsed": false,
     "input": [],
     "language": "python",
     "metadata": {},
     "outputs": []
    },
    {
     "cell_type": "code",
     "collapsed": false,
     "input": [],
     "language": "python",
     "metadata": {},
     "outputs": [],
     "prompt_number": 154
    },
    {
     "cell_type": "code",
     "collapsed": false,
     "input": [
      "print map(lambda xx:xx._nrow,randn_states_data_arrays)\n",
      "print map(lambda xx:xx._ncol,randn_states_data_arrays)"
     ],
     "language": "python",
     "metadata": {},
     "outputs": [
      {
       "output_type": "stream",
       "stream": "stdout",
       "text": [
        "[2, 2, 2, 2, 2, 2, 2, 2, 2]\n",
        "[1, 1, 1, 1, 1, 1, 1, 1, 1]\n"
       ]
      }
     ],
     "prompt_number": 153
    },
    {
     "cell_type": "code",
     "collapsed": false,
     "input": [
      "tt = ValuesArray(test_text_df[[\"r1\",\"r2\"]].values)"
     ],
     "language": "python",
     "metadata": {},
     "outputs": [],
     "prompt_number": 146
    },
    {
     "cell_type": "code",
     "collapsed": false,
     "input": [
      "tt.decompose_into_states_ptrs()"
     ],
     "language": "python",
     "metadata": {},
     "outputs": [
      {
       "metadata": {},
       "output_type": "pyout",
       "prompt_number": 147,
       "text": [
        "(StatesArray([-1.90173994, -1.50171036, -1.20234452, -0.38317291, -0.31478521,\n",
        "        -0.27454669, -0.21037502, -0.20595221, -0.05522324,  0.14149419,\n",
        "         0.20532866,  0.33418626,  0.45658997,  0.77600664,  0.9077241 ,\n",
        "         0.99365578,  1.11064397,  1.19244951]), PtrArray([[14, 10],\n",
        "        [ 0, 11],\n",
        "        [ 6,  5],\n",
        "        [ 4,  3],\n",
        "        [12, 16],\n",
        "        [ 7, 17],\n",
        "        [ 8,  1],\n",
        "        [15, 13],\n",
        "        [ 9,  2]]))"
       ]
      }
     ],
     "prompt_number": 147
    },
    {
     "cell_type": "code",
     "collapsed": false,
     "input": [
      "StatesDataArrayMerger(*randn_states_data_arrays).merge(axis=0)"
     ],
     "language": "python",
     "metadata": {},
     "outputs": [
      {
       "metadata": {},
       "output_type": "pyout",
       "prompt_number": 149,
       "text": [
        "{StatesDataArray} ValuesArray([ 0.9077241 ,  0.20532866, -1.90173994,  0.33418626, -0.21037502,\n",
        "       -0.27454669, -0.31478521, -0.38317291,  0.45658997,  1.11064397,\n",
        "       -0.20595221,  1.19244951, -0.05522324, -1.50171036,  0.99365578,\n",
        "        0.77600664,  0.14149419, -1.20234452])"
       ]
      }
     ],
     "prompt_number": 149
    },
    {
     "cell_type": "code",
     "collapsed": false,
     "input": [],
     "language": "python",
     "metadata": {},
     "outputs": []
    },
    {
     "cell_type": "code",
     "collapsed": false,
     "input": [],
     "language": "python",
     "metadata": {},
     "outputs": []
    },
    {
     "cell_type": "code",
     "collapsed": false,
     "input": [],
     "language": "python",
     "metadata": {},
     "outputs": [],
     "prompt_number": 4
    },
    {
     "cell_type": "code",
     "collapsed": false,
     "input": [
      "val_array1 = ValuesArray(list(tkr.ngram(test_text_df[\"text\"].values[0],[1])))\n",
      "val_array2 = ValuesArray(list(tkr.ngram(test_text_df[\"text\"].values[1],[1])))\n",
      "val_array3 = ValuesArray(list(tkr.ngram(test_text_df[\"text\"].values[2],[1])))\n",
      "val_array4 = ValuesArray(list(tkr.ngram(test_text_df[\"text\"].values[5],[1])))\n",
      "states_data_array1 = val_array1.to_states_data_array().ngram(2)\n",
      "states_data_array2 = val_array2.to_states_data_array().ngram(2)\n",
      "states_data_array3 = val_array3.to_states_data_array().ngram(2)\n",
      "states_data_array4 = val_array4.to_states_data_array().ngram(2)"
     ],
     "language": "python",
     "metadata": {},
     "outputs": [],
     "prompt_number": 18
    },
    {
     "cell_type": "code",
     "collapsed": false,
     "input": [
      "states_data_array1"
     ],
     "language": "python",
     "metadata": {},
     "outputs": [
      {
       "metadata": {},
       "output_type": "pyout",
       "prompt_number": 19,
       "text": [
        "{StatesDataArray} ValuesArray([[u'\\u4eca', u'\\u5929'],\n",
        "       [u'\\u5929', u'\\u5929'],\n",
        "       [u'\\u5929', u'\\u6c23'],\n",
        "       [u'\\u6c23', u'\\u5f88'],\n",
        "       [u'\\u5f88', u'\\u597d']], \n",
        "      dtype='<U1')"
       ]
      }
     ],
     "prompt_number": 19
    },
    {
     "cell_type": "code",
     "collapsed": false,
     "input": [
      "states_array_merger = StatesDataArrayMerger(states_data_array1,\n",
      "                                            states_data_array2,\n",
      "                                            states_data_array3,\n",
      "                                            states_data_array4)\n",
      "states_array_merger"
     ],
     "language": "python",
     "metadata": {},
     "outputs": [
      {
       "metadata": {},
       "output_type": "pyout",
       "prompt_number": 20,
       "text": [
        "[{StatesDataArray} ValuesArray([[u'\\u4eca', u'\\u5929'],\n",
        "        [u'\\u5929', u'\\u5929'],\n",
        "        [u'\\u5929', u'\\u6c23'],\n",
        "        [u'\\u6c23', u'\\u5f88'],\n",
        "        [u'\\u5f88', u'\\u597d']], \n",
        "       dtype='<U1'), {StatesDataArray} ValuesArray([[u'\\u4eca', u'\\u5929'],\n",
        "        [u'\\u5929', u'\\u5929'],\n",
        "        [u'\\u5929', u'\\u6c23'],\n",
        "        [u'\\u6c23', u'\\u5f88'],\n",
        "        [u'\\u5f88', u'\\u721b']], \n",
        "       dtype='<U1'), {StatesDataArray} ValuesArray([[u'\\u6211', u'\\u6068'],\n",
        "        [u'\\u6068', u'\\u5b83']], \n",
        "       dtype='<U1'), {StatesDataArray} ValuesArray([[u'\\u5b83', u'\\u611b'],\n",
        "        [u'\\u611b', u'\\u6211']], \n",
        "       dtype='<U1')]"
       ]
      }
     ],
     "prompt_number": 20
    },
    {
     "cell_type": "code",
     "collapsed": false,
     "input": [],
     "language": "python",
     "metadata": {},
     "outputs": [],
     "prompt_number": 20
    },
    {
     "cell_type": "code",
     "collapsed": false,
     "input": [
      "states_array_merger.merge(0)"
     ],
     "language": "python",
     "metadata": {},
     "outputs": [
      {
       "metadata": {},
       "output_type": "pyout",
       "prompt_number": 21,
       "text": [
        "{StatesDataArray} ValuesArray([[u'\\u4eca', u'\\u5929'],\n",
        "       [u'\\u5929', u'\\u5929'],\n",
        "       [u'\\u5929', u'\\u6c23'],\n",
        "       [u'\\u6c23', u'\\u5f88'],\n",
        "       [u'\\u5f88', u'\\u597d'],\n",
        "       [u'\\u4eca', u'\\u5929'],\n",
        "       [u'\\u5929', u'\\u5929'],\n",
        "       [u'\\u5929', u'\\u6c23'],\n",
        "       [u'\\u6c23', u'\\u5f88'],\n",
        "       [u'\\u5f88', u'\\u721b'],\n",
        "       [u'\\u6211', u'\\u6068'],\n",
        "       [u'\\u6068', u'\\u5b83'],\n",
        "       [u'\\u5b83', u'\\u611b'],\n",
        "       [u'\\u611b', u'\\u6211']], \n",
        "      dtype='<U1')"
       ]
      }
     ],
     "prompt_number": 21
    },
    {
     "cell_type": "code",
     "collapsed": false,
     "input": [],
     "language": "python",
     "metadata": {},
     "outputs": [],
     "prompt_number": 21
    },
    {
     "cell_type": "code",
     "collapsed": false,
     "input": [
      "u\"\\n\".join(np.apply_along_axis(lambda xx:u\"\".join(xx),1,states_array_merger.merge(0)._data))"
     ],
     "language": "python",
     "metadata": {},
     "outputs": [
      {
       "metadata": {},
       "output_type": "pyout",
       "prompt_number": 22,
       "text": [
        "u'\\u4eca\\u5929\\n\\u5929\\u5929\\n\\u5929\\u6c23\\n\\u6c23\\u5f88\\n\\u5f88\\u597d\\n\\u4eca\\u5929\\n\\u5929\\u5929\\n\\u5929\\u6c23\\n\\u6c23\\u5f88\\n\\u5f88\\u721b\\n\\u6211\\u6068\\n\\u6068\\u5b83\\n\\u5b83\\u611b\\n\\u611b\\u6211'"
       ]
      }
     ],
     "prompt_number": 22
    },
    {
     "cell_type": "code",
     "collapsed": false,
     "input": [
      "text_val_arrays = map(lambda xx:ValuesArray(list(tkr.ngram(xx,[1]))),test_text_df[\"text\"].values)"
     ],
     "language": "python",
     "metadata": {},
     "outputs": [],
     "prompt_number": 23
    },
    {
     "cell_type": "code",
     "collapsed": false,
     "input": [
      "text_states_data_arrays = map(lambda xx:xx.to_states_data_array().ngram(2), \n",
      "                              text_val_arrays)"
     ],
     "language": "python",
     "metadata": {},
     "outputs": [],
     "prompt_number": 24
    },
    {
     "cell_type": "code",
     "collapsed": false,
     "input": [
      "text_states_data_array_merger = StatesDataArrayMerger(*text_states_data_arrays)\n",
      "text_test_merge = text_states_data_array_merger.merge()"
     ],
     "language": "python",
     "metadata": {},
     "outputs": [],
     "prompt_number": 25
    },
    {
     "cell_type": "code",
     "collapsed": false,
     "input": [
      "idx_val_arrays = map(lambda xx:ValuesArray(xx),test_text_df[\"idx\"].values)\n",
      "idx_val_arrays"
     ],
     "language": "python",
     "metadata": {},
     "outputs": [
      {
       "metadata": {},
       "output_type": "pyout",
       "prompt_number": 26,
       "text": [
        "[ValuesArray(u'00000', \n",
        "       dtype='<U5'), ValuesArray(u'00001', \n",
        "       dtype='<U5'), ValuesArray(u'00002', \n",
        "       dtype='<U5'), ValuesArray(u'00003', \n",
        "       dtype='<U5'), ValuesArray(u'00004', \n",
        "       dtype='<U5'), ValuesArray(u'00005', \n",
        "       dtype='<U5'), ValuesArray(u'00006', \n",
        "       dtype='<U5'), ValuesArray(u'00007', \n",
        "       dtype='<U5'), ValuesArray(u'00008', \n",
        "       dtype='<U5')]"
       ]
      }
     ],
     "prompt_number": 26
    },
    {
     "cell_type": "code",
     "collapsed": false,
     "input": [
      "idx_states_data_arrays = map(lambda xx:StatesDataArray(*xx.decompose_into_states_ptrs()), idx_val_arrays)\n",
      "idx_states_data_arrays"
     ],
     "language": "python",
     "metadata": {},
     "outputs": [
      {
       "metadata": {},
       "output_type": "pyout",
       "prompt_number": 27,
       "text": [
        "[{StatesDataArray} ValuesArray([u'00000'], \n",
        "       dtype='<U5'), {StatesDataArray} ValuesArray([u'00001'], \n",
        "       dtype='<U5'), {StatesDataArray} ValuesArray([u'00002'], \n",
        "       dtype='<U5'), {StatesDataArray} ValuesArray([u'00003'], \n",
        "       dtype='<U5'), {StatesDataArray} ValuesArray([u'00004'], \n",
        "       dtype='<U5'), {StatesDataArray} ValuesArray([u'00005'], \n",
        "       dtype='<U5'), {StatesDataArray} ValuesArray([u'00006'], \n",
        "       dtype='<U5'), {StatesDataArray} ValuesArray([u'00007'], \n",
        "       dtype='<U5'), {StatesDataArray} ValuesArray([u'00008'], \n",
        "       dtype='<U5')]"
       ]
      }
     ],
     "prompt_number": 27
    },
    {
     "cell_type": "code",
     "collapsed": false,
     "input": [
      "randn_val_arrays = map(lambda xx:ValuesArray(xx),test_text_df[\"randn\"].values)\n",
      "randn_val_arrays"
     ],
     "language": "python",
     "metadata": {},
     "outputs": [
      {
       "metadata": {},
       "output_type": "pyout",
       "prompt_number": 28,
       "text": [
        "[ValuesArray(-0.0014603564986369823),\n",
        " ValuesArray(-1.2156096055084251),\n",
        " ValuesArray(-2.9441106361091367),\n",
        " ValuesArray(-0.6681133131540026),\n",
        " ValuesArray(1.412535649830919),\n",
        " ValuesArray(1.0116645843001568),\n",
        " ValuesArray(1.4432936088383879),\n",
        " ValuesArray(-1.7967147491642845),\n",
        " ValuesArray(-1.7750682406669924)]"
       ]
      }
     ],
     "prompt_number": 28
    },
    {
     "cell_type": "code",
     "collapsed": false,
     "input": [
      "randn_states_data_arrays = map(lambda xx:StatesDataArray(*xx.decompose_into_states_ptrs()), randn_val_arrays)\n",
      "randn_states_data_arrays"
     ],
     "language": "python",
     "metadata": {},
     "outputs": [
      {
       "metadata": {},
       "output_type": "pyout",
       "prompt_number": 29,
       "text": [
        "[{StatesDataArray} ValuesArray([-0.00146036]),\n",
        " {StatesDataArray} ValuesArray([-1.21560961]),\n",
        " {StatesDataArray} ValuesArray([-2.94411064]),\n",
        " {StatesDataArray} ValuesArray([-0.66811331]),\n",
        " {StatesDataArray} ValuesArray([ 1.41253565]),\n",
        " {StatesDataArray} ValuesArray([ 1.01166458]),\n",
        " {StatesDataArray} ValuesArray([ 1.44329361]),\n",
        " {StatesDataArray} ValuesArray([-1.79671475]),\n",
        " {StatesDataArray} ValuesArray([-1.77506824])]"
       ]
      }
     ],
     "prompt_number": 29
    },
    {
     "cell_type": "code",
     "collapsed": false,
     "input": [],
     "language": "python",
     "metadata": {},
     "outputs": [],
     "prompt_number": 29
    },
    {
     "cell_type": "code",
     "collapsed": false,
     "input": [
      "np.tile(idx_states_data_arrays,(1,1))"
     ],
     "language": "python",
     "metadata": {},
     "outputs": [
      {
       "metadata": {},
       "output_type": "pyout",
       "prompt_number": 30,
       "text": [
        "array([[{StatesDataArray} ValuesArray([u'00000'], \n",
        "      dtype='<U5'),\n",
        "        {StatesDataArray} ValuesArray([u'00001'], \n",
        "      dtype='<U5'),\n",
        "        {StatesDataArray} ValuesArray([u'00002'], \n",
        "      dtype='<U5'),\n",
        "        {StatesDataArray} ValuesArray([u'00003'], \n",
        "      dtype='<U5'),\n",
        "        {StatesDataArray} ValuesArray([u'00004'], \n",
        "      dtype='<U5'),\n",
        "        {StatesDataArray} ValuesArray([u'00005'], \n",
        "      dtype='<U5'),\n",
        "        {StatesDataArray} ValuesArray([u'00006'], \n",
        "      dtype='<U5'),\n",
        "        {StatesDataArray} ValuesArray([u'00007'], \n",
        "      dtype='<U5'),\n",
        "        {StatesDataArray} ValuesArray([u'00008'], \n",
        "      dtype='<U5')]], dtype=object)"
       ]
      }
     ],
     "prompt_number": 30
    },
    {
     "cell_type": "code",
     "collapsed": false,
     "input": [
      "zip_idx_text = zip(idx_states_data_arrays, text_states_data_arrays,randn_states_data_arrays)\n",
      "zip_idx_text"
     ],
     "language": "python",
     "metadata": {},
     "outputs": [
      {
       "metadata": {},
       "output_type": "pyout",
       "prompt_number": 31,
       "text": [
        "[({StatesDataArray} ValuesArray([u'00000'], \n",
        "        dtype='<U5'), {StatesDataArray} ValuesArray([[u'\\u4eca', u'\\u5929'],\n",
        "         [u'\\u5929', u'\\u5929'],\n",
        "         [u'\\u5929', u'\\u6c23'],\n",
        "         [u'\\u6c23', u'\\u5f88'],\n",
        "         [u'\\u5f88', u'\\u597d']], \n",
        "        dtype='<U1'), {StatesDataArray} ValuesArray([-0.00146036])),\n",
        " ({StatesDataArray} ValuesArray([u'00001'], \n",
        "        dtype='<U5'), {StatesDataArray} ValuesArray([[u'\\u4eca', u'\\u5929'],\n",
        "         [u'\\u5929', u'\\u5929'],\n",
        "         [u'\\u5929', u'\\u6c23'],\n",
        "         [u'\\u6c23', u'\\u5f88'],\n",
        "         [u'\\u5f88', u'\\u721b']], \n",
        "        dtype='<U1'), {StatesDataArray} ValuesArray([-1.21560961])),\n",
        " ({StatesDataArray} ValuesArray([u'00002'], \n",
        "        dtype='<U5'), {StatesDataArray} ValuesArray([[u'\\u6211', u'\\u6068'],\n",
        "         [u'\\u6068', u'\\u5b83']], \n",
        "        dtype='<U1'), {StatesDataArray} ValuesArray([-2.94411064])),\n",
        " ({StatesDataArray} ValuesArray([u'00003'], \n",
        "        dtype='<U5'), {StatesDataArray} ValuesArray([[u'\\u5b83', u'\\u6068'],\n",
        "         [u'\\u6068', u'\\u6211']], \n",
        "        dtype='<U1'), {StatesDataArray} ValuesArray([-0.66811331])),\n",
        " ({StatesDataArray} ValuesArray([u'00004'], \n",
        "        dtype='<U5'), {StatesDataArray} ValuesArray([[u'\\u6211', u'\\u611b'],\n",
        "         [u'\\u611b', u'\\u5b83']], \n",
        "        dtype='<U1'), {StatesDataArray} ValuesArray([ 1.41253565])),\n",
        " ({StatesDataArray} ValuesArray([u'00005'], \n",
        "        dtype='<U5'), {StatesDataArray} ValuesArray([[u'\\u5b83', u'\\u611b'],\n",
        "         [u'\\u611b', u'\\u6211']], \n",
        "        dtype='<U1'), {StatesDataArray} ValuesArray([ 1.01166458])),\n",
        " ({StatesDataArray} ValuesArray([u'00006'], \n",
        "        dtype='<U5'), {StatesDataArray} ValuesArray([[u'\\u4eca', u'\\u5929'],\n",
        "         [u'\\u5929', u'\\u5f88'],\n",
        "         [u'\\u5f88', u'\\u8870']], \n",
        "        dtype='<U1'), {StatesDataArray} ValuesArray([ 1.44329361])),\n",
        " ({StatesDataArray} ValuesArray([u'00007'], \n",
        "        dtype='<U5'), {StatesDataArray} ValuesArray([[u'\\u65e5', u'\\u5b50'],\n",
        "         [u'\\u5b50', u'\\u4e00'],\n",
        "         [u'\\u4e00', u'\\u5929'],\n",
        "         [u'\\u5929', u'\\u4e00'],\n",
        "         [u'\\u4e00', u'\\u5929'],\n",
        "         [u'\\u5929', u'\\u904e']], \n",
        "        dtype='<U1'), {StatesDataArray} ValuesArray([-1.79671475])),\n",
        " ({StatesDataArray} ValuesArray([u'00008'], \n",
        "        dtype='<U5'), {StatesDataArray} ValuesArray([[u'\\u5929', u'\\u5929'],\n",
        "         [u'\\u5929', u'\\u5237'],\n",
        "         [u'\\u5237', u'\\u7259'],\n",
        "         [u'\\u7259', u'\\u6d17'],\n",
        "         [u'\\u6d17', u'\\u81c9']], \n",
        "        dtype='<U1'), {StatesDataArray} ValuesArray([-1.77506824]))]"
       ]
      }
     ],
     "prompt_number": 31
    },
    {
     "cell_type": "code",
     "collapsed": false,
     "input": [
      "test_col_merge = StatesDataArrayMerger(*zip_idx_text[0])\n",
      "test_col_merge"
     ],
     "language": "python",
     "metadata": {},
     "outputs": [
      {
       "metadata": {},
       "output_type": "pyout",
       "prompt_number": 32,
       "text": [
        "[{StatesDataArray} ValuesArray([u'00000'], \n",
        "       dtype='<U5'), {StatesDataArray} ValuesArray([[u'\\u4eca', u'\\u5929'],\n",
        "        [u'\\u5929', u'\\u5929'],\n",
        "        [u'\\u5929', u'\\u6c23'],\n",
        "        [u'\\u6c23', u'\\u5f88'],\n",
        "        [u'\\u5f88', u'\\u597d']], \n",
        "       dtype='<U1'), {StatesDataArray} ValuesArray([-0.00146036])]"
       ]
      }
     ],
     "prompt_number": 32
    },
    {
     "cell_type": "code",
     "collapsed": false,
     "input": [
      "test = test_col_merge.merge(1)\n",
      "test"
     ],
     "language": "python",
     "metadata": {},
     "outputs": [
      {
       "output_type": "stream",
       "stream": "stdout",
       "text": [
        "map(lambda xx:xx._shape[0],self) =  [1, 5, 1]\n",
        "new_nrows =  5\n",
        "new_ptr_array =  [0 0 0 0 0]\n",
        "new_ptr_array =  [0 0 0 0 0]\n",
        "extended_arrays =  [{StatesDataArray} ValuesArray([u'00000', u'00000', u'00000', u'00000', u'00000'], \n",
        "      dtype='<U5'), {StatesDataArray} ValuesArray([[u'\\u4eca', u'\\u5929'],\n",
        "       [u'\\u5929', u'\\u5929'],\n",
        "       [u'\\u5929', u'\\u6c23'],\n",
        "       [u'\\u6c23', u'\\u5f88'],\n",
        "       [u'\\u5f88', u'\\u597d']], \n",
        "      dtype='<U1'), {StatesDataArray} ValuesArray([-0.00146036, -0.00146036, -0.00146036, -0.00146036, -0.00146036])]\n"
       ]
      },
      {
       "metadata": {},
       "output_type": "pyout",
       "prompt_number": 33,
       "text": [
        "StatesDataMultiArrays([ {StatesDataArray} ValuesArray([u'00000', u'00000', u'00000', u'00000', u'00000'], \n",
        "      dtype='<U5'),\n",
        "       {StatesDataArray} ValuesArray([[u'\\u4eca', u'\\u5929'],\n",
        "       [u'\\u5929', u'\\u5929'],\n",
        "       [u'\\u5929', u'\\u6c23'],\n",
        "       [u'\\u6c23', u'\\u5f88'],\n",
        "       [u'\\u5f88', u'\\u597d']], \n",
        "      dtype='<U1'),\n",
        "       {StatesDataArray} ValuesArray([-0.00146036, -0.00146036, -0.00146036, -0.00146036, -0.00146036])], dtype=object)"
       ]
      }
     ],
     "prompt_number": 33
    },
    {
     "cell_type": "code",
     "collapsed": false,
     "input": [],
     "language": "python",
     "metadata": {},
     "outputs": [],
     "prompt_number": 33
    },
    {
     "cell_type": "code",
     "collapsed": false,
     "input": [
      "test[2]._ptr_array"
     ],
     "language": "python",
     "metadata": {},
     "outputs": [
      {
       "metadata": {},
       "output_type": "pyout",
       "prompt_number": 34,
       "text": [
        "PtrArray([0, 0, 0, 0, 0])"
       ]
      }
     ],
     "prompt_number": 34
    },
    {
     "cell_type": "code",
     "collapsed": false,
     "input": [],
     "language": "python",
     "metadata": {},
     "outputs": []
    }
   ],
   "metadata": {}
  }
 ]
}