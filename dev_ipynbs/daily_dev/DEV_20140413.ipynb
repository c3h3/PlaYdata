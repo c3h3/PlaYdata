{
 "metadata": {
  "name": "",
  "signature": "sha256:e2ba9a42aed6fe0c998605ac7ef9498ba7106430a96b051c955faf6aedabab2a"
 },
 "nbformat": 3,
 "nbformat_minor": 0,
 "worksheets": [
  {
   "cells": [
    {
     "cell_type": "code",
     "collapsed": false,
     "input": [
      "import PlaYnlp.tokenizer as tkr \n",
      "import PlaYnlp.vectorizer as vcr\n",
      "from PlaYnlp import dataio\n",
      "\n",
      "from PlaYnlp.sparse import L0_norm_col_summarizer as L0_col_sum\n",
      "from PlaYnlp.sparse import L1_norm_col_summarizer as L1_col_sum\n",
      "import numpy as np\n",
      "import scipy as sp"
     ],
     "language": "python",
     "metadata": {},
     "outputs": [],
     "prompt_number": 1
    },
    {
     "cell_type": "code",
     "collapsed": false,
     "input": [],
     "language": "python",
     "metadata": {},
     "outputs": [],
     "prompt_number": 1
    },
    {
     "cell_type": "code",
     "collapsed": false,
     "input": [],
     "language": "python",
     "metadata": {},
     "outputs": [],
     "prompt_number": 1
    },
    {
     "cell_type": "code",
     "collapsed": false,
     "input": [
      "import pandas as pd \n",
      "test_text_df = pd.DataFrame([u\"\u4eca\u5929\u5929\u6c23\u5f88\u597d\",u\"\u4eca\u5929\u5929\u6c23\u5f88\u721b\",u\"\u6211\u6068\u5b83\",u\"\u5b83\u6068\u6211\",u\"\u6211\u611b\u5b83\",u\"\u5b83\u611b\u6211\",u\"\u4eca\u5929\u5f88\u8870\",u\"\u65e5\u5b50\u4e00\u5929\u4e00\u5929\u904e\",u\"\u5929\u5929\u5237\u7259\u6d17\u81c9\"])\n",
      "test_text_df.columns = [\"text\"]\n",
      "test_text_df = test_text_df.reset_index()\n",
      "test_text_df[\"idx\"] = map(lambda xx :u\"%05d\" % xx,test_text_df[\"index\"])\n",
      "test_text_df[\"r1\"] = np.random.randn(test_text_df.shape[0])\n",
      "test_text_df[\"r2\"] = np.random.randn(test_text_df.shape[0])\n",
      "test_text_df"
     ],
     "language": "python",
     "metadata": {},
     "outputs": [
      {
       "html": [
        "<div style=\"max-height:1000px;max-width:1500px;overflow:auto;\">\n",
        "<table border=\"1\" class=\"dataframe\">\n",
        "  <thead>\n",
        "    <tr style=\"text-align: right;\">\n",
        "      <th></th>\n",
        "      <th>index</th>\n",
        "      <th>text</th>\n",
        "      <th>idx</th>\n",
        "      <th>r1</th>\n",
        "      <th>r2</th>\n",
        "    </tr>\n",
        "  </thead>\n",
        "  <tbody>\n",
        "    <tr>\n",
        "      <th>0</th>\n",
        "      <td> 0</td>\n",
        "      <td>  \u4eca\u5929\u5929\u6c23\u5f88\u597d</td>\n",
        "      <td> 00000</td>\n",
        "      <td>-1.703555</td>\n",
        "      <td>-1.009566</td>\n",
        "    </tr>\n",
        "    <tr>\n",
        "      <th>1</th>\n",
        "      <td> 1</td>\n",
        "      <td>  \u4eca\u5929\u5929\u6c23\u5f88\u721b</td>\n",
        "      <td> 00001</td>\n",
        "      <td> 0.097303</td>\n",
        "      <td>-0.798543</td>\n",
        "    </tr>\n",
        "    <tr>\n",
        "      <th>2</th>\n",
        "      <td> 2</td>\n",
        "      <td>     \u6211\u6068\u5b83</td>\n",
        "      <td> 00002</td>\n",
        "      <td> 0.499569</td>\n",
        "      <td>-2.893763</td>\n",
        "    </tr>\n",
        "    <tr>\n",
        "      <th>3</th>\n",
        "      <td> 3</td>\n",
        "      <td>     \u5b83\u6068\u6211</td>\n",
        "      <td> 00003</td>\n",
        "      <td>-0.196116</td>\n",
        "      <td>-1.627774</td>\n",
        "    </tr>\n",
        "    <tr>\n",
        "      <th>4</th>\n",
        "      <td> 4</td>\n",
        "      <td>     \u6211\u611b\u5b83</td>\n",
        "      <td> 00004</td>\n",
        "      <td> 0.799894</td>\n",
        "      <td>-0.550072</td>\n",
        "    </tr>\n",
        "    <tr>\n",
        "      <th>5</th>\n",
        "      <td> 5</td>\n",
        "      <td>     \u5b83\u611b\u6211</td>\n",
        "      <td> 00005</td>\n",
        "      <td>-0.516435</td>\n",
        "      <td> 0.113153</td>\n",
        "    </tr>\n",
        "    <tr>\n",
        "      <th>6</th>\n",
        "      <td> 6</td>\n",
        "      <td>    \u4eca\u5929\u5f88\u8870</td>\n",
        "      <td> 00006</td>\n",
        "      <td> 2.125978</td>\n",
        "      <td>-0.270935</td>\n",
        "    </tr>\n",
        "    <tr>\n",
        "      <th>7</th>\n",
        "      <td> 7</td>\n",
        "      <td> \u65e5\u5b50\u4e00\u5929\u4e00\u5929\u904e</td>\n",
        "      <td> 00007</td>\n",
        "      <td> 0.971902</td>\n",
        "      <td>-0.499329</td>\n",
        "    </tr>\n",
        "    <tr>\n",
        "      <th>8</th>\n",
        "      <td> 8</td>\n",
        "      <td>  \u5929\u5929\u5237\u7259\u6d17\u81c9</td>\n",
        "      <td> 00008</td>\n",
        "      <td>-0.534133</td>\n",
        "      <td> 0.049652</td>\n",
        "    </tr>\n",
        "  </tbody>\n",
        "</table>\n",
        "<p>9 rows \u00d7 5 columns</p>\n",
        "</div>"
       ],
       "metadata": {},
       "output_type": "pyout",
       "prompt_number": 2,
       "text": [
        "   index     text    idx        r1        r2\n",
        "0      0   \u4eca\u5929\u5929\u6c23\u5f88\u597d  00000 -1.703555 -1.009566\n",
        "1      1   \u4eca\u5929\u5929\u6c23\u5f88\u721b  00001  0.097303 -0.798543\n",
        "2      2      \u6211\u6068\u5b83  00002  0.499569 -2.893763\n",
        "3      3      \u5b83\u6068\u6211  00003 -0.196116 -1.627774\n",
        "4      4      \u6211\u611b\u5b83  00004  0.799894 -0.550072\n",
        "5      5      \u5b83\u611b\u6211  00005 -0.516435  0.113153\n",
        "6      6     \u4eca\u5929\u5f88\u8870  00006  2.125978 -0.270935\n",
        "7      7  \u65e5\u5b50\u4e00\u5929\u4e00\u5929\u904e  00007  0.971902 -0.499329\n",
        "8      8   \u5929\u5929\u5237\u7259\u6d17\u81c9  00008 -0.534133  0.049652\n",
        "\n",
        "[9 rows x 5 columns]"
       ]
      }
     ],
     "prompt_number": 2
    },
    {
     "cell_type": "code",
     "collapsed": false,
     "input": [
      "test_text_df[\"text\"].values"
     ],
     "language": "python",
     "metadata": {},
     "outputs": [
      {
       "metadata": {},
       "output_type": "pyout",
       "prompt_number": 3,
       "text": [
        "array([u'\\u4eca\\u5929\\u5929\\u6c23\\u5f88\\u597d',\n",
        "       u'\\u4eca\\u5929\\u5929\\u6c23\\u5f88\\u721b', u'\\u6211\\u6068\\u5b83',\n",
        "       u'\\u5b83\\u6068\\u6211', u'\\u6211\\u611b\\u5b83', u'\\u5b83\\u611b\\u6211',\n",
        "       u'\\u4eca\\u5929\\u5f88\\u8870',\n",
        "       u'\\u65e5\\u5b50\\u4e00\\u5929\\u4e00\\u5929\\u904e',\n",
        "       u'\\u5929\\u5929\\u5237\\u7259\\u6d17\\u81c9'], dtype=object)"
       ]
      }
     ],
     "prompt_number": 3
    },
    {
     "cell_type": "code",
     "collapsed": false,
     "input": [],
     "language": "python",
     "metadata": {},
     "outputs": [],
     "prompt_number": 3
    },
    {
     "cell_type": "code",
     "collapsed": false,
     "input": [
      "from PlaYdata.core.base import ValuesMatrix\n",
      "from PlaYdata.core.base import tools\n",
      "from PlaYdata.core.merge import MultiIndexedDataMatrixMerger, IndexedDataMatrixMerger"
     ],
     "language": "python",
     "metadata": {},
     "outputs": [],
     "prompt_number": 4
    },
    {
     "cell_type": "code",
     "collapsed": false,
     "input": [
      "\n"
     ],
     "language": "python",
     "metadata": {},
     "outputs": [],
     "prompt_number": 4
    },
    {
     "cell_type": "code",
     "collapsed": false,
     "input": [
      "text_val_matrix = map(lambda xx:ValuesMatrix(list(tools.ngram(xx,[1]))),test_text_df[\"text\"].values)\n",
      "text_idxed_data_matrix = map(lambda xx:xx.build_index_data_matrix()._1d_ngram(2), text_val_matrix)"
     ],
     "language": "python",
     "metadata": {},
     "outputs": [],
     "prompt_number": 5
    },
    {
     "cell_type": "code",
     "collapsed": false,
     "input": [
      "idx_val_matrix = map(lambda xx:ValuesMatrix(xx),test_text_df[\"idx\"].values)\n",
      "idx_states_data_matrix = map(lambda xx:xx.build_index_data_matrix(), idx_val_matrix)"
     ],
     "language": "python",
     "metadata": {},
     "outputs": [],
     "prompt_number": 6
    },
    {
     "cell_type": "code",
     "collapsed": false,
     "input": [],
     "language": "python",
     "metadata": {},
     "outputs": [],
     "prompt_number": 6
    },
    {
     "cell_type": "code",
     "collapsed": false,
     "input": [
      "random_val_matrix = map(lambda xx:ValuesMatrix(xx),test_text_df[[\"r1\",\"r2\"]].values)\n",
      "random_states_data_matrix = map(lambda xx:xx.build_index_data_matrix(), random_val_matrix)\n",
      "random_states_data_matrix\n",
      "#idx_states_data_matrix = map(lambda xx:xx.build_index_data_matrix(), idx_val_matrix)"
     ],
     "language": "python",
     "metadata": {},
     "outputs": [
      {
       "metadata": {},
       "output_type": "pyout",
       "prompt_number": 7,
       "text": [
        "[{IndexedDataMatrix} ValuesMatrix([[-1.70355537, -1.00956554]]),\n",
        " {IndexedDataMatrix} ValuesMatrix([[ 0.09730253, -0.79854302]]),\n",
        " {IndexedDataMatrix} ValuesMatrix([[ 0.49956921, -2.89376343]]),\n",
        " {IndexedDataMatrix} ValuesMatrix([[-0.1961161 , -1.62777444]]),\n",
        " {IndexedDataMatrix} ValuesMatrix([[ 0.79989423, -0.55007194]]),\n",
        " {IndexedDataMatrix} ValuesMatrix([[-0.51643549,  0.11315327]]),\n",
        " {IndexedDataMatrix} ValuesMatrix([[ 2.12597753, -0.2709353 ]]),\n",
        " {IndexedDataMatrix} ValuesMatrix([[ 0.97190199, -0.49932923]]),\n",
        " {IndexedDataMatrix} ValuesMatrix([[-0.53413301,  0.04965201]])]"
       ]
      }
     ],
     "prompt_number": 7
    },
    {
     "cell_type": "code",
     "collapsed": false,
     "input": [],
     "language": "python",
     "metadata": {},
     "outputs": [],
     "prompt_number": 7
    },
    {
     "cell_type": "code",
     "collapsed": false,
     "input": [
      "zip_cols = zip(idx_states_data_matrix,text_idxed_data_matrix,random_states_data_matrix)\n",
      "#IndexedDataMatrixMerger(*zip_cols[0]).cbind()\n"
     ],
     "language": "python",
     "metadata": {},
     "outputs": [],
     "prompt_number": 8
    },
    {
     "cell_type": "code",
     "collapsed": false,
     "input": [
      "multi_idxed_datas = map(lambda xx: IndexedDataMatrixMerger(*xx).cbind(),zip(idx_states_data_matrix,text_idxed_data_matrix,random_states_data_matrix))\n",
      "\n",
      "merger = MultiIndexedDataMatrixMerger(*multi_idxed_datas)\n",
      "merger"
     ],
     "language": "python",
     "metadata": {},
     "outputs": [
      {
       "metadata": {},
       "output_type": "pyout",
       "prompt_number": 29,
       "text": [
        "[MultiIndexedDataMatrix([ {IndexedDataMatrix} ValuesMatrix([[u'00000'],\n",
        "        [u'00000'],\n",
        "        [u'00000'],\n",
        "        [u'00000'],\n",
        "        [u'00000']], \n",
        "       dtype='<U5'),\n",
        "        {IndexedDataMatrix} ValuesMatrix([[u'\\u4eca', u'\\u5929'],\n",
        "        [u'\\u5929', u'\\u5929'],\n",
        "        [u'\\u5929', u'\\u6c23'],\n",
        "        [u'\\u6c23', u'\\u5f88'],\n",
        "        [u'\\u5f88', u'\\u597d']], \n",
        "       dtype='<U1'),\n",
        "        {IndexedDataMatrix} ValuesMatrix([[-0.34697789,  0.95478606],\n",
        "        [-0.34697789,  0.95478606],\n",
        "        [-0.34697789,  0.95478606],\n",
        "        [-0.34697789,  0.95478606],\n",
        "        [-0.34697789,  0.95478606]])], dtype=object),\n",
        " MultiIndexedDataMatrix([ {IndexedDataMatrix} ValuesMatrix([[u'00001'],\n",
        "        [u'00001'],\n",
        "        [u'00001'],\n",
        "        [u'00001'],\n",
        "        [u'00001']], \n",
        "       dtype='<U5'),\n",
        "        {IndexedDataMatrix} ValuesMatrix([[u'\\u4eca', u'\\u5929'],\n",
        "        [u'\\u5929', u'\\u5929'],\n",
        "        [u'\\u5929', u'\\u6c23'],\n",
        "        [u'\\u6c23', u'\\u5f88'],\n",
        "        [u'\\u5f88', u'\\u721b']], \n",
        "       dtype='<U1'),\n",
        "        {IndexedDataMatrix} ValuesMatrix([[ 0.01346419,  2.32461454],\n",
        "        [ 0.01346419,  2.32461454],\n",
        "        [ 0.01346419,  2.32461454],\n",
        "        [ 0.01346419,  2.32461454],\n",
        "        [ 0.01346419,  2.32461454]])], dtype=object),\n",
        " MultiIndexedDataMatrix([ {IndexedDataMatrix} ValuesMatrix([[u'00002'],\n",
        "        [u'00002']], \n",
        "       dtype='<U5'),\n",
        "        {IndexedDataMatrix} ValuesMatrix([[u'\\u6211', u'\\u6068'],\n",
        "        [u'\\u6068', u'\\u5b83']], \n",
        "       dtype='<U1'),\n",
        "        {IndexedDataMatrix} ValuesMatrix([[ 2.23275605,  0.89394063],\n",
        "        [ 2.23275605,  0.89394063]])], dtype=object),\n",
        " MultiIndexedDataMatrix([ {IndexedDataMatrix} ValuesMatrix([[u'00003'],\n",
        "        [u'00003']], \n",
        "       dtype='<U5'),\n",
        "        {IndexedDataMatrix} ValuesMatrix([[u'\\u5b83', u'\\u6068'],\n",
        "        [u'\\u6068', u'\\u6211']], \n",
        "       dtype='<U1'),\n",
        "        {IndexedDataMatrix} ValuesMatrix([[ 1.48590585,  0.49673249],\n",
        "        [ 1.48590585,  0.49673249]])], dtype=object),\n",
        " MultiIndexedDataMatrix([ {IndexedDataMatrix} ValuesMatrix([[u'00004'],\n",
        "        [u'00004']], \n",
        "       dtype='<U5'),\n",
        "        {IndexedDataMatrix} ValuesMatrix([[u'\\u6211', u'\\u611b'],\n",
        "        [u'\\u611b', u'\\u5b83']], \n",
        "       dtype='<U1'),\n",
        "        {IndexedDataMatrix} ValuesMatrix([[-0.7136157, -0.6146446],\n",
        "        [-0.7136157, -0.6146446]])], dtype=object),\n",
        " MultiIndexedDataMatrix([ {IndexedDataMatrix} ValuesMatrix([[u'00005'],\n",
        "        [u'00005']], \n",
        "       dtype='<U5'),\n",
        "        {IndexedDataMatrix} ValuesMatrix([[u'\\u5b83', u'\\u611b'],\n",
        "        [u'\\u611b', u'\\u6211']], \n",
        "       dtype='<U1'),\n",
        "        {IndexedDataMatrix} ValuesMatrix([[ 2.97391918,  0.93440126],\n",
        "        [ 2.97391918,  0.93440126]])], dtype=object),\n",
        " MultiIndexedDataMatrix([ {IndexedDataMatrix} ValuesMatrix([[u'00006'],\n",
        "        [u'00006'],\n",
        "        [u'00006']], \n",
        "       dtype='<U5'),\n",
        "        {IndexedDataMatrix} ValuesMatrix([[u'\\u4eca', u'\\u5929'],\n",
        "        [u'\\u5929', u'\\u5f88'],\n",
        "        [u'\\u5f88', u'\\u8870']], \n",
        "       dtype='<U1'),\n",
        "        {IndexedDataMatrix} ValuesMatrix([[ 0.0589588 ,  0.84066018],\n",
        "        [ 0.0589588 ,  0.84066018],\n",
        "        [ 0.0589588 ,  0.84066018]])], dtype=object),\n",
        " MultiIndexedDataMatrix([ {IndexedDataMatrix} ValuesMatrix([[u'00007'],\n",
        "        [u'00007'],\n",
        "        [u'00007'],\n",
        "        [u'00007'],\n",
        "        [u'00007'],\n",
        "        [u'00007']], \n",
        "       dtype='<U5'),\n",
        "        {IndexedDataMatrix} ValuesMatrix([[u'\\u65e5', u'\\u5b50'],\n",
        "        [u'\\u5b50', u'\\u4e00'],\n",
        "        [u'\\u4e00', u'\\u5929'],\n",
        "        [u'\\u5929', u'\\u4e00'],\n",
        "        [u'\\u4e00', u'\\u5929'],\n",
        "        [u'\\u5929', u'\\u904e']], \n",
        "       dtype='<U1'),\n",
        "        {IndexedDataMatrix} ValuesMatrix([[-0.58252832,  0.6862769 ],\n",
        "        [-0.58252832,  0.6862769 ],\n",
        "        [-0.58252832,  0.6862769 ],\n",
        "        [-0.58252832,  0.6862769 ],\n",
        "        [-0.58252832,  0.6862769 ],\n",
        "        [-0.58252832,  0.6862769 ]])], dtype=object),\n",
        " MultiIndexedDataMatrix([ {IndexedDataMatrix} ValuesMatrix([[u'00008'],\n",
        "        [u'00008'],\n",
        "        [u'00008'],\n",
        "        [u'00008'],\n",
        "        [u'00008']], \n",
        "       dtype='<U5'),\n",
        "        {IndexedDataMatrix} ValuesMatrix([[u'\\u5929', u'\\u5929'],\n",
        "        [u'\\u5929', u'\\u5237'],\n",
        "        [u'\\u5237', u'\\u7259'],\n",
        "        [u'\\u7259', u'\\u6d17'],\n",
        "        [u'\\u6d17', u'\\u81c9']], \n",
        "       dtype='<U1'),\n",
        "        {IndexedDataMatrix} ValuesMatrix([[ 0.03538571, -0.33204375],\n",
        "        [ 0.03538571, -0.33204375],\n",
        "        [ 0.03538571, -0.33204375],\n",
        "        [ 0.03538571, -0.33204375],\n",
        "        [ 0.03538571, -0.33204375]])], dtype=object)]"
       ]
      }
     ],
     "prompt_number": 29
    },
    {
     "cell_type": "code",
     "collapsed": false,
     "input": [
      "merger.merge()[0]._data[merger.merge()[0]._data == \"00000\"]"
     ],
     "language": "python",
     "metadata": {},
     "outputs": [
      {
       "metadata": {},
       "output_type": "pyout",
       "prompt_number": 37,
       "text": [
        "ValuesMatrix([u'00000', u'00000', u'00000', u'00000', u'00000'], \n",
        "      dtype='<U5')"
       ]
      }
     ],
     "prompt_number": 37
    },
    {
     "cell_type": "code",
     "collapsed": false,
     "input": [
      "merger.merge()._nrows"
     ],
     "language": "python",
     "metadata": {},
     "outputs": [
      {
       "metadata": {},
       "output_type": "pyout",
       "prompt_number": 30,
       "text": [
        "[32, 32, 32]"
       ]
      }
     ],
     "prompt_number": 30
    },
    {
     "cell_type": "code",
     "collapsed": false,
     "input": [
      "merger.merge()._nrow"
     ],
     "language": "python",
     "metadata": {},
     "outputs": [
      {
       "metadata": {},
       "output_type": "pyout",
       "prompt_number": 31,
       "text": [
        "32"
       ]
      }
     ],
     "prompt_number": 31
    },
    {
     "cell_type": "code",
     "collapsed": false,
     "input": [
      "merger.merge()[1].index_matrix.build_row_struct_index()"
     ],
     "language": "python",
     "metadata": {},
     "outputs": [
      {
       "metadata": {},
       "output_type": "pyout",
       "prompt_number": 32,
       "text": [
        "(StatesMatrix([[ 0,  3],\n",
        "        [ 1,  3],\n",
        "        [ 2, 15],\n",
        "        [ 3,  0],\n",
        "        [ 3,  2],\n",
        "        [ 3,  3],\n",
        "        [ 3,  7],\n",
        "        [ 3, 12],\n",
        "        [ 3, 18],\n",
        "        [ 5,  0],\n",
        "        [ 6,  8],\n",
        "        [ 6,  9],\n",
        "        [ 7,  4],\n",
        "        [ 7, 14],\n",
        "        [ 7, 17],\n",
        "        [ 8,  6],\n",
        "        [ 8, 10],\n",
        "        [ 9,  6],\n",
        "        [ 9, 10],\n",
        "        [10,  8],\n",
        "        [10,  9],\n",
        "        [11,  5],\n",
        "        [12,  7],\n",
        "        [13, 16],\n",
        "        [15, 13]]),\n",
        " IndexMatrix([[ 1,  5,  7, 22, 12,  1,  5,  7, 22, 13, 19, 15, 10, 16, 20, 17, 11,\n",
        "         18,  1,  6, 14, 21,  9,  0,  3,  0,  8,  5,  4,  2, 24, 23]]))"
       ]
      }
     ],
     "prompt_number": 32
    },
    {
     "cell_type": "code",
     "collapsed": false,
     "input": [],
     "language": "python",
     "metadata": {},
     "outputs": []
    },
    {
     "cell_type": "code",
     "collapsed": false,
     "input": [],
     "language": "python",
     "metadata": {},
     "outputs": [],
     "prompt_number": 18
    },
    {
     "cell_type": "code",
     "collapsed": false,
     "input": [
      "test = zip(idx_states_data_matrix,text_idxed_data_matrix,random_states_data_matrix)[0]\n",
      "merger = IndexedDataMatrixMerger(*test)\n",
      "merg"
     ],
     "language": "python",
     "metadata": {},
     "outputs": [
      {
       "metadata": {},
       "output_type": "pyout",
       "prompt_number": 175,
       "text": [
        "[{IndexedDataMatrix} ValuesMatrix([[u'00000']], \n",
        "       dtype='<U5'), {IndexedDataMatrix} ValuesMatrix([[u'\\u4eca', u'\\u5929'],\n",
        "        [u'\\u5929', u'\\u5929'],\n",
        "        [u'\\u5929', u'\\u6c23'],\n",
        "        [u'\\u6c23', u'\\u5f88'],\n",
        "        [u'\\u5f88', u'\\u597d']], \n",
        "       dtype='<U1'), {IndexedDataMatrix} ValuesMatrix([[ 1.63025159, -0.26576712]])]"
       ]
      }
     ],
     "prompt_number": 175
    },
    {
     "cell_type": "code",
     "collapsed": false,
     "input": [],
     "language": "python",
     "metadata": {},
     "outputs": [],
     "prompt_number": 175
    },
    {
     "cell_type": "code",
     "collapsed": false,
     "input": [],
     "language": "python",
     "metadata": {},
     "outputs": [],
     "prompt_number": 175
    },
    {
     "cell_type": "code",
     "collapsed": false,
     "input": [
      "merger.cbind()._ncols"
     ],
     "language": "python",
     "metadata": {},
     "outputs": [
      {
       "metadata": {},
       "output_type": "pyout",
       "prompt_number": 176,
       "text": [
        "[1, 2, 2]"
       ]
      }
     ],
     "prompt_number": 176
    },
    {
     "cell_type": "code",
     "collapsed": false,
     "input": [
      "merger._index_matrixes_nrows"
     ],
     "language": "python",
     "metadata": {},
     "outputs": [
      {
       "metadata": {},
       "output_type": "pyout",
       "prompt_number": 177,
       "text": [
        "[5, 5, 5]"
       ]
      }
     ],
     "prompt_number": 177
    },
    {
     "cell_type": "code",
     "collapsed": false,
     "input": [
      "merger.cbind()"
     ],
     "language": "python",
     "metadata": {},
     "outputs": [
      {
       "metadata": {},
       "output_type": "pyout",
       "prompt_number": 179,
       "text": [
        "MultiIndexedDataMatrix([ {IndexedDataMatrix} ValuesMatrix([[u'00000'],\n",
        "       [u'00000'],\n",
        "       [u'00000'],\n",
        "       [u'00000'],\n",
        "       [u'00000']], \n",
        "      dtype='<U5'),\n",
        "       {IndexedDataMatrix} ValuesMatrix([[u'\\u4eca', u'\\u5929'],\n",
        "       [u'\\u5929', u'\\u5929'],\n",
        "       [u'\\u5929', u'\\u6c23'],\n",
        "       [u'\\u6c23', u'\\u5f88'],\n",
        "       [u'\\u5f88', u'\\u597d']], \n",
        "      dtype='<U1'),\n",
        "       {IndexedDataMatrix} ValuesMatrix([[ 1.63025159, -0.26576712],\n",
        "       [ 1.63025159, -0.26576712],\n",
        "       [ 1.63025159, -0.26576712],\n",
        "       [ 1.63025159, -0.26576712],\n",
        "       [ 1.63025159, -0.26576712]])], dtype=object)"
       ]
      }
     ],
     "prompt_number": 179
    },
    {
     "cell_type": "code",
     "collapsed": false,
     "input": [],
     "language": "python",
     "metadata": {},
     "outputs": [],
     "prompt_number": 122
    },
    {
     "cell_type": "code",
     "collapsed": false,
     "input": [],
     "language": "python",
     "metadata": {},
     "outputs": [],
     "prompt_number": 122
    },
    {
     "cell_type": "code",
     "collapsed": false,
     "input": [
      "len(np.unique(merger._index_matrixes_nrows)) == 1"
     ],
     "language": "python",
     "metadata": {},
     "outputs": [
      {
       "metadata": {},
       "output_type": "pyout",
       "prompt_number": 123,
       "text": [
        "True"
       ]
      }
     ],
     "prompt_number": 123
    },
    {
     "cell_type": "code",
     "collapsed": false,
     "input": [
      "new_nrows = reduce(lambda x,y:x*y,merger._index_matrixes_nrows) \n",
      "new_nrows\n"
     ],
     "language": "python",
     "metadata": {},
     "outputs": [
      {
       "metadata": {},
       "output_type": "pyout",
       "prompt_number": 124,
       "text": [
        "125"
       ]
      }
     ],
     "prompt_number": 124
    },
    {
     "cell_type": "code",
     "collapsed": false,
     "input": [
      "extend_nrows = map(lambda xx:new_nrows/xx,merger._index_matrixes_nrows) \n",
      "extend_nrows"
     ],
     "language": "python",
     "metadata": {},
     "outputs": [
      {
       "metadata": {},
       "output_type": "pyout",
       "prompt_number": 125,
       "text": [
        "[25, 25, 25]"
       ]
      }
     ],
     "prompt_number": 125
    },
    {
     "cell_type": "code",
     "collapsed": false,
     "input": [
      "map(lambda xx:xx[0].extend_rows(xx[1]),zip(merger,extend_nrows))"
     ],
     "language": "python",
     "metadata": {},
     "outputs": [
      {
       "metadata": {},
       "output_type": "pyout",
       "prompt_number": 126,
       "text": [
        "[{IndexedDataMatrix} ValuesMatrix([[u'00000'],\n",
        "        [u'00000'],\n",
        "        [u'00000'],\n",
        "        [u'00000'],\n",
        "        [u'00000'],\n",
        "        [u'00000'],\n",
        "        [u'00000'],\n",
        "        [u'00000'],\n",
        "        [u'00000'],\n",
        "        [u'00000'],\n",
        "        [u'00000'],\n",
        "        [u'00000'],\n",
        "        [u'00000'],\n",
        "        [u'00000'],\n",
        "        [u'00000'],\n",
        "        [u'00000'],\n",
        "        [u'00000'],\n",
        "        [u'00000'],\n",
        "        [u'00000'],\n",
        "        [u'00000'],\n",
        "        [u'00000'],\n",
        "        [u'00000'],\n",
        "        [u'00000'],\n",
        "        [u'00000'],\n",
        "        [u'00000'],\n",
        "        [u'00000'],\n",
        "        [u'00000'],\n",
        "        [u'00000'],\n",
        "        [u'00000'],\n",
        "        [u'00000'],\n",
        "        [u'00000'],\n",
        "        [u'00000'],\n",
        "        [u'00000'],\n",
        "        [u'00000'],\n",
        "        [u'00000'],\n",
        "        [u'00000'],\n",
        "        [u'00000'],\n",
        "        [u'00000'],\n",
        "        [u'00000'],\n",
        "        [u'00000'],\n",
        "        [u'00000'],\n",
        "        [u'00000'],\n",
        "        [u'00000'],\n",
        "        [u'00000'],\n",
        "        [u'00000'],\n",
        "        [u'00000'],\n",
        "        [u'00000'],\n",
        "        [u'00000'],\n",
        "        [u'00000'],\n",
        "        [u'00000'],\n",
        "        [u'00000'],\n",
        "        [u'00000'],\n",
        "        [u'00000'],\n",
        "        [u'00000'],\n",
        "        [u'00000'],\n",
        "        [u'00000'],\n",
        "        [u'00000'],\n",
        "        [u'00000'],\n",
        "        [u'00000'],\n",
        "        [u'00000'],\n",
        "        [u'00000'],\n",
        "        [u'00000'],\n",
        "        [u'00000'],\n",
        "        [u'00000'],\n",
        "        [u'00000'],\n",
        "        [u'00000'],\n",
        "        [u'00000'],\n",
        "        [u'00000'],\n",
        "        [u'00000'],\n",
        "        [u'00000'],\n",
        "        [u'00000'],\n",
        "        [u'00000'],\n",
        "        [u'00000'],\n",
        "        [u'00000'],\n",
        "        [u'00000'],\n",
        "        [u'00000'],\n",
        "        [u'00000'],\n",
        "        [u'00000'],\n",
        "        [u'00000'],\n",
        "        [u'00000'],\n",
        "        [u'00000'],\n",
        "        [u'00000'],\n",
        "        [u'00000'],\n",
        "        [u'00000'],\n",
        "        [u'00000'],\n",
        "        [u'00000'],\n",
        "        [u'00000'],\n",
        "        [u'00000'],\n",
        "        [u'00000'],\n",
        "        [u'00000'],\n",
        "        [u'00000'],\n",
        "        [u'00000'],\n",
        "        [u'00000'],\n",
        "        [u'00000'],\n",
        "        [u'00000'],\n",
        "        [u'00000'],\n",
        "        [u'00000'],\n",
        "        [u'00000'],\n",
        "        [u'00000'],\n",
        "        [u'00000'],\n",
        "        [u'00000'],\n",
        "        [u'00000'],\n",
        "        [u'00000'],\n",
        "        [u'00000'],\n",
        "        [u'00000'],\n",
        "        [u'00000'],\n",
        "        [u'00000'],\n",
        "        [u'00000'],\n",
        "        [u'00000'],\n",
        "        [u'00000'],\n",
        "        [u'00000'],\n",
        "        [u'00000'],\n",
        "        [u'00000'],\n",
        "        [u'00000'],\n",
        "        [u'00000'],\n",
        "        [u'00000'],\n",
        "        [u'00000'],\n",
        "        [u'00000'],\n",
        "        [u'00000'],\n",
        "        [u'00000'],\n",
        "        [u'00000'],\n",
        "        [u'00000'],\n",
        "        [u'00000'],\n",
        "        [u'00000'],\n",
        "        [u'00000']], \n",
        "       dtype='<U5'), {IndexedDataMatrix} ValuesMatrix([[u'\\u4eca', u'\\u5929'],\n",
        "        [u'\\u5929', u'\\u5929'],\n",
        "        [u'\\u5929', u'\\u6c23'],\n",
        "        [u'\\u6c23', u'\\u5f88'],\n",
        "        [u'\\u5f88', u'\\u597d'],\n",
        "        [u'\\u4eca', u'\\u5929'],\n",
        "        [u'\\u5929', u'\\u5929'],\n",
        "        [u'\\u5929', u'\\u6c23'],\n",
        "        [u'\\u6c23', u'\\u5f88'],\n",
        "        [u'\\u5f88', u'\\u597d'],\n",
        "        [u'\\u4eca', u'\\u5929'],\n",
        "        [u'\\u5929', u'\\u5929'],\n",
        "        [u'\\u5929', u'\\u6c23'],\n",
        "        [u'\\u6c23', u'\\u5f88'],\n",
        "        [u'\\u5f88', u'\\u597d'],\n",
        "        [u'\\u4eca', u'\\u5929'],\n",
        "        [u'\\u5929', u'\\u5929'],\n",
        "        [u'\\u5929', u'\\u6c23'],\n",
        "        [u'\\u6c23', u'\\u5f88'],\n",
        "        [u'\\u5f88', u'\\u597d'],\n",
        "        [u'\\u4eca', u'\\u5929'],\n",
        "        [u'\\u5929', u'\\u5929'],\n",
        "        [u'\\u5929', u'\\u6c23'],\n",
        "        [u'\\u6c23', u'\\u5f88'],\n",
        "        [u'\\u5f88', u'\\u597d'],\n",
        "        [u'\\u4eca', u'\\u5929'],\n",
        "        [u'\\u5929', u'\\u5929'],\n",
        "        [u'\\u5929', u'\\u6c23'],\n",
        "        [u'\\u6c23', u'\\u5f88'],\n",
        "        [u'\\u5f88', u'\\u597d'],\n",
        "        [u'\\u4eca', u'\\u5929'],\n",
        "        [u'\\u5929', u'\\u5929'],\n",
        "        [u'\\u5929', u'\\u6c23'],\n",
        "        [u'\\u6c23', u'\\u5f88'],\n",
        "        [u'\\u5f88', u'\\u597d'],\n",
        "        [u'\\u4eca', u'\\u5929'],\n",
        "        [u'\\u5929', u'\\u5929'],\n",
        "        [u'\\u5929', u'\\u6c23'],\n",
        "        [u'\\u6c23', u'\\u5f88'],\n",
        "        [u'\\u5f88', u'\\u597d'],\n",
        "        [u'\\u4eca', u'\\u5929'],\n",
        "        [u'\\u5929', u'\\u5929'],\n",
        "        [u'\\u5929', u'\\u6c23'],\n",
        "        [u'\\u6c23', u'\\u5f88'],\n",
        "        [u'\\u5f88', u'\\u597d'],\n",
        "        [u'\\u4eca', u'\\u5929'],\n",
        "        [u'\\u5929', u'\\u5929'],\n",
        "        [u'\\u5929', u'\\u6c23'],\n",
        "        [u'\\u6c23', u'\\u5f88'],\n",
        "        [u'\\u5f88', u'\\u597d'],\n",
        "        [u'\\u4eca', u'\\u5929'],\n",
        "        [u'\\u5929', u'\\u5929'],\n",
        "        [u'\\u5929', u'\\u6c23'],\n",
        "        [u'\\u6c23', u'\\u5f88'],\n",
        "        [u'\\u5f88', u'\\u597d'],\n",
        "        [u'\\u4eca', u'\\u5929'],\n",
        "        [u'\\u5929', u'\\u5929'],\n",
        "        [u'\\u5929', u'\\u6c23'],\n",
        "        [u'\\u6c23', u'\\u5f88'],\n",
        "        [u'\\u5f88', u'\\u597d'],\n",
        "        [u'\\u4eca', u'\\u5929'],\n",
        "        [u'\\u5929', u'\\u5929'],\n",
        "        [u'\\u5929', u'\\u6c23'],\n",
        "        [u'\\u6c23', u'\\u5f88'],\n",
        "        [u'\\u5f88', u'\\u597d'],\n",
        "        [u'\\u4eca', u'\\u5929'],\n",
        "        [u'\\u5929', u'\\u5929'],\n",
        "        [u'\\u5929', u'\\u6c23'],\n",
        "        [u'\\u6c23', u'\\u5f88'],\n",
        "        [u'\\u5f88', u'\\u597d'],\n",
        "        [u'\\u4eca', u'\\u5929'],\n",
        "        [u'\\u5929', u'\\u5929'],\n",
        "        [u'\\u5929', u'\\u6c23'],\n",
        "        [u'\\u6c23', u'\\u5f88'],\n",
        "        [u'\\u5f88', u'\\u597d'],\n",
        "        [u'\\u4eca', u'\\u5929'],\n",
        "        [u'\\u5929', u'\\u5929'],\n",
        "        [u'\\u5929', u'\\u6c23'],\n",
        "        [u'\\u6c23', u'\\u5f88'],\n",
        "        [u'\\u5f88', u'\\u597d'],\n",
        "        [u'\\u4eca', u'\\u5929'],\n",
        "        [u'\\u5929', u'\\u5929'],\n",
        "        [u'\\u5929', u'\\u6c23'],\n",
        "        [u'\\u6c23', u'\\u5f88'],\n",
        "        [u'\\u5f88', u'\\u597d'],\n",
        "        [u'\\u4eca', u'\\u5929'],\n",
        "        [u'\\u5929', u'\\u5929'],\n",
        "        [u'\\u5929', u'\\u6c23'],\n",
        "        [u'\\u6c23', u'\\u5f88'],\n",
        "        [u'\\u5f88', u'\\u597d'],\n",
        "        [u'\\u4eca', u'\\u5929'],\n",
        "        [u'\\u5929', u'\\u5929'],\n",
        "        [u'\\u5929', u'\\u6c23'],\n",
        "        [u'\\u6c23', u'\\u5f88'],\n",
        "        [u'\\u5f88', u'\\u597d'],\n",
        "        [u'\\u4eca', u'\\u5929'],\n",
        "        [u'\\u5929', u'\\u5929'],\n",
        "        [u'\\u5929', u'\\u6c23'],\n",
        "        [u'\\u6c23', u'\\u5f88'],\n",
        "        [u'\\u5f88', u'\\u597d'],\n",
        "        [u'\\u4eca', u'\\u5929'],\n",
        "        [u'\\u5929', u'\\u5929'],\n",
        "        [u'\\u5929', u'\\u6c23'],\n",
        "        [u'\\u6c23', u'\\u5f88'],\n",
        "        [u'\\u5f88', u'\\u597d'],\n",
        "        [u'\\u4eca', u'\\u5929'],\n",
        "        [u'\\u5929', u'\\u5929'],\n",
        "        [u'\\u5929', u'\\u6c23'],\n",
        "        [u'\\u6c23', u'\\u5f88'],\n",
        "        [u'\\u5f88', u'\\u597d'],\n",
        "        [u'\\u4eca', u'\\u5929'],\n",
        "        [u'\\u5929', u'\\u5929'],\n",
        "        [u'\\u5929', u'\\u6c23'],\n",
        "        [u'\\u6c23', u'\\u5f88'],\n",
        "        [u'\\u5f88', u'\\u597d'],\n",
        "        [u'\\u4eca', u'\\u5929'],\n",
        "        [u'\\u5929', u'\\u5929'],\n",
        "        [u'\\u5929', u'\\u6c23'],\n",
        "        [u'\\u6c23', u'\\u5f88'],\n",
        "        [u'\\u5f88', u'\\u597d'],\n",
        "        [u'\\u4eca', u'\\u5929'],\n",
        "        [u'\\u5929', u'\\u5929'],\n",
        "        [u'\\u5929', u'\\u6c23'],\n",
        "        [u'\\u6c23', u'\\u5f88'],\n",
        "        [u'\\u5f88', u'\\u597d']], \n",
        "       dtype='<U1'), {IndexedDataMatrix} ValuesMatrix([[ 1.63025159, -0.26576712],\n",
        "        [ 1.63025159, -0.26576712],\n",
        "        [ 1.63025159, -0.26576712],\n",
        "        [ 1.63025159, -0.26576712],\n",
        "        [ 1.63025159, -0.26576712],\n",
        "        [ 1.63025159, -0.26576712],\n",
        "        [ 1.63025159, -0.26576712],\n",
        "        [ 1.63025159, -0.26576712],\n",
        "        [ 1.63025159, -0.26576712],\n",
        "        [ 1.63025159, -0.26576712],\n",
        "        [ 1.63025159, -0.26576712],\n",
        "        [ 1.63025159, -0.26576712],\n",
        "        [ 1.63025159, -0.26576712],\n",
        "        [ 1.63025159, -0.26576712],\n",
        "        [ 1.63025159, -0.26576712],\n",
        "        [ 1.63025159, -0.26576712],\n",
        "        [ 1.63025159, -0.26576712],\n",
        "        [ 1.63025159, -0.26576712],\n",
        "        [ 1.63025159, -0.26576712],\n",
        "        [ 1.63025159, -0.26576712],\n",
        "        [ 1.63025159, -0.26576712],\n",
        "        [ 1.63025159, -0.26576712],\n",
        "        [ 1.63025159, -0.26576712],\n",
        "        [ 1.63025159, -0.26576712],\n",
        "        [ 1.63025159, -0.26576712],\n",
        "        [ 1.63025159, -0.26576712],\n",
        "        [ 1.63025159, -0.26576712],\n",
        "        [ 1.63025159, -0.26576712],\n",
        "        [ 1.63025159, -0.26576712],\n",
        "        [ 1.63025159, -0.26576712],\n",
        "        [ 1.63025159, -0.26576712],\n",
        "        [ 1.63025159, -0.26576712],\n",
        "        [ 1.63025159, -0.26576712],\n",
        "        [ 1.63025159, -0.26576712],\n",
        "        [ 1.63025159, -0.26576712],\n",
        "        [ 1.63025159, -0.26576712],\n",
        "        [ 1.63025159, -0.26576712],\n",
        "        [ 1.63025159, -0.26576712],\n",
        "        [ 1.63025159, -0.26576712],\n",
        "        [ 1.63025159, -0.26576712],\n",
        "        [ 1.63025159, -0.26576712],\n",
        "        [ 1.63025159, -0.26576712],\n",
        "        [ 1.63025159, -0.26576712],\n",
        "        [ 1.63025159, -0.26576712],\n",
        "        [ 1.63025159, -0.26576712],\n",
        "        [ 1.63025159, -0.26576712],\n",
        "        [ 1.63025159, -0.26576712],\n",
        "        [ 1.63025159, -0.26576712],\n",
        "        [ 1.63025159, -0.26576712],\n",
        "        [ 1.63025159, -0.26576712],\n",
        "        [ 1.63025159, -0.26576712],\n",
        "        [ 1.63025159, -0.26576712],\n",
        "        [ 1.63025159, -0.26576712],\n",
        "        [ 1.63025159, -0.26576712],\n",
        "        [ 1.63025159, -0.26576712],\n",
        "        [ 1.63025159, -0.26576712],\n",
        "        [ 1.63025159, -0.26576712],\n",
        "        [ 1.63025159, -0.26576712],\n",
        "        [ 1.63025159, -0.26576712],\n",
        "        [ 1.63025159, -0.26576712],\n",
        "        [ 1.63025159, -0.26576712],\n",
        "        [ 1.63025159, -0.26576712],\n",
        "        [ 1.63025159, -0.26576712],\n",
        "        [ 1.63025159, -0.26576712],\n",
        "        [ 1.63025159, -0.26576712],\n",
        "        [ 1.63025159, -0.26576712],\n",
        "        [ 1.63025159, -0.26576712],\n",
        "        [ 1.63025159, -0.26576712],\n",
        "        [ 1.63025159, -0.26576712],\n",
        "        [ 1.63025159, -0.26576712],\n",
        "        [ 1.63025159, -0.26576712],\n",
        "        [ 1.63025159, -0.26576712],\n",
        "        [ 1.63025159, -0.26576712],\n",
        "        [ 1.63025159, -0.26576712],\n",
        "        [ 1.63025159, -0.26576712],\n",
        "        [ 1.63025159, -0.26576712],\n",
        "        [ 1.63025159, -0.26576712],\n",
        "        [ 1.63025159, -0.26576712],\n",
        "        [ 1.63025159, -0.26576712],\n",
        "        [ 1.63025159, -0.26576712],\n",
        "        [ 1.63025159, -0.26576712],\n",
        "        [ 1.63025159, -0.26576712],\n",
        "        [ 1.63025159, -0.26576712],\n",
        "        [ 1.63025159, -0.26576712],\n",
        "        [ 1.63025159, -0.26576712],\n",
        "        [ 1.63025159, -0.26576712],\n",
        "        [ 1.63025159, -0.26576712],\n",
        "        [ 1.63025159, -0.26576712],\n",
        "        [ 1.63025159, -0.26576712],\n",
        "        [ 1.63025159, -0.26576712],\n",
        "        [ 1.63025159, -0.26576712],\n",
        "        [ 1.63025159, -0.26576712],\n",
        "        [ 1.63025159, -0.26576712],\n",
        "        [ 1.63025159, -0.26576712],\n",
        "        [ 1.63025159, -0.26576712],\n",
        "        [ 1.63025159, -0.26576712],\n",
        "        [ 1.63025159, -0.26576712],\n",
        "        [ 1.63025159, -0.26576712],\n",
        "        [ 1.63025159, -0.26576712],\n",
        "        [ 1.63025159, -0.26576712],\n",
        "        [ 1.63025159, -0.26576712],\n",
        "        [ 1.63025159, -0.26576712],\n",
        "        [ 1.63025159, -0.26576712],\n",
        "        [ 1.63025159, -0.26576712],\n",
        "        [ 1.63025159, -0.26576712],\n",
        "        [ 1.63025159, -0.26576712],\n",
        "        [ 1.63025159, -0.26576712],\n",
        "        [ 1.63025159, -0.26576712],\n",
        "        [ 1.63025159, -0.26576712],\n",
        "        [ 1.63025159, -0.26576712],\n",
        "        [ 1.63025159, -0.26576712],\n",
        "        [ 1.63025159, -0.26576712],\n",
        "        [ 1.63025159, -0.26576712],\n",
        "        [ 1.63025159, -0.26576712],\n",
        "        [ 1.63025159, -0.26576712],\n",
        "        [ 1.63025159, -0.26576712],\n",
        "        [ 1.63025159, -0.26576712],\n",
        "        [ 1.63025159, -0.26576712],\n",
        "        [ 1.63025159, -0.26576712],\n",
        "        [ 1.63025159, -0.26576712],\n",
        "        [ 1.63025159, -0.26576712],\n",
        "        [ 1.63025159, -0.26576712],\n",
        "        [ 1.63025159, -0.26576712],\n",
        "        [ 1.63025159, -0.26576712],\n",
        "        [ 1.63025159, -0.26576712]])]"
       ]
      }
     ],
     "prompt_number": 126
    },
    {
     "cell_type": "code",
     "collapsed": false,
     "input": [],
     "language": "python",
     "metadata": {},
     "outputs": []
    },
    {
     "cell_type": "code",
     "collapsed": false,
     "input": [],
     "language": "python",
     "metadata": {},
     "outputs": [],
     "prompt_number": 10
    },
    {
     "cell_type": "code",
     "collapsed": false,
     "input": [
      "print idx_states_data_matrix[0].tile((2,2), update=False)\n",
      "print idx_states_data_matrix[0].extend_rows(10, update=False)"
     ],
     "language": "python",
     "metadata": {},
     "outputs": [
      {
       "output_type": "stream",
       "stream": "stdout",
       "text": [
        "{IndexedDataMatrix} ValuesMatrix([[u'00000', u'00000'],\n",
        "       [u'00000', u'00000']], \n",
        "      dtype='<U5')\n",
        "{IndexedDataMatrix} ValuesMatrix([[u'00000'],\n",
        "       [u'00000'],\n",
        "       [u'00000'],\n",
        "       [u'00000'],\n",
        "       [u'00000'],\n",
        "       [u'00000'],\n",
        "       [u'00000'],\n",
        "       [u'00000'],\n",
        "       [u'00000'],\n",
        "       [u'00000']], \n",
        "      dtype='<U5')\n"
       ]
      }
     ],
     "prompt_number": 11
    },
    {
     "cell_type": "code",
     "collapsed": false,
     "input": [],
     "language": "python",
     "metadata": {},
     "outputs": [],
     "prompt_number": 71
    },
    {
     "cell_type": "code",
     "collapsed": false,
     "input": [
      "print id(np.tile(idx_states_data_matrix[0].index_matrix,(5,3)))\n",
      "print id(idx_states_data_matrix[0].index_matrix)"
     ],
     "language": "python",
     "metadata": {},
     "outputs": [
      {
       "output_type": "stream",
       "stream": "stdout",
       "text": [
        "69159824\n",
        "69072848\n"
       ]
      }
     ],
     "prompt_number": 72
    },
    {
     "cell_type": "code",
     "collapsed": false,
     "input": [],
     "language": "python",
     "metadata": {},
     "outputs": [],
     "prompt_number": 72
    },
    {
     "cell_type": "code",
     "collapsed": false,
     "input": [],
     "language": "python",
     "metadata": {},
     "outputs": [],
     "prompt_number": 72
    },
    {
     "cell_type": "code",
     "collapsed": false,
     "input": [],
     "language": "python",
     "metadata": {},
     "outputs": [],
     "prompt_number": 72
    },
    {
     "cell_type": "code",
     "collapsed": false,
     "input": [
      "np.array(np.array([[\"123\"]]))"
     ],
     "language": "python",
     "metadata": {},
     "outputs": [
      {
       "metadata": {},
       "output_type": "pyout",
       "prompt_number": 73,
       "text": [
        "array([['123']], \n",
        "      dtype='|S3')"
       ]
      }
     ],
     "prompt_number": 73
    },
    {
     "cell_type": "code",
     "collapsed": false,
     "input": [
      "text_idxed_data_matrix"
     ],
     "language": "python",
     "metadata": {},
     "outputs": [
      {
       "metadata": {},
       "output_type": "pyout",
       "prompt_number": 74,
       "text": [
        "[{IndexedDataMatrix} ValuesMatrix([[u'\\u4eca', u'\\u5929'],\n",
        "        [u'\\u5929', u'\\u5929'],\n",
        "        [u'\\u5929', u'\\u6c23'],\n",
        "        [u'\\u6c23', u'\\u5f88'],\n",
        "        [u'\\u5f88', u'\\u597d']], \n",
        "       dtype='<U1'), {IndexedDataMatrix} ValuesMatrix([[u'\\u4eca', u'\\u5929'],\n",
        "        [u'\\u5929', u'\\u5929'],\n",
        "        [u'\\u5929', u'\\u6c23'],\n",
        "        [u'\\u6c23', u'\\u5f88'],\n",
        "        [u'\\u5f88', u'\\u721b']], \n",
        "       dtype='<U1'), {IndexedDataMatrix} ValuesMatrix([[u'\\u6211', u'\\u6068'],\n",
        "        [u'\\u6068', u'\\u5b83']], \n",
        "       dtype='<U1'), {IndexedDataMatrix} ValuesMatrix([[u'\\u5b83', u'\\u6068'],\n",
        "        [u'\\u6068', u'\\u6211']], \n",
        "       dtype='<U1'), {IndexedDataMatrix} ValuesMatrix([[u'\\u6211', u'\\u611b'],\n",
        "        [u'\\u611b', u'\\u5b83']], \n",
        "       dtype='<U1'), {IndexedDataMatrix} ValuesMatrix([[u'\\u5b83', u'\\u611b'],\n",
        "        [u'\\u611b', u'\\u6211']], \n",
        "       dtype='<U1'), {IndexedDataMatrix} ValuesMatrix([[u'\\u4eca', u'\\u5929'],\n",
        "        [u'\\u5929', u'\\u5f88'],\n",
        "        [u'\\u5f88', u'\\u8870']], \n",
        "       dtype='<U1'), {IndexedDataMatrix} ValuesMatrix([[u'\\u65e5', u'\\u5b50'],\n",
        "        [u'\\u5b50', u'\\u4e00'],\n",
        "        [u'\\u4e00', u'\\u5929'],\n",
        "        [u'\\u5929', u'\\u4e00'],\n",
        "        [u'\\u4e00', u'\\u5929'],\n",
        "        [u'\\u5929', u'\\u904e']], \n",
        "       dtype='<U1'), {IndexedDataMatrix} ValuesMatrix([[u'\\u5929', u'\\u5929'],\n",
        "        [u'\\u5929', u'\\u5237'],\n",
        "        [u'\\u5237', u'\\u7259'],\n",
        "        [u'\\u7259', u'\\u6d17'],\n",
        "        [u'\\u6d17', u'\\u81c9']], \n",
        "       dtype='<U1')]"
       ]
      }
     ],
     "prompt_number": 74
    },
    {
     "cell_type": "code",
     "collapsed": false,
     "input": [],
     "language": "python",
     "metadata": {},
     "outputs": [],
     "prompt_number": 74
    },
    {
     "cell_type": "code",
     "collapsed": false,
     "input": [],
     "language": "python",
     "metadata": {},
     "outputs": [],
     "prompt_number": 74
    },
    {
     "cell_type": "code",
     "collapsed": false,
     "input": [],
     "language": "python",
     "metadata": {},
     "outputs": [],
     "prompt_number": 74
    },
    {
     "cell_type": "code",
     "collapsed": false,
     "input": [],
     "language": "python",
     "metadata": {},
     "outputs": [],
     "prompt_number": 74
    },
    {
     "cell_type": "code",
     "collapsed": false,
     "input": [],
     "language": "python",
     "metadata": {},
     "outputs": [],
     "prompt_number": 74
    },
    {
     "cell_type": "code",
     "collapsed": false,
     "input": [
      "text_val_matrix = map(lambda xx:ValuesMatrix(list(tools.ngram(xx,[1]))),test_text_df[\"text\"].values)\n",
      "text_idxed_data_matrix = map(lambda xx:xx.build_index_data_matrix()._1d_ngram(2), text_val_matrix)\n",
      "idxed_data_matrix_merger = IndexedDataMatrixMerger(*text_idxed_data_matrix)"
     ],
     "language": "python",
     "metadata": {},
     "outputs": [],
     "prompt_number": 75
    },
    {
     "cell_type": "code",
     "collapsed": false,
     "input": [
      "print idxed_data_matrix_merger._index_matrixes_ncols\n",
      "print idxed_data_matrix_merger._index_matrixes_nrows"
     ],
     "language": "python",
     "metadata": {},
     "outputs": [
      {
       "output_type": "stream",
       "stream": "stdout",
       "text": [
        "[2, 2, 2, 2, 2, 2, 2, 2, 2]\n",
        "[5, 5, 2, 2, 2, 2, 3, 6, 5]\n"
       ]
      }
     ],
     "prompt_number": 77
    },
    {
     "cell_type": "code",
     "collapsed": false,
     "input": [
      "idxed_data_matrix_merger.rbind()"
     ],
     "language": "python",
     "metadata": {},
     "outputs": [
      {
       "metadata": {},
       "output_type": "pyout",
       "prompt_number": 50,
       "text": [
        "{IndexedDataMatrix} ValuesMatrix([[u'\\u4eca', u'\\u5929'],\n",
        "       [u'\\u5929', u'\\u5929'],\n",
        "       [u'\\u5929', u'\\u6c23'],\n",
        "       [u'\\u6c23', u'\\u5f88'],\n",
        "       [u'\\u5f88', u'\\u597d'],\n",
        "       [u'\\u4eca', u'\\u5929'],\n",
        "       [u'\\u5929', u'\\u5929'],\n",
        "       [u'\\u5929', u'\\u6c23'],\n",
        "       [u'\\u6c23', u'\\u5f88'],\n",
        "       [u'\\u5f88', u'\\u721b'],\n",
        "       [u'\\u6211', u'\\u6068'],\n",
        "       [u'\\u6068', u'\\u5b83'],\n",
        "       [u'\\u5b83', u'\\u6068'],\n",
        "       [u'\\u6068', u'\\u6211'],\n",
        "       [u'\\u6211', u'\\u611b'],\n",
        "       [u'\\u611b', u'\\u5b83'],\n",
        "       [u'\\u5b83', u'\\u611b'],\n",
        "       [u'\\u611b', u'\\u6211'],\n",
        "       [u'\\u4eca', u'\\u5929'],\n",
        "       [u'\\u5929', u'\\u5f88'],\n",
        "       [u'\\u5f88', u'\\u8870'],\n",
        "       [u'\\u65e5', u'\\u5b50'],\n",
        "       [u'\\u5b50', u'\\u4e00'],\n",
        "       [u'\\u4e00', u'\\u5929'],\n",
        "       [u'\\u5929', u'\\u4e00'],\n",
        "       [u'\\u4e00', u'\\u5929'],\n",
        "       [u'\\u5929', u'\\u904e'],\n",
        "       [u'\\u5929', u'\\u5929'],\n",
        "       [u'\\u5929', u'\\u5237'],\n",
        "       [u'\\u5237', u'\\u7259'],\n",
        "       [u'\\u7259', u'\\u6d17'],\n",
        "       [u'\\u6d17', u'\\u81c9']], \n",
        "      dtype='<U1')"
       ]
      }
     ],
     "prompt_number": 50
    },
    {
     "cell_type": "code",
     "collapsed": false,
     "input": [],
     "language": "python",
     "metadata": {},
     "outputs": []
    },
    {
     "cell_type": "code",
     "collapsed": false,
     "input": [],
     "language": "python",
     "metadata": {},
     "outputs": []
    },
    {
     "cell_type": "code",
     "collapsed": false,
     "input": [],
     "language": "python",
     "metadata": {},
     "outputs": []
    },
    {
     "cell_type": "code",
     "collapsed": false,
     "input": [],
     "language": "python",
     "metadata": {},
     "outputs": []
    },
    {
     "cell_type": "code",
     "collapsed": false,
     "input": [],
     "language": "python",
     "metadata": {},
     "outputs": []
    },
    {
     "cell_type": "code",
     "collapsed": false,
     "input": [],
     "language": "python",
     "metadata": {},
     "outputs": [],
     "prompt_number": 10
    },
    {
     "cell_type": "code",
     "collapsed": false,
     "input": [
      "def clean_no_data_tensors(np_array):\n",
      "    clean_idx = map(lambda xx:0 if xx==1 else slice(None,None,None),np_array.shape)\n",
      "    if check_args(lambda xx:xx==1, *np_array.shape):\n",
      "        clean_idx[0] = slice(None,None,None)\n",
      "    return np_array[clean_idx]\n",
      "\n",
      "def temp_clean_no_data_tensors(np_array):\n",
      "    return map(lambda xx:0 if xx==1 else slice(None,None,None),np_array.shape)\n"
     ],
     "language": "python",
     "metadata": {},
     "outputs": [],
     "prompt_number": 186
    },
    {
     "cell_type": "code",
     "collapsed": false,
     "input": [
      "clean_no_data_tensors(np.array([[[\"12345\"]]]))"
     ],
     "language": "python",
     "metadata": {},
     "outputs": [
      {
       "metadata": {},
       "output_type": "pyout",
       "prompt_number": 188,
       "text": [
        "array(['12345'], \n",
        "      dtype='|S5')"
       ]
      }
     ],
     "prompt_number": 188
    },
    {
     "cell_type": "code",
     "collapsed": false,
     "input": [
      "temp_clean_no_data_tensors(np.array([[\"12345\",\"12523523\"]]))"
     ],
     "language": "python",
     "metadata": {},
     "outputs": [
      {
       "metadata": {},
       "output_type": "pyout",
       "prompt_number": 178,
       "text": [
        "[0, slice(None, None, None)]"
       ]
      }
     ],
     "prompt_number": 178
    },
    {
     "cell_type": "code",
     "collapsed": false,
     "input": [
      "np.array([[\"12345\",\"12523523\"]]).shape"
     ],
     "language": "python",
     "metadata": {},
     "outputs": [
      {
       "metadata": {},
       "output_type": "pyout",
       "prompt_number": 176,
       "text": [
        "(1, 2)"
       ]
      }
     ],
     "prompt_number": 176
    },
    {
     "cell_type": "code",
     "collapsed": false,
     "input": [],
     "language": "python",
     "metadata": {},
     "outputs": []
    },
    {
     "cell_type": "code",
     "collapsed": false,
     "input": [
      "check_args(lambda xx:xx==1, *np.array([[[\"12345\"]]]).shape)"
     ],
     "language": "python",
     "metadata": {},
     "outputs": [
      {
       "metadata": {},
       "output_type": "pyout",
       "prompt_number": 184,
       "text": [
        "True"
       ]
      }
     ],
     "prompt_number": 184
    },
    {
     "cell_type": "code",
     "collapsed": false,
     "input": [],
     "language": "python",
     "metadata": {},
     "outputs": []
    },
    {
     "cell_type": "code",
     "collapsed": false,
     "input": [],
     "language": "python",
     "metadata": {},
     "outputs": []
    },
    {
     "cell_type": "code",
     "collapsed": false,
     "input": [],
     "language": "python",
     "metadata": {},
     "outputs": []
    },
    {
     "cell_type": "code",
     "collapsed": false,
     "input": [
      "text_val_matrix = map(lambda xx:ValuesMatrix(list(tools.ngram(xx,[1]))),test_text_df[\"text\"].values)\n",
      "test = text_val_matrix[0]\n",
      "#text_idxed_data_matrix = map(lambda xx:xx.to_states_data_array().ngram(2), text_val_arrays)"
     ],
     "language": "python",
     "metadata": {},
     "outputs": [],
     "prompt_number": 237
    },
    {
     "cell_type": "code",
     "collapsed": false,
     "input": [
      "print test.build_index_data_matrix().states_matrix\n",
      "print test.build_index_data_matrix().index_matrix"
     ],
     "language": "python",
     "metadata": {},
     "outputs": [
      {
       "output_type": "stream",
       "stream": "stdout",
       "text": [
        "[[u'\\u4eca' u'\\u5929' u'\\u597d' u'\\u5f88' u'\\u6c23']]\n",
        "[[0 1 1 4 3 2]]\n"
       ]
      }
     ],
     "prompt_number": 238
    },
    {
     "cell_type": "code",
     "collapsed": false,
     "input": [
      "print test.build_index_data_matrix()._1d_ngram(2)"
     ],
     "language": "python",
     "metadata": {},
     "outputs": [
      {
       "output_type": "stream",
       "stream": "stdout",
       "text": [
        "{IndexedDataMatrix} ValuesMatrix([[u'\\u4eca', u'\\u5929'],\n",
        "       [u'\\u5929', u'\\u5929'],\n",
        "       [u'\\u5929', u'\\u6c23'],\n",
        "       [u'\\u6c23', u'\\u5f88'],\n",
        "       [u'\\u5f88', u'\\u597d']], \n",
        "      dtype='<U1')\n"
       ]
      }
     ],
     "prompt_number": 239
    },
    {
     "cell_type": "code",
     "collapsed": false,
     "input": [
      "text_val_matrix = map(lambda xx:ValuesMatrix(list(tools.ngram(xx,[1]))),test_text_df[\"text\"].values)\n",
      "text_idxed_data_matrix = map(lambda xx:xx.build_index_data_matrix()._1d_ngram(2), text_val_matrix)\n",
      "text_idxed_data_matrix"
     ],
     "language": "python",
     "metadata": {},
     "outputs": [
      {
       "metadata": {},
       "output_type": "pyout",
       "prompt_number": 240,
       "text": [
        "[{IndexedDataMatrix} ValuesMatrix([[u'\\u4eca', u'\\u5929'],\n",
        "        [u'\\u5929', u'\\u5929'],\n",
        "        [u'\\u5929', u'\\u6c23'],\n",
        "        [u'\\u6c23', u'\\u5f88'],\n",
        "        [u'\\u5f88', u'\\u597d']], \n",
        "       dtype='<U1'), {IndexedDataMatrix} ValuesMatrix([[u'\\u4eca', u'\\u5929'],\n",
        "        [u'\\u5929', u'\\u5929'],\n",
        "        [u'\\u5929', u'\\u6c23'],\n",
        "        [u'\\u6c23', u'\\u5f88'],\n",
        "        [u'\\u5f88', u'\\u721b']], \n",
        "       dtype='<U1'), {IndexedDataMatrix} ValuesMatrix([[u'\\u6211', u'\\u6068'],\n",
        "        [u'\\u6068', u'\\u5b83']], \n",
        "       dtype='<U1'), {IndexedDataMatrix} ValuesMatrix([[u'\\u5b83', u'\\u6068'],\n",
        "        [u'\\u6068', u'\\u6211']], \n",
        "       dtype='<U1'), {IndexedDataMatrix} ValuesMatrix([[u'\\u6211', u'\\u611b'],\n",
        "        [u'\\u611b', u'\\u5b83']], \n",
        "       dtype='<U1'), {IndexedDataMatrix} ValuesMatrix([[u'\\u5b83', u'\\u611b'],\n",
        "        [u'\\u611b', u'\\u6211']], \n",
        "       dtype='<U1'), {IndexedDataMatrix} ValuesMatrix([[u'\\u4eca', u'\\u5929'],\n",
        "        [u'\\u5929', u'\\u5f88'],\n",
        "        [u'\\u5f88', u'\\u8870']], \n",
        "       dtype='<U1'), {IndexedDataMatrix} ValuesMatrix([[u'\\u65e5', u'\\u5b50'],\n",
        "        [u'\\u5b50', u'\\u4e00'],\n",
        "        [u'\\u4e00', u'\\u5929'],\n",
        "        [u'\\u5929', u'\\u4e00'],\n",
        "        [u'\\u4e00', u'\\u5929'],\n",
        "        [u'\\u5929', u'\\u904e']], \n",
        "       dtype='<U1'), {IndexedDataMatrix} ValuesMatrix([[u'\\u5929', u'\\u5929'],\n",
        "        [u'\\u5929', u'\\u5237'],\n",
        "        [u'\\u5237', u'\\u7259'],\n",
        "        [u'\\u7259', u'\\u6d17'],\n",
        "        [u'\\u6d17', u'\\u81c9']], \n",
        "       dtype='<U1')]"
       ]
      }
     ],
     "prompt_number": 240
    },
    {
     "cell_type": "code",
     "collapsed": false,
     "input": [],
     "language": "python",
     "metadata": {},
     "outputs": [],
     "prompt_number": 240
    },
    {
     "cell_type": "code",
     "collapsed": false,
     "input": [
      "idxed_data_matrix_merger = IndexedDataMatrixMerger(*text_idxed_data_matrix)\n",
      "np.unique(map(type,idxed_data_matrix_merger.index_matrixes ))[0]"
     ],
     "language": "python",
     "metadata": {},
     "outputs": [
      {
       "metadata": {},
       "output_type": "pyout",
       "prompt_number": 241,
       "text": [
        "__main__.IndexMatrix"
       ]
      }
     ],
     "prompt_number": 241
    },
    {
     "cell_type": "code",
     "collapsed": false,
     "input": [],
     "language": "python",
     "metadata": {},
     "outputs": [],
     "prompt_number": 241
    },
    {
     "cell_type": "code",
     "collapsed": false,
     "input": [
      "idxed_data_matrix_merger._rbind_index_matrixes_type"
     ],
     "language": "python",
     "metadata": {},
     "outputs": [
      {
       "metadata": {},
       "output_type": "pyout",
       "prompt_number": 242,
       "text": [
        "__main__.IndexMatrix"
       ]
      }
     ],
     "prompt_number": 242
    },
    {
     "cell_type": "code",
     "collapsed": false,
     "input": [],
     "language": "python",
     "metadata": {},
     "outputs": [],
     "prompt_number": 242
    },
    {
     "cell_type": "code",
     "collapsed": false,
     "input": [
      "np.array(idxed_data_matrix_merger.states_matrixes)"
     ],
     "language": "python",
     "metadata": {},
     "outputs": [
      {
       "metadata": {},
       "output_type": "pyout",
       "prompt_number": 243,
       "text": [
        "array([[ array([u'\\u4eca', u'\\u5929', u'\\u597d', u'\\u5f88', u'\\u6c23'], \n",
        "      dtype='<U1')],\n",
        "       [ array([u'\\u4eca', u'\\u5929', u'\\u5f88', u'\\u6c23', u'\\u721b'], \n",
        "      dtype='<U1')],\n",
        "       [array([u'\\u5b83', u'\\u6068', u'\\u6211'], \n",
        "      dtype='<U1')],\n",
        "       [array([u'\\u5b83', u'\\u6068', u'\\u6211'], \n",
        "      dtype='<U1')],\n",
        "       [array([u'\\u5b83', u'\\u611b', u'\\u6211'], \n",
        "      dtype='<U1')],\n",
        "       [array([u'\\u5b83', u'\\u611b', u'\\u6211'], \n",
        "      dtype='<U1')],\n",
        "       [array([u'\\u4eca', u'\\u5929', u'\\u5f88', u'\\u8870'], \n",
        "      dtype='<U1')],\n",
        "       [ array([u'\\u4e00', u'\\u5929', u'\\u5b50', u'\\u65e5', u'\\u904e'], \n",
        "      dtype='<U1')],\n",
        "       [ array([u'\\u5237', u'\\u5929', u'\\u6d17', u'\\u7259', u'\\u81c9'], \n",
        "      dtype='<U1')]], dtype=object)"
       ]
      }
     ],
     "prompt_number": 243
    },
    {
     "cell_type": "code",
     "collapsed": false,
     "input": [
      "states_merger = StatesMatrixMerger(*idxed_data_matrix_merger.states_matrixes)\n",
      "states_merger.update()"
     ],
     "language": "python",
     "metadata": {},
     "outputs": [
      {
       "metadata": {},
       "output_type": "pyout",
       "prompt_number": 244,
       "text": [
        "[StatesMatrix([[u'\\u4eca', u'\\u5929', u'\\u597d', u'\\u5f88', u'\\u6c23']], \n",
        "       dtype='<U1'),\n",
        " StatesMatrix([[u'\\u4eca', u'\\u5929', u'\\u5f88', u'\\u6c23', u'\\u721b']], \n",
        "       dtype='<U1'),\n",
        " StatesMatrix([[u'\\u5b83', u'\\u6068', u'\\u6211']], \n",
        "       dtype='<U1'),\n",
        " StatesMatrix([[u'\\u5b83', u'\\u6068', u'\\u6211']], \n",
        "       dtype='<U1'),\n",
        " StatesMatrix([[u'\\u5b83', u'\\u611b', u'\\u6211']], \n",
        "       dtype='<U1'),\n",
        " StatesMatrix([[u'\\u5b83', u'\\u611b', u'\\u6211']], \n",
        "       dtype='<U1'),\n",
        " StatesMatrix([[u'\\u4eca', u'\\u5929', u'\\u5f88', u'\\u8870']], \n",
        "       dtype='<U1'),\n",
        " StatesMatrix([[u'\\u4e00', u'\\u5929', u'\\u5b50', u'\\u65e5', u'\\u904e']], \n",
        "       dtype='<U1'),\n",
        " StatesMatrix([[u'\\u5237', u'\\u5929', u'\\u6d17', u'\\u7259', u'\\u81c9']], \n",
        "       dtype='<U1')]"
       ]
      }
     ],
     "prompt_number": 244
    },
    {
     "cell_type": "code",
     "collapsed": false,
     "input": [],
     "language": "python",
     "metadata": {},
     "outputs": [],
     "prompt_number": 244
    },
    {
     "cell_type": "code",
     "collapsed": false,
     "input": [
      "test = idxed_data_matrix_merger.rbind()"
     ],
     "language": "python",
     "metadata": {},
     "outputs": [],
     "prompt_number": 245
    },
    {
     "cell_type": "code",
     "collapsed": false,
     "input": [
      "test.states_matrix"
     ],
     "language": "python",
     "metadata": {},
     "outputs": [
      {
       "metadata": {},
       "output_type": "pyout",
       "prompt_number": 250,
       "text": [
        "StatesMatrix([[u'\\u4e00', u'\\u4eca', u'\\u5237', u'\\u5929', u'\\u597d', u'\\u5b50',\n",
        "        u'\\u5b83', u'\\u5f88', u'\\u6068', u'\\u611b', u'\\u6211', u'\\u65e5',\n",
        "        u'\\u6c23', u'\\u6d17', u'\\u721b', u'\\u7259', u'\\u81c9', u'\\u8870',\n",
        "        u'\\u904e']], \n",
        "      dtype='<U1')"
       ]
      }
     ],
     "prompt_number": 250
    },
    {
     "cell_type": "code",
     "collapsed": false,
     "input": [
      "test.index_matrix\n"
     ],
     "language": "python",
     "metadata": {},
     "outputs": [
      {
       "metadata": {},
       "output_type": "pyout",
       "prompt_number": 251,
       "text": [
        "IndexMatrix([[ 1,  3],\n",
        "       [ 3,  3],\n",
        "       [ 3, 12],\n",
        "       [12,  7],\n",
        "       [ 7,  4],\n",
        "       [ 1,  3],\n",
        "       [ 3,  3],\n",
        "       [ 3, 12],\n",
        "       [12,  7],\n",
        "       [ 7, 14],\n",
        "       [10,  8],\n",
        "       [ 8,  6],\n",
        "       [ 6,  8],\n",
        "       [ 8, 10],\n",
        "       [10,  9],\n",
        "       [ 9,  6],\n",
        "       [ 6,  9],\n",
        "       [ 9, 10],\n",
        "       [ 1,  3],\n",
        "       [ 3,  7],\n",
        "       [ 7, 17],\n",
        "       [11,  5],\n",
        "       [ 5,  0],\n",
        "       [ 0,  3],\n",
        "       [ 3,  0],\n",
        "       [ 0,  3],\n",
        "       [ 3, 18],\n",
        "       [ 3,  3],\n",
        "       [ 3,  2],\n",
        "       [ 2, 15],\n",
        "       [15, 13],\n",
        "       [13, 16]])"
       ]
      }
     ],
     "prompt_number": 251
    },
    {
     "cell_type": "code",
     "collapsed": false,
     "input": [],
     "language": "python",
     "metadata": {},
     "outputs": []
    },
    {
     "cell_type": "code",
     "collapsed": false,
     "input": [],
     "language": "python",
     "metadata": {},
     "outputs": []
    },
    {
     "cell_type": "code",
     "collapsed": false,
     "input": [],
     "language": "python",
     "metadata": {},
     "outputs": []
    },
    {
     "cell_type": "code",
     "collapsed": false,
     "input": [],
     "language": "python",
     "metadata": {},
     "outputs": []
    },
    {
     "cell_type": "code",
     "collapsed": false,
     "input": [],
     "language": "python",
     "metadata": {},
     "outputs": []
    },
    {
     "cell_type": "code",
     "collapsed": false,
     "input": [],
     "language": "python",
     "metadata": {},
     "outputs": []
    },
    {
     "cell_type": "code",
     "collapsed": false,
     "input": [],
     "language": "python",
     "metadata": {},
     "outputs": []
    },
    {
     "cell_type": "code",
     "collapsed": false,
     "input": [
      "idxed_data_matrix_merger."
     ],
     "language": "python",
     "metadata": {},
     "outputs": [],
     "prompt_number": 194
    },
    {
     "cell_type": "code",
     "collapsed": false,
     "input": [
      "map(lambda xx:xx._ncol,idxed_data_matrix_merger.index_matrixes)"
     ],
     "language": "python",
     "metadata": {},
     "outputs": [
      {
       "metadata": {},
       "output_type": "pyout",
       "prompt_number": 195,
       "text": [
        "[2, 2, 2, 2, 2, 2, 2, 2, 2]"
       ]
      }
     ],
     "prompt_number": 195
    },
    {
     "cell_type": "code",
     "collapsed": false,
     "input": [
      "np.concatenate(tuple(idxed_data_matrix_merger.index_matrixes),axis=0)"
     ],
     "language": "python",
     "metadata": {},
     "outputs": [
      {
       "metadata": {},
       "output_type": "pyout",
       "prompt_number": 196,
       "text": [
        "array([[ 1,  3],\n",
        "       [ 3,  3],\n",
        "       [ 3, 12],\n",
        "       [12,  7],\n",
        "       [ 7,  4],\n",
        "       [ 1,  3],\n",
        "       [ 3,  3],\n",
        "       [ 3, 12],\n",
        "       [12,  7],\n",
        "       [ 7, 14],\n",
        "       [10,  8],\n",
        "       [ 8,  6],\n",
        "       [ 6,  8],\n",
        "       [ 8, 10],\n",
        "       [10,  9],\n",
        "       [ 9,  6],\n",
        "       [ 6,  9],\n",
        "       [ 9, 10],\n",
        "       [ 1,  3],\n",
        "       [ 3,  7],\n",
        "       [ 7, 17],\n",
        "       [11,  5],\n",
        "       [ 5,  0],\n",
        "       [ 0,  3],\n",
        "       [ 3,  0],\n",
        "       [ 0,  3],\n",
        "       [ 3, 18],\n",
        "       [ 3,  3],\n",
        "       [ 3,  2],\n",
        "       [ 2, 15],\n",
        "       [15, 13],\n",
        "       [13, 16]])"
       ]
      }
     ],
     "prompt_number": 196
    },
    {
     "cell_type": "code",
     "collapsed": false,
     "input": [],
     "language": "python",
     "metadata": {},
     "outputs": [],
     "prompt_number": 137
    },
    {
     "cell_type": "code",
     "collapsed": false,
     "input": [
      "print id(states_merger.merged_states_matrix)\n",
      "print states_merger"
     ],
     "language": "python",
     "metadata": {},
     "outputs": [
      {
       "output_type": "stream",
       "stream": "stdout",
       "text": [
        "67038696\n",
        "[StatesMatrix([[u'\\u4eca', u'\\u5929', u'\\u597d', u'\\u5f88', u'\\u6c23']], \n",
        "      dtype='<U1'), StatesMatrix([[u'\\u4eca', u'\\u5929', u'\\u5f88', u'\\u6c23', u'\\u721b']], \n",
        "      dtype='<U1'), StatesMatrix([[u'\\u5b83', u'\\u6068', u'\\u6211']], \n",
        "      dtype='<U1'), StatesMatrix([[u'\\u5b83', u'\\u6068', u'\\u6211']], \n",
        "      dtype='<U1'), StatesMatrix([[u'\\u5b83', u'\\u611b', u'\\u6211']], \n",
        "      dtype='<U1'), StatesMatrix([[u'\\u5b83', u'\\u611b', u'\\u6211']], \n",
        "      dtype='<U1'), StatesMatrix([[u'\\u4eca', u'\\u5929', u'\\u5f88', u'\\u8870']], \n",
        "      dtype='<U1'), StatesMatrix([[u'\\u4e00', u'\\u5929', u'\\u5b50', u'\\u65e5', u'\\u904e']], \n",
        "      dtype='<U1'), StatesMatrix([[u'\\u5237', u'\\u5929', u'\\u6d17', u'\\u7259', u'\\u81c9']], \n",
        "      dtype='<U1')]\n"
       ]
      }
     ],
     "prompt_number": 166
    },
    {
     "cell_type": "code",
     "collapsed": false,
     "input": [
      "np.unique(map(id,idxed_data_matrix_merger.states_matrixes))"
     ],
     "language": "python",
     "metadata": {},
     "outputs": [
      {
       "metadata": {},
       "output_type": "pyout",
       "prompt_number": 169,
       "text": [
        "array([67037496])"
       ]
      }
     ],
     "prompt_number": 169
    },
    {
     "cell_type": "code",
     "collapsed": false,
     "input": [
      "np.unique(map(id,range(10)))"
     ],
     "language": "python",
     "metadata": {},
     "outputs": [
      {
       "metadata": {},
       "output_type": "pyout",
       "prompt_number": 170,
       "text": [
        "array([39483192, 39483216, 39483240, 39483264, 39483288, 39483312,\n",
        "       39483336, 39483360, 39483384, 39483408])"
       ]
      }
     ],
     "prompt_number": 170
    },
    {
     "cell_type": "code",
     "collapsed": false,
     "input": [],
     "language": "python",
     "metadata": {},
     "outputs": []
    },
    {
     "cell_type": "code",
     "collapsed": false,
     "input": [
      "idx_matrixes = map(lambda xx:xx.index_matrix,text_idxed_data_matrix)\n",
      "states_matrixes = map(lambda xx:xx.states_matrix,text_idxed_data_matrix)\n",
      "print idx_matrixes\n",
      "print states_matrixes"
     ],
     "language": "python",
     "metadata": {},
     "outputs": [
      {
       "output_type": "stream",
       "stream": "stdout",
       "text": [
        "[IndexMatrix([[ 1,  3],\n",
        "       [ 3,  3],\n",
        "       [ 3, 12],\n",
        "       [12,  7],\n",
        "       [ 7,  4]]), IndexMatrix([[ 1,  3],\n",
        "       [ 3,  3],\n",
        "       [ 3, 12],\n",
        "       [12,  7],\n",
        "       [ 7, 14]]), IndexMatrix([[10,  8],\n",
        "       [ 8,  6]]), IndexMatrix([[ 6,  8],\n",
        "       [ 8, 10]]), IndexMatrix([[10,  9],\n",
        "       [ 9,  6]]), IndexMatrix([[ 6,  9],\n",
        "       [ 9, 10]]), IndexMatrix([[ 1,  3],\n",
        "       [ 3,  7],\n",
        "       [ 7, 17]]), IndexMatrix([[11,  5],\n",
        "       [ 5,  0],\n",
        "       [ 0,  3],\n",
        "       [ 3,  0],\n",
        "       [ 0,  3],\n",
        "       [ 3, 18]]), IndexMatrix([[ 3,  3],\n",
        "       [ 3,  2],\n",
        "       [ 2, 15],\n",
        "       [15, 13],\n",
        "       [13, 16]])]\n",
        "[StatesMatrix([[u'\\u4e00', u'\\u4eca', u'\\u5237', u'\\u5929', u'\\u597d', u'\\u5b50',\n",
        "        u'\\u5b83', u'\\u5f88', u'\\u6068', u'\\u611b', u'\\u6211', u'\\u65e5',\n",
        "        u'\\u6c23', u'\\u6d17', u'\\u721b', u'\\u7259', u'\\u81c9', u'\\u8870',\n",
        "        u'\\u904e']], \n",
        "      dtype='<U1'), StatesMatrix([[u'\\u4e00', u'\\u4eca', u'\\u5237', u'\\u5929', u'\\u597d', u'\\u5b50',\n",
        "        u'\\u5b83', u'\\u5f88', u'\\u6068', u'\\u611b', u'\\u6211', u'\\u65e5',\n",
        "        u'\\u6c23', u'\\u6d17', u'\\u721b', u'\\u7259', u'\\u81c9', u'\\u8870',\n",
        "        u'\\u904e']], \n",
        "      dtype='<U1'), StatesMatrix([[u'\\u4e00', u'\\u4eca', u'\\u5237', u'\\u5929', u'\\u597d', u'\\u5b50',\n",
        "        u'\\u5b83', u'\\u5f88', u'\\u6068', u'\\u611b', u'\\u6211', u'\\u65e5',\n",
        "        u'\\u6c23', u'\\u6d17', u'\\u721b', u'\\u7259', u'\\u81c9', u'\\u8870',\n",
        "        u'\\u904e']], \n",
        "      dtype='<U1'), StatesMatrix([[u'\\u4e00', u'\\u4eca', u'\\u5237', u'\\u5929', u'\\u597d', u'\\u5b50',\n",
        "        u'\\u5b83', u'\\u5f88', u'\\u6068', u'\\u611b', u'\\u6211', u'\\u65e5',\n",
        "        u'\\u6c23', u'\\u6d17', u'\\u721b', u'\\u7259', u'\\u81c9', u'\\u8870',\n",
        "        u'\\u904e']], \n",
        "      dtype='<U1'), StatesMatrix([[u'\\u4e00', u'\\u4eca', u'\\u5237', u'\\u5929', u'\\u597d', u'\\u5b50',\n",
        "        u'\\u5b83', u'\\u5f88', u'\\u6068', u'\\u611b', u'\\u6211', u'\\u65e5',\n",
        "        u'\\u6c23', u'\\u6d17', u'\\u721b', u'\\u7259', u'\\u81c9', u'\\u8870',\n",
        "        u'\\u904e']], \n",
        "      dtype='<U1'), StatesMatrix([[u'\\u4e00', u'\\u4eca', u'\\u5237', u'\\u5929', u'\\u597d', u'\\u5b50',\n",
        "        u'\\u5b83', u'\\u5f88', u'\\u6068', u'\\u611b', u'\\u6211', u'\\u65e5',\n",
        "        u'\\u6c23', u'\\u6d17', u'\\u721b', u'\\u7259', u'\\u81c9', u'\\u8870',\n",
        "        u'\\u904e']], \n",
        "      dtype='<U1'), StatesMatrix([[u'\\u4e00', u'\\u4eca', u'\\u5237', u'\\u5929', u'\\u597d', u'\\u5b50',\n",
        "        u'\\u5b83', u'\\u5f88', u'\\u6068', u'\\u611b', u'\\u6211', u'\\u65e5',\n",
        "        u'\\u6c23', u'\\u6d17', u'\\u721b', u'\\u7259', u'\\u81c9', u'\\u8870',\n",
        "        u'\\u904e']], \n",
        "      dtype='<U1'), StatesMatrix([[u'\\u4e00', u'\\u4eca', u'\\u5237', u'\\u5929', u'\\u597d', u'\\u5b50',\n",
        "        u'\\u5b83', u'\\u5f88', u'\\u6068', u'\\u611b', u'\\u6211', u'\\u65e5',\n",
        "        u'\\u6c23', u'\\u6d17', u'\\u721b', u'\\u7259', u'\\u81c9', u'\\u8870',\n",
        "        u'\\u904e']], \n",
        "      dtype='<U1'), StatesMatrix([[u'\\u4e00', u'\\u4eca', u'\\u5237', u'\\u5929', u'\\u597d', u'\\u5b50',\n",
        "        u'\\u5b83', u'\\u5f88', u'\\u6068', u'\\u611b', u'\\u6211', u'\\u65e5',\n",
        "        u'\\u6c23', u'\\u6d17', u'\\u721b', u'\\u7259', u'\\u81c9', u'\\u8870',\n",
        "        u'\\u904e']], \n",
        "      dtype='<U1')]\n"
       ]
      }
     ],
     "prompt_number": 121
    },
    {
     "cell_type": "code",
     "collapsed": false,
     "input": [
      "StatesMatrixMerger(*states_matrixes).update()"
     ],
     "language": "python",
     "metadata": {},
     "outputs": [
      {
       "metadata": {},
       "output_type": "pyout",
       "prompt_number": 122,
       "text": [
        "[StatesMatrix([[u'\\u4e00', u'\\u4eca', u'\\u5237', u'\\u5929', u'\\u597d', u'\\u5b50',\n",
        "         u'\\u5b83', u'\\u5f88', u'\\u6068', u'\\u611b', u'\\u6211', u'\\u65e5',\n",
        "         u'\\u6c23', u'\\u6d17', u'\\u721b', u'\\u7259', u'\\u81c9', u'\\u8870',\n",
        "         u'\\u904e']], \n",
        "       dtype='<U1'),\n",
        " StatesMatrix([[u'\\u4e00', u'\\u4eca', u'\\u5237', u'\\u5929', u'\\u597d', u'\\u5b50',\n",
        "         u'\\u5b83', u'\\u5f88', u'\\u6068', u'\\u611b', u'\\u6211', u'\\u65e5',\n",
        "         u'\\u6c23', u'\\u6d17', u'\\u721b', u'\\u7259', u'\\u81c9', u'\\u8870',\n",
        "         u'\\u904e']], \n",
        "       dtype='<U1'),\n",
        " StatesMatrix([[u'\\u4e00', u'\\u4eca', u'\\u5237', u'\\u5929', u'\\u597d', u'\\u5b50',\n",
        "         u'\\u5b83', u'\\u5f88', u'\\u6068', u'\\u611b', u'\\u6211', u'\\u65e5',\n",
        "         u'\\u6c23', u'\\u6d17', u'\\u721b', u'\\u7259', u'\\u81c9', u'\\u8870',\n",
        "         u'\\u904e']], \n",
        "       dtype='<U1'),\n",
        " StatesMatrix([[u'\\u4e00', u'\\u4eca', u'\\u5237', u'\\u5929', u'\\u597d', u'\\u5b50',\n",
        "         u'\\u5b83', u'\\u5f88', u'\\u6068', u'\\u611b', u'\\u6211', u'\\u65e5',\n",
        "         u'\\u6c23', u'\\u6d17', u'\\u721b', u'\\u7259', u'\\u81c9', u'\\u8870',\n",
        "         u'\\u904e']], \n",
        "       dtype='<U1'),\n",
        " StatesMatrix([[u'\\u4e00', u'\\u4eca', u'\\u5237', u'\\u5929', u'\\u597d', u'\\u5b50',\n",
        "         u'\\u5b83', u'\\u5f88', u'\\u6068', u'\\u611b', u'\\u6211', u'\\u65e5',\n",
        "         u'\\u6c23', u'\\u6d17', u'\\u721b', u'\\u7259', u'\\u81c9', u'\\u8870',\n",
        "         u'\\u904e']], \n",
        "       dtype='<U1'),\n",
        " StatesMatrix([[u'\\u4e00', u'\\u4eca', u'\\u5237', u'\\u5929', u'\\u597d', u'\\u5b50',\n",
        "         u'\\u5b83', u'\\u5f88', u'\\u6068', u'\\u611b', u'\\u6211', u'\\u65e5',\n",
        "         u'\\u6c23', u'\\u6d17', u'\\u721b', u'\\u7259', u'\\u81c9', u'\\u8870',\n",
        "         u'\\u904e']], \n",
        "       dtype='<U1'),\n",
        " StatesMatrix([[u'\\u4e00', u'\\u4eca', u'\\u5237', u'\\u5929', u'\\u597d', u'\\u5b50',\n",
        "         u'\\u5b83', u'\\u5f88', u'\\u6068', u'\\u611b', u'\\u6211', u'\\u65e5',\n",
        "         u'\\u6c23', u'\\u6d17', u'\\u721b', u'\\u7259', u'\\u81c9', u'\\u8870',\n",
        "         u'\\u904e']], \n",
        "       dtype='<U1'),\n",
        " StatesMatrix([[u'\\u4e00', u'\\u4eca', u'\\u5237', u'\\u5929', u'\\u597d', u'\\u5b50',\n",
        "         u'\\u5b83', u'\\u5f88', u'\\u6068', u'\\u611b', u'\\u6211', u'\\u65e5',\n",
        "         u'\\u6c23', u'\\u6d17', u'\\u721b', u'\\u7259', u'\\u81c9', u'\\u8870',\n",
        "         u'\\u904e']], \n",
        "       dtype='<U1'),\n",
        " StatesMatrix([[u'\\u4e00', u'\\u4eca', u'\\u5237', u'\\u5929', u'\\u597d', u'\\u5b50',\n",
        "         u'\\u5b83', u'\\u5f88', u'\\u6068', u'\\u611b', u'\\u6211', u'\\u65e5',\n",
        "         u'\\u6c23', u'\\u6d17', u'\\u721b', u'\\u7259', u'\\u81c9', u'\\u8870',\n",
        "         u'\\u904e']], \n",
        "       dtype='<U1')]"
       ]
      }
     ],
     "prompt_number": 122
    },
    {
     "cell_type": "code",
     "collapsed": false,
     "input": [
      "idx_matrixes2 = map(lambda xx:xx.index_matrix,text_idxed_data_matrix)\n",
      "print idx_matrixes2\n",
      "map(lambda xx:xx._data,text_idxed_data_matrix)"
     ],
     "language": "python",
     "metadata": {},
     "outputs": [
      {
       "output_type": "stream",
       "stream": "stdout",
       "text": [
        "[IndexMatrix([[ 1,  3],\n",
        "       [ 3,  3],\n",
        "       [ 3, 12],\n",
        "       [12,  7],\n",
        "       [ 7,  4]]), IndexMatrix([[ 1,  3],\n",
        "       [ 3,  3],\n",
        "       [ 3, 12],\n",
        "       [12,  7],\n",
        "       [ 7, 14]]), IndexMatrix([[10,  8],\n",
        "       [ 8,  6]]), IndexMatrix([[ 6,  8],\n",
        "       [ 8, 10]]), IndexMatrix([[10,  9],\n",
        "       [ 9,  6]]), IndexMatrix([[ 6,  9],\n",
        "       [ 9, 10]]), IndexMatrix([[ 1,  3],\n",
        "       [ 3,  7],\n",
        "       [ 7, 17]]), IndexMatrix([[11,  5],\n",
        "       [ 5,  0],\n",
        "       [ 0,  3],\n",
        "       [ 3,  0],\n",
        "       [ 0,  3],\n",
        "       [ 3, 18]]), IndexMatrix([[ 3,  3],\n",
        "       [ 3,  2],\n",
        "       [ 2, 15],\n",
        "       [15, 13],\n",
        "       [13, 16]])]\n"
       ]
      },
      {
       "metadata": {},
       "output_type": "pyout",
       "prompt_number": 123,
       "text": [
        "[ValuesMatrix([[u'\\u4eca', u'\\u5929'],\n",
        "        [u'\\u5929', u'\\u5929'],\n",
        "        [u'\\u5929', u'\\u6c23'],\n",
        "        [u'\\u6c23', u'\\u5f88'],\n",
        "        [u'\\u5f88', u'\\u597d']], \n",
        "       dtype='<U1'), ValuesMatrix([[u'\\u4eca', u'\\u5929'],\n",
        "        [u'\\u5929', u'\\u5929'],\n",
        "        [u'\\u5929', u'\\u6c23'],\n",
        "        [u'\\u6c23', u'\\u5f88'],\n",
        "        [u'\\u5f88', u'\\u721b']], \n",
        "       dtype='<U1'), ValuesMatrix([[u'\\u6211', u'\\u6068'],\n",
        "        [u'\\u6068', u'\\u5b83']], \n",
        "       dtype='<U1'), ValuesMatrix([[u'\\u5b83', u'\\u6068'],\n",
        "        [u'\\u6068', u'\\u6211']], \n",
        "       dtype='<U1'), ValuesMatrix([[u'\\u6211', u'\\u611b'],\n",
        "        [u'\\u611b', u'\\u5b83']], \n",
        "       dtype='<U1'), ValuesMatrix([[u'\\u5b83', u'\\u611b'],\n",
        "        [u'\\u611b', u'\\u6211']], \n",
        "       dtype='<U1'), ValuesMatrix([[u'\\u4eca', u'\\u5929'],\n",
        "        [u'\\u5929', u'\\u5f88'],\n",
        "        [u'\\u5f88', u'\\u8870']], \n",
        "       dtype='<U1'), ValuesMatrix([[u'\\u65e5', u'\\u5b50'],\n",
        "        [u'\\u5b50', u'\\u4e00'],\n",
        "        [u'\\u4e00', u'\\u5929'],\n",
        "        [u'\\u5929', u'\\u4e00'],\n",
        "        [u'\\u4e00', u'\\u5929'],\n",
        "        [u'\\u5929', u'\\u904e']], \n",
        "       dtype='<U1'), ValuesMatrix([[u'\\u5929', u'\\u5929'],\n",
        "        [u'\\u5929', u'\\u5237'],\n",
        "        [u'\\u5237', u'\\u7259'],\n",
        "        [u'\\u7259', u'\\u6d17'],\n",
        "        [u'\\u6d17', u'\\u81c9']], \n",
        "       dtype='<U1')]"
       ]
      }
     ],
     "prompt_number": 123
    },
    {
     "cell_type": "code",
     "collapsed": false,
     "input": [
      "print idx_matrixes"
     ],
     "language": "python",
     "metadata": {},
     "outputs": [
      {
       "output_type": "stream",
       "stream": "stdout",
       "text": [
        "[IndexMatrix([[ 1,  3],\n",
        "       [ 3,  3],\n",
        "       [ 3, 12],\n",
        "       [12,  7],\n",
        "       [ 7,  4]]), IndexMatrix([[ 1,  3],\n",
        "       [ 3,  3],\n",
        "       [ 3, 12],\n",
        "       [12,  7],\n",
        "       [ 7, 14]]), IndexMatrix([[10,  8],\n",
        "       [ 8,  6]]), IndexMatrix([[ 6,  8],\n",
        "       [ 8, 10]]), IndexMatrix([[10,  9],\n",
        "       [ 9,  6]]), IndexMatrix([[ 6,  9],\n",
        "       [ 9, 10]]), IndexMatrix([[ 1,  3],\n",
        "       [ 3,  7],\n",
        "       [ 7, 17]]), IndexMatrix([[11,  5],\n",
        "       [ 5,  0],\n",
        "       [ 0,  3],\n",
        "       [ 3,  0],\n",
        "       [ 0,  3],\n",
        "       [ 3, 18]]), IndexMatrix([[ 3,  3],\n",
        "       [ 3,  2],\n",
        "       [ 2, 15],\n",
        "       [15, 13],\n",
        "       [13, 16]])]\n"
       ]
      }
     ],
     "prompt_number": 124
    },
    {
     "cell_type": "code",
     "collapsed": false,
     "input": [],
     "language": "python",
     "metadata": {},
     "outputs": [],
     "prompt_number": 124
    },
    {
     "cell_type": "code",
     "collapsed": false,
     "input": [
      "idx_mat = IndexMatrix(np.concatenate(tuple(idx_matrixes),axis=0))\n",
      "idx_mat"
     ],
     "language": "python",
     "metadata": {},
     "outputs": [
      {
       "metadata": {},
       "output_type": "pyout",
       "prompt_number": 125,
       "text": [
        "IndexMatrix([[ 1,  3],\n",
        "       [ 3,  3],\n",
        "       [ 3, 12],\n",
        "       [12,  7],\n",
        "       [ 7,  4],\n",
        "       [ 1,  3],\n",
        "       [ 3,  3],\n",
        "       [ 3, 12],\n",
        "       [12,  7],\n",
        "       [ 7, 14],\n",
        "       [10,  8],\n",
        "       [ 8,  6],\n",
        "       [ 6,  8],\n",
        "       [ 8, 10],\n",
        "       [10,  9],\n",
        "       [ 9,  6],\n",
        "       [ 6,  9],\n",
        "       [ 9, 10],\n",
        "       [ 1,  3],\n",
        "       [ 3,  7],\n",
        "       [ 7, 17],\n",
        "       [11,  5],\n",
        "       [ 5,  0],\n",
        "       [ 0,  3],\n",
        "       [ 3,  0],\n",
        "       [ 0,  3],\n",
        "       [ 3, 18],\n",
        "       [ 3,  3],\n",
        "       [ 3,  2],\n",
        "       [ 2, 15],\n",
        "       [15, 13],\n",
        "       [13, 16]])"
       ]
      }
     ],
     "prompt_number": 125
    },
    {
     "cell_type": "code",
     "collapsed": false,
     "input": [
      "s,i = idx_mat.build_row_struct_index()\n",
      "s,i"
     ],
     "language": "python",
     "metadata": {},
     "outputs": [
      {
       "metadata": {},
       "output_type": "pyout",
       "prompt_number": 126,
       "text": [
        "(StatesMatrix([[ 0,  3],\n",
        "        [ 1,  3],\n",
        "        [ 2, 15],\n",
        "        [ 3,  0],\n",
        "        [ 3,  2],\n",
        "        [ 3,  3],\n",
        "        [ 3,  7],\n",
        "        [ 3, 12],\n",
        "        [ 3, 18],\n",
        "        [ 5,  0],\n",
        "        [ 6,  8],\n",
        "        [ 6,  9],\n",
        "        [ 7,  4],\n",
        "        [ 7, 14],\n",
        "        [ 7, 17],\n",
        "        [ 8,  6],\n",
        "        [ 8, 10],\n",
        "        [ 9,  6],\n",
        "        [ 9, 10],\n",
        "        [10,  8],\n",
        "        [10,  9],\n",
        "        [11,  5],\n",
        "        [12,  7],\n",
        "        [13, 16],\n",
        "        [15, 13]]),\n",
        " IndexMatrix([[ 1,  5,  7, 22, 12,  1,  5,  7, 22, 13, 19, 15, 10, 16, 20, 17, 11,\n",
        "         18,  1,  6, 14, 21,  9,  0,  3,  0,  8,  5,  4,  2, 24, 23]]))"
       ]
      }
     ],
     "prompt_number": 126
    },
    {
     "cell_type": "code",
     "collapsed": false,
     "input": [],
     "language": "python",
     "metadata": {},
     "outputs": [],
     "prompt_number": 67
    },
    {
     "cell_type": "code",
     "collapsed": false,
     "input": [
      "i.T"
     ],
     "language": "python",
     "metadata": {},
     "outputs": [
      {
       "metadata": {},
       "output_type": "pyout",
       "prompt_number": 71,
       "text": [
        "IndexMatrix([[ 1],\n",
        "       [ 5],\n",
        "       [ 7],\n",
        "       [22],\n",
        "       [12],\n",
        "       [ 1],\n",
        "       [ 5],\n",
        "       [ 7],\n",
        "       [22],\n",
        "       [13],\n",
        "       [19],\n",
        "       [15],\n",
        "       [10],\n",
        "       [16],\n",
        "       [20],\n",
        "       [17],\n",
        "       [11],\n",
        "       [18],\n",
        "       [ 1],\n",
        "       [ 6],\n",
        "       [14],\n",
        "       [21],\n",
        "       [ 9],\n",
        "       [ 0],\n",
        "       [ 3],\n",
        "       [ 0],\n",
        "       [ 8],\n",
        "       [ 5],\n",
        "       [ 4],\n",
        "       [ 2],\n",
        "       [24],\n",
        "       [23]])"
       ]
      }
     ],
     "prompt_number": 71
    },
    {
     "cell_type": "code",
     "collapsed": false,
     "input": [],
     "language": "python",
     "metadata": {},
     "outputs": [],
     "prompt_number": 67
    },
    {
     "cell_type": "code",
     "collapsed": false,
     "input": [],
     "language": "python",
     "metadata": {},
     "outputs": []
    }
   ],
   "metadata": {}
  }
 ]
}