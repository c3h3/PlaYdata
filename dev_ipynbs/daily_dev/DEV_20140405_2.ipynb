{
 "metadata": {
  "name": "",
  "signature": "sha256:d5dff3ca9a993afe1f0c45d9e6a2605798c06a6111843adb541971f4eaf62311"
 },
 "nbformat": 3,
 "nbformat_minor": 0,
 "worksheets": [
  {
   "cells": [
    {
     "cell_type": "code",
     "collapsed": false,
     "input": [
      "import PlaYnlp.tokenizer as tkr \n",
      "import PlaYnlp.vectorizer as vcr\n",
      "from PlaYnlp import dataio\n",
      "\n",
      "from PlaYnlp.sparse import L0_norm_col_summarizer as L0_col_sum\n",
      "from PlaYnlp.sparse import L1_norm_col_summarizer as L1_col_sum\n",
      "import numpy as np\n",
      "import scipy as sp"
     ],
     "language": "python",
     "metadata": {},
     "outputs": [],
     "prompt_number": 1
    },
    {
     "cell_type": "code",
     "collapsed": false,
     "input": [
      "import pandas as pd \n",
      "test_text_df = pd.DataFrame([u\"\u4eca\u5929\u5929\u6c23\u5f88\u597d\",u\"\u4eca\u5929\u5929\u6c23\u5f88\u721b\",u\"\u6211\u6068\u5b83\",u\"\u5b83\u6068\u6211\",u\"\u6211\u611b\u5b83\",u\"\u5b83\u611b\u6211\",u\"\u4eca\u5929\u5f88\u8870\",u\"\u65e5\u5b50\u4e00\u5929\u4e00\u5929\u904e\",u\"\u5929\u5929\u5237\u7259\u6d17\u81c9\"])\n",
      "test_text_df.columns = [\"text\"]\n",
      "test_text_df = test_text_df.reset_index()\n",
      "test_text_df[\"idx\"] = map(lambda xx :u\"%05d\" % xx,test_text_df[\"index\"])\n",
      "test_text_df"
     ],
     "language": "python",
     "metadata": {},
     "outputs": [
      {
       "html": [
        "<div style=\"max-height:1000px;max-width:1500px;overflow:auto;\">\n",
        "<table border=\"1\" class=\"dataframe\">\n",
        "  <thead>\n",
        "    <tr style=\"text-align: right;\">\n",
        "      <th></th>\n",
        "      <th>index</th>\n",
        "      <th>text</th>\n",
        "      <th>idx</th>\n",
        "    </tr>\n",
        "  </thead>\n",
        "  <tbody>\n",
        "    <tr>\n",
        "      <th>0</th>\n",
        "      <td> 0</td>\n",
        "      <td>  \u4eca\u5929\u5929\u6c23\u5f88\u597d</td>\n",
        "      <td> 00000</td>\n",
        "    </tr>\n",
        "    <tr>\n",
        "      <th>1</th>\n",
        "      <td> 1</td>\n",
        "      <td>  \u4eca\u5929\u5929\u6c23\u5f88\u721b</td>\n",
        "      <td> 00001</td>\n",
        "    </tr>\n",
        "    <tr>\n",
        "      <th>2</th>\n",
        "      <td> 2</td>\n",
        "      <td>     \u6211\u6068\u5b83</td>\n",
        "      <td> 00002</td>\n",
        "    </tr>\n",
        "    <tr>\n",
        "      <th>3</th>\n",
        "      <td> 3</td>\n",
        "      <td>     \u5b83\u6068\u6211</td>\n",
        "      <td> 00003</td>\n",
        "    </tr>\n",
        "    <tr>\n",
        "      <th>4</th>\n",
        "      <td> 4</td>\n",
        "      <td>     \u6211\u611b\u5b83</td>\n",
        "      <td> 00004</td>\n",
        "    </tr>\n",
        "    <tr>\n",
        "      <th>5</th>\n",
        "      <td> 5</td>\n",
        "      <td>     \u5b83\u611b\u6211</td>\n",
        "      <td> 00005</td>\n",
        "    </tr>\n",
        "    <tr>\n",
        "      <th>6</th>\n",
        "      <td> 6</td>\n",
        "      <td>    \u4eca\u5929\u5f88\u8870</td>\n",
        "      <td> 00006</td>\n",
        "    </tr>\n",
        "    <tr>\n",
        "      <th>7</th>\n",
        "      <td> 7</td>\n",
        "      <td> \u65e5\u5b50\u4e00\u5929\u4e00\u5929\u904e</td>\n",
        "      <td> 00007</td>\n",
        "    </tr>\n",
        "    <tr>\n",
        "      <th>8</th>\n",
        "      <td> 8</td>\n",
        "      <td>  \u5929\u5929\u5237\u7259\u6d17\u81c9</td>\n",
        "      <td> 00008</td>\n",
        "    </tr>\n",
        "  </tbody>\n",
        "</table>\n",
        "<p>9 rows \u00d7 3 columns</p>\n",
        "</div>"
       ],
       "metadata": {},
       "output_type": "pyout",
       "prompt_number": 2,
       "text": [
        "   index     text    idx\n",
        "0      0   \u4eca\u5929\u5929\u6c23\u5f88\u597d  00000\n",
        "1      1   \u4eca\u5929\u5929\u6c23\u5f88\u721b  00001\n",
        "2      2      \u6211\u6068\u5b83  00002\n",
        "3      3      \u5b83\u6068\u6211  00003\n",
        "4      4      \u6211\u611b\u5b83  00004\n",
        "5      5      \u5b83\u611b\u6211  00005\n",
        "6      6     \u4eca\u5929\u5f88\u8870  00006\n",
        "7      7  \u65e5\u5b50\u4e00\u5929\u4e00\u5929\u904e  00007\n",
        "8      8   \u5929\u5929\u5237\u7259\u6d17\u81c9  00008\n",
        "\n",
        "[9 rows x 3 columns]"
       ]
      }
     ],
     "prompt_number": 2
    },
    {
     "cell_type": "code",
     "collapsed": false,
     "input": [
      "import numpy as np\n",
      "import inspect\n",
      "import types\n",
      "import PlaYnlp.tokenizer as tkr \n",
      "from PlaYdata.util.args_tools import check_type_of_args\n",
      "import PlaYdata.util.array_tools as tools\n"
     ],
     "language": "python",
     "metadata": {},
     "outputs": [],
     "prompt_number": 85
    },
    {
     "cell_type": "code",
     "collapsed": false,
     "input": [
      "class ValuesArray(np.ndarray):\n",
      "    def __new__(cls, data, dtype=None):\n",
      "        if isinstance(data, cls):\n",
      "            return data\n",
      "        else:\n",
      "            values_array = np.array(data, dtype=dtype).view(cls)\n",
      "            return values_array\n",
      "        \n",
      "    def decompose_into_states_ptrs(self):\n",
      "        u,i = np.unique(self, return_inverse=True)\n",
      "        states_array = StatesArray(data=u, eval_cls=type(self))\n",
      "        ptr_array = PtrArray(data=i)\n",
      "        return states_array, ptr_array\n",
      "    \n",
      "    def to_states_data_array(self):\n",
      "        return StatesDataArray(*self.decompose_into_states_ptrs())\n",
      "    \n",
      "    \n",
      "class StatesArray(np.ndarray):\n",
      "    def __new__(cls, data, dtype=None, eval_cls=np.ndarray):\n",
      "        if isinstance(data, cls):\n",
      "            data._eval_cls = eval_cls\n",
      "            return data\n",
      "        else:\n",
      "            states_array = np.unique(np.array(data, dtype=dtype)).view(cls)\n",
      "            states_array._eval_cls = eval_cls\n",
      "            return states_array\n",
      "    \n",
      "    def _eval(self, ptr_array):\n",
      "        assert isinstance(ptr_array, PtrArray)\n",
      "        return self[ptr_array].view(self._eval_cls).copy()\n",
      "        \n",
      "    \n",
      "\n",
      "class PtrArray(np.ndarray):\n",
      "    def __new__(cls, data, dtype=None):\n",
      "        if isinstance(data, cls):\n",
      "            return data\n",
      "        else:\n",
      "            data_array = np.array(data, dtype).view(cls)\n",
      "            return data_array\n",
      "    \n",
      "    def transform(self, ptrs_transform):\n",
      "        return type(self)(data = ptrs_transform[self])\n",
      "\n",
      "    def ngram(self, n):\n",
      "        ngram_results = list(tkr.ngram(self,n))\n",
      "        return type(self)(data=ngram_results, eval_cls=self._eval_cls)\n",
      "    \n",
      "    @property\n",
      "    def T(self):\n",
      "        new_np_data = np.array(self).T\n",
      "        return type(self)(data=new_np_data)\n",
      "        \n",
      "    def decompose_into_states_ptrs(self):\n",
      "        u,i = np.unique(self, return_inverse=True)\n",
      "        states_array = StatesArray(data=u, eval_cls=type(self))\n",
      "        ptr_array = PtrArray(data=i)\n",
      "        return states_array, ptr_array\n",
      "\n",
      "    \n",
      "    @property\n",
      "    def _dtype(self):\n",
      "        return self._states_array.dtype\n",
      "    \n",
      "    \n",
      "    \n",
      "class StatesDictionary(object):\n",
      "    def __init__(self, states_array):\n",
      "        assert isinstance(states_array, StatesArray)\n",
      "        self._states_array = states_array\n",
      "        self._referred_by = []\n",
      "        \n",
      "        \n",
      "    def __repr__(self):\n",
      "        return u\"{StatesDictionary} \" + self._states_array.__repr__()\n",
      "    \n",
      "    def _eval(self, ptr_array):\n",
      "        assert isinstance(ptr_array, PtrArray)\n",
      "        return self._states_array._eval(ptr_array)\n",
      "    \n",
      "    \n",
      "    def update_states_array(self, new_states_array, ptrs_transform=None):\n",
      "        self._states_array = new_states_array\n",
      "        for one_states_data_array in self._referred_by:\n",
      "            if ptrs_transform != None:\n",
      "                one_states_data_array._ptr_array = one_states_data_array._ptr_array.transform(ptrs_transform)\n",
      "    \n",
      "    def replace_states_dict(self, new_states_dict, ptrs_transform=None):\n",
      "        \n",
      "        assert isinstance(new_states_dict,type(self))\n",
      "        \n",
      "        for one_states_data_array in self._referred_by:\n",
      "            self._referred_by.remove(one_states_data_array)\n",
      "            new_states_dict._referred_by.append(one_states_data_array)\n",
      "            one_states_data_array._states_dict = new_states_dict\n",
      "            if ptrs_transform != None:\n",
      "                one_states_data_array._ptr_array = one_states_data_array._ptr_array.transform(ptrs_transform)\n",
      "    \n",
      "    \n",
      "    @property\n",
      "    def dtype(self):\n",
      "        return self._states_array.dtype\n",
      "    \n",
      "    @property\n",
      "    def _eval_cls(self):\n",
      "        return self._states_array._eval_cls\n",
      "    \n",
      "    \n",
      "class StatesDataArray(object):\n",
      "        \n",
      "    def __init__(self, states_array, ptr_array,\n",
      "                 _ptr_array_cls = PtrArray,\n",
      "                 _ptr_array_eval_cls = ValuesArray):\n",
      "        \n",
      "        self._ptr_array_cls = _ptr_array_cls\n",
      "        self._ptr_array_eval_cls = _ptr_array_eval_cls\n",
      "        \n",
      "        assert isinstance(states_array,(StatesDictionary,StatesArray))\n",
      "        assert isinstance(ptr_array, self._ptr_array_cls)\n",
      "        \n",
      "        self._ptr_array = ptr_array    \n",
      "        \n",
      "        if isinstance(states_array,StatesDictionary):\n",
      "            self._states_dict = states_array\n",
      "        else:\n",
      "            self._states_dict = StatesDictionary(states_array=states_array)\n",
      "        \n",
      "        self._states_dict._referred_by.append(self)\n",
      "    \n",
      "    \n",
      "    def __repr__(self):\n",
      "        return u\"{StatesDataArray} \" + self._data.__repr__()\n",
      "    \n",
      "    \n",
      "    @property\n",
      "    def _data(self):\n",
      "        return self._states_dict._eval(self._ptr_array)\n",
      "    \n",
      "\n",
      "    \n",
      "class StatesDictionaryMerger(list):\n",
      "    def __init__(self, *states_dicts):\n",
      "        \n",
      "        # checking states_dicts are all StatesDictionary's instance\n",
      "        assert check_type_of_args(StatesDictionary, *states_dicts)\n",
      "        \n",
      "        # checking states_dicts have the same dtype\n",
      "        assert len(np.unique(np.array(map(lambda xx:xx.dtype.type,states_dicts)))) == 1\n",
      "        self._dtype_type = states_dicts[0].dtype.type\n",
      "        \n",
      "        # checking states_dicts have the same _eval_cls\n",
      "        assert len(np.unique(np.array(map(lambda xx:xx._eval_cls,states_dicts)))) == 1\n",
      "        self._eval_cls = states_dicts[0]._eval_cls\n",
      "        \n",
      "        self._executed_merge = False\n",
      "        \n",
      "        list.__init__(self,states_dicts)\n",
      "    \n",
      "    \n",
      "    @property\n",
      "    def _unique_states_array_ids(self):\n",
      "        return np.unique(np.array(map(lambda xx:id(xx._states_array),self)))\n",
      "        \n",
      "    def merge(self):\n",
      "        if not self._executed_merge:\n",
      "        \n",
      "            if len(self._unique_states_array_ids) > 1:\n",
      "                states_array_lens = map(lambda xx:len(xx._states_array),self)\n",
      "                sector_position = map(lambda xx:slice(*xx),list(tools.ngram(np.cumsum([0] + states_array_lens),2)))\n",
      "                join_all_states_arrays = np.concatenate(tuple(map(lambda xx:xx._states_array,self)),axis=0)\n",
      "                u,i = np.unique(join_all_states_arrays,return_inverse=True)        \n",
      "                ptrs_transforms = map(lambda xx:i[xx],sector_position)\n",
      "        \n",
      "                self._new_states_array = StatesArray(data=u, eval_cls=self._eval_cls)\n",
      "                self._new_states_dict = StatesDictionary(states_array=self._new_states_array)\n",
      "                self._ptrs_transforms = ptrs_transforms\n",
      "        \n",
      "            else:\n",
      "                self._new_states_array = self[0]._states_array\n",
      "                self._new_states_dict = StatesDictionary(states_array=self._new_states_array)\n",
      "        \n",
      "            self._executed_merge = True\n",
      "    \n",
      "        return self\n",
      "    \n",
      "    \n",
      "    def update(self):\n",
      "        \n",
      "        if not self._executed_merge:\n",
      "            self.merge()\n",
      "        \n",
      "        \n",
      "        if len(self._unique_states_array_ids) > 1:\n",
      "            for ptrs_trans, states_dict in zip(self._ptrs_transforms,self):\n",
      "                states_dict.replace_states_dict(new_states_dict = self._new_states_dict, \n",
      "                                                ptrs_transform = ptrs_trans)\n",
      "        \n",
      "        else:\n",
      "            for states_dict in self:\n",
      "                states_dict.replace_states_dict(new_states_dict = self._new_states_dict)\n",
      "            \n",
      "                \n",
      "    "
     ],
     "language": "python",
     "metadata": {},
     "outputs": [],
     "prompt_number": 221
    },
    {
     "cell_type": "code",
     "collapsed": false,
     "input": [
      "\n",
      "states_array, ptr_array = ValuesArray(list(tkr.ngram(test_text_df[\"text\"].values[0],[1]))).decompose_into_states_ptrs()\n",
      "states_array, ptr_array"
     ],
     "language": "python",
     "metadata": {},
     "outputs": [
      {
       "metadata": {},
       "output_type": "pyout",
       "prompt_number": 222,
       "text": [
        "(StatesArray([u'\\u4eca', u'\\u5929', u'\\u597d', u'\\u5f88', u'\\u6c23'], \n",
        "       dtype='<U1'), PtrArray([0, 1, 1, 4, 3, 2]))"
       ]
      }
     ],
     "prompt_number": 222
    },
    {
     "cell_type": "code",
     "collapsed": false,
     "input": [
      "states_array[ptr_array].view(ValuesArray)"
     ],
     "language": "python",
     "metadata": {},
     "outputs": [
      {
       "metadata": {},
       "output_type": "pyout",
       "prompt_number": 223,
       "text": [
        "ValuesArray([u'\\u4eca', u'\\u5929', u'\\u5929', u'\\u6c23', u'\\u5f88', u'\\u597d'], \n",
        "      dtype='<U1')"
       ]
      }
     ],
     "prompt_number": 223
    },
    {
     "cell_type": "code",
     "collapsed": false,
     "input": [
      "np.array_equal(ValuesArray(list(tkr.ngram(test_text_df[\"text\"].values[0],[1]))), states_array[ptr_array].view(ValuesArray))"
     ],
     "language": "python",
     "metadata": {},
     "outputs": [
      {
       "metadata": {},
       "output_type": "pyout",
       "prompt_number": 224,
       "text": [
        "True"
       ]
      }
     ],
     "prompt_number": 224
    },
    {
     "cell_type": "code",
     "collapsed": false,
     "input": [
      "id(ValuesArray(list(tkr.ngram(test_text_df[\"text\"].values[0],[1])))), id(states_array[ptr_array].view(ValuesArray))"
     ],
     "language": "python",
     "metadata": {},
     "outputs": [
      {
       "metadata": {},
       "output_type": "pyout",
       "prompt_number": 225,
       "text": [
        "(91796976, 91797576)"
       ]
      }
     ],
     "prompt_number": 225
    },
    {
     "cell_type": "code",
     "collapsed": false,
     "input": [
      "val_array1 = ValuesArray(list(tkr.ngram(test_text_df[\"text\"].values[0],[1])))\n",
      "val_array2 = ValuesArray(list(tkr.ngram(test_text_df[\"text\"].values[1],[1])))"
     ],
     "language": "python",
     "metadata": {},
     "outputs": [],
     "prompt_number": 226
    },
    {
     "cell_type": "code",
     "collapsed": false,
     "input": [
      "states_data_array1 = val_array1.to_states_data_array()\n",
      "states_data_array2 = val_array2.to_states_data_array()"
     ],
     "language": "python",
     "metadata": {},
     "outputs": [],
     "prompt_number": 227
    },
    {
     "cell_type": "code",
     "collapsed": false,
     "input": [
      "states_data_array1._ptr_array\n",
      "\n"
     ],
     "language": "python",
     "metadata": {},
     "outputs": [
      {
       "metadata": {},
       "output_type": "pyout",
       "prompt_number": 228,
       "text": [
        "PtrArray([0, 1, 1, 4, 3, 2])"
       ]
      }
     ],
     "prompt_number": 228
    },
    {
     "cell_type": "code",
     "collapsed": false,
     "input": [
      "states_data_array1 in states_data_array1._states_dict._referred_by"
     ],
     "language": "python",
     "metadata": {},
     "outputs": [
      {
       "metadata": {},
       "output_type": "pyout",
       "prompt_number": 229,
       "text": [
        "True"
       ]
      }
     ],
     "prompt_number": 229
    },
    {
     "cell_type": "code",
     "collapsed": false,
     "input": [
      "states_data_array1._states_dict._eval_cls"
     ],
     "language": "python",
     "metadata": {},
     "outputs": [
      {
       "metadata": {},
       "output_type": "pyout",
       "prompt_number": 230,
       "text": [
        "__main__.ValuesArray"
       ]
      }
     ],
     "prompt_number": 230
    },
    {
     "cell_type": "code",
     "collapsed": false,
     "input": [],
     "language": "python",
     "metadata": {},
     "outputs": [],
     "prompt_number": 230
    },
    {
     "cell_type": "code",
     "collapsed": false,
     "input": [],
     "language": "python",
     "metadata": {},
     "outputs": [],
     "prompt_number": 230
    },
    {
     "cell_type": "code",
     "collapsed": false,
     "input": [
      "val_array1 = ValuesArray(list(tkr.ngram(test_text_df[\"text\"].values[0],[1])))\n",
      "val_array2 = ValuesArray(list(tkr.ngram(test_text_df[\"text\"].values[1],[1])))\n",
      "val_array3 = ValuesArray(list(tkr.ngram(test_text_df[\"text\"].values[2],[1])))\n",
      "val_array4 = ValuesArray(list(tkr.ngram(test_text_df[\"text\"].values[5],[1])))\n",
      "states_data_array1 = val_array1.to_states_data_array()\n",
      "states_data_array2 = val_array2.to_states_data_array()\n",
      "states_data_array3 = val_array3.to_states_data_array()\n",
      "states_data_array4 = val_array4.to_states_data_array()"
     ],
     "language": "python",
     "metadata": {},
     "outputs": [],
     "prompt_number": 231
    },
    {
     "cell_type": "code",
     "collapsed": false,
     "input": [
      "states_data_array1"
     ],
     "language": "python",
     "metadata": {},
     "outputs": [
      {
       "metadata": {},
       "output_type": "pyout",
       "prompt_number": 232,
       "text": [
        "{StatesDataArray} ValuesArray([u'\\u4eca', u'\\u5929', u'\\u5929', u'\\u6c23', u'\\u5f88', u'\\u597d'], \n",
        "      dtype='<U1')"
       ]
      }
     ],
     "prompt_number": 232
    },
    {
     "cell_type": "code",
     "collapsed": false,
     "input": [
      "states_merger = StatesDictionaryMerger(states_data_array1._states_dict,\n",
      "                                       states_data_array2._states_dict,\n",
      "                                       states_data_array3._states_dict,\n",
      "                                       states_data_array4._states_dict)\n",
      "states_merger"
     ],
     "language": "python",
     "metadata": {},
     "outputs": [
      {
       "metadata": {},
       "output_type": "pyout",
       "prompt_number": 233,
       "text": [
        "[{StatesDictionary} StatesArray([u'\\u4eca', u'\\u5929', u'\\u597d', u'\\u5f88', u'\\u6c23'], \n",
        "       dtype='<U1'),\n",
        " {StatesDictionary} StatesArray([u'\\u4eca', u'\\u5929', u'\\u5f88', u'\\u6c23', u'\\u721b'], \n",
        "       dtype='<U1'),\n",
        " {StatesDictionary} StatesArray([u'\\u5b83', u'\\u6068', u'\\u6211'], \n",
        "       dtype='<U1'),\n",
        " {StatesDictionary} StatesArray([u'\\u5b83', u'\\u611b', u'\\u6211'], \n",
        "       dtype='<U1')]"
       ]
      }
     ],
     "prompt_number": 233
    },
    {
     "cell_type": "code",
     "collapsed": false,
     "input": [
      "print states_merger._eval_cls\n",
      "print states_merger._dtype_type"
     ],
     "language": "python",
     "metadata": {},
     "outputs": [
      {
       "output_type": "stream",
       "stream": "stdout",
       "text": [
        "<class '__main__.ValuesArray'>\n",
        "<type 'numpy.unicode_'>\n"
       ]
      }
     ],
     "prompt_number": 234
    },
    {
     "cell_type": "code",
     "collapsed": false,
     "input": [
      "states_merger"
     ],
     "language": "python",
     "metadata": {},
     "outputs": [
      {
       "metadata": {},
       "output_type": "pyout",
       "prompt_number": 235,
       "text": [
        "[{StatesDictionary} StatesArray([u'\\u4eca', u'\\u5929', u'\\u597d', u'\\u5f88', u'\\u6c23'], \n",
        "       dtype='<U1'),\n",
        " {StatesDictionary} StatesArray([u'\\u4eca', u'\\u5929', u'\\u5f88', u'\\u6c23', u'\\u721b'], \n",
        "       dtype='<U1'),\n",
        " {StatesDictionary} StatesArray([u'\\u5b83', u'\\u6068', u'\\u6211'], \n",
        "       dtype='<U1'),\n",
        " {StatesDictionary} StatesArray([u'\\u5b83', u'\\u611b', u'\\u6211'], \n",
        "       dtype='<U1')]"
       ]
      }
     ],
     "prompt_number": 235
    },
    {
     "cell_type": "code",
     "collapsed": false,
     "input": [],
     "language": "python",
     "metadata": {},
     "outputs": [],
     "prompt_number": 235
    },
    {
     "cell_type": "code",
     "collapsed": false,
     "input": [],
     "language": "python",
     "metadata": {},
     "outputs": [],
     "prompt_number": 235
    },
    {
     "cell_type": "code",
     "collapsed": false,
     "input": [
      "print states_merger.merge._new_states_array\n",
      "print states_merger.merge._ptrs_transforms"
     ],
     "language": "python",
     "metadata": {},
     "outputs": [
      {
       "output_type": "stream",
       "stream": "stdout",
       "text": [
        "[u'\\u4eca' u'\\u5929' u'\\u597d' u'\\u5b83' u'\\u5f88' u'\\u6068' u'\\u611b'\n",
        " u'\\u6211' u'\\u6c23' u'\\u721b']\n",
        "[array([0, 1, 2, 4, 8]), array([0, 1, 4, 8, 9]), array([3, 5, 7]), array([3, 6, 7])]\n"
       ]
      }
     ],
     "prompt_number": 236
    },
    {
     "cell_type": "code",
     "collapsed": false,
     "input": [
      "states_merger.merge.update()"
     ],
     "language": "python",
     "metadata": {},
     "outputs": [],
     "prompt_number": 237
    },
    {
     "cell_type": "code",
     "collapsed": false,
     "input": [],
     "language": "python",
     "metadata": {},
     "outputs": [],
     "prompt_number": 237
    },
    {
     "cell_type": "code",
     "collapsed": false,
     "input": [
      "states_data_array1._states_dict"
     ],
     "language": "python",
     "metadata": {},
     "outputs": [
      {
       "metadata": {},
       "output_type": "pyout",
       "prompt_number": 238,
       "text": [
        "{StatesDictionary} StatesArray([u'\\u4eca', u'\\u5929', u'\\u597d', u'\\u5b83', u'\\u5f88', u'\\u6068',\n",
        "       u'\\u611b', u'\\u6211', u'\\u6c23', u'\\u721b'], \n",
        "      dtype='<U1')"
       ]
      }
     ],
     "prompt_number": 238
    },
    {
     "cell_type": "code",
     "collapsed": false,
     "input": [
      "print states_data_array1._states_dict._states_array\n",
      "print states_data_array1._states_dict._referred_by\n",
      "print states_data_array1._ptr_array\n",
      "print states_data_array2._ptr_array\n",
      "print \"// \".join(states_data_array1._data)"
     ],
     "language": "python",
     "metadata": {},
     "outputs": [
      {
       "output_type": "stream",
       "stream": "stdout",
       "text": [
        "[u'\\u4eca' u'\\u5929' u'\\u597d' u'\\u5b83' u'\\u5f88' u'\\u6068' u'\\u611b'\n",
        " u'\\u6211' u'\\u6c23' u'\\u721b']\n",
        "[{StatesDataArray} ValuesArray([u'\\u4eca', u'\\u5929', u'\\u5929', u'\\u6c23', u'\\u5f88', u'\\u597d'], \n",
        "      dtype='<U1'), {StatesDataArray} ValuesArray([u'\\u4eca', u'\\u5929', u'\\u5929', u'\\u6c23', u'\\u5f88', u'\\u721b'], \n",
        "      dtype='<U1'), {StatesDataArray} ValuesArray([u'\\u6211', u'\\u6068', u'\\u5b83'], \n",
        "      dtype='<U1'), {StatesDataArray} ValuesArray([u'\\u5b83', u'\\u611b', u'\\u6211'], \n",
        "      dtype='<U1')]\n",
        "[0 1 1 8 4 2]\n",
        "[0 1 1 8 4 9]\n",
        "\u4eca// \u5929// \u5929// \u6c23// \u5f88// \u597d\n"
       ]
      }
     ],
     "prompt_number": 242
    },
    {
     "cell_type": "code",
     "collapsed": false,
     "input": [
      "states_data_array1._states_dict._referred_by"
     ],
     "language": "python",
     "metadata": {},
     "outputs": [
      {
       "metadata": {},
       "output_type": "pyout",
       "prompt_number": 240,
       "text": [
        "[{StatesDataArray} ValuesArray([u'\\u4eca', u'\\u5929', u'\\u5929', u'\\u6c23', u'\\u5f88', u'\\u597d'], \n",
        "       dtype='<U1'),\n",
        " {StatesDataArray} ValuesArray([u'\\u4eca', u'\\u5929', u'\\u5929', u'\\u6c23', u'\\u5f88', u'\\u721b'], \n",
        "       dtype='<U1'),\n",
        " {StatesDataArray} ValuesArray([u'\\u6211', u'\\u6068', u'\\u5b83'], \n",
        "       dtype='<U1'),\n",
        " {StatesDataArray} ValuesArray([u'\\u5b83', u'\\u611b', u'\\u6211'], \n",
        "       dtype='<U1')]"
       ]
      }
     ],
     "prompt_number": 240
    },
    {
     "cell_type": "code",
     "collapsed": false,
     "input": [
      "id(states_data_array1._states_dict), id(states_data_array2._states_dict)"
     ],
     "language": "python",
     "metadata": {},
     "outputs": [
      {
       "metadata": {},
       "output_type": "pyout",
       "prompt_number": 248,
       "text": [
        "(92805456, 92805456)"
       ]
      }
     ],
     "prompt_number": 248
    },
    {
     "cell_type": "code",
     "collapsed": false,
     "input": [
      "print u\"\".join(states_data_array1._data)\n",
      "print u\"\".join(states_data_array2._data)"
     ],
     "language": "python",
     "metadata": {},
     "outputs": [
      {
       "output_type": "stream",
       "stream": "stdout",
       "text": [
        "\u4eca\u5929\u5929\u6c23\u5f88\u597d\n",
        "\u4eca\u5929\u5929\u6c23\u5f88\u721b\n"
       ]
      }
     ],
     "prompt_number": 247
    },
    {
     "cell_type": "code",
     "collapsed": false,
     "input": [
      "print states_data_array1._states_dict == states_data_array2._states_dict\n",
      "print states_data_array3._states_dict == states_data_array2._states_dict\n",
      "print states_data_array3._states_dict == states_data_array4._states_dict\n"
     ],
     "language": "python",
     "metadata": {},
     "outputs": [
      {
       "output_type": "stream",
       "stream": "stdout",
       "text": [
        "True\n",
        "True\n",
        "True\n"
       ]
      }
     ],
     "prompt_number": 250
    },
    {
     "cell_type": "code",
     "collapsed": false,
     "input": [],
     "language": "python",
     "metadata": {},
     "outputs": []
    }
   ],
   "metadata": {}
  }
 ]
}