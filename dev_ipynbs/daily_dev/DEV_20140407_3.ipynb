{
 "metadata": {
  "name": "",
  "signature": "sha256:db5831cc105d25200f0339d6bca10f5e57e08366d7937b0296682c4ea7ba8037"
 },
 "nbformat": 3,
 "nbformat_minor": 0,
 "worksheets": [
  {
   "cells": [
    {
     "cell_type": "code",
     "collapsed": false,
     "input": [
      "import PlaYnlp.tokenizer as tkr \n",
      "import PlaYnlp.vectorizer as vcr\n",
      "from PlaYnlp import dataio\n",
      "\n",
      "from PlaYnlp.sparse import L0_norm_col_summarizer as L0_col_sum\n",
      "from PlaYnlp.sparse import L1_norm_col_summarizer as L1_col_sum\n",
      "import numpy as np\n",
      "import scipy as sp"
     ],
     "language": "python",
     "metadata": {},
     "outputs": [],
     "prompt_number": 1
    },
    {
     "cell_type": "code",
     "collapsed": false,
     "input": [],
     "language": "python",
     "metadata": {},
     "outputs": [],
     "prompt_number": 1
    },
    {
     "cell_type": "code",
     "collapsed": false,
     "input": [],
     "language": "python",
     "metadata": {},
     "outputs": [],
     "prompt_number": 1
    },
    {
     "cell_type": "code",
     "collapsed": false,
     "input": [
      "import pandas as pd \n",
      "test_text_df = pd.DataFrame([u\"\u4eca\u5929\u5929\u6c23\u5f88\u597d\",u\"\u4eca\u5929\u5929\u6c23\u5f88\u721b\",u\"\u6211\u6068\u5b83\",u\"\u5b83\u6068\u6211\",u\"\u6211\u611b\u5b83\",u\"\u5b83\u611b\u6211\",u\"\u4eca\u5929\u5f88\u8870\",u\"\u65e5\u5b50\u4e00\u5929\u4e00\u5929\u904e\",u\"\u5929\u5929\u5237\u7259\u6d17\u81c9\"])\n",
      "test_text_df.columns = [\"text\"]\n",
      "test_text_df = test_text_df.reset_index()\n",
      "test_text_df[\"idx\"] = map(lambda xx :u\"%05d\" % xx,test_text_df[\"index\"])\n",
      "test_text_df[\"r1\"] = np.random.randn(test_text_df.shape[0])\n",
      "test_text_df[\"r2\"] = np.random.randn(test_text_df.shape[0])\n",
      "test_text_df"
     ],
     "language": "python",
     "metadata": {},
     "outputs": [
      {
       "html": [
        "<div style=\"max-height:1000px;max-width:1500px;overflow:auto;\">\n",
        "<table border=\"1\" class=\"dataframe\">\n",
        "  <thead>\n",
        "    <tr style=\"text-align: right;\">\n",
        "      <th></th>\n",
        "      <th>index</th>\n",
        "      <th>text</th>\n",
        "      <th>idx</th>\n",
        "      <th>r1</th>\n",
        "      <th>r2</th>\n",
        "    </tr>\n",
        "  </thead>\n",
        "  <tbody>\n",
        "    <tr>\n",
        "      <th>0</th>\n",
        "      <td> 0</td>\n",
        "      <td>  \u4eca\u5929\u5929\u6c23\u5f88\u597d</td>\n",
        "      <td> 00000</td>\n",
        "      <td>-0.033258</td>\n",
        "      <td>-0.023020</td>\n",
        "    </tr>\n",
        "    <tr>\n",
        "      <th>1</th>\n",
        "      <td> 1</td>\n",
        "      <td>  \u4eca\u5929\u5929\u6c23\u5f88\u721b</td>\n",
        "      <td> 00001</td>\n",
        "      <td> 0.029956</td>\n",
        "      <td> 0.219484</td>\n",
        "    </tr>\n",
        "    <tr>\n",
        "      <th>2</th>\n",
        "      <td> 2</td>\n",
        "      <td>     \u6211\u6068\u5b83</td>\n",
        "      <td> 00002</td>\n",
        "      <td>-2.409011</td>\n",
        "      <td> 1.243594</td>\n",
        "    </tr>\n",
        "    <tr>\n",
        "      <th>3</th>\n",
        "      <td> 3</td>\n",
        "      <td>     \u5b83\u6068\u6211</td>\n",
        "      <td> 00003</td>\n",
        "      <td> 0.830093</td>\n",
        "      <td> 0.096973</td>\n",
        "    </tr>\n",
        "    <tr>\n",
        "      <th>4</th>\n",
        "      <td> 4</td>\n",
        "      <td>     \u6211\u611b\u5b83</td>\n",
        "      <td> 00004</td>\n",
        "      <td> 0.850231</td>\n",
        "      <td>-0.104918</td>\n",
        "    </tr>\n",
        "    <tr>\n",
        "      <th>5</th>\n",
        "      <td> 5</td>\n",
        "      <td>     \u5b83\u611b\u6211</td>\n",
        "      <td> 00005</td>\n",
        "      <td>-0.927096</td>\n",
        "      <td>-0.622530</td>\n",
        "    </tr>\n",
        "    <tr>\n",
        "      <th>6</th>\n",
        "      <td> 6</td>\n",
        "      <td>    \u4eca\u5929\u5f88\u8870</td>\n",
        "      <td> 00006</td>\n",
        "      <td>-0.663952</td>\n",
        "      <td>-0.175667</td>\n",
        "    </tr>\n",
        "    <tr>\n",
        "      <th>7</th>\n",
        "      <td> 7</td>\n",
        "      <td> \u65e5\u5b50\u4e00\u5929\u4e00\u5929\u904e</td>\n",
        "      <td> 00007</td>\n",
        "      <td>-0.146543</td>\n",
        "      <td> 0.751563</td>\n",
        "    </tr>\n",
        "    <tr>\n",
        "      <th>8</th>\n",
        "      <td> 8</td>\n",
        "      <td>  \u5929\u5929\u5237\u7259\u6d17\u81c9</td>\n",
        "      <td> 00008</td>\n",
        "      <td>-0.094125</td>\n",
        "      <td>-0.174916</td>\n",
        "    </tr>\n",
        "  </tbody>\n",
        "</table>\n",
        "<p>9 rows \u00d7 5 columns</p>\n",
        "</div>"
       ],
       "metadata": {},
       "output_type": "pyout",
       "prompt_number": 2,
       "text": [
        "   index     text    idx        r1        r2\n",
        "0      0   \u4eca\u5929\u5929\u6c23\u5f88\u597d  00000 -0.033258 -0.023020\n",
        "1      1   \u4eca\u5929\u5929\u6c23\u5f88\u721b  00001  0.029956  0.219484\n",
        "2      2      \u6211\u6068\u5b83  00002 -2.409011  1.243594\n",
        "3      3      \u5b83\u6068\u6211  00003  0.830093  0.096973\n",
        "4      4      \u6211\u611b\u5b83  00004  0.850231 -0.104918\n",
        "5      5      \u5b83\u611b\u6211  00005 -0.927096 -0.622530\n",
        "6      6     \u4eca\u5929\u5f88\u8870  00006 -0.663952 -0.175667\n",
        "7      7  \u65e5\u5b50\u4e00\u5929\u4e00\u5929\u904e  00007 -0.146543  0.751563\n",
        "8      8   \u5929\u5929\u5237\u7259\u6d17\u81c9  00008 -0.094125 -0.174916\n",
        "\n",
        "[9 rows x 5 columns]"
       ]
      }
     ],
     "prompt_number": 2
    },
    {
     "cell_type": "code",
     "collapsed": false,
     "input": [
      "test_text_df[\"text\"].values"
     ],
     "language": "python",
     "metadata": {},
     "outputs": [
      {
       "metadata": {},
       "output_type": "pyout",
       "prompt_number": 10,
       "text": [
        "array([u'\\u4eca\\u5929\\u5929\\u6c23\\u5f88\\u597d',\n",
        "       u'\\u4eca\\u5929\\u5929\\u6c23\\u5f88\\u721b', u'\\u6211\\u6068\\u5b83',\n",
        "       u'\\u5b83\\u6068\\u6211', u'\\u6211\\u611b\\u5b83', u'\\u5b83\\u611b\\u6211',\n",
        "       u'\\u4eca\\u5929\\u5f88\\u8870',\n",
        "       u'\\u65e5\\u5b50\\u4e00\\u5929\\u4e00\\u5929\\u904e',\n",
        "       u'\\u5929\\u5929\\u5237\\u7259\\u6d17\\u81c9'], dtype=object)"
       ]
      }
     ],
     "prompt_number": 10
    },
    {
     "cell_type": "code",
     "collapsed": false,
     "input": [],
     "language": "python",
     "metadata": {},
     "outputs": []
    },
    {
     "cell_type": "code",
     "collapsed": false,
     "input": [],
     "language": "python",
     "metadata": {},
     "outputs": []
    },
    {
     "cell_type": "code",
     "collapsed": false,
     "input": [
      "import numpy as np\n",
      "import inspect\n",
      "import types\n",
      "import PlaYnlp.tokenizer as tkr \n",
      "from PlaYdata.util.args_tools import check_type_of_args\n",
      "import PlaYdata.util.array_tools as tools\n",
      "import PlaYdata.util.np_tools as np_tools\n",
      "\n"
     ],
     "language": "python",
     "metadata": {},
     "outputs": [],
     "prompt_number": 9
    },
    {
     "cell_type": "code",
     "collapsed": false,
     "input": [
      "\n",
      "\n",
      "class Matrix(np.ndarray):\n",
      "    \n",
      "    @classmethod\n",
      "    def _preprocess_if_data_is_cls(cls, matrix,*args, **kwargs):\n",
      "        #print \"cls = \",cls\n",
      "        #print \"data = \",data\n",
      "        #print \"type(data) = \",type(data)\n",
      "        #print \"args = \",args\n",
      "        #print \"kwargs = \",kwargs\n",
      "        #eval_cls = kwargs.get(\"eval_cls\",1234)\n",
      "        #object.__setattr__(data, \"_eval_cls\", eval_cls)\n",
      "        pass\n",
      "        \n",
      "    @classmethod\n",
      "    def _preprocess_before_init_return(cls, matrix ,*args, **kwargs):\n",
      "        pass\n",
      "        \n",
      "\n",
      "    def __new__(cls, data, dtype=None, force2d=\"as_row\", *args, **kwargs):\n",
      "        \n",
      "        assert force2d in (\"as_row\",\"as_col\")\n",
      "        \n",
      "        if isinstance(data, cls):\n",
      "            matrix_data = data\n",
      "            cls._preprocess_if_data_is_cls(matrix=matrix_data,*args, **kwargs)\n",
      "            return matrix_data\n",
      "        else:\n",
      "            \n",
      "            matrix_data = np.array(data, dtype=dtype)\n",
      "            \n",
      "            if force2d==\"as_row\":\n",
      "                if len(matrix_data.shape) < 2:\n",
      "                    matrix_data = np.array([matrix_data])\n",
      "            elif force2d==\"as_col\":\n",
      "                if len(matrix_data.shape) < 2:\n",
      "                    matrix_data = np.array([matrix_data]).T\n",
      "            \n",
      "            if len(matrix_data.shape) > 2:\n",
      "                matrix_data = np_tools.clean_no_data_tensors(matrix_data)\n",
      "            \n",
      "            assert len(matrix_data.shape) == 2\n",
      "            \n",
      "            \n",
      "            matrix_data = matrix_data.view(cls)\n",
      "            cls._preprocess_before_init_return(matrix=matrix_data,*args, **kwargs)\n",
      "            \n",
      "            return matrix_data\n",
      "    \n",
      "    @property\n",
      "    def _is_1d(self):\n",
      "        return len(np_tools.clean_no_data_tensors(self).shape) == 1\n",
      "    \n",
      "    @property\n",
      "    def _as_1d_array(self):\n",
      "        assert self._is_1d\n",
      "        return np_tools.clean_no_data_tensors(self)\n",
      "    \n",
      "    @property\n",
      "    def _nrow(self):\n",
      "        return self.shape[0]\n",
      "    \n",
      "    @property\n",
      "    def _ncol(self):\n",
      "        return self.shape[1]\n",
      "    \n",
      "    def _1d_ngram(self, n):\n",
      "        assert self._is_1d\n",
      "        ngram_results = list(tools.ngram(self.flatten(),n))\n",
      "        return type(self)(data=ngram_results)\n",
      "    \n",
      "    \n",
      "    def build_values_index(self):\n",
      "        u,inv = np.unique(self, return_inverse=True)\n",
      "        states_matrix = StatesMatrix(data=u, eval_cls=type(self))\n",
      "        assert states_matrix._is_1d\n",
      "        idx_matrix = IndexMatrix(data=inv).reshape(self.shape)\n",
      "        return states_matrix, idx_matrix\n",
      "    \n",
      "    def build_row_struct_index(self):\n",
      "        \n",
      "        temp_self = self.copy()\n",
      "        temp_self.dtype = np.dtype(zip(map(str,range(self._ncol)), [self.dtype]*self._ncol))\n",
      "        u,i,inv = np.unique(temp_self,return_index=True,return_inverse=True)\n",
      "        \n",
      "        idx_matrix = IndexMatrix(inv)\n",
      "        states_matrix = StatesMatrix(self[i,:],eval_cls=type(u),is_row_struct=True)\n",
      "        \n",
      "        return states_matrix, idx_matrix\n",
      "    \n",
      "\n",
      "    \n",
      "class ValuesMatrix(Matrix):\n",
      "    pass\n",
      "    \n",
      "\n",
      "class IndexMatrix(Matrix):\n",
      "    pass\n",
      "\n",
      "\n",
      "    \n",
      "class StatesMatrix(Matrix):\n",
      "    \n",
      "    @classmethod\n",
      "    def _set_is_row_struct(cls, matrix,*args, **kwargs):\n",
      "        is_row_struct = kwargs.get(\"is_row_struct\",False)\n",
      "        object.__setattr__(matrix,\"_is_row_struct\",is_row_struct)\n",
      "    \n",
      "    \n",
      "    @classmethod\n",
      "    def _set_eval_cls(cls, matrix,*args, **kwargs):\n",
      "        eval_cls = kwargs.get(\"eval_cls\",np.ndarray)\n",
      "        object.__setattr__(matrix,\"_eval_cls\",eval_cls)\n",
      "    \n",
      "    \n",
      "    @classmethod\n",
      "    def _preprocess_if_data_is_cls(cls, matrix ,*args, **kwargs):\n",
      "        cls._set_eval_cls(matrix=matrix ,*args, **kwargs)\n",
      "        cls._set_is_row_struct(matrix=matrix ,*args, **kwargs)\n",
      "        \n",
      "        \n",
      "    @classmethod\n",
      "    def _preprocess_before_init_return(cls, matrix ,*args, **kwargs):\n",
      "        cls._set_eval_cls(matrix=matrix ,*args, **kwargs)\n",
      "        cls._set_is_row_struct(matrix=matrix ,*args, **kwargs)\n",
      "        \n",
      "    \n",
      "    def _eval_1d_self(self, idx_mat):\n",
      "        return self._as_1d_array[idx_mat].view(self._eval_cls).copy()\n",
      "    \n",
      "    \n",
      "    def _eval_1d_idx_mat(self, idx_mat):\n",
      "        return self[idx_mat._as_1d_array,:].view(self._eval_cls).copy()\n",
      "        \n",
      "    \n",
      "    def _eval(self, idx_mat):\n",
      "        \n",
      "        assert isinstance(idx_mat,IndexMatrix)\n",
      "        assert self._is_1d or (idx_mat._is_1d and self._is_row_struct)\n",
      "        \n",
      "        if idx_mat._is_1d and self._is_row_struct:\n",
      "            return self._eval_1d_idx_mat(idx_mat=idx_mat)\n",
      "        else:\n",
      "            return self._eval_1d_self(idx_mat=idx_mat)    "
     ],
     "language": "python",
     "metadata": {},
     "outputs": [],
     "prompt_number": 231
    },
    {
     "cell_type": "code",
     "collapsed": false,
     "input": [
      "\n",
      "            "
     ],
     "language": "python",
     "metadata": {},
     "outputs": [],
     "prompt_number": 231
    },
    {
     "cell_type": "code",
     "collapsed": false,
     "input": [],
     "language": "python",
     "metadata": {},
     "outputs": [],
     "prompt_number": 231
    },
    {
     "cell_type": "code",
     "collapsed": false,
     "input": [],
     "language": "python",
     "metadata": {},
     "outputs": [],
     "prompt_number": 231
    },
    {
     "cell_type": "code",
     "collapsed": false,
     "input": [],
     "language": "python",
     "metadata": {},
     "outputs": [],
     "prompt_number": 231
    },
    {
     "cell_type": "code",
     "collapsed": false,
     "input": [],
     "language": "python",
     "metadata": {},
     "outputs": [],
     "prompt_number": 231
    },
    {
     "cell_type": "code",
     "collapsed": false,
     "input": [],
     "language": "python",
     "metadata": {},
     "outputs": [],
     "prompt_number": 231
    },
    {
     "cell_type": "code",
     "collapsed": false,
     "input": [
      "val_mat = ValuesMatrix(list(tools.ngram(test_text_df[\"text\"].values[0],[1])),force2d=\"as_col\")\n",
      "val_mat"
     ],
     "language": "python",
     "metadata": {},
     "outputs": [
      {
       "metadata": {},
       "output_type": "pyout",
       "prompt_number": 232,
       "text": [
        "ValuesMatrix([[u'\\u4eca'],\n",
        "       [u'\\u5929'],\n",
        "       [u'\\u5929'],\n",
        "       [u'\\u6c23'],\n",
        "       [u'\\u5f88'],\n",
        "       [u'\\u597d']], \n",
        "      dtype='<U1')"
       ]
      }
     ],
     "prompt_number": 232
    },
    {
     "cell_type": "code",
     "collapsed": false,
     "input": [
      "val_mat._1d_ngram(2)"
     ],
     "language": "python",
     "metadata": {},
     "outputs": [
      {
       "metadata": {},
       "output_type": "pyout",
       "prompt_number": 233,
       "text": [
        "ValuesMatrix([[u'\\u4eca', u'\\u5929'],\n",
        "       [u'\\u5929', u'\\u5929'],\n",
        "       [u'\\u5929', u'\\u6c23'],\n",
        "       [u'\\u6c23', u'\\u5f88'],\n",
        "       [u'\\u5f88', u'\\u597d']], \n",
        "      dtype='<U1')"
       ]
      }
     ],
     "prompt_number": 233
    },
    {
     "cell_type": "code",
     "collapsed": false,
     "input": [
      "states_matrix, idx_matrix = val_mat._1d_ngram(2).build_values_index()\n",
      "states_matrix, idx_matrix"
     ],
     "language": "python",
     "metadata": {},
     "outputs": [
      {
       "metadata": {},
       "output_type": "pyout",
       "prompt_number": 234,
       "text": [
        "(StatesMatrix([[u'\\u4eca', u'\\u5929', u'\\u597d', u'\\u5f88', u'\\u6c23']], \n",
        "       dtype='<U1'), IndexMatrix([[0, 1],\n",
        "        [1, 1],\n",
        "        [1, 4],\n",
        "        [4, 3],\n",
        "        [3, 2]]))"
       ]
      }
     ],
     "prompt_number": 234
    },
    {
     "cell_type": "code",
     "collapsed": false,
     "input": [
      "states_matrix._eval(idx_matrix)"
     ],
     "language": "python",
     "metadata": {},
     "outputs": [
      {
       "metadata": {},
       "output_type": "pyout",
       "prompt_number": 235,
       "text": [
        "ValuesMatrix([[u'\\u4eca', u'\\u5929'],\n",
        "       [u'\\u5929', u'\\u5929'],\n",
        "       [u'\\u5929', u'\\u6c23'],\n",
        "       [u'\\u6c23', u'\\u5f88'],\n",
        "       [u'\\u5f88', u'\\u597d']], \n",
        "      dtype='<U1')"
       ]
      }
     ],
     "prompt_number": 235
    },
    {
     "cell_type": "code",
     "collapsed": false,
     "input": [],
     "language": "python",
     "metadata": {},
     "outputs": [],
     "prompt_number": 235
    },
    {
     "cell_type": "code",
     "collapsed": false,
     "input": [],
     "language": "python",
     "metadata": {},
     "outputs": [],
     "prompt_number": 235
    },
    {
     "cell_type": "code",
     "collapsed": false,
     "input": [],
     "language": "python",
     "metadata": {},
     "outputs": [],
     "prompt_number": 235
    },
    {
     "cell_type": "code",
     "collapsed": false,
     "input": [
      "val_mat1 = ValuesMatrix(list(tools.ngram(test_text_df[\"text\"].values[0],[1])),force2d=\"as_col\")\n",
      "val_mat2 = ValuesMatrix(list(tools.ngram(test_text_df[\"text\"].values[1],[1])),force2d=\"as_col\")"
     ],
     "language": "python",
     "metadata": {},
     "outputs": [],
     "prompt_number": 236
    },
    {
     "cell_type": "code",
     "collapsed": false,
     "input": [
      "val_mat = ValuesMatrix(np.concatenate((val_mat1._1d_ngram(2),val_mat2._1d_ngram(2)),axis=0))\n",
      "val_mat"
     ],
     "language": "python",
     "metadata": {},
     "outputs": [
      {
       "metadata": {},
       "output_type": "pyout",
       "prompt_number": 237,
       "text": [
        "ValuesMatrix([[u'\\u4eca', u'\\u5929'],\n",
        "       [u'\\u5929', u'\\u5929'],\n",
        "       [u'\\u5929', u'\\u6c23'],\n",
        "       [u'\\u6c23', u'\\u5f88'],\n",
        "       [u'\\u5f88', u'\\u597d'],\n",
        "       [u'\\u4eca', u'\\u5929'],\n",
        "       [u'\\u5929', u'\\u5929'],\n",
        "       [u'\\u5929', u'\\u6c23'],\n",
        "       [u'\\u6c23', u'\\u5f88'],\n",
        "       [u'\\u5f88', u'\\u721b']], \n",
        "      dtype='<U1')"
       ]
      }
     ],
     "prompt_number": 237
    },
    {
     "cell_type": "code",
     "collapsed": false,
     "input": [
      "test = val_mat\n",
      "test"
     ],
     "language": "python",
     "metadata": {},
     "outputs": [
      {
       "metadata": {},
       "output_type": "pyout",
       "prompt_number": 238,
       "text": [
        "ValuesMatrix([[u'\\u4eca', u'\\u5929'],\n",
        "       [u'\\u5929', u'\\u5929'],\n",
        "       [u'\\u5929', u'\\u6c23'],\n",
        "       [u'\\u6c23', u'\\u5f88'],\n",
        "       [u'\\u5f88', u'\\u597d'],\n",
        "       [u'\\u4eca', u'\\u5929'],\n",
        "       [u'\\u5929', u'\\u5929'],\n",
        "       [u'\\u5929', u'\\u6c23'],\n",
        "       [u'\\u6c23', u'\\u5f88'],\n",
        "       [u'\\u5f88', u'\\u721b']], \n",
        "      dtype='<U1')"
       ]
      }
     ],
     "prompt_number": 238
    },
    {
     "cell_type": "code",
     "collapsed": false,
     "input": [
      "test2 = test.copy()\n",
      "test2"
     ],
     "language": "python",
     "metadata": {},
     "outputs": [
      {
       "metadata": {},
       "output_type": "pyout",
       "prompt_number": 239,
       "text": [
        "ValuesMatrix([[u'\\u4eca', u'\\u5929'],\n",
        "       [u'\\u5929', u'\\u5929'],\n",
        "       [u'\\u5929', u'\\u6c23'],\n",
        "       [u'\\u6c23', u'\\u5f88'],\n",
        "       [u'\\u5f88', u'\\u597d'],\n",
        "       [u'\\u4eca', u'\\u5929'],\n",
        "       [u'\\u5929', u'\\u5929'],\n",
        "       [u'\\u5929', u'\\u6c23'],\n",
        "       [u'\\u6c23', u'\\u5f88'],\n",
        "       [u'\\u5f88', u'\\u721b']], \n",
        "      dtype='<U1')"
       ]
      }
     ],
     "prompt_number": 239
    },
    {
     "cell_type": "code",
     "collapsed": false,
     "input": [
      "test2.dtype = np.dtype(zip(map(str,range(test2._ncol)), [test.dtype]*test2._ncol))\n",
      "test2"
     ],
     "language": "python",
     "metadata": {},
     "outputs": [
      {
       "metadata": {},
       "output_type": "pyout",
       "prompt_number": 240,
       "text": [
        "ValuesMatrix([[(u'\\u4eca', u'\\u5929')],\n",
        "       [(u'\\u5929', u'\\u5929')],\n",
        "       [(u'\\u5929', u'\\u6c23')],\n",
        "       [(u'\\u6c23', u'\\u5f88')],\n",
        "       [(u'\\u5f88', u'\\u597d')],\n",
        "       [(u'\\u4eca', u'\\u5929')],\n",
        "       [(u'\\u5929', u'\\u5929')],\n",
        "       [(u'\\u5929', u'\\u6c23')],\n",
        "       [(u'\\u6c23', u'\\u5f88')],\n",
        "       [(u'\\u5f88', u'\\u721b')]], \n",
        "      dtype=[('0', '<U1'), ('1', '<U1')])"
       ]
      }
     ],
     "prompt_number": 240
    },
    {
     "cell_type": "code",
     "collapsed": false,
     "input": [
      "u,i,inv = np.unique(test2,return_index=True,return_inverse=True)\n",
      "u,i,inv"
     ],
     "language": "python",
     "metadata": {},
     "outputs": [
      {
       "metadata": {},
       "output_type": "pyout",
       "prompt_number": 241,
       "text": [
        "(ValuesMatrix([(u'\\u4eca', u'\\u5929'), (u'\\u5929', u'\\u5929'),\n",
        "        (u'\\u5929', u'\\u6c23'), (u'\\u5f88', u'\\u597d'),\n",
        "        (u'\\u5f88', u'\\u721b'), (u'\\u6c23', u'\\u5f88')], \n",
        "       dtype=[('0', '<U1'), ('1', '<U1')]),\n",
        " ValuesMatrix([0, 1, 2, 4, 9, 3]),\n",
        " array([0, 1, 2, 5, 3, 0, 1, 2, 5, 4]))"
       ]
      }
     ],
     "prompt_number": 241
    },
    {
     "cell_type": "code",
     "collapsed": false,
     "input": [
      "idx_mat = IndexMatrix(inv)\n",
      "print idx_mat._is_1d\n",
      "idx_mat\n"
     ],
     "language": "python",
     "metadata": {},
     "outputs": [
      {
       "output_type": "stream",
       "stream": "stdout",
       "text": [
        "True\n"
       ]
      },
      {
       "metadata": {},
       "output_type": "pyout",
       "prompt_number": 242,
       "text": [
        "IndexMatrix([[0, 1, 2, 5, 3, 0, 1, 2, 5, 4]])"
       ]
      }
     ],
     "prompt_number": 242
    },
    {
     "cell_type": "code",
     "collapsed": false,
     "input": [
      "idx_mat = IndexMatrix(inv)\n",
      "StatesMatrix(test[i,:],eval_cls=ValuesMatrix)[idx_mat._as_1d_array,:]"
     ],
     "language": "python",
     "metadata": {},
     "outputs": [
      {
       "metadata": {},
       "output_type": "pyout",
       "prompt_number": 243,
       "text": [
        "StatesMatrix([[u'\\u4eca', u'\\u5929'],\n",
        "       [u'\\u5929', u'\\u5929'],\n",
        "       [u'\\u5929', u'\\u6c23'],\n",
        "       [u'\\u6c23', u'\\u5f88'],\n",
        "       [u'\\u5f88', u'\\u597d'],\n",
        "       [u'\\u4eca', u'\\u5929'],\n",
        "       [u'\\u5929', u'\\u5929'],\n",
        "       [u'\\u5929', u'\\u6c23'],\n",
        "       [u'\\u6c23', u'\\u5f88'],\n",
        "       [u'\\u5f88', u'\\u721b']], \n",
        "      dtype='<U1')"
       ]
      }
     ],
     "prompt_number": 243
    },
    {
     "cell_type": "code",
     "collapsed": false,
     "input": [
      "StatesMatrix(test[i,:],eval_cls=ValuesMatrix,is_row_struct=True)._eval(idx_mat)"
     ],
     "language": "python",
     "metadata": {},
     "outputs": [
      {
       "metadata": {},
       "output_type": "pyout",
       "prompt_number": 244,
       "text": [
        "ValuesMatrix([[u'\\u4eca', u'\\u5929'],\n",
        "       [u'\\u5929', u'\\u5929'],\n",
        "       [u'\\u5929', u'\\u6c23'],\n",
        "       [u'\\u6c23', u'\\u5f88'],\n",
        "       [u'\\u5f88', u'\\u597d'],\n",
        "       [u'\\u4eca', u'\\u5929'],\n",
        "       [u'\\u5929', u'\\u5929'],\n",
        "       [u'\\u5929', u'\\u6c23'],\n",
        "       [u'\\u6c23', u'\\u5f88'],\n",
        "       [u'\\u5f88', u'\\u721b']], \n",
        "      dtype='<U1')"
       ]
      }
     ],
     "prompt_number": 244
    },
    {
     "cell_type": "code",
     "collapsed": false,
     "input": [
      "StatesMatrix(test[i,:],eval_cls=ValuesMatrix)"
     ],
     "language": "python",
     "metadata": {},
     "outputs": [
      {
       "metadata": {},
       "output_type": "pyout",
       "prompt_number": 245,
       "text": [
        "StatesMatrix([[u'\\u4eca', u'\\u5929'],\n",
        "       [u'\\u5929', u'\\u5929'],\n",
        "       [u'\\u5929', u'\\u6c23'],\n",
        "       [u'\\u5f88', u'\\u597d'],\n",
        "       [u'\\u5f88', u'\\u721b'],\n",
        "       [u'\\u6c23', u'\\u5f88']], \n",
        "      dtype='<U1')"
       ]
      }
     ],
     "prompt_number": 245
    },
    {
     "cell_type": "code",
     "collapsed": false,
     "input": [],
     "language": "python",
     "metadata": {},
     "outputs": [],
     "prompt_number": 245
    },
    {
     "cell_type": "code",
     "collapsed": false,
     "input": [
      "states_matrix, idx_matrix = test.build_values_index()\n",
      "states_matrix, idx_matrix"
     ],
     "language": "python",
     "metadata": {},
     "outputs": [
      {
       "metadata": {},
       "output_type": "pyout",
       "prompt_number": 257,
       "text": [
        "(StatesMatrix([[u'\\u4eca', u'\\u5929', u'\\u597d', u'\\u5f88', u'\\u6c23', u'\\u721b']], \n",
        "       dtype='<U1'), IndexMatrix([[0, 1],\n",
        "        [1, 1],\n",
        "        [1, 4],\n",
        "        [4, 3],\n",
        "        [3, 2],\n",
        "        [0, 1],\n",
        "        [1, 1],\n",
        "        [1, 4],\n",
        "        [4, 3],\n",
        "        [3, 5]]))"
       ]
      }
     ],
     "prompt_number": 257
    },
    {
     "cell_type": "code",
     "collapsed": false,
     "input": [
      "print np.array_equal(states_matrix._eval(idx_matrix),test)\n",
      "states_matrix._eval(idx_matrix)"
     ],
     "language": "python",
     "metadata": {},
     "outputs": [
      {
       "output_type": "stream",
       "stream": "stdout",
       "text": [
        "True\n"
       ]
      },
      {
       "metadata": {},
       "output_type": "pyout",
       "prompt_number": 258,
       "text": [
        "ValuesMatrix([[u'\\u4eca', u'\\u5929'],\n",
        "       [u'\\u5929', u'\\u5929'],\n",
        "       [u'\\u5929', u'\\u6c23'],\n",
        "       [u'\\u6c23', u'\\u5f88'],\n",
        "       [u'\\u5f88', u'\\u597d'],\n",
        "       [u'\\u4eca', u'\\u5929'],\n",
        "       [u'\\u5929', u'\\u5929'],\n",
        "       [u'\\u5929', u'\\u6c23'],\n",
        "       [u'\\u6c23', u'\\u5f88'],\n",
        "       [u'\\u5f88', u'\\u721b']], \n",
        "      dtype='<U1')"
       ]
      }
     ],
     "prompt_number": 258
    },
    {
     "cell_type": "code",
     "collapsed": false,
     "input": [
      "ss,ii = idx_matrix.build_row_struct_index()\n",
      "ss,ii"
     ],
     "language": "python",
     "metadata": {},
     "outputs": [
      {
       "metadata": {},
       "output_type": "pyout",
       "prompt_number": 259,
       "text": [
        "(StatesMatrix([[0, 1],\n",
        "        [1, 1],\n",
        "        [1, 4],\n",
        "        [3, 2],\n",
        "        [3, 5],\n",
        "        [4, 3]]), IndexMatrix([[0, 1, 2, 5, 3, 0, 1, 2, 5, 4]]))"
       ]
      }
     ],
     "prompt_number": 259
    },
    {
     "cell_type": "code",
     "collapsed": false,
     "input": [
      "np.array_equal(ss._eval(ii),idx_matrix)"
     ],
     "language": "python",
     "metadata": {},
     "outputs": [
      {
       "metadata": {},
       "output_type": "pyout",
       "prompt_number": 265,
       "text": [
        "True"
       ]
      }
     ],
     "prompt_number": 265
    },
    {
     "cell_type": "code",
     "collapsed": false,
     "input": [
      "print np.array_equal(states_matrix._eval(ss._eval(ii)),test)\n",
      "states_matrix._eval(ss._eval(ii))\n"
     ],
     "language": "python",
     "metadata": {},
     "outputs": [
      {
       "output_type": "stream",
       "stream": "stdout",
       "text": [
        "True\n"
       ]
      },
      {
       "metadata": {},
       "output_type": "pyout",
       "prompt_number": 267,
       "text": [
        "ValuesMatrix([[u'\\u4eca', u'\\u5929'],\n",
        "       [u'\\u5929', u'\\u5929'],\n",
        "       [u'\\u5929', u'\\u6c23'],\n",
        "       [u'\\u6c23', u'\\u5f88'],\n",
        "       [u'\\u5f88', u'\\u597d'],\n",
        "       [u'\\u4eca', u'\\u5929'],\n",
        "       [u'\\u5929', u'\\u5929'],\n",
        "       [u'\\u5929', u'\\u6c23'],\n",
        "       [u'\\u6c23', u'\\u5f88'],\n",
        "       [u'\\u5f88', u'\\u721b']], \n",
        "      dtype='<U1')"
       ]
      }
     ],
     "prompt_number": 267
    },
    {
     "cell_type": "code",
     "collapsed": false,
     "input": [],
     "language": "python",
     "metadata": {},
     "outputs": [],
     "prompt_number": 265
    },
    {
     "cell_type": "code",
     "collapsed": false,
     "input": [],
     "language": "python",
     "metadata": {},
     "outputs": []
    },
    {
     "cell_type": "code",
     "collapsed": false,
     "input": [],
     "language": "python",
     "metadata": {},
     "outputs": [],
     "prompt_number": 248
    },
    {
     "cell_type": "code",
     "collapsed": false,
     "input": [
      "states_matrix, idx_matrix = test.build_row_struct_index()\n",
      "states_matrix, idx_matrix"
     ],
     "language": "python",
     "metadata": {},
     "outputs": [
      {
       "metadata": {},
       "output_type": "pyout",
       "prompt_number": 249,
       "text": [
        "(StatesMatrix([[u'\\u4eca', u'\\u5929'],\n",
        "        [u'\\u5929', u'\\u5929'],\n",
        "        [u'\\u5929', u'\\u6c23'],\n",
        "        [u'\\u5f88', u'\\u597d'],\n",
        "        [u'\\u5f88', u'\\u721b'],\n",
        "        [u'\\u6c23', u'\\u5f88']], \n",
        "       dtype='<U1'), IndexMatrix([[0, 1, 2, 5, 3, 0, 1, 2, 5, 4]]))"
       ]
      }
     ],
     "prompt_number": 249
    },
    {
     "cell_type": "code",
     "collapsed": false,
     "input": [
      "print np.array_equal(states_matrix._eval(idx_matrix),test)\n",
      "states_matrix._eval(idx_matrix)"
     ],
     "language": "python",
     "metadata": {},
     "outputs": [
      {
       "output_type": "stream",
       "stream": "stdout",
       "text": [
        "True\n"
       ]
      },
      {
       "metadata": {},
       "output_type": "pyout",
       "prompt_number": 250,
       "text": [
        "ValuesMatrix([[u'\\u4eca', u'\\u5929'],\n",
        "       [u'\\u5929', u'\\u5929'],\n",
        "       [u'\\u5929', u'\\u6c23'],\n",
        "       [u'\\u6c23', u'\\u5f88'],\n",
        "       [u'\\u5f88', u'\\u597d'],\n",
        "       [u'\\u4eca', u'\\u5929'],\n",
        "       [u'\\u5929', u'\\u5929'],\n",
        "       [u'\\u5929', u'\\u6c23'],\n",
        "       [u'\\u6c23', u'\\u5f88'],\n",
        "       [u'\\u5f88', u'\\u721b']], \n",
        "      dtype='<U1')"
       ]
      }
     ],
     "prompt_number": 250
    },
    {
     "cell_type": "code",
     "collapsed": false,
     "input": [],
     "language": "python",
     "metadata": {},
     "outputs": [],
     "prompt_number": 250
    },
    {
     "cell_type": "code",
     "collapsed": false,
     "input": [],
     "language": "python",
     "metadata": {},
     "outputs": [],
     "prompt_number": 250
    },
    {
     "cell_type": "code",
     "collapsed": false,
     "input": [],
     "language": "python",
     "metadata": {},
     "outputs": [],
     "prompt_number": 250
    },
    {
     "cell_type": "code",
     "collapsed": false,
     "input": [],
     "language": "python",
     "metadata": {},
     "outputs": [],
     "prompt_number": 250
    },
    {
     "cell_type": "code",
     "collapsed": false,
     "input": [
      "val_mat1 = ValuesMatrix(list(tools.ngram(test_text_df[\"text\"].values[0],[1])),force2d=\"as_row\")\n",
      "print val_mat1._is_1d\n",
      "np.concatenate((val_mat1,val_mat1),axis=1)"
     ],
     "language": "python",
     "metadata": {},
     "outputs": [
      {
       "output_type": "stream",
       "stream": "stdout",
       "text": [
        "True\n"
       ]
      },
      {
       "metadata": {},
       "output_type": "pyout",
       "prompt_number": 251,
       "text": [
        "array([[u'\\u4eca', u'\\u5929', u'\\u5929', u'\\u6c23', u'\\u5f88', u'\\u597d',\n",
        "        u'\\u4eca', u'\\u5929', u'\\u5929', u'\\u6c23', u'\\u5f88', u'\\u597d']], \n",
        "      dtype='<U1')"
       ]
      }
     ],
     "prompt_number": 251
    },
    {
     "cell_type": "code",
     "collapsed": false,
     "input": [
      "val_mat1 = ValuesMatrix(list(tools.ngram(test_text_df[\"text\"].values[0],[1])),force2d=\"as_col\")\n",
      "s1,idx1 = val_mat1._1d_ngram(2).decompose_into_states_and_idx()\n",
      "s1,idx1"
     ],
     "language": "python",
     "metadata": {},
     "outputs": [
      {
       "ename": "AttributeError",
       "evalue": "'ValuesMatrix' object has no attribute 'decompose_into_states_and_idx'",
       "output_type": "pyerr",
       "traceback": [
        "\u001b[1;31m---------------------------------------------------------------------------\u001b[0m\n\u001b[1;31mAttributeError\u001b[0m                            Traceback (most recent call last)",
        "\u001b[1;32m<ipython-input-252-06be1bd7a156>\u001b[0m in \u001b[0;36m<module>\u001b[1;34m()\u001b[0m\n\u001b[0;32m      1\u001b[0m \u001b[0mval_mat1\u001b[0m \u001b[1;33m=\u001b[0m \u001b[0mValuesMatrix\u001b[0m\u001b[1;33m(\u001b[0m\u001b[0mlist\u001b[0m\u001b[1;33m(\u001b[0m\u001b[0mtools\u001b[0m\u001b[1;33m.\u001b[0m\u001b[0mngram\u001b[0m\u001b[1;33m(\u001b[0m\u001b[0mtest_text_df\u001b[0m\u001b[1;33m[\u001b[0m\u001b[1;34m\"text\"\u001b[0m\u001b[1;33m]\u001b[0m\u001b[1;33m.\u001b[0m\u001b[0mvalues\u001b[0m\u001b[1;33m[\u001b[0m\u001b[1;36m0\u001b[0m\u001b[1;33m]\u001b[0m\u001b[1;33m,\u001b[0m\u001b[1;33m[\u001b[0m\u001b[1;36m1\u001b[0m\u001b[1;33m]\u001b[0m\u001b[1;33m)\u001b[0m\u001b[1;33m)\u001b[0m\u001b[1;33m,\u001b[0m\u001b[0mforce2d\u001b[0m\u001b[1;33m=\u001b[0m\u001b[1;34m\"as_col\"\u001b[0m\u001b[1;33m)\u001b[0m\u001b[1;33m\u001b[0m\u001b[0m\n\u001b[1;32m----> 2\u001b[1;33m \u001b[0ms1\u001b[0m\u001b[1;33m,\u001b[0m\u001b[0midx1\u001b[0m \u001b[1;33m=\u001b[0m \u001b[0mval_mat1\u001b[0m\u001b[1;33m.\u001b[0m\u001b[0m_1d_ngram\u001b[0m\u001b[1;33m(\u001b[0m\u001b[1;36m2\u001b[0m\u001b[1;33m)\u001b[0m\u001b[1;33m.\u001b[0m\u001b[0mdecompose_into_states_and_idx\u001b[0m\u001b[1;33m(\u001b[0m\u001b[1;33m)\u001b[0m\u001b[1;33m\u001b[0m\u001b[0m\n\u001b[0m\u001b[0;32m      3\u001b[0m \u001b[0ms1\u001b[0m\u001b[1;33m,\u001b[0m\u001b[0midx1\u001b[0m\u001b[1;33m\u001b[0m\u001b[0m\n",
        "\u001b[1;31mAttributeError\u001b[0m: 'ValuesMatrix' object has no attribute 'decompose_into_states_and_idx'"
       ]
      }
     ],
     "prompt_number": 252
    },
    {
     "cell_type": "code",
     "collapsed": false,
     "input": [
      "val_mat2 = ValuesMatrix(list(tools.ngram(test_text_df[\"text\"].values[1],[1])),force2d=\"as_col\")\n",
      "s2,idx2 = val_mat2._1d_ngram(2).decompose_into_states_and_idx()\n",
      "s2,idx2"
     ],
     "language": "python",
     "metadata": {},
     "outputs": [
      {
       "ename": "AttributeError",
       "evalue": "'ValuesMatrix' object has no attribute 'decompose_into_states_and_idx'",
       "output_type": "pyerr",
       "traceback": [
        "\u001b[1;31m---------------------------------------------------------------------------\u001b[0m\n\u001b[1;31mAttributeError\u001b[0m                            Traceback (most recent call last)",
        "\u001b[1;32m<ipython-input-253-f24f49e3aaa9>\u001b[0m in \u001b[0;36m<module>\u001b[1;34m()\u001b[0m\n\u001b[0;32m      1\u001b[0m \u001b[0mval_mat2\u001b[0m \u001b[1;33m=\u001b[0m \u001b[0mValuesMatrix\u001b[0m\u001b[1;33m(\u001b[0m\u001b[0mlist\u001b[0m\u001b[1;33m(\u001b[0m\u001b[0mtools\u001b[0m\u001b[1;33m.\u001b[0m\u001b[0mngram\u001b[0m\u001b[1;33m(\u001b[0m\u001b[0mtest_text_df\u001b[0m\u001b[1;33m[\u001b[0m\u001b[1;34m\"text\"\u001b[0m\u001b[1;33m]\u001b[0m\u001b[1;33m.\u001b[0m\u001b[0mvalues\u001b[0m\u001b[1;33m[\u001b[0m\u001b[1;36m1\u001b[0m\u001b[1;33m]\u001b[0m\u001b[1;33m,\u001b[0m\u001b[1;33m[\u001b[0m\u001b[1;36m1\u001b[0m\u001b[1;33m]\u001b[0m\u001b[1;33m)\u001b[0m\u001b[1;33m)\u001b[0m\u001b[1;33m,\u001b[0m\u001b[0mforce2d\u001b[0m\u001b[1;33m=\u001b[0m\u001b[1;34m\"as_col\"\u001b[0m\u001b[1;33m)\u001b[0m\u001b[1;33m\u001b[0m\u001b[0m\n\u001b[1;32m----> 2\u001b[1;33m \u001b[0ms2\u001b[0m\u001b[1;33m,\u001b[0m\u001b[0midx2\u001b[0m \u001b[1;33m=\u001b[0m \u001b[0mval_mat2\u001b[0m\u001b[1;33m.\u001b[0m\u001b[0m_1d_ngram\u001b[0m\u001b[1;33m(\u001b[0m\u001b[1;36m2\u001b[0m\u001b[1;33m)\u001b[0m\u001b[1;33m.\u001b[0m\u001b[0mdecompose_into_states_and_idx\u001b[0m\u001b[1;33m(\u001b[0m\u001b[1;33m)\u001b[0m\u001b[1;33m\u001b[0m\u001b[0m\n\u001b[0m\u001b[0;32m      3\u001b[0m \u001b[0ms2\u001b[0m\u001b[1;33m,\u001b[0m\u001b[0midx2\u001b[0m\u001b[1;33m\u001b[0m\u001b[0m\n",
        "\u001b[1;31mAttributeError\u001b[0m: 'ValuesMatrix' object has no attribute 'decompose_into_states_and_idx'"
       ]
      }
     ],
     "prompt_number": 253
    },
    {
     "cell_type": "code",
     "collapsed": false,
     "input": [
      "uu,iinv = np.unique(np.concatenate((s1,s2),axis=1),return_inverse=True)\n",
      "uu = np.array([uu])\n",
      "uu,iinv"
     ],
     "language": "python",
     "metadata": {},
     "outputs": [
      {
       "ename": "NameError",
       "evalue": "name 's1' is not defined",
       "output_type": "pyerr",
       "traceback": [
        "\u001b[1;31m---------------------------------------------------------------------------\u001b[0m\n\u001b[1;31mNameError\u001b[0m                                 Traceback (most recent call last)",
        "\u001b[1;32m<ipython-input-254-bab40b49f04c>\u001b[0m in \u001b[0;36m<module>\u001b[1;34m()\u001b[0m\n\u001b[1;32m----> 1\u001b[1;33m \u001b[0muu\u001b[0m\u001b[1;33m,\u001b[0m\u001b[0miinv\u001b[0m \u001b[1;33m=\u001b[0m \u001b[0mnp\u001b[0m\u001b[1;33m.\u001b[0m\u001b[0munique\u001b[0m\u001b[1;33m(\u001b[0m\u001b[0mnp\u001b[0m\u001b[1;33m.\u001b[0m\u001b[0mconcatenate\u001b[0m\u001b[1;33m(\u001b[0m\u001b[1;33m(\u001b[0m\u001b[0ms1\u001b[0m\u001b[1;33m,\u001b[0m\u001b[0ms2\u001b[0m\u001b[1;33m)\u001b[0m\u001b[1;33m,\u001b[0m\u001b[0maxis\u001b[0m\u001b[1;33m=\u001b[0m\u001b[1;36m1\u001b[0m\u001b[1;33m)\u001b[0m\u001b[1;33m,\u001b[0m\u001b[0mreturn_inverse\u001b[0m\u001b[1;33m=\u001b[0m\u001b[0mTrue\u001b[0m\u001b[1;33m)\u001b[0m\u001b[1;33m\u001b[0m\u001b[0m\n\u001b[0m\u001b[0;32m      2\u001b[0m \u001b[0muu\u001b[0m \u001b[1;33m=\u001b[0m \u001b[0mnp\u001b[0m\u001b[1;33m.\u001b[0m\u001b[0marray\u001b[0m\u001b[1;33m(\u001b[0m\u001b[1;33m[\u001b[0m\u001b[0muu\u001b[0m\u001b[1;33m]\u001b[0m\u001b[1;33m)\u001b[0m\u001b[1;33m\u001b[0m\u001b[0m\n\u001b[0;32m      3\u001b[0m \u001b[0muu\u001b[0m\u001b[1;33m,\u001b[0m\u001b[0miinv\u001b[0m\u001b[1;33m\u001b[0m\u001b[0m\n",
        "\u001b[1;31mNameError\u001b[0m: name 's1' is not defined"
       ]
      }
     ],
     "prompt_number": 254
    },
    {
     "cell_type": "code",
     "collapsed": false,
     "input": [
      "uu[0,:]"
     ],
     "language": "python",
     "metadata": {},
     "outputs": [
      {
       "ename": "NameError",
       "evalue": "name 'uu' is not defined",
       "output_type": "pyerr",
       "traceback": [
        "\u001b[1;31m---------------------------------------------------------------------------\u001b[0m\n\u001b[1;31mNameError\u001b[0m                                 Traceback (most recent call last)",
        "\u001b[1;32m<ipython-input-255-f4741c58cbcd>\u001b[0m in \u001b[0;36m<module>\u001b[1;34m()\u001b[0m\n\u001b[1;32m----> 1\u001b[1;33m \u001b[0muu\u001b[0m\u001b[1;33m[\u001b[0m\u001b[1;36m0\u001b[0m\u001b[1;33m,\u001b[0m\u001b[1;33m:\u001b[0m\u001b[1;33m]\u001b[0m\u001b[1;33m\u001b[0m\u001b[0m\n\u001b[0m",
        "\u001b[1;31mNameError\u001b[0m: name 'uu' is not defined"
       ]
      }
     ],
     "prompt_number": 255
    },
    {
     "cell_type": "code",
     "collapsed": false,
     "input": [
      "np.eye(5),idx2[:,0]"
     ],
     "language": "python",
     "metadata": {},
     "outputs": [
      {
       "metadata": {},
       "output_type": "pyout",
       "prompt_number": 306,
       "text": [
        "(array([[ 1.,  0.,  0.,  0.,  0.],\n",
        "        [ 0.,  1.,  0.,  0.,  0.],\n",
        "        [ 0.,  0.,  1.,  0.,  0.],\n",
        "        [ 0.,  0.,  0.,  1.,  0.],\n",
        "        [ 0.,  0.,  0.,  0.,  1.]]), IndexMatrix([0, 1, 1, 3, 2]))"
       ]
      }
     ],
     "prompt_number": 306
    },
    {
     "cell_type": "code",
     "collapsed": false,
     "input": [
      "np.dot(np.eye(5),idx2)"
     ],
     "language": "python",
     "metadata": {},
     "outputs": [
      {
       "metadata": {},
       "output_type": "pyout",
       "prompt_number": 307,
       "text": [
        "array([[ 0.,  1.],\n",
        "       [ 1.,  1.],\n",
        "       [ 1.,  3.],\n",
        "       [ 3.,  2.],\n",
        "       [ 2.,  4.]])"
       ]
      }
     ],
     "prompt_number": 307
    },
    {
     "cell_type": "code",
     "collapsed": false,
     "input": [
      "sp.sparse.coo_matrix((3*np.ones(5),(np.arange(5),np.arange(5))))*idx2"
     ],
     "language": "python",
     "metadata": {},
     "outputs": [
      {
       "metadata": {},
       "output_type": "pyout",
       "prompt_number": 308,
       "text": [
        "array([[  0.,   3.],\n",
        "       [  3.,   3.],\n",
        "       [  3.,   9.],\n",
        "       [  9.,   6.],\n",
        "       [  6.,  12.]])"
       ]
      }
     ],
     "prompt_number": 308
    },
    {
     "cell_type": "code",
     "collapsed": false,
     "input": [],
     "language": "python",
     "metadata": {},
     "outputs": [],
     "prompt_number": 308
    },
    {
     "cell_type": "code",
     "collapsed": false,
     "input": [],
     "language": "python",
     "metadata": {},
     "outputs": [],
     "prompt_number": 308
    },
    {
     "cell_type": "code",
     "collapsed": false,
     "input": [],
     "language": "python",
     "metadata": {},
     "outputs": [],
     "prompt_number": 308
    },
    {
     "cell_type": "code",
     "collapsed": false,
     "input": [
      "test = np.concatenate((idx1,idx2),axis=0)\n",
      "test2 = np.concatenate((idx1,idx2),axis=0)\n",
      "test2"
     ],
     "language": "python",
     "metadata": {},
     "outputs": [
      {
       "metadata": {},
       "output_type": "pyout",
       "prompt_number": 309,
       "text": [
        "array([[0, 1],\n",
        "       [1, 1],\n",
        "       [1, 4],\n",
        "       [4, 3],\n",
        "       [3, 2],\n",
        "       [0, 1],\n",
        "       [1, 1],\n",
        "       [1, 3],\n",
        "       [3, 2],\n",
        "       [2, 4]])"
       ]
      }
     ],
     "prompt_number": 309
    },
    {
     "cell_type": "code",
     "collapsed": false,
     "input": [
      "test2.dtype = np.dtype([(\"1\",test.dtype),(\"2\",test.dtype)])"
     ],
     "language": "python",
     "metadata": {},
     "outputs": [],
     "prompt_number": 310
    },
    {
     "cell_type": "code",
     "collapsed": false,
     "input": [
      "u,i,inv = np.unique(test2,return_index=True,return_inverse=True)\n",
      "u,i,inv"
     ],
     "language": "python",
     "metadata": {},
     "outputs": [
      {
       "metadata": {},
       "output_type": "pyout",
       "prompt_number": 311,
       "text": [
        "(array([(0, 1), (1, 1), (1, 3), (1, 4), (2, 4), (3, 2), (4, 3)], \n",
        "       dtype=[('1', '<i8'), ('2', '<i8')]),\n",
        " array([0, 1, 7, 2, 9, 4, 3]),\n",
        " array([0, 1, 3, 6, 5, 0, 1, 2, 5, 4]))"
       ]
      }
     ],
     "prompt_number": 311
    },
    {
     "cell_type": "code",
     "collapsed": false,
     "input": [
      "StatesMatrix(test[i,:])._eval(IndexMatrix(inv))"
     ],
     "language": "python",
     "metadata": {},
     "outputs": [
      {
       "metadata": {},
       "output_type": "pyout",
       "prompt_number": 312,
       "text": [
        "array([[[0, 1],\n",
        "        [1, 1],\n",
        "        [1, 4],\n",
        "        [4, 3],\n",
        "        [3, 2],\n",
        "        [0, 1],\n",
        "        [1, 1],\n",
        "        [1, 3],\n",
        "        [3, 2],\n",
        "        [2, 4]]])"
       ]
      }
     ],
     "prompt_number": 312
    },
    {
     "cell_type": "code",
     "collapsed": false,
     "input": [],
     "language": "python",
     "metadata": {},
     "outputs": []
    },
    {
     "cell_type": "code",
     "collapsed": false,
     "input": [],
     "language": "python",
     "metadata": {},
     "outputs": []
    },
    {
     "cell_type": "code",
     "collapsed": false,
     "input": [
      "test[i,:][inv,:]"
     ],
     "language": "python",
     "metadata": {},
     "outputs": [
      {
       "metadata": {},
       "output_type": "pyout",
       "prompt_number": 256,
       "text": [
        "array([[0, 1],\n",
        "       [1, 1],\n",
        "       [1, 4],\n",
        "       [4, 3],\n",
        "       [3, 2],\n",
        "       [0, 1],\n",
        "       [1, 1],\n",
        "       [1, 3],\n",
        "       [3, 2],\n",
        "       [2, 4]])"
       ]
      }
     ],
     "prompt_number": 256
    },
    {
     "cell_type": "code",
     "collapsed": false,
     "input": [],
     "language": "python",
     "metadata": {},
     "outputs": []
    },
    {
     "cell_type": "code",
     "collapsed": false,
     "input": [],
     "language": "python",
     "metadata": {},
     "outputs": []
    },
    {
     "cell_type": "code",
     "collapsed": false,
     "input": [],
     "language": "python",
     "metadata": {},
     "outputs": []
    },
    {
     "cell_type": "code",
     "collapsed": false,
     "input": [],
     "language": "python",
     "metadata": {},
     "outputs": [],
     "prompt_number": 242
    },
    {
     "cell_type": "code",
     "collapsed": false,
     "input": [
      "new_val_mat1 = ValuesMatrix(val_mat1)\n",
      "new_val_mat1"
     ],
     "language": "python",
     "metadata": {},
     "outputs": [
      {
       "metadata": {},
       "output_type": "pyout",
       "prompt_number": 217,
       "text": [
        "ValuesMatrix([[u'\\u4eca', u'\\u5929', u'\\u5929', u'\\u6c23', u'\\u5f88', u'\\u597d']], \n",
        "      dtype='<U1')"
       ]
      }
     ],
     "prompt_number": 217
    },
    {
     "cell_type": "code",
     "collapsed": false,
     "input": [
      "type(new_val_mat1).__dict__"
     ],
     "language": "python",
     "metadata": {},
     "outputs": [
      {
       "metadata": {},
       "output_type": "pyout",
       "prompt_number": 218,
       "text": [
        "<dictproxy {'__doc__': None, '__module__': '__main__'}>"
       ]
      }
     ],
     "prompt_number": 218
    },
    {
     "cell_type": "code",
     "collapsed": false,
     "input": [],
     "language": "python",
     "metadata": {},
     "outputs": [],
     "prompt_number": 218
    },
    {
     "cell_type": "code",
     "collapsed": false,
     "input": [],
     "language": "python",
     "metadata": {},
     "outputs": [],
     "prompt_number": 218
    },
    {
     "cell_type": "code",
     "collapsed": false,
     "input": [],
     "language": "python",
     "metadata": {},
     "outputs": [],
     "prompt_number": 218
    },
    {
     "cell_type": "code",
     "collapsed": false,
     "input": [
      "val_mat2 = ValuesMatrix(list(tools.ngram(test_text_df[\"text\"].values[0],[1])),force2d=\"as_col\")\n",
      "print val_mat2._is_1d\n",
      "val_mat2"
     ],
     "language": "python",
     "metadata": {},
     "outputs": [
      {
       "output_type": "stream",
       "stream": "stdout",
       "text": [
        "True\n"
       ]
      },
      {
       "metadata": {},
       "output_type": "pyout",
       "prompt_number": 219,
       "text": [
        "ValuesMatrix([[u'\\u4eca'],\n",
        "       [u'\\u5929'],\n",
        "       [u'\\u5929'],\n",
        "       [u'\\u6c23'],\n",
        "       [u'\\u5f88'],\n",
        "       [u'\\u597d']], \n",
        "      dtype='<U1')"
       ]
      }
     ],
     "prompt_number": 219
    },
    {
     "cell_type": "code",
     "collapsed": false,
     "input": [],
     "language": "python",
     "metadata": {},
     "outputs": [],
     "prompt_number": 219
    },
    {
     "cell_type": "code",
     "collapsed": false,
     "input": [
      "u,i,inv = np.unique(val_mat2,return_index=True,return_inverse=True)\n",
      "u,i,inv\n",
      "u[IndexMatrix(inv).reshape(val_mat2.shape)._1d_ngram(2)]"
     ],
     "language": "python",
     "metadata": {},
     "outputs": [
      {
       "metadata": {},
       "output_type": "pyout",
       "prompt_number": 231,
       "text": [
        "ValuesMatrix([[u'\\u4eca', u'\\u5929'],\n",
        "       [u'\\u5929', u'\\u5929'],\n",
        "       [u'\\u5929', u'\\u6c23'],\n",
        "       [u'\\u6c23', u'\\u5f88'],\n",
        "       [u'\\u5f88', u'\\u597d']], \n",
        "      dtype='<U1')"
       ]
      }
     ],
     "prompt_number": 231
    },
    {
     "cell_type": "code",
     "collapsed": false,
     "input": [
      "u,i,inv = np.unique(val_mat1._1d_ngram(4),return_index=True,return_inverse=True)\n",
      "u,i,inv"
     ],
     "language": "python",
     "metadata": {},
     "outputs": [
      {
       "metadata": {},
       "output_type": "pyout",
       "prompt_number": 220,
       "text": [
        "(ValuesMatrix([u'\\u4eca', u'\\u5929', u'\\u597d', u'\\u5f88', u'\\u6c23'], \n",
        "       dtype='<U1'),\n",
        " ValuesMatrix([ 0,  1, 11,  7,  3]),\n",
        " array([0, 1, 1, 4, 1, 1, 4, 3, 1, 4, 3, 2]))"
       ]
      }
     ],
     "prompt_number": 220
    },
    {
     "cell_type": "code",
     "collapsed": false,
     "input": [
      "IndexMatrix(inv).reshape(val_mat1._1d_ngram(4).shape)"
     ],
     "language": "python",
     "metadata": {},
     "outputs": [
      {
       "metadata": {},
       "output_type": "pyout",
       "prompt_number": 221,
       "text": [
        "IndexMatrix([[0, 1, 1, 4],\n",
        "       [1, 1, 4, 3],\n",
        "       [1, 4, 3, 2]])"
       ]
      }
     ],
     "prompt_number": 221
    },
    {
     "cell_type": "code",
     "collapsed": false,
     "input": [
      "states_mat = StatesMatrix(u, eval_cls=ValuesMatrix)\n",
      "states_mat"
     ],
     "language": "python",
     "metadata": {},
     "outputs": [
      {
       "metadata": {},
       "output_type": "pyout",
       "prompt_number": 223,
       "text": [
        "StatesMatrix([[u'\\u4eca', u'\\u5929', u'\\u597d', u'\\u5f88', u'\\u6c23']], \n",
        "      dtype='<U1')"
       ]
      }
     ],
     "prompt_number": 223
    },
    {
     "cell_type": "code",
     "collapsed": false,
     "input": [],
     "language": "python",
     "metadata": {},
     "outputs": [],
     "prompt_number": 223
    },
    {
     "cell_type": "code",
     "collapsed": false,
     "input": [
      "states_mat._1d_eval(IndexMatrix(inv).reshape(val_mat1._1d_ngram(4).shape))"
     ],
     "language": "python",
     "metadata": {},
     "outputs": [
      {
       "metadata": {},
       "output_type": "pyout",
       "prompt_number": 224,
       "text": [
        "ValuesMatrix([[u'\\u4eca', u'\\u5929', u'\\u5929', u'\\u6c23'],\n",
        "       [u'\\u5929', u'\\u5929', u'\\u6c23', u'\\u5f88'],\n",
        "       [u'\\u5929', u'\\u6c23', u'\\u5f88', u'\\u597d']], \n",
        "      dtype='<U1')"
       ]
      }
     ],
     "prompt_number": 224
    },
    {
     "cell_type": "code",
     "collapsed": false,
     "input": [],
     "language": "python",
     "metadata": {},
     "outputs": []
    },
    {
     "cell_type": "code",
     "collapsed": false,
     "input": [],
     "language": "python",
     "metadata": {},
     "outputs": []
    },
    {
     "cell_type": "code",
     "collapsed": false,
     "input": [],
     "language": "python",
     "metadata": {},
     "outputs": []
    },
    {
     "cell_type": "code",
     "collapsed": false,
     "input": [
      "class A(object):\n",
      "    @classmethod\n",
      "    def test(cls,*args,**kwargs):\n",
      "        print \"cls = \",cls\n",
      "        print \"args = \",args\n",
      "        print \"kwargs = \",kwargs\n",
      "        "
     ],
     "language": "python",
     "metadata": {},
     "outputs": [],
     "prompt_number": 143
    },
    {
     "cell_type": "code",
     "collapsed": false,
     "input": [
      "A.test(123,123,523)"
     ],
     "language": "python",
     "metadata": {},
     "outputs": [
      {
       "output_type": "stream",
       "stream": "stdout",
       "text": [
        "cls =  <class '__main__.A'>\n",
        "args =  (123, 123, 523)\n",
        "kwargs =  {}\n"
       ]
      }
     ],
     "prompt_number": 144
    },
    {
     "cell_type": "code",
     "collapsed": false,
     "input": [
      "test_dict = {\"b\":456}\n",
      "print test_dict.get(\"b\",123)\n",
      "print test_dict.get(\"a\",123)"
     ],
     "language": "python",
     "metadata": {},
     "outputs": [
      {
       "output_type": "stream",
       "stream": "stdout",
       "text": [
        "456\n",
        "123\n"
       ]
      }
     ],
     "prompt_number": 150
    },
    {
     "cell_type": "code",
     "collapsed": false,
     "input": [],
     "language": "python",
     "metadata": {},
     "outputs": [],
     "prompt_number": 149
    },
    {
     "cell_type": "code",
     "collapsed": false,
     "input": [],
     "language": "python",
     "metadata": {},
     "outputs": []
    },
    {
     "cell_type": "code",
     "collapsed": false,
     "input": [],
     "language": "python",
     "metadata": {},
     "outputs": []
    },
    {
     "cell_type": "code",
     "collapsed": false,
     "input": [
      "\n"
     ],
     "language": "python",
     "metadata": {},
     "outputs": [],
     "prompt_number": 110
    },
    {
     "cell_type": "code",
     "collapsed": false,
     "input": [
      "val_mat1.shape[1]"
     ],
     "language": "python",
     "metadata": {},
     "outputs": [
      {
       "metadata": {},
       "output_type": "pyout",
       "prompt_number": 70,
       "text": [
        "6"
       ]
      }
     ],
     "prompt_number": 70
    },
    {
     "cell_type": "code",
     "collapsed": false,
     "input": [],
     "language": "python",
     "metadata": {},
     "outputs": [],
     "prompt_number": 70
    },
    {
     "cell_type": "code",
     "collapsed": false,
     "input": [
      "np.r_[tuple(tools.ngram(val_mat2.flatten(),2))]"
     ],
     "language": "python",
     "metadata": {},
     "outputs": [
      {
       "metadata": {},
       "output_type": "pyout",
       "prompt_number": 85,
       "text": [
        "array([u'\\u4eca', u'\\u5929', u'\\u5929', u'\\u5929', u'\\u5929', u'\\u6c23',\n",
        "       u'\\u6c23', u'\\u5f88', u'\\u5f88', u'\\u597d'], \n",
        "      dtype='<U1')"
       ]
      }
     ],
     "prompt_number": 85
    },
    {
     "cell_type": "code",
     "collapsed": false,
     "input": [
      "tuple(val_mat2[k:k+n,:].T for k in range(val_mat2._nrow-n+1))"
     ],
     "language": "python",
     "metadata": {},
     "outputs": [
      {
       "metadata": {},
       "output_type": "pyout",
       "prompt_number": 81,
       "text": [
        "(ValuesMatrix([[u'\\u4eca', u'\\u5929']], \n",
        "       dtype='<U1'), ValuesMatrix([[u'\\u5929', u'\\u5929']], \n",
        "       dtype='<U1'), ValuesMatrix([[u'\\u5929', u'\\u6c23']], \n",
        "       dtype='<U1'), ValuesMatrix([[u'\\u6c23', u'\\u5f88']], \n",
        "       dtype='<U1'), ValuesMatrix([[u'\\u5f88', u'\\u597d']], \n",
        "       dtype='<U1'))"
       ]
      }
     ],
     "prompt_number": 81
    },
    {
     "cell_type": "code",
     "collapsed": false,
     "input": [
      "n=2\n",
      "ngrm_mat = Matrix(np.r_[tuple(val_mat2[k:k+n,:].T for k in range(val_mat2._nrow-n+1))])\n",
      "ngrm_mat\n",
      "    \n",
      "    "
     ],
     "language": "python",
     "metadata": {},
     "outputs": [
      {
       "metadata": {},
       "output_type": "pyout",
       "prompt_number": 88,
       "text": [
        "Matrix([[u'\\u4eca', u'\\u5929'],\n",
        "       [u'\\u5929', u'\\u5929'],\n",
        "       [u'\\u5929', u'\\u6c23'],\n",
        "       [u'\\u6c23', u'\\u5f88'],\n",
        "       [u'\\u5f88', u'\\u597d']], \n",
        "      dtype='<U1')"
       ]
      }
     ],
     "prompt_number": 88
    },
    {
     "cell_type": "code",
     "collapsed": false,
     "input": [
      "n=2\n",
      "for k in range(ngrm_mat._nrow-n+1):\n",
      "    print ngrm_mat[k:k+n,:]\n"
     ],
     "language": "python",
     "metadata": {},
     "outputs": [
      {
       "output_type": "stream",
       "stream": "stdout",
       "text": [
        "[[u'\\u4eca' u'\\u5929']\n",
        " [u'\\u5929' u'\\u5929']]\n",
        "[[u'\\u5929' u'\\u5929']\n",
        " [u'\\u5929' u'\\u6c23']]\n",
        "[[u'\\u5929' u'\\u6c23']\n",
        " [u'\\u6c23' u'\\u5f88']]\n",
        "[[u'\\u6c23' u'\\u5f88']\n",
        " [u'\\u5f88' u'\\u597d']]\n"
       ]
      }
     ],
     "prompt_number": 97
    },
    {
     "cell_type": "code",
     "collapsed": false,
     "input": [
      "\n",
      "\n",
      "        \n",
      "class StatesDictionary(object):\n",
      "    def __init__(self, states_matrix):\n",
      "        assert isinstance(states_matrix, StatesMatrix)\n",
      "        self._states_matrix = states_matrix\n",
      "        self._referred_by = []\n",
      "    \n",
      "    @property\n",
      "    def dtype(self):\n",
      "        return self._states_matrix.dtype\n",
      "    \n",
      "    @property\n",
      "    def _eval_cls(self):\n",
      "        return self._states_matrix._eval_cls\n",
      "        \n",
      "    def __repr__(self):\n",
      "        return u\"{StatesDictionary} \" + self._states_matrix.__repr__()        \n",
      "\n",
      "    def add_ref(self, idx_data_matrix):\n",
      "        assert isinstance(idx_data_matrix, IndexedDataMatrix)\n",
      "        if not (idx_data_matrix in self._referred_by):\n",
      "            self._referred_by.append(idx_data_matrix)\n",
      "            \n",
      "    def remove_ref(self, idx_data_matrix):\n",
      "        assert isinstance(idx_data_matrix, IndexedDataMatrix)\n",
      "        if idx_data_matrix in self._referred_by:\n",
      "            self._referred_by.remove(idx_data_matrix)\n",
      "    \n",
      "\n",
      "class IndexedDataMatrix(object):\n",
      "    def __init__(self, states_data, index_matrix):\n",
      "        \n",
      "        assert isinstance(index_matrix, IndexMatrix)\n",
      "        self._idx_matrix = index_matrix    \n",
      "        \n",
      "        \n",
      "        assert isinstance(states_data,(StatesDictionary,StatesMatrix))\n",
      "        if isinstance(states_array,StatesDictionary):\n",
      "            self._states_dict = states_data\n",
      "        else:\n",
      "            self._states_dict = StatesDictionary(states_matrix=states_data)\n",
      "        \n",
      "        self._states_dict._referred_by.append(self)\n",
      "    \n"
     ],
     "language": "python",
     "metadata": {},
     "outputs": [],
     "prompt_number": 11
    },
    {
     "cell_type": "code",
     "collapsed": false,
     "input": [],
     "language": "python",
     "metadata": {},
     "outputs": []
    }
   ],
   "metadata": {}
  }
 ]
}