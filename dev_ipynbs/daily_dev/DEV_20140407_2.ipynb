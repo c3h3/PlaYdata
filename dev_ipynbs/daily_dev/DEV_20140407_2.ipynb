{
 "metadata": {
  "name": "",
  "signature": "sha256:5581f612b8c159a3674c54d2d7674133a8d22c50fd4164d93909719e9fa7c0bd"
 },
 "nbformat": 3,
 "nbformat_minor": 0,
 "worksheets": [
  {
   "cells": [
    {
     "cell_type": "code",
     "collapsed": false,
     "input": [
      "import PlaYnlp.tokenizer as tkr \n",
      "import PlaYnlp.vectorizer as vcr\n",
      "from PlaYnlp import dataio\n",
      "\n",
      "from PlaYnlp.sparse import L0_norm_col_summarizer as L0_col_sum\n",
      "from PlaYnlp.sparse import L1_norm_col_summarizer as L1_col_sum\n",
      "import numpy as np\n",
      "import scipy as sp"
     ],
     "language": "python",
     "metadata": {},
     "outputs": [],
     "prompt_number": 1
    },
    {
     "cell_type": "code",
     "collapsed": false,
     "input": [],
     "language": "python",
     "metadata": {},
     "outputs": [],
     "prompt_number": 1
    },
    {
     "cell_type": "code",
     "collapsed": false,
     "input": [],
     "language": "python",
     "metadata": {},
     "outputs": [],
     "prompt_number": 1
    },
    {
     "cell_type": "code",
     "collapsed": false,
     "input": [
      "import pandas as pd \n",
      "test_text_df = pd.DataFrame([u\"\u4eca\u5929\u5929\u6c23\u5f88\u597d\",u\"\u4eca\u5929\u5929\u6c23\u5f88\u721b\",u\"\u6211\u6068\u5b83\",u\"\u5b83\u6068\u6211\",u\"\u6211\u611b\u5b83\",u\"\u5b83\u611b\u6211\",u\"\u4eca\u5929\u5f88\u8870\",u\"\u65e5\u5b50\u4e00\u5929\u4e00\u5929\u904e\",u\"\u5929\u5929\u5237\u7259\u6d17\u81c9\"])\n",
      "test_text_df.columns = [\"text\"]\n",
      "test_text_df = test_text_df.reset_index()\n",
      "test_text_df[\"idx\"] = map(lambda xx :u\"%05d\" % xx,test_text_df[\"index\"])\n",
      "test_text_df[\"r1\"] = np.random.randn(test_text_df.shape[0])\n",
      "test_text_df[\"r2\"] = np.random.randn(test_text_df.shape[0])\n",
      "test_text_df"
     ],
     "language": "python",
     "metadata": {},
     "outputs": [
      {
       "html": [
        "<div style=\"max-height:1000px;max-width:1500px;overflow:auto;\">\n",
        "<table border=\"1\" class=\"dataframe\">\n",
        "  <thead>\n",
        "    <tr style=\"text-align: right;\">\n",
        "      <th></th>\n",
        "      <th>index</th>\n",
        "      <th>text</th>\n",
        "      <th>idx</th>\n",
        "      <th>r1</th>\n",
        "      <th>r2</th>\n",
        "    </tr>\n",
        "  </thead>\n",
        "  <tbody>\n",
        "    <tr>\n",
        "      <th>0</th>\n",
        "      <td> 0</td>\n",
        "      <td>  \u4eca\u5929\u5929\u6c23\u5f88\u597d</td>\n",
        "      <td> 00000</td>\n",
        "      <td> 0.139363</td>\n",
        "      <td>-0.638301</td>\n",
        "    </tr>\n",
        "    <tr>\n",
        "      <th>1</th>\n",
        "      <td> 1</td>\n",
        "      <td>  \u4eca\u5929\u5929\u6c23\u5f88\u721b</td>\n",
        "      <td> 00001</td>\n",
        "      <td> 2.492873</td>\n",
        "      <td> 0.326910</td>\n",
        "    </tr>\n",
        "    <tr>\n",
        "      <th>2</th>\n",
        "      <td> 2</td>\n",
        "      <td>     \u6211\u6068\u5b83</td>\n",
        "      <td> 00002</td>\n",
        "      <td>-1.582686</td>\n",
        "      <td> 0.772076</td>\n",
        "    </tr>\n",
        "    <tr>\n",
        "      <th>3</th>\n",
        "      <td> 3</td>\n",
        "      <td>     \u5b83\u6068\u6211</td>\n",
        "      <td> 00003</td>\n",
        "      <td> 1.359488</td>\n",
        "      <td> 1.247547</td>\n",
        "    </tr>\n",
        "    <tr>\n",
        "      <th>4</th>\n",
        "      <td> 4</td>\n",
        "      <td>     \u6211\u611b\u5b83</td>\n",
        "      <td> 00004</td>\n",
        "      <td> 1.245229</td>\n",
        "      <td>-1.877247</td>\n",
        "    </tr>\n",
        "    <tr>\n",
        "      <th>5</th>\n",
        "      <td> 5</td>\n",
        "      <td>     \u5b83\u611b\u6211</td>\n",
        "      <td> 00005</td>\n",
        "      <td> 0.875861</td>\n",
        "      <td>-0.769448</td>\n",
        "    </tr>\n",
        "    <tr>\n",
        "      <th>6</th>\n",
        "      <td> 6</td>\n",
        "      <td>    \u4eca\u5929\u5f88\u8870</td>\n",
        "      <td> 00006</td>\n",
        "      <td> 0.916530</td>\n",
        "      <td>-2.679037</td>\n",
        "    </tr>\n",
        "    <tr>\n",
        "      <th>7</th>\n",
        "      <td> 7</td>\n",
        "      <td> \u65e5\u5b50\u4e00\u5929\u4e00\u5929\u904e</td>\n",
        "      <td> 00007</td>\n",
        "      <td> 0.475842</td>\n",
        "      <td>-0.993658</td>\n",
        "    </tr>\n",
        "    <tr>\n",
        "      <th>8</th>\n",
        "      <td> 8</td>\n",
        "      <td>  \u5929\u5929\u5237\u7259\u6d17\u81c9</td>\n",
        "      <td> 00008</td>\n",
        "      <td>-0.557989</td>\n",
        "      <td> 0.445352</td>\n",
        "    </tr>\n",
        "  </tbody>\n",
        "</table>\n",
        "<p>9 rows \u00d7 5 columns</p>\n",
        "</div>"
       ],
       "metadata": {},
       "output_type": "pyout",
       "prompt_number": 2,
       "text": [
        "   index     text    idx        r1        r2\n",
        "0      0   \u4eca\u5929\u5929\u6c23\u5f88\u597d  00000  0.139363 -0.638301\n",
        "1      1   \u4eca\u5929\u5929\u6c23\u5f88\u721b  00001  2.492873  0.326910\n",
        "2      2      \u6211\u6068\u5b83  00002 -1.582686  0.772076\n",
        "3      3      \u5b83\u6068\u6211  00003  1.359488  1.247547\n",
        "4      4      \u6211\u611b\u5b83  00004  1.245229 -1.877247\n",
        "5      5      \u5b83\u611b\u6211  00005  0.875861 -0.769448\n",
        "6      6     \u4eca\u5929\u5f88\u8870  00006  0.916530 -2.679037\n",
        "7      7  \u65e5\u5b50\u4e00\u5929\u4e00\u5929\u904e  00007  0.475842 -0.993658\n",
        "8      8   \u5929\u5929\u5237\u7259\u6d17\u81c9  00008 -0.557989  0.445352\n",
        "\n",
        "[9 rows x 5 columns]"
       ]
      }
     ],
     "prompt_number": 2
    },
    {
     "cell_type": "code",
     "collapsed": false,
     "input": [
      "import numpy as np\n",
      "import inspect\n",
      "import types\n",
      "import PlaYnlp.tokenizer as tkr \n",
      "from PlaYdata.util.args_tools import check_type_of_args\n",
      "import PlaYdata.util.array_tools as tools\n",
      "import PlaYdata.util.np_tools as np_tools\n",
      "\n"
     ],
     "language": "python",
     "metadata": {},
     "outputs": [],
     "prompt_number": 39
    },
    {
     "cell_type": "code",
     "collapsed": false,
     "input": [
      "\n",
      "\n",
      "\n",
      "\n",
      "class Matrix(np.ndarray):\n",
      "    \n",
      "    @classmethod\n",
      "    def _preprocess_if_data_is_cls(cls, matrix,*args, **kwargs):\n",
      "        #print \"cls = \",cls\n",
      "        #print \"data = \",data\n",
      "        #print \"type(data) = \",type(data)\n",
      "        #print \"args = \",args\n",
      "        #print \"kwargs = \",kwargs\n",
      "        #eval_cls = kwargs.get(\"eval_cls\",1234)\n",
      "        #object.__setattr__(data, \"_eval_cls\", eval_cls)\n",
      "        pass\n",
      "        \n",
      "    @classmethod\n",
      "    def _preprocess_before_init_return(cls, matrix ,*args, **kwargs):\n",
      "        pass\n",
      "        \n",
      "\n",
      "    def __new__(cls, data, dtype=None, force2d=\"as_row\", *args, **kwargs):\n",
      "        \n",
      "        assert force2d in (\"as_row\",\"as_col\")\n",
      "        \n",
      "        if isinstance(data, cls):\n",
      "            values_array = data\n",
      "            cls._preprocess_if_data_is_cls(matrix=values_array,*args, **kwargs)\n",
      "            return data\n",
      "        else:\n",
      "            \n",
      "            values_array = np.array(data, dtype=dtype)\n",
      "            \n",
      "            if force2d==\"as_row\":\n",
      "                if len(values_array.shape) < 2:\n",
      "                    values_array = np.array([values_array])\n",
      "            elif force2d==\"as_col\":\n",
      "                if len(values_array.shape) < 2:\n",
      "                    values_array = np.array([values_array]).T\n",
      "            \n",
      "            if len(values_array.shape) > 2:\n",
      "                values_array = np_tools.clean_no_data_tensors(values_array)\n",
      "            \n",
      "            assert len(values_array.shape) == 2\n",
      "            \n",
      "            \n",
      "            values_array = values_array.view(cls)\n",
      "            cls._preprocess_before_init_return(matrix=values_array,*args, **kwargs)\n",
      "            \n",
      "            return values_array\n",
      "    \n",
      "    @property\n",
      "    def _is_1d(self):\n",
      "        return len(np_tools.clean_no_data_tensors(self).shape) == 1\n",
      "    \n",
      "    @property\n",
      "    def _as_1d_array(self):\n",
      "        assert self._is_1d\n",
      "        return np_tools.clean_no_data_tensors(self)\n",
      "    \n",
      "    @property\n",
      "    def _nrow(self):\n",
      "        return self.shape[0]\n",
      "    \n",
      "    @property\n",
      "    def _ncol(self):\n",
      "        return self.shape[1]\n",
      "    \n",
      "    def _1d_ngram(self, n):\n",
      "        assert self._is_1d\n",
      "        ngram_results = list(tools.ngram(self.flatten(),n))\n",
      "        return type(self)(data=ngram_results)\n",
      "    \n",
      "    \n",
      "\n",
      "class ValuesMatrix(Matrix):\n",
      "    pass\n",
      "\n",
      "\n",
      "class IndexMatrix(Matrix):\n",
      "    pass\n",
      "\n",
      "\n",
      "class StatesMatrix(Matrix):\n",
      "    \n",
      "    @classmethod\n",
      "    def _set_eval_cls(cls, matrix,*args, **kwargs):\n",
      "        eval_cls = kwargs.get(\"eval_cls\",np.ndarray)\n",
      "        object.__setattr__(matrix,\"_eval_cls\",eval_cls)\n",
      "    \n",
      "    \n",
      "    @classmethod\n",
      "    def _preprocess_if_data_is_cls(cls, matrix ,*args, **kwargs):\n",
      "        cls._set_eval_cls(matrix=matrix ,*args, **kwargs)\n",
      "    \n",
      "    \n",
      "    @classmethod\n",
      "    def _preprocess_before_init_return(cls, matrix ,*args, **kwargs):\n",
      "        cls._set_eval_cls(matrix=matrix ,*args, **kwargs)\n",
      "        \n",
      "    \n",
      "    def _1d_eval(self, idx_mat):\n",
      "        return self._as_1d_array[idx_mat].view(self._eval_cls).copy()\n",
      "        \n",
      "\n",
      "        \n",
      "class StatesDictionary(object):\n",
      "    def __init__(self, states_matrix):\n",
      "        assert isinstance(states_matrix, StatesMatrix)\n",
      "        self._states_matrix = states_matrix\n",
      "        self._referred_by = []\n",
      "    \n",
      "    @property\n",
      "    def dtype(self):\n",
      "        return self._states_matrix.dtype\n",
      "    \n",
      "    @property\n",
      "    def _eval_cls(self):\n",
      "        return self._states_matrix._eval_cls\n",
      "        \n",
      "    def __repr__(self):\n",
      "        return u\"{StatesDictionary} \" + self._states_matrix.__repr__()        \n",
      "\n",
      "    def add_ref(self, idx_data_matrix):\n",
      "        assert isinstance(idx_data_matrix, IndexedDataMatrix)\n",
      "        if not (idx_data_matrix in self._referred_by):\n",
      "            self._referred_by.append(idx_data_matrix)\n",
      "            \n",
      "    def remove_ref(self, idx_data_matrix):\n",
      "        assert isinstance(idx_data_matrix, IndexedDataMatrix)\n",
      "        if idx_data_matrix in self._referred_by:\n",
      "            self._referred_by.remove(idx_data_matrix)\n",
      "    \n",
      "\n",
      "class IndexedDataMatrix(object):\n",
      "    def __init__(self, states_data, index_matrix):\n",
      "        \n",
      "        assert isinstance(index_matrix, IndexMatrix)\n",
      "        self._idx_matrix = index_matrix    \n",
      "        \n",
      "        \n",
      "        assert isinstance(states_data,(StatesDictionary,StatesMatrix))\n",
      "        if isinstance(states_array,StatesDictionary):\n",
      "            self._states_dict = states_data\n",
      "        else:\n",
      "            self._states_dict = StatesDictionary(states_matrix=states_data)\n",
      "        \n",
      "        self._states_dict._referred_by.append(self)\n",
      "    \n",
      "    \n",
      "    "
     ],
     "language": "python",
     "metadata": {},
     "outputs": [],
     "prompt_number": 215
    },
    {
     "cell_type": "code",
     "collapsed": false,
     "input": [],
     "language": "python",
     "metadata": {},
     "outputs": [],
     "prompt_number": 215
    },
    {
     "cell_type": "code",
     "collapsed": false,
     "input": [
      "val_mat1 = ValuesMatrix(list(tools.ngram(test_text_df[\"text\"].values[0],[1])),force2d=\"as_row\")\n",
      "print val_mat1._is_1d\n",
      "val_mat1"
     ],
     "language": "python",
     "metadata": {},
     "outputs": [
      {
       "output_type": "stream",
       "stream": "stdout",
       "text": [
        "True\n"
       ]
      },
      {
       "metadata": {},
       "output_type": "pyout",
       "prompt_number": 216,
       "text": [
        "ValuesMatrix([[u'\\u4eca', u'\\u5929', u'\\u5929', u'\\u6c23', u'\\u5f88', u'\\u597d']], \n",
        "      dtype='<U1')"
       ]
      }
     ],
     "prompt_number": 216
    },
    {
     "cell_type": "code",
     "collapsed": false,
     "input": [
      "new_val_mat1 = ValuesMatrix(val_mat1)\n",
      "new_val_mat1"
     ],
     "language": "python",
     "metadata": {},
     "outputs": [
      {
       "metadata": {},
       "output_type": "pyout",
       "prompt_number": 217,
       "text": [
        "ValuesMatrix([[u'\\u4eca', u'\\u5929', u'\\u5929', u'\\u6c23', u'\\u5f88', u'\\u597d']], \n",
        "      dtype='<U1')"
       ]
      }
     ],
     "prompt_number": 217
    },
    {
     "cell_type": "code",
     "collapsed": false,
     "input": [
      "type(new_val_mat1).__dict__"
     ],
     "language": "python",
     "metadata": {},
     "outputs": [
      {
       "metadata": {},
       "output_type": "pyout",
       "prompt_number": 218,
       "text": [
        "<dictproxy {'__doc__': None, '__module__': '__main__'}>"
       ]
      }
     ],
     "prompt_number": 218
    },
    {
     "cell_type": "code",
     "collapsed": false,
     "input": [],
     "language": "python",
     "metadata": {},
     "outputs": [],
     "prompt_number": 218
    },
    {
     "cell_type": "code",
     "collapsed": false,
     "input": [],
     "language": "python",
     "metadata": {},
     "outputs": [],
     "prompt_number": 218
    },
    {
     "cell_type": "code",
     "collapsed": false,
     "input": [],
     "language": "python",
     "metadata": {},
     "outputs": [],
     "prompt_number": 218
    },
    {
     "cell_type": "code",
     "collapsed": false,
     "input": [
      "val_mat2 = ValuesMatrix(list(tools.ngram(test_text_df[\"text\"].values[0],[1])),force2d=\"as_col\")\n",
      "print val_mat2._is_1d\n",
      "val_mat2"
     ],
     "language": "python",
     "metadata": {},
     "outputs": [
      {
       "output_type": "stream",
       "stream": "stdout",
       "text": [
        "True\n"
       ]
      },
      {
       "metadata": {},
       "output_type": "pyout",
       "prompt_number": 219,
       "text": [
        "ValuesMatrix([[u'\\u4eca'],\n",
        "       [u'\\u5929'],\n",
        "       [u'\\u5929'],\n",
        "       [u'\\u6c23'],\n",
        "       [u'\\u5f88'],\n",
        "       [u'\\u597d']], \n",
        "      dtype='<U1')"
       ]
      }
     ],
     "prompt_number": 219
    },
    {
     "cell_type": "code",
     "collapsed": false,
     "input": [],
     "language": "python",
     "metadata": {},
     "outputs": [],
     "prompt_number": 219
    },
    {
     "cell_type": "code",
     "collapsed": false,
     "input": [
      "u,i,inv = np.unique(val_mat2,return_index=True,return_inverse=True)\n",
      "u,i,inv\n",
      "u[IndexMatrix(inv).reshape(val_mat2.shape)._1d_ngram(2)]"
     ],
     "language": "python",
     "metadata": {},
     "outputs": [
      {
       "metadata": {},
       "output_type": "pyout",
       "prompt_number": 231,
       "text": [
        "ValuesMatrix([[u'\\u4eca', u'\\u5929'],\n",
        "       [u'\\u5929', u'\\u5929'],\n",
        "       [u'\\u5929', u'\\u6c23'],\n",
        "       [u'\\u6c23', u'\\u5f88'],\n",
        "       [u'\\u5f88', u'\\u597d']], \n",
        "      dtype='<U1')"
       ]
      }
     ],
     "prompt_number": 231
    },
    {
     "cell_type": "code",
     "collapsed": false,
     "input": [
      "u,i,inv = np.unique(val_mat1._1d_ngram(4),return_index=True,return_inverse=True)\n",
      "u,i,inv"
     ],
     "language": "python",
     "metadata": {},
     "outputs": [
      {
       "metadata": {},
       "output_type": "pyout",
       "prompt_number": 220,
       "text": [
        "(ValuesMatrix([u'\\u4eca', u'\\u5929', u'\\u597d', u'\\u5f88', u'\\u6c23'], \n",
        "       dtype='<U1'),\n",
        " ValuesMatrix([ 0,  1, 11,  7,  3]),\n",
        " array([0, 1, 1, 4, 1, 1, 4, 3, 1, 4, 3, 2]))"
       ]
      }
     ],
     "prompt_number": 220
    },
    {
     "cell_type": "code",
     "collapsed": false,
     "input": [
      "IndexMatrix(inv).reshape(val_mat1._1d_ngram(4).shape)"
     ],
     "language": "python",
     "metadata": {},
     "outputs": [
      {
       "metadata": {},
       "output_type": "pyout",
       "prompt_number": 221,
       "text": [
        "IndexMatrix([[0, 1, 1, 4],\n",
        "       [1, 1, 4, 3],\n",
        "       [1, 4, 3, 2]])"
       ]
      }
     ],
     "prompt_number": 221
    },
    {
     "cell_type": "code",
     "collapsed": false,
     "input": [
      "states_mat = StatesMatrix(u, eval_cls=ValuesMatrix)\n",
      "states_mat"
     ],
     "language": "python",
     "metadata": {},
     "outputs": [
      {
       "metadata": {},
       "output_type": "pyout",
       "prompt_number": 223,
       "text": [
        "StatesMatrix([[u'\\u4eca', u'\\u5929', u'\\u597d', u'\\u5f88', u'\\u6c23']], \n",
        "      dtype='<U1')"
       ]
      }
     ],
     "prompt_number": 223
    },
    {
     "cell_type": "code",
     "collapsed": false,
     "input": [],
     "language": "python",
     "metadata": {},
     "outputs": [],
     "prompt_number": 223
    },
    {
     "cell_type": "code",
     "collapsed": false,
     "input": [
      "states_mat._1d_eval(IndexMatrix(inv).reshape(val_mat1._1d_ngram(4).shape))"
     ],
     "language": "python",
     "metadata": {},
     "outputs": [
      {
       "metadata": {},
       "output_type": "pyout",
       "prompt_number": 224,
       "text": [
        "ValuesMatrix([[u'\\u4eca', u'\\u5929', u'\\u5929', u'\\u6c23'],\n",
        "       [u'\\u5929', u'\\u5929', u'\\u6c23', u'\\u5f88'],\n",
        "       [u'\\u5929', u'\\u6c23', u'\\u5f88', u'\\u597d']], \n",
        "      dtype='<U1')"
       ]
      }
     ],
     "prompt_number": 224
    },
    {
     "cell_type": "code",
     "collapsed": false,
     "input": [],
     "language": "python",
     "metadata": {},
     "outputs": []
    },
    {
     "cell_type": "code",
     "collapsed": false,
     "input": [],
     "language": "python",
     "metadata": {},
     "outputs": []
    },
    {
     "cell_type": "code",
     "collapsed": false,
     "input": [],
     "language": "python",
     "metadata": {},
     "outputs": []
    },
    {
     "cell_type": "code",
     "collapsed": false,
     "input": [
      "class A(object):\n",
      "    @classmethod\n",
      "    def test(cls,*args,**kwargs):\n",
      "        print \"cls = \",cls\n",
      "        print \"args = \",args\n",
      "        print \"kwargs = \",kwargs\n",
      "        "
     ],
     "language": "python",
     "metadata": {},
     "outputs": [],
     "prompt_number": 143
    },
    {
     "cell_type": "code",
     "collapsed": false,
     "input": [
      "A.test(123,123,523)"
     ],
     "language": "python",
     "metadata": {},
     "outputs": [
      {
       "output_type": "stream",
       "stream": "stdout",
       "text": [
        "cls =  <class '__main__.A'>\n",
        "args =  (123, 123, 523)\n",
        "kwargs =  {}\n"
       ]
      }
     ],
     "prompt_number": 144
    },
    {
     "cell_type": "code",
     "collapsed": false,
     "input": [
      "test_dict = {\"b\":456}\n",
      "print test_dict.get(\"b\",123)\n",
      "print test_dict.get(\"a\",123)"
     ],
     "language": "python",
     "metadata": {},
     "outputs": [
      {
       "output_type": "stream",
       "stream": "stdout",
       "text": [
        "456\n",
        "123\n"
       ]
      }
     ],
     "prompt_number": 150
    },
    {
     "cell_type": "code",
     "collapsed": false,
     "input": [],
     "language": "python",
     "metadata": {},
     "outputs": [],
     "prompt_number": 149
    },
    {
     "cell_type": "code",
     "collapsed": false,
     "input": [],
     "language": "python",
     "metadata": {},
     "outputs": []
    },
    {
     "cell_type": "code",
     "collapsed": false,
     "input": [],
     "language": "python",
     "metadata": {},
     "outputs": []
    },
    {
     "cell_type": "code",
     "collapsed": false,
     "input": [
      "\n"
     ],
     "language": "python",
     "metadata": {},
     "outputs": [],
     "prompt_number": 110
    },
    {
     "cell_type": "code",
     "collapsed": false,
     "input": [
      "val_mat1.shape[1]"
     ],
     "language": "python",
     "metadata": {},
     "outputs": [
      {
       "metadata": {},
       "output_type": "pyout",
       "prompt_number": 70,
       "text": [
        "6"
       ]
      }
     ],
     "prompt_number": 70
    },
    {
     "cell_type": "code",
     "collapsed": false,
     "input": [],
     "language": "python",
     "metadata": {},
     "outputs": [],
     "prompt_number": 70
    },
    {
     "cell_type": "code",
     "collapsed": false,
     "input": [
      "np.r_[tuple(tools.ngram(val_mat2.flatten(),2))]"
     ],
     "language": "python",
     "metadata": {},
     "outputs": [
      {
       "metadata": {},
       "output_type": "pyout",
       "prompt_number": 85,
       "text": [
        "array([u'\\u4eca', u'\\u5929', u'\\u5929', u'\\u5929', u'\\u5929', u'\\u6c23',\n",
        "       u'\\u6c23', u'\\u5f88', u'\\u5f88', u'\\u597d'], \n",
        "      dtype='<U1')"
       ]
      }
     ],
     "prompt_number": 85
    },
    {
     "cell_type": "code",
     "collapsed": false,
     "input": [
      "tuple(val_mat2[k:k+n,:].T for k in range(val_mat2._nrow-n+1))"
     ],
     "language": "python",
     "metadata": {},
     "outputs": [
      {
       "metadata": {},
       "output_type": "pyout",
       "prompt_number": 81,
       "text": [
        "(ValuesMatrix([[u'\\u4eca', u'\\u5929']], \n",
        "       dtype='<U1'), ValuesMatrix([[u'\\u5929', u'\\u5929']], \n",
        "       dtype='<U1'), ValuesMatrix([[u'\\u5929', u'\\u6c23']], \n",
        "       dtype='<U1'), ValuesMatrix([[u'\\u6c23', u'\\u5f88']], \n",
        "       dtype='<U1'), ValuesMatrix([[u'\\u5f88', u'\\u597d']], \n",
        "       dtype='<U1'))"
       ]
      }
     ],
     "prompt_number": 81
    },
    {
     "cell_type": "code",
     "collapsed": false,
     "input": [
      "n=2\n",
      "ngrm_mat = Matrix(np.r_[tuple(val_mat2[k:k+n,:].T for k in range(val_mat2._nrow-n+1))])\n",
      "ngrm_mat\n",
      "    \n",
      "    "
     ],
     "language": "python",
     "metadata": {},
     "outputs": [
      {
       "metadata": {},
       "output_type": "pyout",
       "prompt_number": 88,
       "text": [
        "Matrix([[u'\\u4eca', u'\\u5929'],\n",
        "       [u'\\u5929', u'\\u5929'],\n",
        "       [u'\\u5929', u'\\u6c23'],\n",
        "       [u'\\u6c23', u'\\u5f88'],\n",
        "       [u'\\u5f88', u'\\u597d']], \n",
        "      dtype='<U1')"
       ]
      }
     ],
     "prompt_number": 88
    },
    {
     "cell_type": "code",
     "collapsed": false,
     "input": [
      "n=2\n",
      "for k in range(ngrm_mat._nrow-n+1):\n",
      "    print ngrm_mat[k:k+n,:]\n"
     ],
     "language": "python",
     "metadata": {},
     "outputs": [
      {
       "output_type": "stream",
       "stream": "stdout",
       "text": [
        "[[u'\\u4eca' u'\\u5929']\n",
        " [u'\\u5929' u'\\u5929']]\n",
        "[[u'\\u5929' u'\\u5929']\n",
        " [u'\\u5929' u'\\u6c23']]\n",
        "[[u'\\u5929' u'\\u6c23']\n",
        " [u'\\u6c23' u'\\u5f88']]\n",
        "[[u'\\u6c23' u'\\u5f88']\n",
        " [u'\\u5f88' u'\\u597d']]\n"
       ]
      }
     ],
     "prompt_number": 97
    },
    {
     "cell_type": "code",
     "collapsed": false,
     "input": [],
     "language": "python",
     "metadata": {},
     "outputs": []
    }
   ],
   "metadata": {}
  }
 ]
}