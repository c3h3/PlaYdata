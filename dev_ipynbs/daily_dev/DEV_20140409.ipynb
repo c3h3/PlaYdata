{
 "metadata": {
  "name": "",
  "signature": "sha256:7493fd1bbdcbce9ebd485beb987de7b52315262efafb9eda4e3c3713057b091f"
 },
 "nbformat": 3,
 "nbformat_minor": 0,
 "worksheets": [
  {
   "cells": [
    {
     "cell_type": "code",
     "collapsed": false,
     "input": [
      "import PlaYnlp.tokenizer as tkr \n",
      "import PlaYnlp.vectorizer as vcr\n",
      "from PlaYnlp import dataio\n",
      "\n",
      "from PlaYnlp.sparse import L0_norm_col_summarizer as L0_col_sum\n",
      "from PlaYnlp.sparse import L1_norm_col_summarizer as L1_col_sum\n",
      "import numpy as np\n",
      "import scipy as sp"
     ],
     "language": "python",
     "metadata": {},
     "outputs": [],
     "prompt_number": 1
    },
    {
     "cell_type": "code",
     "collapsed": false,
     "input": [],
     "language": "python",
     "metadata": {},
     "outputs": [],
     "prompt_number": 1
    },
    {
     "cell_type": "code",
     "collapsed": false,
     "input": [],
     "language": "python",
     "metadata": {},
     "outputs": [],
     "prompt_number": 1
    },
    {
     "cell_type": "code",
     "collapsed": false,
     "input": [
      "import pandas as pd \n",
      "test_text_df = pd.DataFrame([u\"\u4eca\u5929\u5929\u6c23\u5f88\u597d\",u\"\u4eca\u5929\u5929\u6c23\u5f88\u721b\",u\"\u6211\u6068\u5b83\",u\"\u5b83\u6068\u6211\",u\"\u6211\u611b\u5b83\",u\"\u5b83\u611b\u6211\",u\"\u4eca\u5929\u5f88\u8870\",u\"\u65e5\u5b50\u4e00\u5929\u4e00\u5929\u904e\",u\"\u5929\u5929\u5237\u7259\u6d17\u81c9\"])\n",
      "test_text_df.columns = [\"text\"]\n",
      "test_text_df = test_text_df.reset_index()\n",
      "test_text_df[\"idx\"] = map(lambda xx :u\"%05d\" % xx,test_text_df[\"index\"])\n",
      "test_text_df[\"r1\"] = np.random.randn(test_text_df.shape[0])\n",
      "test_text_df[\"r2\"] = np.random.randn(test_text_df.shape[0])\n",
      "test_text_df"
     ],
     "language": "python",
     "metadata": {},
     "outputs": [
      {
       "html": [
        "<div style=\"max-height:1000px;max-width:1500px;overflow:auto;\">\n",
        "<table border=\"1\" class=\"dataframe\">\n",
        "  <thead>\n",
        "    <tr style=\"text-align: right;\">\n",
        "      <th></th>\n",
        "      <th>index</th>\n",
        "      <th>text</th>\n",
        "      <th>idx</th>\n",
        "      <th>r1</th>\n",
        "      <th>r2</th>\n",
        "    </tr>\n",
        "  </thead>\n",
        "  <tbody>\n",
        "    <tr>\n",
        "      <th>0</th>\n",
        "      <td> 0</td>\n",
        "      <td>  \u4eca\u5929\u5929\u6c23\u5f88\u597d</td>\n",
        "      <td> 00000</td>\n",
        "      <td>-0.225275</td>\n",
        "      <td>-0.695711</td>\n",
        "    </tr>\n",
        "    <tr>\n",
        "      <th>1</th>\n",
        "      <td> 1</td>\n",
        "      <td>  \u4eca\u5929\u5929\u6c23\u5f88\u721b</td>\n",
        "      <td> 00001</td>\n",
        "      <td> 0.595460</td>\n",
        "      <td> 1.224478</td>\n",
        "    </tr>\n",
        "    <tr>\n",
        "      <th>2</th>\n",
        "      <td> 2</td>\n",
        "      <td>     \u6211\u6068\u5b83</td>\n",
        "      <td> 00002</td>\n",
        "      <td>-0.840319</td>\n",
        "      <td>-0.320715</td>\n",
        "    </tr>\n",
        "    <tr>\n",
        "      <th>3</th>\n",
        "      <td> 3</td>\n",
        "      <td>     \u5b83\u6068\u6211</td>\n",
        "      <td> 00003</td>\n",
        "      <td> 0.390298</td>\n",
        "      <td> 0.502906</td>\n",
        "    </tr>\n",
        "    <tr>\n",
        "      <th>4</th>\n",
        "      <td> 4</td>\n",
        "      <td>     \u6211\u611b\u5b83</td>\n",
        "      <td> 00004</td>\n",
        "      <td>-1.150409</td>\n",
        "      <td>-0.005667</td>\n",
        "    </tr>\n",
        "    <tr>\n",
        "      <th>5</th>\n",
        "      <td> 5</td>\n",
        "      <td>     \u5b83\u611b\u6211</td>\n",
        "      <td> 00005</td>\n",
        "      <td>-1.319513</td>\n",
        "      <td>-0.279895</td>\n",
        "    </tr>\n",
        "    <tr>\n",
        "      <th>6</th>\n",
        "      <td> 6</td>\n",
        "      <td>    \u4eca\u5929\u5f88\u8870</td>\n",
        "      <td> 00006</td>\n",
        "      <td> 0.693851</td>\n",
        "      <td>-0.907863</td>\n",
        "    </tr>\n",
        "    <tr>\n",
        "      <th>7</th>\n",
        "      <td> 7</td>\n",
        "      <td> \u65e5\u5b50\u4e00\u5929\u4e00\u5929\u904e</td>\n",
        "      <td> 00007</td>\n",
        "      <td> 0.697317</td>\n",
        "      <td>-1.487446</td>\n",
        "    </tr>\n",
        "    <tr>\n",
        "      <th>8</th>\n",
        "      <td> 8</td>\n",
        "      <td>  \u5929\u5929\u5237\u7259\u6d17\u81c9</td>\n",
        "      <td> 00008</td>\n",
        "      <td> 0.883278</td>\n",
        "      <td>-0.722472</td>\n",
        "    </tr>\n",
        "  </tbody>\n",
        "</table>\n",
        "<p>9 rows \u00d7 5 columns</p>\n",
        "</div>"
       ],
       "metadata": {},
       "output_type": "pyout",
       "prompt_number": 2,
       "text": [
        "   index     text    idx        r1        r2\n",
        "0      0   \u4eca\u5929\u5929\u6c23\u5f88\u597d  00000 -0.225275 -0.695711\n",
        "1      1   \u4eca\u5929\u5929\u6c23\u5f88\u721b  00001  0.595460  1.224478\n",
        "2      2      \u6211\u6068\u5b83  00002 -0.840319 -0.320715\n",
        "3      3      \u5b83\u6068\u6211  00003  0.390298  0.502906\n",
        "4      4      \u6211\u611b\u5b83  00004 -1.150409 -0.005667\n",
        "5      5      \u5b83\u611b\u6211  00005 -1.319513 -0.279895\n",
        "6      6     \u4eca\u5929\u5f88\u8870  00006  0.693851 -0.907863\n",
        "7      7  \u65e5\u5b50\u4e00\u5929\u4e00\u5929\u904e  00007  0.697317 -1.487446\n",
        "8      8   \u5929\u5929\u5237\u7259\u6d17\u81c9  00008  0.883278 -0.722472\n",
        "\n",
        "[9 rows x 5 columns]"
       ]
      }
     ],
     "prompt_number": 2
    },
    {
     "cell_type": "code",
     "collapsed": false,
     "input": [
      "test_text_df[\"text\"].values"
     ],
     "language": "python",
     "metadata": {},
     "outputs": [
      {
       "metadata": {},
       "output_type": "pyout",
       "prompt_number": 3,
       "text": [
        "array([u'\\u4eca\\u5929\\u5929\\u6c23\\u5f88\\u597d',\n",
        "       u'\\u4eca\\u5929\\u5929\\u6c23\\u5f88\\u721b', u'\\u6211\\u6068\\u5b83',\n",
        "       u'\\u5b83\\u6068\\u6211', u'\\u6211\\u611b\\u5b83', u'\\u5b83\\u611b\\u6211',\n",
        "       u'\\u4eca\\u5929\\u5f88\\u8870',\n",
        "       u'\\u65e5\\u5b50\\u4e00\\u5929\\u4e00\\u5929\\u904e',\n",
        "       u'\\u5929\\u5929\\u5237\\u7259\\u6d17\\u81c9'], dtype=object)"
       ]
      }
     ],
     "prompt_number": 3
    },
    {
     "cell_type": "code",
     "collapsed": false,
     "input": [],
     "language": "python",
     "metadata": {},
     "outputs": [],
     "prompt_number": 3
    },
    {
     "cell_type": "code",
     "collapsed": false,
     "input": [],
     "language": "python",
     "metadata": {},
     "outputs": [],
     "prompt_number": 3
    },
    {
     "cell_type": "code",
     "collapsed": false,
     "input": [
      "import numpy as np\n",
      "import inspect\n",
      "import types\n",
      "import PlaYnlp.tokenizer as tkr \n",
      "from PlaYdata.util.args_tools import check_type_of_args\n",
      "import PlaYdata.util.array_tools as tools\n",
      "import PlaYdata.util.np_tools as np_tools\n",
      "\n"
     ],
     "language": "python",
     "metadata": {},
     "outputs": [],
     "prompt_number": 4
    },
    {
     "cell_type": "code",
     "collapsed": false,
     "input": [],
     "language": "python",
     "metadata": {},
     "outputs": [],
     "prompt_number": 4
    },
    {
     "cell_type": "code",
     "collapsed": false,
     "input": [
      "import numpy as np\n",
      "import PlaYdata.util.np_tools as np_tools\n",
      "import PlaYdata.util.tools as tools\n",
      "\n",
      "\n",
      "class Vector(np.ndarray):\n",
      "    \n",
      "    @classmethod\n",
      "    def _preprocess_if_data_is_cls(cls, vector,*args, **kwargs):\n",
      "        pass\n",
      "        \n",
      "    @classmethod\n",
      "    def _preprocess_before_init_return(cls, vector ,*args, **kwargs):\n",
      "        pass\n",
      "    \n",
      "    def __new__(cls, data, dtype=None, *args, **kwargs):\n",
      "        \n",
      "        if isinstance(data, cls):\n",
      "            values_vector = data\n",
      "            cls._preprocess_if_data_is_cls(vector=values_vector,*args, **kwargs)\n",
      "            return values_vector\n",
      "        \n",
      "        else:\n",
      "            vector_data = np.array(data, dtype=dtype)\n",
      "            \n",
      "            if len(vector_data.shape) > 1:\n",
      "                vector_data = np_tools.clean_no_data_tensors(vector_data)\n",
      "            \n",
      "            assert len(vector_data.shape) == 1\n",
      "            \n",
      "            vector_data = vector_data.view(cls)\n",
      "            cls._preprocess_before_init_return(vector=vector_data,*args, **kwargs)\n",
      "            \n",
      "            return vector_data\n",
      "        \n",
      "    @property\n",
      "    def _dim(self):\n",
      "        return self.shape[0]\n",
      "\n",
      "    @property\n",
      "    def _reconstruct_kwargs(self):\n",
      "        return {}\n",
      "\n",
      "\n",
      "class Matrix(np.ndarray):\n",
      "\n",
      "    @classmethod\n",
      "    def _preprocess_if_data_is_cls(cls, matrix, *args, **kwargs):\n",
      "        # print \"cls = \",cls\n",
      "        # print \"data = \",data\n",
      "        # print \"type(data) = \",type(data)\n",
      "        # print \"args = \",args\n",
      "        # print \"kwargs = \",kwargs\n",
      "        # eval_cls = kwargs.get(\"eval_cls\",1234)\n",
      "        # object.__setattr__(data, \"_eval_cls\", eval_cls)\n",
      "        pass\n",
      "\n",
      "    @classmethod\n",
      "    def _preprocess_before_init_return(cls, matrix, *args, **kwargs):\n",
      "        pass\n",
      "\n",
      "    def __new__(cls, data, dtype=None, force2d=\"as_row\", *args, **kwargs):\n",
      "\n",
      "        assert force2d in (\"as_row\", \"as_col\")\n",
      "\n",
      "        if isinstance(data, cls):\n",
      "            matrix_data = data\n",
      "            cls._preprocess_if_data_is_cls(matrix=matrix_data, *args, **kwargs)\n",
      "            return matrix_data\n",
      "        else:\n",
      "\n",
      "            matrix_data = np.array(data, dtype=dtype)\n",
      "\n",
      "            if force2d == \"as_row\":\n",
      "                if len(matrix_data.shape) < 2:\n",
      "                    matrix_data = np.array([matrix_data])\n",
      "            elif force2d == \"as_col\":\n",
      "                if len(matrix_data.shape) < 2:\n",
      "                    matrix_data = np.array([matrix_data]).T\n",
      "\n",
      "            if len(matrix_data.shape) > 2:\n",
      "                matrix_data = np_tools.clean_no_data_tensors(matrix_data)\n",
      "\n",
      "            assert len(matrix_data.shape) == 2\n",
      "\n",
      "            matrix_data = matrix_data.view(cls)\n",
      "            cls._preprocess_before_init_return(matrix=matrix_data,\n",
      "                                               *args, **kwargs)\n",
      "\n",
      "            return matrix_data\n",
      "\n",
      "    @property\n",
      "    def _is_1d(self):\n",
      "        return len(np_tools.clean_no_data_tensors(self).shape) == 1\n",
      "\n",
      "    @property\n",
      "    def _as_1d_array(self):\n",
      "        assert self._is_1d\n",
      "        return np_tools.clean_no_data_tensors(self)\n",
      "\n",
      "    @property\n",
      "    def _nrow(self):\n",
      "        return self.shape[0]\n",
      "\n",
      "    @property\n",
      "    def _ncol(self):\n",
      "        return self.shape[1]\n",
      "    \n",
      "    @property\n",
      "    def _is_1d_row(self):\n",
      "        return self.shape[0] == 1\n",
      "\n",
      "    @property\n",
      "    def _is_1d_col(self):\n",
      "        return self.shape[1] == 1\n",
      "\n",
      "    @property\n",
      "    def _reconstruct_kwargs(self):\n",
      "        _reconstr_kwargs = {}\n",
      "        return _reconstr_kwargs\n",
      "\n",
      "    @property\n",
      "    def T(self):\n",
      "        tr_array = np.array(self) \n",
      "        return type(self)(data=tr_array.T,**self._reconstruct_kwargs)\n",
      "\n",
      "    def _1d_ngram(self, n):\n",
      "        assert self._is_1d\n",
      "        ngram_results = list(tools.ngram(self.flatten(), n))\n",
      "        return type(self)(data=ngram_results)\n",
      "\n",
      "    def build_values_index(self):\n",
      "        u, inv = np.unique(self, return_inverse=True)\n",
      "        states_matrix = StatesMatrix(data=u, eval_cls=type(self))\n",
      "        assert states_matrix._is_1d\n",
      "        idx_matrix = IndexMatrix(data=inv).reshape(self.shape)\n",
      "        return states_matrix, idx_matrix\n",
      "\n",
      "    def build_row_struct_index(self):\n",
      "        temp_self = self.copy()\n",
      "        temp_self.dtype = np.dtype(zip(map(str, range(self._ncol)),\n",
      "                                       [self.dtype] * self._ncol))\n",
      "\n",
      "        u, i, inv = np.unique(temp_self, return_index=True,\n",
      "                              return_inverse=True)\n",
      "\n",
      "        idx_matrix = IndexMatrix(inv)\n",
      "\n",
      "        states_matrix = StatesMatrix(self[i, :], eval_cls=type(u),\n",
      "                                     is_row_struct=True)\n",
      "        return states_matrix, idx_matrix\n",
      "\n",
      "    def build_index_data_matrix(self, build_type=\"values\"):\n",
      "        assert build_type in (\"values\", \"row_struct\")\n",
      "        if build_type == \"values\":\n",
      "            return IndexedDataMatrix(*self.build_values_index())\n",
      "        else:\n",
      "            return IndexedDataMatrix(*self.build_row_struct_index())\n",
      "\n",
      "\n",
      "        \n",
      "        \n",
      "class ValuesMatrix(Matrix):\n",
      "    pass\n",
      "\n",
      "\n",
      "class IndexMatrix(Matrix):\n",
      "    pass\n",
      "\n",
      "\n",
      "class IndexTransformVector(Vector):\n",
      "    \n",
      "    def __call__(self, trans_matrix, force2d=\"as_row\"):\n",
      "        return self.transform(trans_matrix=trans_matrix, force2d=force2d)\n",
      "    \n",
      "    \n",
      "    def transform(self, trans_matrix, force2d=\"as_row\"):\n",
      "        _states_matrix_checker = isinstance(trans_matrix, StatesMatrix) and (trans_matrix._eval_cls == IndexMatrix)\n",
      "        _index_matrix_checker = isinstance(trans_matrix, IndexMatrix)\n",
      "        \n",
      "        assert _states_matrix_checker or _index_matrix_checker\n",
      "        assert self.validate_trans_matrix_value(trans_matrix)\n",
      "\n",
      "        result_matrix = type(trans_matrix)(data=self[trans_matrix], force2d=force2d, **trans_matrix._reconstruct_kwargs)\n",
      "        return result_matrix\n",
      "\n",
      "\n",
      "    def validate_trans_matrix_value(self, trans_matrix):\n",
      "        return trans_matrix.max().take(0) <= len(self)\n",
      "        \n",
      "        \n",
      "    \n",
      "    \n",
      "    \n",
      "class StatesMatrix(Matrix):\n",
      "    \n",
      "    @classmethod\n",
      "    def _set_ref_data(cls, matrix, *args, **kwargs):\n",
      "        ref_data = kwargs.get(\"ref_data\", list())\n",
      "        if len(ref_data) > 0:\n",
      "            object.__setattr__(matrix, \"_ref_data\", ref_data)\n",
      "        elif not (\"_\" in matrix.__dict__.keys()):\n",
      "            object.__setattr__(matrix, \"_ref_data\", ref_data)\n",
      "\n",
      "    @classmethod\n",
      "    def _set_is_row_struct(cls, matrix, *args, **kwargs):\n",
      "        is_row_struct = kwargs.get(\"is_row_struct\", False)\n",
      "        object.__setattr__(matrix, \"_is_row_struct\", is_row_struct)\n",
      "\n",
      "    @classmethod\n",
      "    def _set_eval_cls(cls, matrix, *args, **kwargs):\n",
      "        eval_cls = kwargs.get(\"eval_cls\", np.ndarray)\n",
      "        object.__setattr__(matrix, \"_eval_cls\", eval_cls)\n",
      "\n",
      "    @classmethod\n",
      "    def _preprocess_if_data_is_cls(cls, matrix, *args, **kwargs):\n",
      "        cls._set_eval_cls(matrix=matrix, *args, **kwargs)\n",
      "        cls._set_is_row_struct(matrix=matrix, *args, **kwargs)\n",
      "        cls._set_ref_data(matrix=matrix, *args, **kwargs)\n",
      "\n",
      "    @classmethod\n",
      "    def _preprocess_before_init_return(cls, matrix, *args, **kwargs):\n",
      "        cls._set_eval_cls(matrix=matrix, *args, **kwargs)\n",
      "        cls._set_is_row_struct(matrix=matrix, *args, **kwargs)\n",
      "        cls._set_ref_data(matrix=matrix, *args, **kwargs)\n",
      "        \n",
      "    @property\n",
      "    def _reconstruct_kwargs(self):\n",
      "        _reconstr_kwargs = {}\n",
      "\n",
      "        if self._has_ref_data:\n",
      "            _reconstr_kwargs[\"ref_data\"] = self._ref_data\n",
      "\n",
      "        _reconstr_kwargs[\"eval_cls\"] = self._eval_cls\n",
      "        _reconstr_kwargs[\"is_row_struct\"] = self._is_row_struct\n",
      "\n",
      "        return _reconstr_kwargs\n",
      "\n",
      "    @property\n",
      "    def _has_ref_data(self):\n",
      "        return len(self._ref_data) > 0\n",
      "\n",
      "    def _eval_values_type(self, idx_mat):\n",
      "        return self._as_1d_array[idx_mat].view(self._eval_cls).copy()\n",
      "\n",
      "    def _eval_row_struct_type(self, idx_mat):\n",
      "        return self[idx_mat._as_1d_array, :].view(self._eval_cls).copy()\n",
      "\n",
      "    def _eval(self, idx_mat):\n",
      "\n",
      "        assert isinstance(idx_mat, IndexMatrix)\n",
      "        _row_struct_type_checkers = (idx_mat._is_1d and self._is_row_struct)\n",
      "        _values_type_checkers = self._is_1d\n",
      "        assert _values_type_checkers or _row_struct_type_checkers\n",
      "\n",
      "        if _row_struct_type_checkers:\n",
      "            return self._eval_row_struct_type(idx_mat=idx_mat)\n",
      "        else:\n",
      "            return self._eval_values_type(idx_mat=idx_mat)\n",
      "\n",
      "    def add_ref_data(self, idx_data_matrix):\n",
      "        assert isinstance(idx_data_matrix, IndexedDataMatrix)\n",
      "        if not (idx_data_matrix in self._ref_data):\n",
      "            self._ref_data.append(idx_data_matrix)\n",
      "            \n",
      "    def remove_ref_data(self, idx_data_matrix):\n",
      "        assert isinstance(idx_data_matrix, IndexedDataMatrix)\n",
      "        if idx_data_matrix in self._ref_data:\n",
      "            self._ref_data.remove(idx_data_matrix)\n",
      "    \n",
      "    def pop_out_ref_data(self):\n",
      "        while len(self._ref_data) > 0:\n",
      "            yield self._ref_data.pop()\n",
      "            \n",
      "    def clean_all_ref_data(self):\n",
      "        new_ref_data = list()\n",
      "        self._ref_data = new_ref_data\n",
      "        \n",
      "    def update_all_ref_data(self, new_states_matrix, idx_trans_vec=None, force2d=\"as_row\"):\n",
      "        for one_ref_data in self.pop_out_ref_data():\n",
      "            one_ref_data.update_states_matrix(new_states_matrix=new_states_matrix, \n",
      "                                              idx_trans_vec=idx_trans_vec,\n",
      "                                              force2d=force2d)\n",
      "\n",
      "\n",
      "            "
     ],
     "language": "python",
     "metadata": {},
     "outputs": [],
     "prompt_number": 37
    },
    {
     "cell_type": "code",
     "collapsed": false,
     "input": [
      "\n",
      "class IndexedDataMatrix(object):\n",
      "    def __init__(self, states_matrix, index_matrix):\n",
      "        self.states_matrix = states_matrix\n",
      "        self.index_matrix = index_matrix\n",
      "        self.states_matrix.add_ref_data(self)\n",
      "    \n",
      "    @property\n",
      "    def _data(self):\n",
      "        return self.states_matrix._eval(self.index_matrix)\n",
      "        \n",
      "    def __repr__(self):\n",
      "        return \"{IndexedDataMatrix} \" + self._data.__repr__()\n",
      "    \n",
      "    def update_states_matrix(self, new_states_matrix, idx_trans_vec=None, force2d=\"as_row\"):\n",
      "        self.states_matrix = new_states_matrix\n",
      "        self.states_matrix.add_ref_data(self)\n",
      "        if isinstance(idx_trans_vec, IndexTransformVector):\n",
      "            self.transform_index_matrix(idx_trans_vec=idx_trans_vec, force2d=force2d)\n",
      "    \n",
      "    def transform_index_matrix(self, idx_trans_vec, force2d=\"as_row\"):\n",
      "        self.index_matrix = idx_trans_vec(self.index_matrix, force2d=force2d)\n",
      "\n",
      "    \n",
      "    \n",
      "    \n",
      "\n",
      "\n"
     ],
     "language": "python",
     "metadata": {},
     "outputs": [],
     "prompt_number": 38
    },
    {
     "cell_type": "code",
     "collapsed": false,
     "input": [
      "1 + \\\n",
      "2"
     ],
     "language": "python",
     "metadata": {},
     "outputs": [
      {
       "metadata": {},
       "output_type": "pyout",
       "prompt_number": 55,
       "text": [
        "3"
       ]
      }
     ],
     "prompt_number": 55
    },
    {
     "cell_type": "code",
     "collapsed": false,
     "input": [
      "class StatesMatrixMerger(list):\n",
      "    def __init__(self, *states_mats):\n",
      "        \n",
      "        # checking states_mats are all StatesDictionary's instance\n",
      "        assert check_type_of_args(StatesMatrix, *states_mats)\n",
      "        \n",
      "        # checking states_mats have the same _is_row_struct\n",
      "        assert len(np.unique(np.array(map(lambda xx:xx._is_row_struct,states_mats)))) == 1\n",
      "        self._is_row_struct = states_mats[0]._is_row_struct\n",
      "\n",
      "        # checking states_mats have the same dtype.type\n",
      "        assert len(np.unique(np.array(map(lambda xx:xx.dtype.type,states_mats)))) == 1\n",
      "        self._dtype_type = states_mats[0].dtype.type\n",
      "        \n",
      "        # checking states_mats have the same _eval_cls\n",
      "        assert len(np.unique(np.array(map(lambda xx:xx._eval_cls,states_mats)))) == 1\n",
      "        self._eval_cls = states_mats[0]._eval_cls\n",
      "\n",
      "        self._is_already_merged = False\n",
      "        self._is_already_updated = False\n",
      "\n",
      "        list.__init__(self,states_mats)\n",
      "    \n",
      "    @property\n",
      "    def _unique_states_matrix_ids(self):\n",
      "        return np.unique(np.array(self))\n",
      "    \n",
      "    def merge(self):\n",
      "        if not self._is_already_merged:\n",
      "            if len(self._unique_states_matrix_ids) > 1:\n",
      "            \n",
      "                if not self._is_row_struct:\n",
      "                    convert_to_1d_arrays = map(lambda xx:xx._as_1d_array,states_mats_merger)\n",
      "                    len_of_1d_arrays = map(len,convert_to_1d_arrays)\n",
      "                \n",
      "                    sector_positions = np.cumsum([0] + len_of_1d_arrays)\n",
      "                    sector_positions_slices = map(lambda xx:slice(*xx),list(tools.ngram(sector_positions,2)))\n",
      "                \n",
      "                    join_all_states_arrays = np.concatenate(tuple(convert_to_1d_arrays),axis=0)\n",
      "\n",
      "                    u,i = np.unique(join_all_states_arrays,return_inverse=True)        \n",
      "\n",
      "                    self._idx_trans_vectors = map(lambda xx:IndexTransformVector(i[xx]),sector_positions_slices)\n",
      "                    self._new_states_matrix = StatesMatrix(data=u, eval_cls=states_mats_merger._eval_cls)\n",
      "            \n",
      "                # TODO: self._is_row_struct == True\n",
      "                else:\n",
      "                    self._is_already_merged = True\n",
      "                    self._is_already_updated = True\n",
      "                    pass\n",
      "                \n",
      "            else:\n",
      "                # Case of len(self._unique_states_matrix_ids) <= 1, \n",
      "                # it means states_mats has only one kind of states matrix\n",
      "                # in this case, we don't need to do anything about merge or update \n",
      "                self._is_already_merged = True\n",
      "                self._is_already_updated = True\n",
      "                \n",
      "                \n",
      "        \n",
      "    def update(self):\n",
      "        if not self._is_already_merged:\n",
      "            self.merge()\n",
      "            \n",
      "        if not self._is_already_updated:\n",
      "            for states_mat, idx_trans_vec in zip(self,self._idx_trans_vectors):\n",
      "                states_mat.update_all_ref_data(new_states_matrix=self._new_states_matrix, \n",
      "                                               idx_trans_vec=idx_trans_vec)\n",
      "            "
     ],
     "language": "python",
     "metadata": {},
     "outputs": [],
     "prompt_number": 39
    },
    {
     "cell_type": "code",
     "collapsed": false,
     "input": [],
     "language": "python",
     "metadata": {},
     "outputs": [],
     "prompt_number": 39
    },
    {
     "cell_type": "code",
     "collapsed": false,
     "input": [],
     "language": "python",
     "metadata": {},
     "outputs": [],
     "prompt_number": 39
    },
    {
     "cell_type": "code",
     "collapsed": false,
     "input": [
      "\n",
      "val_mat1_text = list(tools.ngram(test_text_df[\"text\"].values[0], [1]))\n",
      "val_mat2_text = list(tools.ngram(test_text_df[\"text\"].values[1], [1]))\n",
      "val_mat1 = ValuesMatrix(val_mat1_text, force2d=\"as_col\")\n",
      "val_mat2 = ValuesMatrix(val_mat2_text, force2d=\"as_col\")\n",
      "val_mat = ValuesMatrix(np.concatenate((val_mat1._1d_ngram(2),val_mat2._1d_ngram(2)), axis=0))\n",
      "states_matrix, idx_matrix = val_mat.build_values_index()\n",
      "print np.array_equal(states_matrix._eval(idx_matrix), val_mat)\n",
      "ss, ii = idx_matrix.build_row_struct_index()\n",
      "print np.array_equal(ss._eval(ii), idx_matrix)\n",
      "print np.array_equal(states_matrix._eval(ss._eval(ii)), val_mat)\n",
      "\n"
     ],
     "language": "python",
     "metadata": {},
     "outputs": [
      {
       "output_type": "stream",
       "stream": "stdout",
       "text": [
        "True\n",
        "True\n",
        "True\n"
       ]
      }
     ],
     "prompt_number": 40
    },
    {
     "cell_type": "code",
     "collapsed": false,
     "input": [
      "ss.max().take(0) <= 10"
     ],
     "language": "python",
     "metadata": {},
     "outputs": [
      {
       "metadata": {},
       "output_type": "pyout",
       "prompt_number": 41,
       "text": [
        "True"
       ]
      }
     ],
     "prompt_number": 41
    },
    {
     "cell_type": "code",
     "collapsed": false,
     "input": [],
     "language": "python",
     "metadata": {},
     "outputs": [],
     "prompt_number": 41
    },
    {
     "cell_type": "code",
     "collapsed": false,
     "input": [],
     "language": "python",
     "metadata": {},
     "outputs": [],
     "prompt_number": 41
    },
    {
     "cell_type": "code",
     "collapsed": false,
     "input": [
      "s1, i1 = val_mat1.build_values_index()\n",
      "s1, i1"
     ],
     "language": "python",
     "metadata": {},
     "outputs": [
      {
       "metadata": {},
       "output_type": "pyout",
       "prompt_number": 42,
       "text": [
        "(StatesMatrix([[u'\\u4eca', u'\\u5929', u'\\u597d', u'\\u5f88', u'\\u6c23']], \n",
        "       dtype='<U1'), IndexMatrix([[0],\n",
        "        [1],\n",
        "        [1],\n",
        "        [4],\n",
        "        [3],\n",
        "        [2]]))"
       ]
      }
     ],
     "prompt_number": 42
    },
    {
     "cell_type": "code",
     "collapsed": false,
     "input": [
      "s2, i2 = val_mat2.build_values_index()\n",
      "s2, i2"
     ],
     "language": "python",
     "metadata": {},
     "outputs": [
      {
       "metadata": {},
       "output_type": "pyout",
       "prompt_number": 43,
       "text": [
        "(StatesMatrix([[u'\\u4eca', u'\\u5929', u'\\u5f88', u'\\u6c23', u'\\u721b']], \n",
        "       dtype='<U1'), IndexMatrix([[0],\n",
        "        [1],\n",
        "        [1],\n",
        "        [3],\n",
        "        [2],\n",
        "        [4]]))"
       ]
      }
     ],
     "prompt_number": 43
    },
    {
     "cell_type": "code",
     "collapsed": false,
     "input": [],
     "language": "python",
     "metadata": {},
     "outputs": [],
     "prompt_number": 43
    },
    {
     "cell_type": "code",
     "collapsed": false,
     "input": [
      "idx_data_mat1 = val_mat1.build_index_data_matrix()\n",
      "idx_data_mat2 = val_mat2.build_index_data_matrix()\n",
      "idx_data_mat1_old_ref_data = idx_data_mat1.states_matrix._ref_data\n",
      "idx_data_mat2_old_ref_data = idx_data_mat2.states_matrix._ref_data\n",
      "print \"idx_data_mat1_old_ref_data = \",idx_data_mat1_old_ref_data\n",
      "print \"idx_data_mat2_old_ref_data = \",idx_data_mat2_old_ref_data\n",
      "idx_data_mat1, idx_data_mat2"
     ],
     "language": "python",
     "metadata": {},
     "outputs": [
      {
       "output_type": "stream",
       "stream": "stdout",
       "text": [
        "idx_data_mat1_old_ref_data =  [{IndexedDataMatrix} ValuesMatrix([[u'\\u4eca'],\n",
        "       [u'\\u5929'],\n",
        "       [u'\\u5929'],\n",
        "       [u'\\u6c23'],\n",
        "       [u'\\u5f88'],\n",
        "       [u'\\u597d']], \n",
        "      dtype='<U1')]\n",
        "idx_data_mat2_old_ref_data =  [{IndexedDataMatrix} ValuesMatrix([[u'\\u4eca'],\n",
        "       [u'\\u5929'],\n",
        "       [u'\\u5929'],\n",
        "       [u'\\u6c23'],\n",
        "       [u'\\u5f88'],\n",
        "       [u'\\u721b']], \n",
        "      dtype='<U1')]\n"
       ]
      },
      {
       "metadata": {},
       "output_type": "pyout",
       "prompt_number": 44,
       "text": [
        "({IndexedDataMatrix} ValuesMatrix([[u'\\u4eca'],\n",
        "        [u'\\u5929'],\n",
        "        [u'\\u5929'],\n",
        "        [u'\\u6c23'],\n",
        "        [u'\\u5f88'],\n",
        "        [u'\\u597d']], \n",
        "       dtype='<U1'), {IndexedDataMatrix} ValuesMatrix([[u'\\u4eca'],\n",
        "        [u'\\u5929'],\n",
        "        [u'\\u5929'],\n",
        "        [u'\\u6c23'],\n",
        "        [u'\\u5f88'],\n",
        "        [u'\\u721b']], \n",
        "       dtype='<U1'))"
       ]
      }
     ],
     "prompt_number": 44
    },
    {
     "cell_type": "code",
     "collapsed": false,
     "input": [],
     "language": "python",
     "metadata": {},
     "outputs": [],
     "prompt_number": 44
    },
    {
     "cell_type": "code",
     "collapsed": false,
     "input": [
      "states_mats_merger = StatesMatrixMerger(idx_data_mat1.states_matrix,idx_data_mat2.states_matrix)\n",
      "states_mats_merger"
     ],
     "language": "python",
     "metadata": {},
     "outputs": [
      {
       "metadata": {},
       "output_type": "pyout",
       "prompt_number": 45,
       "text": [
        "[StatesMatrix([[u'\\u4eca', u'\\u5929', u'\\u597d', u'\\u5f88', u'\\u6c23']], \n",
        "       dtype='<U1'),\n",
        " StatesMatrix([[u'\\u4eca', u'\\u5929', u'\\u5f88', u'\\u6c23', u'\\u721b']], \n",
        "       dtype='<U1')]"
       ]
      }
     ],
     "prompt_number": 45
    },
    {
     "cell_type": "code",
     "collapsed": false,
     "input": [
      "np.unique(np.array(map(id,states_mats_merger)))"
     ],
     "language": "python",
     "metadata": {},
     "outputs": [
      {
       "metadata": {},
       "output_type": "pyout",
       "prompt_number": 46,
       "text": [
        "array([45259184, 45259544])"
       ]
      }
     ],
     "prompt_number": 46
    },
    {
     "cell_type": "code",
     "collapsed": false,
     "input": [
      "states_mats_merger.update()"
     ],
     "language": "python",
     "metadata": {},
     "outputs": [],
     "prompt_number": 47
    },
    {
     "cell_type": "code",
     "collapsed": false,
     "input": [
      "print \"idx_data_mat1_old_ref_data = \",idx_data_mat1_old_ref_data\n",
      "print \"idx_data_mat2_old_ref_data = \",idx_data_mat2_old_ref_data"
     ],
     "language": "python",
     "metadata": {},
     "outputs": [
      {
       "output_type": "stream",
       "stream": "stdout",
       "text": [
        "idx_data_mat1_old_ref_data =  []\n",
        "idx_data_mat2_old_ref_data =  []\n"
       ]
      }
     ],
     "prompt_number": 48
    },
    {
     "cell_type": "code",
     "collapsed": false,
     "input": [
      "print id(idx_data_mat1.states_matrix)\n",
      "print id(idx_data_mat2.states_matrix)\n",
      "print idx_data_mat2.states_matrix._ref_data"
     ],
     "language": "python",
     "metadata": {},
     "outputs": [
      {
       "output_type": "stream",
       "stream": "stdout",
       "text": [
        "45259664\n",
        "45259664\n",
        "[{IndexedDataMatrix} ValuesMatrix([[u'\\u4eca'],\n",
        "       [u'\\u5929'],\n",
        "       [u'\\u5929'],\n",
        "       [u'\\u6c23'],\n",
        "       [u'\\u5f88'],\n",
        "       [u'\\u597d']], \n",
        "      dtype='<U1'), {IndexedDataMatrix} ValuesMatrix([[u'\\u4eca'],\n",
        "       [u'\\u5929'],\n",
        "       [u'\\u5929'],\n",
        "       [u'\\u6c23'],\n",
        "       [u'\\u5f88'],\n",
        "       [u'\\u721b']], \n",
        "      dtype='<U1')]\n"
       ]
      }
     ],
     "prompt_number": 53
    },
    {
     "cell_type": "code",
     "collapsed": false,
     "input": [],
     "language": "python",
     "metadata": {},
     "outputs": []
    },
    {
     "cell_type": "code",
     "collapsed": false,
     "input": [],
     "language": "python",
     "metadata": {},
     "outputs": []
    },
    {
     "cell_type": "code",
     "collapsed": false,
     "input": [],
     "language": "python",
     "metadata": {},
     "outputs": [],
     "prompt_number": 29
    },
    {
     "cell_type": "code",
     "collapsed": false,
     "input": [
      "states_mats_merger._is_row_struct"
     ],
     "language": "python",
     "metadata": {},
     "outputs": [
      {
       "metadata": {},
       "output_type": "pyout",
       "prompt_number": 30,
       "text": [
        "False"
       ]
      }
     ],
     "prompt_number": 30
    },
    {
     "cell_type": "code",
     "collapsed": false,
     "input": [
      "convert_to_1d_arrays = map(lambda xx:xx._as_1d_array,states_mats_merger)\n",
      "print \"convert_to_1d_arrays = \",convert_to_1d_arrays\n",
      "len_of_1d_arrays = map(len,convert_to_1d_arrays)\n",
      "print \"len_of_1d_arrays = \",len_of_1d_arrays\n",
      "sector_positions = np.cumsum([0] + len_of_1d_arrays)\n",
      "print \"sector_positions = \",sector_positions\n",
      "sector_positions_slices = map(lambda xx:slice(*xx),list(tools.ngram(sector_positions,2)))\n",
      "print \"sector_positions_slices = \",sector_positions_slices\n",
      "join_all_states_arrays = np.concatenate(tuple(convert_to_1d_arrays),axis=0)\n",
      "print \"join_all_states_arrays = \",join_all_states_arrays\n",
      "u,i = np.unique(join_all_states_arrays,return_inverse=True)        \n",
      "print \"u,i = \",u,i\n",
      "idx_transforms = map(lambda xx:IndexTransformVector(i[xx]),sector_positions_slices)\n",
      "print \"idx_transforms = \",idx_transforms\n",
      "\n",
      "new_states_matrix = StatesMatrix(data=u, eval_cls=states_mats_merger._eval_cls)\n",
      "print \"new_states_matrix = \",new_states_matrix\n",
      "\n",
      "\n",
      "\n"
     ],
     "language": "python",
     "metadata": {},
     "outputs": [
      {
       "output_type": "stream",
       "stream": "stdout",
       "text": [
        "convert_to_1d_arrays =  [StatesMatrix([u'\\u4eca', u'\\u5929', u'\\u597d', u'\\u5f88', u'\\u6c23'], \n",
        "      dtype='<U1'), StatesMatrix([u'\\u4eca', u'\\u5929', u'\\u5f88', u'\\u6c23', u'\\u721b'], \n",
        "      dtype='<U1')]\n",
        "len_of_1d_arrays =  [5, 5]\n",
        "sector_positions =  [ 0  5 10]\n",
        "sector_positions_slices =  [slice(0, 5, None), slice(5, 10, None)]\n",
        "join_all_states_arrays =  [u'\\u4eca' u'\\u5929' u'\\u597d' u'\\u5f88' u'\\u6c23' u'\\u4eca' u'\\u5929'\n",
        " u'\\u5f88' u'\\u6c23' u'\\u721b']\n",
        "u,i =  [u'\\u4eca' u'\\u5929' u'\\u597d' u'\\u5f88' u'\\u6c23' u'\\u721b'] [0 1 2 3 4 0 1 3 4 5]\n",
        "idx_transforms =  [IndexTransformVector([0, 1, 2, 3, 4]), IndexTransformVector([0, 1, 3, 4, 5])]\n",
        "new_states_matrix =  [[u'\\u4eca' u'\\u5929' u'\\u597d' u'\\u5f88' u'\\u6c23' u'\\u721b']]\n"
       ]
      }
     ],
     "prompt_number": 31
    },
    {
     "cell_type": "code",
     "collapsed": false,
     "input": [
      "for states_mat, idx_trans_vec in zip(states_mats_merger,idx_transforms):\n",
      "    print \"states_mat, idx_trans_vec = \",states_mat, idx_trans_vec\n",
      "    states_mat.update_all_ref_data(new_states_matrix=new_states_matrix, idx_trans_vec=idx_trans_vec)"
     ],
     "language": "python",
     "metadata": {},
     "outputs": [
      {
       "output_type": "stream",
       "stream": "stdout",
       "text": [
        "states_mat, idx_trans_vec =  [[u'\\u4eca' u'\\u5929' u'\\u597d' u'\\u5f88' u'\\u6c23']] [0 1 2 3 4]\n",
        "states_mat, idx_trans_vec =  [[u'\\u4eca' u'\\u5929' u'\\u5f88' u'\\u6c23' u'\\u721b']] [0 1 3 4 5]\n"
       ]
      }
     ],
     "prompt_number": 32
    },
    {
     "cell_type": "code",
     "collapsed": false,
     "input": [],
     "language": "python",
     "metadata": {},
     "outputs": [],
     "prompt_number": 32
    },
    {
     "cell_type": "code",
     "collapsed": false,
     "input": [
      "new_states_matrix._ref_data"
     ],
     "language": "python",
     "metadata": {},
     "outputs": [
      {
       "metadata": {},
       "output_type": "pyout",
       "prompt_number": 33,
       "text": [
        "[{IndexedDataMatrix} ValuesMatrix([[u'\\u4eca'],\n",
        "        [u'\\u5929'],\n",
        "        [u'\\u5929'],\n",
        "        [u'\\u6c23'],\n",
        "        [u'\\u5f88'],\n",
        "        [u'\\u597d']], \n",
        "       dtype='<U1'), {IndexedDataMatrix} ValuesMatrix([[u'\\u4eca'],\n",
        "        [u'\\u5929'],\n",
        "        [u'\\u5929'],\n",
        "        [u'\\u6c23'],\n",
        "        [u'\\u5f88'],\n",
        "        [u'\\u721b']], \n",
        "       dtype='<U1')]"
       ]
      }
     ],
     "prompt_number": 33
    },
    {
     "cell_type": "code",
     "collapsed": false,
     "input": [],
     "language": "python",
     "metadata": {},
     "outputs": [],
     "prompt_number": 33
    },
    {
     "cell_type": "code",
     "collapsed": false,
     "input": [
      "print \"idx_data_mat1_old_ref_data = \",idx_data_mat1_old_ref_data\n",
      "print \"idx_data_mat2_old_ref_data = \",idx_data_mat2_old_ref_data"
     ],
     "language": "python",
     "metadata": {},
     "outputs": [
      {
       "output_type": "stream",
       "stream": "stdout",
       "text": [
        "idx_data_mat1_old_ref_data =  []\n",
        "idx_data_mat2_old_ref_data =  []\n"
       ]
      }
     ],
     "prompt_number": 34
    },
    {
     "cell_type": "code",
     "collapsed": false,
     "input": [],
     "language": "python",
     "metadata": {},
     "outputs": []
    },
    {
     "cell_type": "code",
     "collapsed": false,
     "input": [],
     "language": "python",
     "metadata": {},
     "outputs": []
    },
    {
     "cell_type": "code",
     "collapsed": false,
     "input": [],
     "language": "python",
     "metadata": {},
     "outputs": []
    },
    {
     "cell_type": "code",
     "collapsed": false,
     "input": [
      "map(lambda xx:xx[0](xx[1]),zip(idx_transforms,[i1,i2]))\n"
     ],
     "language": "python",
     "metadata": {},
     "outputs": [
      {
       "metadata": {},
       "output_type": "pyout",
       "prompt_number": 65,
       "text": [
        "[IndexMatrix([[0],\n",
        "        [1],\n",
        "        [1],\n",
        "        [4],\n",
        "        [3],\n",
        "        [2]]), IndexMatrix([[0],\n",
        "        [1],\n",
        "        [1],\n",
        "        [4],\n",
        "        [3],\n",
        "        [5]])]"
       ]
      }
     ],
     "prompt_number": 65
    },
    {
     "cell_type": "code",
     "collapsed": false,
     "input": [],
     "language": "python",
     "metadata": {},
     "outputs": [],
     "prompt_number": 65
    },
    {
     "cell_type": "code",
     "collapsed": false,
     "input": [
      "print idx_transforms[0][i1]\n",
      "print idx_transforms[1][i2]"
     ],
     "language": "python",
     "metadata": {},
     "outputs": [
      {
       "output_type": "stream",
       "stream": "stdout",
       "text": [
        "[[0]\n",
        " [1]\n",
        " [1]\n",
        " [4]\n",
        " [3]\n",
        " [2]]\n",
        "[[0]\n",
        " [1]\n",
        " [1]\n",
        " [4]\n",
        " [3]\n",
        " [5]]\n"
       ]
      }
     ],
     "prompt_number": 66
    },
    {
     "cell_type": "code",
     "collapsed": false,
     "input": [
      "i1"
     ],
     "language": "python",
     "metadata": {},
     "outputs": [
      {
       "metadata": {},
       "output_type": "pyout",
       "prompt_number": 67,
       "text": [
        "IndexMatrix([[0],\n",
        "       [1],\n",
        "       [1],\n",
        "       [4],\n",
        "       [3],\n",
        "       [2]])"
       ]
      }
     ],
     "prompt_number": 67
    },
    {
     "cell_type": "code",
     "collapsed": false,
     "input": [
      "type(i1)(idx_transforms[0][i1])"
     ],
     "language": "python",
     "metadata": {},
     "outputs": [
      {
       "metadata": {},
       "output_type": "pyout",
       "prompt_number": 68,
       "text": [
        "IndexMatrix([[0],\n",
        "       [1],\n",
        "       [1],\n",
        "       [4],\n",
        "       [3],\n",
        "       [2]])"
       ]
      }
     ],
     "prompt_number": 68
    },
    {
     "cell_type": "code",
     "collapsed": false,
     "input": [],
     "language": "python",
     "metadata": {},
     "outputs": [],
     "prompt_number": 34
    },
    {
     "cell_type": "code",
     "collapsed": false,
     "input": [],
     "language": "python",
     "metadata": {},
     "outputs": [],
     "prompt_number": 34
    },
    {
     "cell_type": "code",
     "collapsed": false,
     "input": [],
     "language": "python",
     "metadata": {},
     "outputs": [],
     "prompt_number": 34
    },
    {
     "cell_type": "code",
     "collapsed": false,
     "input": [
      "\n",
      "\n",
      "u,inv = np.unique(np.concatenate(tuple(map(lambda xx:xx._as_1d_array,states_mats_merger)),axis=0),return_inverse=True)\n",
      "u,inv"
     ],
     "language": "python",
     "metadata": {},
     "outputs": [
      {
       "metadata": {},
       "output_type": "pyout",
       "prompt_number": 35,
       "text": [
        "(array([u'\\u4eca', u'\\u5929', u'\\u597d', u'\\u5f88', u'\\u6c23', u'\\u721b'], \n",
        "       dtype='<U1'), array([0, 1, 2, 3, 4, 0, 1, 3, 4, 5]))"
       ]
      }
     ],
     "prompt_number": 35
    },
    {
     "cell_type": "code",
     "collapsed": false,
     "input": [],
     "language": "python",
     "metadata": {},
     "outputs": [],
     "prompt_number": 35
    },
    {
     "cell_type": "code",
     "collapsed": false,
     "input": [
      "s1._as_1d_array"
     ],
     "language": "python",
     "metadata": {},
     "outputs": [
      {
       "metadata": {},
       "output_type": "pyout",
       "prompt_number": 36,
       "text": [
        "StatesMatrix([u'\\u4eca', u'\\u5929', u'\\u597d', u'\\u5f88', u'\\u6c23'], \n",
        "      dtype='<U1')"
       ]
      }
     ],
     "prompt_number": 36
    },
    {
     "cell_type": "code",
     "collapsed": false,
     "input": [],
     "language": "python",
     "metadata": {},
     "outputs": [],
     "prompt_number": 36
    },
    {
     "cell_type": "code",
     "collapsed": false,
     "input": [],
     "language": "python",
     "metadata": {},
     "outputs": [],
     "prompt_number": 36
    },
    {
     "cell_type": "code",
     "collapsed": false,
     "input": [],
     "language": "python",
     "metadata": {},
     "outputs": [],
     "prompt_number": 36
    },
    {
     "cell_type": "code",
     "collapsed": false,
     "input": [],
     "language": "python",
     "metadata": {},
     "outputs": [],
     "prompt_number": 36
    },
    {
     "cell_type": "code",
     "collapsed": false,
     "input": [],
     "language": "python",
     "metadata": {},
     "outputs": [],
     "prompt_number": 36
    },
    {
     "cell_type": "code",
     "collapsed": false,
     "input": [
      "idx_data_mat1 = val_mat1.build_index_data_matrix()\n",
      "idx_data_mat2 = val_mat2.build_index_data_matrix()\n",
      "idx_data_mat1,idx_data_mat2"
     ],
     "language": "python",
     "metadata": {},
     "outputs": [
      {
       "metadata": {},
       "output_type": "pyout",
       "prompt_number": 37,
       "text": [
        "({IndexedDataMatrix} ValuesMatrix([[u'\\u4eca'],\n",
        "        [u'\\u5929'],\n",
        "        [u'\\u5929'],\n",
        "        [u'\\u6c23'],\n",
        "        [u'\\u5f88'],\n",
        "        [u'\\u597d']], \n",
        "       dtype='<U1'), {IndexedDataMatrix} ValuesMatrix([[u'\\u4eca'],\n",
        "        [u'\\u5929'],\n",
        "        [u'\\u5929'],\n",
        "        [u'\\u6c23'],\n",
        "        [u'\\u5f88'],\n",
        "        [u'\\u721b']], \n",
        "       dtype='<U1'))"
       ]
      }
     ],
     "prompt_number": 37
    },
    {
     "cell_type": "code",
     "collapsed": false,
     "input": [
      "idx_data_mat1"
     ],
     "language": "python",
     "metadata": {},
     "outputs": [
      {
       "metadata": {},
       "output_type": "pyout",
       "prompt_number": 42,
       "text": [
        "{IndexedDataMatrix} ValuesMatrix([[u'\\u4eca'],\n",
        "       [u'\\u5929'],\n",
        "       [u'\\u5929'],\n",
        "       [u'\\u6c23'],\n",
        "       [u'\\u5f88'],\n",
        "       [u'\\u597d']], \n",
        "      dtype='<U1')"
       ]
      }
     ],
     "prompt_number": 42
    },
    {
     "cell_type": "code",
     "collapsed": false,
     "input": [
      "idx_data_mat2.states_matrix"
     ],
     "language": "python",
     "metadata": {},
     "outputs": [
      {
       "metadata": {},
       "output_type": "pyout",
       "prompt_number": 53,
       "text": [
        "StatesMatrix([[u'\\u4eca', u'\\u5929', u'\\u5f88', u'\\u6c23', u'\\u721b']], \n",
        "      dtype='<U1')"
       ]
      }
     ],
     "prompt_number": 53
    },
    {
     "cell_type": "code",
     "collapsed": false,
     "input": [
      "np.concatenate((idx_data_mat1.states_matrix._as_1d_array,idx_data_mat2.states_matrix._as_1d_array), axis=0)"
     ],
     "language": "python",
     "metadata": {},
     "outputs": [
      {
       "metadata": {},
       "output_type": "pyout",
       "prompt_number": 54,
       "text": [
        "array([u'\\u4eca', u'\\u5929', u'\\u597d', u'\\u5f88', u'\\u6c23', u'\\u4eca',\n",
        "       u'\\u5929', u'\\u5f88', u'\\u6c23', u'\\u721b'], \n",
        "      dtype='<U1')"
       ]
      }
     ],
     "prompt_number": 54
    },
    {
     "cell_type": "code",
     "collapsed": false,
     "input": [],
     "language": "python",
     "metadata": {},
     "outputs": [],
     "prompt_number": 54
    },
    {
     "cell_type": "code",
     "collapsed": false,
     "input": [
      "states_mats_merger = StatesMatrixMerger(idx_data_mat1.states_matrix,idx_data_mat2.states_matrix)\n",
      "states_mats_merger"
     ],
     "language": "python",
     "metadata": {},
     "outputs": [
      {
       "metadata": {},
       "output_type": "pyout",
       "prompt_number": 55,
       "text": [
        "[StatesMatrix([[u'\\u4eca', u'\\u5929', u'\\u597d', u'\\u5f88', u'\\u6c23']], \n",
        "       dtype='<U1'),\n",
        " StatesMatrix([[u'\\u4eca', u'\\u5929', u'\\u5f88', u'\\u6c23', u'\\u721b']], \n",
        "       dtype='<U1')]"
       ]
      }
     ],
     "prompt_number": 55
    },
    {
     "cell_type": "code",
     "collapsed": false,
     "input": [
      "states_mats_merger._is_row_struct"
     ],
     "language": "python",
     "metadata": {},
     "outputs": [
      {
       "metadata": {},
       "output_type": "pyout",
       "prompt_number": 56,
       "text": [
        "False"
       ]
      }
     ],
     "prompt_number": 56
    },
    {
     "cell_type": "code",
     "collapsed": false,
     "input": [],
     "language": "python",
     "metadata": {},
     "outputs": [],
     "prompt_number": 56
    },
    {
     "cell_type": "code",
     "collapsed": false,
     "input": [],
     "language": "python",
     "metadata": {},
     "outputs": [],
     "prompt_number": 56
    },
    {
     "cell_type": "code",
     "collapsed": false,
     "input": [],
     "language": "python",
     "metadata": {},
     "outputs": [],
     "prompt_number": 56
    },
    {
     "cell_type": "code",
     "collapsed": false,
     "input": [],
     "language": "python",
     "metadata": {},
     "outputs": [],
     "prompt_number": 56
    },
    {
     "cell_type": "code",
     "collapsed": false,
     "input": [],
     "language": "python",
     "metadata": {},
     "outputs": [],
     "prompt_number": 56
    },
    {
     "cell_type": "code",
     "collapsed": false,
     "input": [],
     "language": "python",
     "metadata": {},
     "outputs": [],
     "prompt_number": 56
    },
    {
     "cell_type": "code",
     "collapsed": false,
     "input": [],
     "language": "python",
     "metadata": {},
     "outputs": [],
     "prompt_number": 56
    },
    {
     "cell_type": "code",
     "collapsed": false,
     "input": [],
     "language": "python",
     "metadata": {},
     "outputs": [],
     "prompt_number": 56
    },
    {
     "cell_type": "code",
     "collapsed": false,
     "input": [],
     "language": "python",
     "metadata": {},
     "outputs": [],
     "prompt_number": 56
    },
    {
     "cell_type": "code",
     "collapsed": false,
     "input": [],
     "language": "python",
     "metadata": {},
     "outputs": [],
     "prompt_number": 56
    },
    {
     "cell_type": "code",
     "collapsed": false,
     "input": [],
     "language": "python",
     "metadata": {},
     "outputs": [],
     "prompt_number": 56
    },
    {
     "cell_type": "code",
     "collapsed": false,
     "input": [],
     "language": "python",
     "metadata": {},
     "outputs": [],
     "prompt_number": 56
    },
    {
     "cell_type": "code",
     "collapsed": false,
     "input": [],
     "language": "python",
     "metadata": {},
     "outputs": [],
     "prompt_number": 56
    },
    {
     "cell_type": "code",
     "collapsed": false,
     "input": [],
     "language": "python",
     "metadata": {},
     "outputs": [],
     "prompt_number": 56
    },
    {
     "cell_type": "code",
     "collapsed": false,
     "input": [
      "test = range(10)\n",
      "def test_gen(test):\n",
      "    while len(test) > 0:\n",
      "        yield test.pop()"
     ],
     "language": "python",
     "metadata": {},
     "outputs": [],
     "prompt_number": 226
    },
    {
     "cell_type": "code",
     "collapsed": false,
     "input": [],
     "language": "python",
     "metadata": {},
     "outputs": [],
     "prompt_number": 227
    },
    {
     "cell_type": "code",
     "collapsed": false,
     "input": [
      "abc = test_gen(test)\n",
      "abc"
     ],
     "language": "python",
     "metadata": {},
     "outputs": [
      {
       "metadata": {},
       "output_type": "pyout",
       "prompt_number": 223,
       "text": [
        "<generator object test_gen at 0x3211e10>"
       ]
      }
     ],
     "prompt_number": 223
    },
    {
     "cell_type": "code",
     "collapsed": false,
     "input": [],
     "language": "python",
     "metadata": {},
     "outputs": [],
     "prompt_number": 223
    },
    {
     "cell_type": "code",
     "collapsed": false,
     "input": [
      "for xx in abc:\n",
      "    print xx"
     ],
     "language": "python",
     "metadata": {},
     "outputs": [
      {
       "output_type": "stream",
       "stream": "stdout",
       "text": [
        "9\n",
        "8\n",
        "7\n",
        "6\n",
        "5\n",
        "4\n",
        "3\n",
        "2\n",
        "1\n",
        "0\n"
       ]
      }
     ],
     "prompt_number": 224
    },
    {
     "cell_type": "code",
     "collapsed": false,
     "input": [
      "test"
     ],
     "language": "python",
     "metadata": {},
     "outputs": [
      {
       "metadata": {},
       "output_type": "pyout",
       "prompt_number": 225,
       "text": [
        "[]"
       ]
      }
     ],
     "prompt_number": 225
    },
    {
     "cell_type": "code",
     "collapsed": false,
     "input": [],
     "language": "python",
     "metadata": {},
     "outputs": []
    }
   ],
   "metadata": {}
  }
 ]
}