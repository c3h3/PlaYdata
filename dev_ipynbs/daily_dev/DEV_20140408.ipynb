{
 "metadata": {
  "name": "",
  "signature": "sha256:a7df9ef79908812b2a605acfe7a585ec1247087407ad9f80964902d0d89db281"
 },
 "nbformat": 3,
 "nbformat_minor": 0,
 "worksheets": [
  {
   "cells": [
    {
     "cell_type": "code",
     "collapsed": false,
     "input": [
      "import PlaYnlp.tokenizer as tkr \n",
      "import PlaYnlp.vectorizer as vcr\n",
      "from PlaYnlp import dataio\n",
      "\n",
      "from PlaYnlp.sparse import L0_norm_col_summarizer as L0_col_sum\n",
      "from PlaYnlp.sparse import L1_norm_col_summarizer as L1_col_sum\n",
      "import numpy as np\n",
      "import scipy as sp"
     ],
     "language": "python",
     "metadata": {},
     "outputs": [],
     "prompt_number": 1
    },
    {
     "cell_type": "code",
     "collapsed": false,
     "input": [],
     "language": "python",
     "metadata": {},
     "outputs": [],
     "prompt_number": 1
    },
    {
     "cell_type": "code",
     "collapsed": false,
     "input": [],
     "language": "python",
     "metadata": {},
     "outputs": [],
     "prompt_number": 1
    },
    {
     "cell_type": "code",
     "collapsed": false,
     "input": [
      "import pandas as pd \n",
      "test_text_df = pd.DataFrame([u\"\u4eca\u5929\u5929\u6c23\u5f88\u597d\",u\"\u4eca\u5929\u5929\u6c23\u5f88\u721b\",u\"\u6211\u6068\u5b83\",u\"\u5b83\u6068\u6211\",u\"\u6211\u611b\u5b83\",u\"\u5b83\u611b\u6211\",u\"\u4eca\u5929\u5f88\u8870\",u\"\u65e5\u5b50\u4e00\u5929\u4e00\u5929\u904e\",u\"\u5929\u5929\u5237\u7259\u6d17\u81c9\"])\n",
      "test_text_df.columns = [\"text\"]\n",
      "test_text_df = test_text_df.reset_index()\n",
      "test_text_df[\"idx\"] = map(lambda xx :u\"%05d\" % xx,test_text_df[\"index\"])\n",
      "test_text_df[\"r1\"] = np.random.randn(test_text_df.shape[0])\n",
      "test_text_df[\"r2\"] = np.random.randn(test_text_df.shape[0])\n",
      "test_text_df"
     ],
     "language": "python",
     "metadata": {},
     "outputs": [
      {
       "html": [
        "<div style=\"max-height:1000px;max-width:1500px;overflow:auto;\">\n",
        "<table border=\"1\" class=\"dataframe\">\n",
        "  <thead>\n",
        "    <tr style=\"text-align: right;\">\n",
        "      <th></th>\n",
        "      <th>index</th>\n",
        "      <th>text</th>\n",
        "      <th>idx</th>\n",
        "      <th>r1</th>\n",
        "      <th>r2</th>\n",
        "    </tr>\n",
        "  </thead>\n",
        "  <tbody>\n",
        "    <tr>\n",
        "      <th>0</th>\n",
        "      <td> 0</td>\n",
        "      <td>  \u4eca\u5929\u5929\u6c23\u5f88\u597d</td>\n",
        "      <td> 00000</td>\n",
        "      <td>-0.518128</td>\n",
        "      <td> 0.111782</td>\n",
        "    </tr>\n",
        "    <tr>\n",
        "      <th>1</th>\n",
        "      <td> 1</td>\n",
        "      <td>  \u4eca\u5929\u5929\u6c23\u5f88\u721b</td>\n",
        "      <td> 00001</td>\n",
        "      <td>-0.361015</td>\n",
        "      <td>-2.900539</td>\n",
        "    </tr>\n",
        "    <tr>\n",
        "      <th>2</th>\n",
        "      <td> 2</td>\n",
        "      <td>     \u6211\u6068\u5b83</td>\n",
        "      <td> 00002</td>\n",
        "      <td> 1.222826</td>\n",
        "      <td> 0.128593</td>\n",
        "    </tr>\n",
        "    <tr>\n",
        "      <th>3</th>\n",
        "      <td> 3</td>\n",
        "      <td>     \u5b83\u6068\u6211</td>\n",
        "      <td> 00003</td>\n",
        "      <td>-1.480938</td>\n",
        "      <td>-1.315607</td>\n",
        "    </tr>\n",
        "    <tr>\n",
        "      <th>4</th>\n",
        "      <td> 4</td>\n",
        "      <td>     \u6211\u611b\u5b83</td>\n",
        "      <td> 00004</td>\n",
        "      <td>-0.034445</td>\n",
        "      <td> 0.094420</td>\n",
        "    </tr>\n",
        "    <tr>\n",
        "      <th>5</th>\n",
        "      <td> 5</td>\n",
        "      <td>     \u5b83\u611b\u6211</td>\n",
        "      <td> 00005</td>\n",
        "      <td>-0.950137</td>\n",
        "      <td>-0.478136</td>\n",
        "    </tr>\n",
        "    <tr>\n",
        "      <th>6</th>\n",
        "      <td> 6</td>\n",
        "      <td>    \u4eca\u5929\u5f88\u8870</td>\n",
        "      <td> 00006</td>\n",
        "      <td> 1.331997</td>\n",
        "      <td>-1.054468</td>\n",
        "    </tr>\n",
        "    <tr>\n",
        "      <th>7</th>\n",
        "      <td> 7</td>\n",
        "      <td> \u65e5\u5b50\u4e00\u5929\u4e00\u5929\u904e</td>\n",
        "      <td> 00007</td>\n",
        "      <td>-1.349889</td>\n",
        "      <td>-0.273752</td>\n",
        "    </tr>\n",
        "    <tr>\n",
        "      <th>8</th>\n",
        "      <td> 8</td>\n",
        "      <td>  \u5929\u5929\u5237\u7259\u6d17\u81c9</td>\n",
        "      <td> 00008</td>\n",
        "      <td>-0.625283</td>\n",
        "      <td> 0.893368</td>\n",
        "    </tr>\n",
        "  </tbody>\n",
        "</table>\n",
        "<p>9 rows \u00d7 5 columns</p>\n",
        "</div>"
       ],
       "metadata": {},
       "output_type": "pyout",
       "prompt_number": 2,
       "text": [
        "   index     text    idx        r1        r2\n",
        "0      0   \u4eca\u5929\u5929\u6c23\u5f88\u597d  00000 -0.518128  0.111782\n",
        "1      1   \u4eca\u5929\u5929\u6c23\u5f88\u721b  00001 -0.361015 -2.900539\n",
        "2      2      \u6211\u6068\u5b83  00002  1.222826  0.128593\n",
        "3      3      \u5b83\u6068\u6211  00003 -1.480938 -1.315607\n",
        "4      4      \u6211\u611b\u5b83  00004 -0.034445  0.094420\n",
        "5      5      \u5b83\u611b\u6211  00005 -0.950137 -0.478136\n",
        "6      6     \u4eca\u5929\u5f88\u8870  00006  1.331997 -1.054468\n",
        "7      7  \u65e5\u5b50\u4e00\u5929\u4e00\u5929\u904e  00007 -1.349889 -0.273752\n",
        "8      8   \u5929\u5929\u5237\u7259\u6d17\u81c9  00008 -0.625283  0.893368\n",
        "\n",
        "[9 rows x 5 columns]"
       ]
      }
     ],
     "prompt_number": 2
    },
    {
     "cell_type": "code",
     "collapsed": false,
     "input": [
      "test_text_df[\"text\"].values"
     ],
     "language": "python",
     "metadata": {},
     "outputs": [
      {
       "metadata": {},
       "output_type": "pyout",
       "prompt_number": 3,
       "text": [
        "array([u'\\u4eca\\u5929\\u5929\\u6c23\\u5f88\\u597d',\n",
        "       u'\\u4eca\\u5929\\u5929\\u6c23\\u5f88\\u721b', u'\\u6211\\u6068\\u5b83',\n",
        "       u'\\u5b83\\u6068\\u6211', u'\\u6211\\u611b\\u5b83', u'\\u5b83\\u611b\\u6211',\n",
        "       u'\\u4eca\\u5929\\u5f88\\u8870',\n",
        "       u'\\u65e5\\u5b50\\u4e00\\u5929\\u4e00\\u5929\\u904e',\n",
        "       u'\\u5929\\u5929\\u5237\\u7259\\u6d17\\u81c9'], dtype=object)"
       ]
      }
     ],
     "prompt_number": 3
    },
    {
     "cell_type": "code",
     "collapsed": false,
     "input": [],
     "language": "python",
     "metadata": {},
     "outputs": [],
     "prompt_number": 3
    },
    {
     "cell_type": "code",
     "collapsed": false,
     "input": [],
     "language": "python",
     "metadata": {},
     "outputs": [],
     "prompt_number": 3
    },
    {
     "cell_type": "code",
     "collapsed": false,
     "input": [
      "import numpy as np\n",
      "import inspect\n",
      "import types\n",
      "import PlaYnlp.tokenizer as tkr \n",
      "from PlaYdata.util.args_tools import check_type_of_args\n",
      "import PlaYdata.util.array_tools as tools\n",
      "import PlaYdata.util.np_tools as np_tools\n",
      "\n"
     ],
     "language": "python",
     "metadata": {},
     "outputs": [],
     "prompt_number": 4
    },
    {
     "cell_type": "code",
     "collapsed": false,
     "input": [
      "import numpy as np\n",
      "import PlaYdata.util.np_tools as np_tools\n",
      "import PlaYdata.util.tools as tools\n",
      "\n",
      "\n",
      "class Matrix(np.ndarray):\n",
      "\n",
      "    @classmethod\n",
      "    def _preprocess_if_data_is_cls(cls, matrix, *args, **kwargs):\n",
      "        # print \"cls = \",cls\n",
      "        # print \"data = \",data\n",
      "        # print \"type(data) = \",type(data)\n",
      "        # print \"args = \",args\n",
      "        # print \"kwargs = \",kwargs\n",
      "        # eval_cls = kwargs.get(\"eval_cls\",1234)\n",
      "        # object.__setattr__(data, \"_eval_cls\", eval_cls)\n",
      "        pass\n",
      "\n",
      "    @classmethod\n",
      "    def _preprocess_before_init_return(cls, matrix, *args, **kwargs):\n",
      "        pass\n",
      "\n",
      "    def __new__(cls, data, dtype=None, force2d=\"as_row\", *args, **kwargs):\n",
      "\n",
      "        assert force2d in (\"as_row\", \"as_col\")\n",
      "\n",
      "        if isinstance(data, cls):\n",
      "            matrix_data = data\n",
      "            cls._preprocess_if_data_is_cls(matrix=matrix_data, *args, **kwargs)\n",
      "            return matrix_data\n",
      "        else:\n",
      "\n",
      "            matrix_data = np.array(data, dtype=dtype)\n",
      "\n",
      "            if force2d == \"as_row\":\n",
      "                if len(matrix_data.shape) < 2:\n",
      "                    matrix_data = np.array([matrix_data])\n",
      "            elif force2d == \"as_col\":\n",
      "                if len(matrix_data.shape) < 2:\n",
      "                    matrix_data = np.array([matrix_data]).T\n",
      "\n",
      "            if len(matrix_data.shape) > 2:\n",
      "                matrix_data = np_tools.clean_no_data_tensors(matrix_data)\n",
      "\n",
      "            assert len(matrix_data.shape) == 2\n",
      "\n",
      "            matrix_data = matrix_data.view(cls)\n",
      "            cls._preprocess_before_init_return(matrix=matrix_data,\n",
      "                                               *args, **kwargs)\n",
      "\n",
      "            return matrix_data\n",
      "\n",
      "    @property\n",
      "    def _is_1d(self):\n",
      "        return len(np_tools.clean_no_data_tensors(self).shape) == 1\n",
      "\n",
      "    @property\n",
      "    def _as_1d_array(self):\n",
      "        assert self._is_1d\n",
      "        return np_tools.clean_no_data_tensors(self)\n",
      "\n",
      "    @property\n",
      "    def _nrow(self):\n",
      "        return self.shape[0]\n",
      "\n",
      "    @property\n",
      "    def _ncol(self):\n",
      "        return self.shape[1]\n",
      "    \n",
      "    @property\n",
      "    def _is_1d_row(self):\n",
      "        return self.shape[0] == 1\n",
      "\n",
      "    @property\n",
      "    def _is_1d_col(self):\n",
      "        return self.shape[1] == 1\n",
      "\n",
      "    def _1d_ngram(self, n):\n",
      "        assert self._is_1d\n",
      "        ngram_results = list(tools.ngram(self.flatten(), n))\n",
      "        return type(self)(data=ngram_results)\n",
      "\n",
      "    def build_values_index(self):\n",
      "        u, inv = np.unique(self, return_inverse=True)\n",
      "        states_matrix = StatesMatrix(data=u, eval_cls=type(self))\n",
      "        assert states_matrix._is_1d\n",
      "        idx_matrix = IndexMatrix(data=inv).reshape(self.shape)\n",
      "        return states_matrix, idx_matrix\n",
      "\n",
      "    def build_row_struct_index(self):\n",
      "        temp_self = self.copy()\n",
      "        temp_self.dtype = np.dtype(zip(map(str, range(self._ncol)),\n",
      "                                       [self.dtype] * self._ncol))\n",
      "\n",
      "        u, i, inv = np.unique(temp_self, return_index=True,\n",
      "                              return_inverse=True)\n",
      "\n",
      "        idx_matrix = IndexMatrix(inv)\n",
      "\n",
      "        states_matrix = StatesMatrix(self[i, :], eval_cls=type(u),\n",
      "                                     is_row_struct=True)\n",
      "        return states_matrix, idx_matrix\n",
      "\n",
      "    def build_index_data_matrix(self, build_type=\"values\"):\n",
      "        assert build_type in (\"values\", \"row_struct\")\n",
      "        if build_type == \"values\":\n",
      "            return IndexedDataMatrix(*self.build_values_index())\n",
      "        else:\n",
      "            return IndexedDataMatrix(*self.build_row_struct_index())\n",
      "\n",
      "\n",
      "class ValuesMatrix(Matrix):\n",
      "    pass\n",
      "\n",
      "\n",
      "class IndexMatrix(Matrix):\n",
      "    pass\n",
      "\n",
      "\n",
      "class StatesMatrix(Matrix):\n",
      "    \n",
      "    @classmethod\n",
      "    def _set_ref_data(cls, matrix, *args, **kwargs):\n",
      "        if \"_ref_data\" not in matrix.__dict__.keys():\n",
      "            ref_data = list()\n",
      "            object.__setattr__(matrix, \"_ref_data\", ref_data)\n",
      "\n",
      "    @classmethod\n",
      "    def _set_is_row_struct(cls, matrix, *args, **kwargs):\n",
      "        is_row_struct = kwargs.get(\"is_row_struct\", False)\n",
      "        object.__setattr__(matrix, \"_is_row_struct\", is_row_struct)\n",
      "\n",
      "    @classmethod\n",
      "    def _set_eval_cls(cls, matrix, *args, **kwargs):\n",
      "        eval_cls = kwargs.get(\"eval_cls\", np.ndarray)\n",
      "        object.__setattr__(matrix, \"_eval_cls\", eval_cls)\n",
      "\n",
      "    @classmethod\n",
      "    def _preprocess_if_data_is_cls(cls, matrix, *args, **kwargs):\n",
      "        cls._set_eval_cls(matrix=matrix, *args, **kwargs)\n",
      "        cls._set_is_row_struct(matrix=matrix, *args, **kwargs)\n",
      "        cls._set_ref_data(matrix=matrix, *args, **kwargs)\n",
      "\n",
      "    @classmethod\n",
      "    def _preprocess_before_init_return(cls, matrix, *args, **kwargs):\n",
      "        cls._set_eval_cls(matrix=matrix, *args, **kwargs)\n",
      "        cls._set_is_row_struct(matrix=matrix, *args, **kwargs)\n",
      "        cls._set_ref_data(matrix=matrix, *args, **kwargs)\n",
      "\n",
      "    def _eval_values_type(self, idx_mat):\n",
      "        return self._as_1d_array[idx_mat].view(self._eval_cls).copy()\n",
      "\n",
      "    def _eval_row_struct_type(self, idx_mat):\n",
      "        return self[idx_mat._as_1d_array, :].view(self._eval_cls).copy()\n",
      "\n",
      "    def _eval(self, idx_mat):\n",
      "\n",
      "        assert isinstance(idx_mat, IndexMatrix)\n",
      "        _row_struct_type_checkers = (idx_mat._is_1d and self._is_row_struct)\n",
      "        _values_checkers = self._is_1d\n",
      "        assert _values_checkers or _row_struct_type_checkers\n",
      "\n",
      "        if _row_struct_type_checkers:\n",
      "            return self._eval_row_struct_type(idx_mat=idx_mat)\n",
      "        else:\n",
      "            return self._eval_values_type(idx_mat=idx_mat)\n",
      "\n",
      "    def add_ref_data(self, idx_data_matrix):\n",
      "        assert isinstance(idx_data_matrix, IndexedDataMatrix)\n",
      "        if not (idx_data_matrix in self._ref_data):\n",
      "            self._ref_data.append(idx_data_matrix)\n",
      "            \n",
      "    def remove_ref_data(self, idx_data_matrix):\n",
      "        assert isinstance(idx_data_matrix, IndexedDataMatrix)\n",
      "        if idx_data_matrix in self._ref_data:\n",
      "            self._ref_data.remove(idx_data_matrix)\n",
      "    \n",
      "    def pop_out_ref_data(self):\n",
      "        while len(self._ref_data) > 0:\n",
      "            yield self._ref_data.pop()\n",
      "            \n",
      "    def clean_all_ref_data(self):\n",
      "        new_ref_data = list()\n",
      "        self._ref_data = new_ref_data\n",
      "        \n",
      "\n",
      "\n",
      "            "
     ],
     "language": "python",
     "metadata": {},
     "outputs": [],
     "prompt_number": 22
    },
    {
     "cell_type": "code",
     "collapsed": false,
     "input": [
      "\n",
      "class IndexedDataMatrix(object):\n",
      "    def __init__(self, states_matrix, index_matrix):\n",
      "        self.states_matrix = states_matrix\n",
      "        self.index_matrix = index_matrix\n",
      "        self.states_matrix.add_ref_data(self)\n",
      "\n",
      "    def __repr__(self):\n",
      "        return \"{IndexedDataMatrix} \" + self.index_matrix.__repr__()\n",
      "    \n",
      "    \n",
      "\n",
      "\n"
     ],
     "language": "python",
     "metadata": {},
     "outputs": [],
     "prompt_number": 23
    },
    {
     "cell_type": "code",
     "collapsed": false,
     "input": [
      "class StatesMatrixMerger(list):\n",
      "    def __init__(self, *states_mats):\n",
      "        \n",
      "        # checking states_mats are all StatesDictionary's instance\n",
      "        assert check_type_of_args(StatesMatrix, *states_mats)\n",
      "        \n",
      "        # checking states_mats have the same _is_row_struct\n",
      "        assert len(np.unique(np.array(map(lambda xx:xx._is_row_struct,states_mats)))) == 1\n",
      "        self._is_row_struct = states_mats[0]._is_row_struct\n",
      "\n",
      "        # checking states_mats have the same dtype.type\n",
      "        assert len(np.unique(np.array(map(lambda xx:xx.dtype.type,states_mats)))) == 1\n",
      "        self._dtype_type = states_mats[0].dtype.type\n",
      "        \n",
      "        # checking states_mats have the same _eval_cls\n",
      "        assert len(np.unique(np.array(map(lambda xx:xx._eval_cls,states_mats)))) == 1\n",
      "        self._eval_cls = states_mats[0]._eval_cls\n",
      "        \n",
      "        list.__init__(self,states_mats)"
     ],
     "language": "python",
     "metadata": {},
     "outputs": [],
     "prompt_number": 24
    },
    {
     "cell_type": "code",
     "collapsed": false,
     "input": [],
     "language": "python",
     "metadata": {},
     "outputs": [],
     "prompt_number": 24
    },
    {
     "cell_type": "code",
     "collapsed": false,
     "input": [],
     "language": "python",
     "metadata": {},
     "outputs": [],
     "prompt_number": 24
    },
    {
     "cell_type": "code",
     "collapsed": false,
     "input": [
      "\n",
      "val_mat1_text = list(tools.ngram(test_text_df[\"text\"].values[0], [1]))\n",
      "val_mat2_text = list(tools.ngram(test_text_df[\"text\"].values[1], [1]))\n",
      "val_mat1 = ValuesMatrix(val_mat1_text, force2d=\"as_col\")\n",
      "val_mat2 = ValuesMatrix(val_mat2_text, force2d=\"as_col\")\n",
      "val_mat = ValuesMatrix(np.concatenate((val_mat1._1d_ngram(2),val_mat2._1d_ngram(2)), axis=0))\n",
      "states_matrix, idx_matrix = val_mat.build_values_index()\n",
      "print np.array_equal(states_matrix._eval(idx_matrix), val_mat)\n",
      "ss, ii = idx_matrix.build_row_struct_index()\n",
      "print np.array_equal(ss._eval(ii), idx_matrix)\n",
      "print np.array_equal(states_matrix._eval(ss._eval(ii)), val_mat)\n",
      "\n"
     ],
     "language": "python",
     "metadata": {},
     "outputs": [
      {
       "output_type": "stream",
       "stream": "stdout",
       "text": [
        "True\n",
        "True\n",
        "True\n"
       ]
      }
     ],
     "prompt_number": 25
    },
    {
     "cell_type": "code",
     "collapsed": false,
     "input": [
      "s1, i1 = val_mat1.build_values_index()\n",
      "s1, i1"
     ],
     "language": "python",
     "metadata": {},
     "outputs": [
      {
       "metadata": {},
       "output_type": "pyout",
       "prompt_number": 10,
       "text": [
        "(StatesMatrix([[u'\\u4eca', u'\\u5929', u'\\u597d', u'\\u5f88', u'\\u6c23']], \n",
        "       dtype='<U1'), IndexMatrix([[0],\n",
        "        [1],\n",
        "        [1],\n",
        "        [4],\n",
        "        [3],\n",
        "        [2]]))"
       ]
      }
     ],
     "prompt_number": 10
    },
    {
     "cell_type": "code",
     "collapsed": false,
     "input": [
      "s2, i2 = val_mat2.build_values_index()\n",
      "s2, i2"
     ],
     "language": "python",
     "metadata": {},
     "outputs": [
      {
       "metadata": {},
       "output_type": "pyout",
       "prompt_number": 11,
       "text": [
        "(StatesMatrix([[u'\\u4eca', u'\\u5929', u'\\u5f88', u'\\u6c23', u'\\u721b']], \n",
        "       dtype='<U1'), IndexMatrix([[0],\n",
        "        [1],\n",
        "        [1],\n",
        "        [3],\n",
        "        [2],\n",
        "        [4]]))"
       ]
      }
     ],
     "prompt_number": 11
    },
    {
     "cell_type": "code",
     "collapsed": false,
     "input": [
      "states_mats_merger = StatesMatrixMerger(s1,s2)\n",
      "states_mats_merger"
     ],
     "language": "python",
     "metadata": {},
     "outputs": [
      {
       "metadata": {},
       "output_type": "pyout",
       "prompt_number": 12,
       "text": [
        "[StatesMatrix([[u'\\u4eca', u'\\u5929', u'\\u597d', u'\\u5f88', u'\\u6c23']], \n",
        "       dtype='<U1'),\n",
        " StatesMatrix([[u'\\u4eca', u'\\u5929', u'\\u5f88', u'\\u6c23', u'\\u721b']], \n",
        "       dtype='<U1')]"
       ]
      }
     ],
     "prompt_number": 12
    },
    {
     "cell_type": "code",
     "collapsed": false,
     "input": [
      "states_mats_merger._is_row_struct"
     ],
     "language": "python",
     "metadata": {},
     "outputs": [
      {
       "metadata": {},
       "output_type": "pyout",
       "prompt_number": 13,
       "text": [
        "False"
       ]
      }
     ],
     "prompt_number": 13
    },
    {
     "cell_type": "code",
     "collapsed": false,
     "input": [
      "u,inv = np.unique(np.concatenate(tuple(map(lambda xx:xx._as_1d_array,states_mats_merger)),axis=0),return_inverse=True)\n",
      "u,inv"
     ],
     "language": "python",
     "metadata": {},
     "outputs": [
      {
       "metadata": {},
       "output_type": "pyout",
       "prompt_number": 21,
       "text": [
        "(array([u'\\u4eca', u'\\u5929', u'\\u597d', u'\\u5f88', u'\\u6c23', u'\\u721b'], \n",
        "       dtype='<U1'), array([0, 1, 2, 3, 4, 0, 1, 3, 4, 5]))"
       ]
      }
     ],
     "prompt_number": 21
    },
    {
     "cell_type": "code",
     "collapsed": false,
     "input": [],
     "language": "python",
     "metadata": {},
     "outputs": []
    },
    {
     "cell_type": "code",
     "collapsed": false,
     "input": [
      "s1._as_1d_array"
     ],
     "language": "python",
     "metadata": {},
     "outputs": [
      {
       "metadata": {},
       "output_type": "pyout",
       "prompt_number": 14,
       "text": [
        "StatesMatrix([u'\\u4eca', u'\\u5929', u'\\u597d', u'\\u5f88', u'\\u6c23'], \n",
        "      dtype='<U1')"
       ]
      }
     ],
     "prompt_number": 14
    },
    {
     "cell_type": "code",
     "collapsed": false,
     "input": [],
     "language": "python",
     "metadata": {},
     "outputs": []
    },
    {
     "cell_type": "code",
     "collapsed": false,
     "input": [],
     "language": "python",
     "metadata": {},
     "outputs": []
    },
    {
     "cell_type": "code",
     "collapsed": false,
     "input": [],
     "language": "python",
     "metadata": {},
     "outputs": []
    },
    {
     "cell_type": "code",
     "collapsed": false,
     "input": [],
     "language": "python",
     "metadata": {},
     "outputs": [],
     "prompt_number": 11
    },
    {
     "cell_type": "code",
     "collapsed": false,
     "input": [],
     "language": "python",
     "metadata": {},
     "outputs": [],
     "prompt_number": 97
    },
    {
     "cell_type": "code",
     "collapsed": false,
     "input": [
      "idx_data_mat1 = val_mat1.build_index_data_matrix()\n",
      "idx_data_mat2 = val_mat2.build_index_data_matrix()\n",
      "idx_data_mat1,idx_data_mat2"
     ],
     "language": "python",
     "metadata": {},
     "outputs": [
      {
       "metadata": {},
       "output_type": "pyout",
       "prompt_number": 98,
       "text": [
        "({IndexedDataMatrix} IndexMatrix([[0],\n",
        "        [1],\n",
        "        [1],\n",
        "        [4],\n",
        "        [3],\n",
        "        [2]]), {IndexedDataMatrix} IndexMatrix([[0],\n",
        "        [1],\n",
        "        [1],\n",
        "        [3],\n",
        "        [2],\n",
        "        [4]]))"
       ]
      }
     ],
     "prompt_number": 98
    },
    {
     "cell_type": "code",
     "collapsed": false,
     "input": [
      "idx_data_mat1.states_matrix"
     ],
     "language": "python",
     "metadata": {},
     "outputs": [
      {
       "metadata": {},
       "output_type": "pyout",
       "prompt_number": 99,
       "text": [
        "StatesMatrix([[u'\\u4eca', u'\\u5929', u'\\u597d', u'\\u5f88', u'\\u6c23']], \n",
        "      dtype='<U1')"
       ]
      }
     ],
     "prompt_number": 99
    },
    {
     "cell_type": "code",
     "collapsed": false,
     "input": [
      "idx_data_mat2.states_matrix"
     ],
     "language": "python",
     "metadata": {},
     "outputs": [
      {
       "metadata": {},
       "output_type": "pyout",
       "prompt_number": 100,
       "text": [
        "StatesMatrix([[u'\\u4eca', u'\\u5929', u'\\u5f88', u'\\u6c23', u'\\u721b']], \n",
        "      dtype='<U1')"
       ]
      }
     ],
     "prompt_number": 100
    },
    {
     "cell_type": "code",
     "collapsed": false,
     "input": [
      "np.concatenate((idx_data_mat1.states_matrix._as_1d_array,idx_data_mat2.states_matrix._as_1d_array), axis=0)"
     ],
     "language": "python",
     "metadata": {},
     "outputs": [
      {
       "metadata": {},
       "output_type": "pyout",
       "prompt_number": 101,
       "text": [
        "array([u'\\u4eca', u'\\u5929', u'\\u597d', u'\\u5f88', u'\\u6c23', u'\\u4eca',\n",
        "       u'\\u5929', u'\\u5f88', u'\\u6c23', u'\\u721b'], \n",
        "      dtype='<U1')"
       ]
      }
     ],
     "prompt_number": 101
    },
    {
     "cell_type": "code",
     "collapsed": false,
     "input": [],
     "language": "python",
     "metadata": {},
     "outputs": [],
     "prompt_number": 101
    },
    {
     "cell_type": "code",
     "collapsed": false,
     "input": [
      "states_mats_merger = StatesMatrixMerger(idx_data_mat1.states_matrix,idx_data_mat2.states_matrix)\n",
      "states_mats_merger"
     ],
     "language": "python",
     "metadata": {},
     "outputs": [
      {
       "metadata": {},
       "output_type": "pyout",
       "prompt_number": 102,
       "text": [
        "[StatesMatrix([[u'\\u4eca', u'\\u5929', u'\\u597d', u'\\u5f88', u'\\u6c23']], \n",
        "       dtype='<U1'),\n",
        " StatesMatrix([[u'\\u4eca', u'\\u5929', u'\\u5f88', u'\\u6c23', u'\\u721b']], \n",
        "       dtype='<U1')]"
       ]
      }
     ],
     "prompt_number": 102
    },
    {
     "cell_type": "code",
     "collapsed": false,
     "input": [
      "states_mats_merger._is_row_struct"
     ],
     "language": "python",
     "metadata": {},
     "outputs": [
      {
       "metadata": {},
       "output_type": "pyout",
       "prompt_number": 103,
       "text": [
        "False"
       ]
      }
     ],
     "prompt_number": 103
    },
    {
     "cell_type": "code",
     "collapsed": false,
     "input": [],
     "language": "python",
     "metadata": {},
     "outputs": [],
     "prompt_number": 26
    },
    {
     "cell_type": "code",
     "collapsed": false,
     "input": [],
     "language": "python",
     "metadata": {},
     "outputs": [],
     "prompt_number": 27
    },
    {
     "cell_type": "code",
     "collapsed": false,
     "input": [],
     "language": "python",
     "metadata": {},
     "outputs": [],
     "prompt_number": 27
    },
    {
     "cell_type": "code",
     "collapsed": false,
     "input": [],
     "language": "python",
     "metadata": {},
     "outputs": [],
     "prompt_number": 27
    },
    {
     "cell_type": "code",
     "collapsed": false,
     "input": [],
     "language": "python",
     "metadata": {},
     "outputs": [],
     "prompt_number": 27
    },
    {
     "cell_type": "code",
     "collapsed": false,
     "input": [],
     "language": "python",
     "metadata": {},
     "outputs": [],
     "prompt_number": 27
    },
    {
     "cell_type": "code",
     "collapsed": false,
     "input": [],
     "language": "python",
     "metadata": {},
     "outputs": [],
     "prompt_number": 27
    },
    {
     "cell_type": "code",
     "collapsed": false,
     "input": [],
     "language": "python",
     "metadata": {},
     "outputs": [],
     "prompt_number": 27
    },
    {
     "cell_type": "code",
     "collapsed": false,
     "input": [],
     "language": "python",
     "metadata": {},
     "outputs": [],
     "prompt_number": 27
    },
    {
     "cell_type": "code",
     "collapsed": false,
     "input": [],
     "language": "python",
     "metadata": {},
     "outputs": [],
     "prompt_number": 27
    },
    {
     "cell_type": "code",
     "collapsed": false,
     "input": [],
     "language": "python",
     "metadata": {},
     "outputs": [],
     "prompt_number": 27
    },
    {
     "cell_type": "code",
     "collapsed": false,
     "input": [],
     "language": "python",
     "metadata": {},
     "outputs": [],
     "prompt_number": 27
    },
    {
     "cell_type": "code",
     "collapsed": false,
     "input": [],
     "language": "python",
     "metadata": {},
     "outputs": [],
     "prompt_number": 27
    },
    {
     "cell_type": "code",
     "collapsed": false,
     "input": [],
     "language": "python",
     "metadata": {},
     "outputs": []
    }
   ],
   "metadata": {}
  }
 ]
}