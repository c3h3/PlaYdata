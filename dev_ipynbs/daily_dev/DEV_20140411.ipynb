{
 "metadata": {
  "name": "",
  "signature": "sha256:1d3d23d88bfa125f8e1278d62a80a555925bcc6773fb139184e57693be789d6a"
 },
 "nbformat": 3,
 "nbformat_minor": 0,
 "worksheets": [
  {
   "cells": [
    {
     "cell_type": "code",
     "collapsed": false,
     "input": [
      "import PlaYnlp.tokenizer as tkr \n",
      "import PlaYnlp.vectorizer as vcr\n",
      "from PlaYnlp import dataio\n",
      "\n",
      "from PlaYnlp.sparse import L0_norm_col_summarizer as L0_col_sum\n",
      "from PlaYnlp.sparse import L1_norm_col_summarizer as L1_col_sum\n",
      "import numpy as np\n",
      "import scipy as sp"
     ],
     "language": "python",
     "metadata": {},
     "outputs": [],
     "prompt_number": 1
    },
    {
     "cell_type": "code",
     "collapsed": false,
     "input": [],
     "language": "python",
     "metadata": {},
     "outputs": [],
     "prompt_number": 1
    },
    {
     "cell_type": "code",
     "collapsed": false,
     "input": [],
     "language": "python",
     "metadata": {},
     "outputs": [],
     "prompt_number": 1
    },
    {
     "cell_type": "code",
     "collapsed": false,
     "input": [
      "import pandas as pd \n",
      "test_text_df = pd.DataFrame([u\"\u4eca\u5929\u5929\u6c23\u5f88\u597d\",u\"\u4eca\u5929\u5929\u6c23\u5f88\u721b\",u\"\u6211\u6068\u5b83\",u\"\u5b83\u6068\u6211\",u\"\u6211\u611b\u5b83\",u\"\u5b83\u611b\u6211\",u\"\u4eca\u5929\u5f88\u8870\",u\"\u65e5\u5b50\u4e00\u5929\u4e00\u5929\u904e\",u\"\u5929\u5929\u5237\u7259\u6d17\u81c9\"])\n",
      "test_text_df.columns = [\"text\"]\n",
      "test_text_df = test_text_df.reset_index()\n",
      "test_text_df[\"idx\"] = map(lambda xx :u\"%05d\" % xx,test_text_df[\"index\"])\n",
      "test_text_df[\"r1\"] = np.random.randn(test_text_df.shape[0])\n",
      "test_text_df[\"r2\"] = np.random.randn(test_text_df.shape[0])\n",
      "test_text_df"
     ],
     "language": "python",
     "metadata": {},
     "outputs": [
      {
       "html": [
        "<div style=\"max-height:1000px;max-width:1500px;overflow:auto;\">\n",
        "<table border=\"1\" class=\"dataframe\">\n",
        "  <thead>\n",
        "    <tr style=\"text-align: right;\">\n",
        "      <th></th>\n",
        "      <th>index</th>\n",
        "      <th>text</th>\n",
        "      <th>idx</th>\n",
        "      <th>r1</th>\n",
        "      <th>r2</th>\n",
        "    </tr>\n",
        "  </thead>\n",
        "  <tbody>\n",
        "    <tr>\n",
        "      <th>0</th>\n",
        "      <td> 0</td>\n",
        "      <td>  \u4eca\u5929\u5929\u6c23\u5f88\u597d</td>\n",
        "      <td> 00000</td>\n",
        "      <td> 0.945764</td>\n",
        "      <td>-0.972777</td>\n",
        "    </tr>\n",
        "    <tr>\n",
        "      <th>1</th>\n",
        "      <td> 1</td>\n",
        "      <td>  \u4eca\u5929\u5929\u6c23\u5f88\u721b</td>\n",
        "      <td> 00001</td>\n",
        "      <td> 0.139044</td>\n",
        "      <td> 2.325314</td>\n",
        "    </tr>\n",
        "    <tr>\n",
        "      <th>2</th>\n",
        "      <td> 2</td>\n",
        "      <td>     \u6211\u6068\u5b83</td>\n",
        "      <td> 00002</td>\n",
        "      <td> 0.216969</td>\n",
        "      <td>-0.410659</td>\n",
        "    </tr>\n",
        "    <tr>\n",
        "      <th>3</th>\n",
        "      <td> 3</td>\n",
        "      <td>     \u5b83\u6068\u6211</td>\n",
        "      <td> 00003</td>\n",
        "      <td>-1.168376</td>\n",
        "      <td>-1.137280</td>\n",
        "    </tr>\n",
        "    <tr>\n",
        "      <th>4</th>\n",
        "      <td> 4</td>\n",
        "      <td>     \u6211\u611b\u5b83</td>\n",
        "      <td> 00004</td>\n",
        "      <td>-0.548302</td>\n",
        "      <td>-0.567074</td>\n",
        "    </tr>\n",
        "    <tr>\n",
        "      <th>5</th>\n",
        "      <td> 5</td>\n",
        "      <td>     \u5b83\u611b\u6211</td>\n",
        "      <td> 00005</td>\n",
        "      <td>-0.987042</td>\n",
        "      <td> 0.042302</td>\n",
        "    </tr>\n",
        "    <tr>\n",
        "      <th>6</th>\n",
        "      <td> 6</td>\n",
        "      <td>    \u4eca\u5929\u5f88\u8870</td>\n",
        "      <td> 00006</td>\n",
        "      <td> 1.509713</td>\n",
        "      <td> 0.052911</td>\n",
        "    </tr>\n",
        "    <tr>\n",
        "      <th>7</th>\n",
        "      <td> 7</td>\n",
        "      <td> \u65e5\u5b50\u4e00\u5929\u4e00\u5929\u904e</td>\n",
        "      <td> 00007</td>\n",
        "      <td> 0.964643</td>\n",
        "      <td>-0.793108</td>\n",
        "    </tr>\n",
        "    <tr>\n",
        "      <th>8</th>\n",
        "      <td> 8</td>\n",
        "      <td>  \u5929\u5929\u5237\u7259\u6d17\u81c9</td>\n",
        "      <td> 00008</td>\n",
        "      <td>-1.191720</td>\n",
        "      <td>-0.400307</td>\n",
        "    </tr>\n",
        "  </tbody>\n",
        "</table>\n",
        "<p>9 rows \u00d7 5 columns</p>\n",
        "</div>"
       ],
       "metadata": {},
       "output_type": "pyout",
       "prompt_number": 2,
       "text": [
        "   index     text    idx        r1        r2\n",
        "0      0   \u4eca\u5929\u5929\u6c23\u5f88\u597d  00000  0.945764 -0.972777\n",
        "1      1   \u4eca\u5929\u5929\u6c23\u5f88\u721b  00001  0.139044  2.325314\n",
        "2      2      \u6211\u6068\u5b83  00002  0.216969 -0.410659\n",
        "3      3      \u5b83\u6068\u6211  00003 -1.168376 -1.137280\n",
        "4      4      \u6211\u611b\u5b83  00004 -0.548302 -0.567074\n",
        "5      5      \u5b83\u611b\u6211  00005 -0.987042  0.042302\n",
        "6      6     \u4eca\u5929\u5f88\u8870  00006  1.509713  0.052911\n",
        "7      7  \u65e5\u5b50\u4e00\u5929\u4e00\u5929\u904e  00007  0.964643 -0.793108\n",
        "8      8   \u5929\u5929\u5237\u7259\u6d17\u81c9  00008 -1.191720 -0.400307\n",
        "\n",
        "[9 rows x 5 columns]"
       ]
      }
     ],
     "prompt_number": 2
    },
    {
     "cell_type": "code",
     "collapsed": false,
     "input": [
      "test_text_df[\"text\"].values"
     ],
     "language": "python",
     "metadata": {},
     "outputs": [
      {
       "metadata": {},
       "output_type": "pyout",
       "prompt_number": 3,
       "text": [
        "array([u'\\u4eca\\u5929\\u5929\\u6c23\\u5f88\\u597d',\n",
        "       u'\\u4eca\\u5929\\u5929\\u6c23\\u5f88\\u721b', u'\\u6211\\u6068\\u5b83',\n",
        "       u'\\u5b83\\u6068\\u6211', u'\\u6211\\u611b\\u5b83', u'\\u5b83\\u611b\\u6211',\n",
        "       u'\\u4eca\\u5929\\u5f88\\u8870',\n",
        "       u'\\u65e5\\u5b50\\u4e00\\u5929\\u4e00\\u5929\\u904e',\n",
        "       u'\\u5929\\u5929\\u5237\\u7259\\u6d17\\u81c9'], dtype=object)"
       ]
      }
     ],
     "prompt_number": 3
    },
    {
     "cell_type": "code",
     "collapsed": false,
     "input": [],
     "language": "python",
     "metadata": {},
     "outputs": [],
     "prompt_number": 3
    },
    {
     "cell_type": "code",
     "collapsed": false,
     "input": [],
     "language": "python",
     "metadata": {},
     "outputs": [],
     "prompt_number": 3
    },
    {
     "cell_type": "code",
     "collapsed": false,
     "input": [
      "import numpy as np\n",
      "import inspect\n",
      "import types\n",
      "import PlaYnlp.tokenizer as tkr \n",
      "from PlaYdata.util.args_tools import check_type_of_args, check_args\n",
      "import PlaYdata.util.array_tools as tools\n",
      "import PlaYdata.util.np_tools as np_tools\n",
      "\n"
     ],
     "language": "python",
     "metadata": {},
     "outputs": [],
     "prompt_number": 4
    },
    {
     "cell_type": "code",
     "collapsed": false,
     "input": [],
     "language": "python",
     "metadata": {},
     "outputs": [],
     "prompt_number": 4
    },
    {
     "cell_type": "code",
     "collapsed": false,
     "input": [
      "import numpy as np\n",
      "import PlaYdata.util.np_tools as np_tools\n",
      "import PlaYdata.util.tools as tools\n",
      "\n",
      "\n",
      "class Vector(np.ndarray):\n",
      "    \n",
      "    @classmethod\n",
      "    def _preprocess_if_data_is_cls(cls, vector,*args, **kwargs):\n",
      "        pass\n",
      "        \n",
      "    @classmethod\n",
      "    def _preprocess_before_init_return(cls, vector ,*args, **kwargs):\n",
      "        pass\n",
      "    \n",
      "    def __new__(cls, data, dtype=None, *args, **kwargs):\n",
      "        \n",
      "        if isinstance(data, cls):\n",
      "            values_vector = data\n",
      "            cls._preprocess_if_data_is_cls(vector=values_vector,*args, **kwargs)\n",
      "            return values_vector\n",
      "        \n",
      "        else:\n",
      "            vector_data = np.array(data, dtype=dtype)\n",
      "            \n",
      "            if len(vector_data.shape) > 1:\n",
      "                vector_data = np_tools.clean_no_data_tensors(vector_data)\n",
      "            \n",
      "            assert len(vector_data.shape) == 1\n",
      "            \n",
      "            vector_data = vector_data.view(cls)\n",
      "            cls._preprocess_before_init_return(vector=vector_data,*args, **kwargs)\n",
      "            \n",
      "            return vector_data\n",
      "        \n",
      "    @property\n",
      "    def _dim(self):\n",
      "        return self.shape[0]\n",
      "\n",
      "    @property\n",
      "    def _reconstruct_kwargs(self):\n",
      "        return {}\n",
      "\n",
      "\n",
      "class Matrix(np.ndarray):\n",
      "\n",
      "    @classmethod\n",
      "    def _preprocess_if_data_is_cls(cls, matrix, *args, **kwargs):\n",
      "        # print \"cls = \",cls\n",
      "        # print \"data = \",data\n",
      "        # print \"type(data) = \",type(data)\n",
      "        # print \"args = \",args\n",
      "        # print \"kwargs = \",kwargs\n",
      "        # eval_cls = kwargs.get(\"eval_cls\",1234)\n",
      "        # object.__setattr__(data, \"_eval_cls\", eval_cls)\n",
      "        pass\n",
      "\n",
      "    @classmethod\n",
      "    def _preprocess_before_init_return(cls, matrix, *args, **kwargs):\n",
      "        pass\n",
      "\n",
      "    def __new__(cls, data, dtype=None, force2d=\"as_row\", *args, **kwargs):\n",
      "\n",
      "        assert force2d in (\"as_row\", \"as_col\")\n",
      "\n",
      "        if isinstance(data, cls):\n",
      "            matrix_data = data\n",
      "            cls._preprocess_if_data_is_cls(matrix=matrix_data, *args, **kwargs)\n",
      "            return matrix_data\n",
      "        else:\n",
      "            \n",
      "            if isinstance(data, (unicode,str)):\n",
      "                # in case of matrix_data = np.array(unicode-type instance)\n",
      "                # the shape of matrix_data would be () and len(matrix_data.shape) == 0\n",
      "                matrix_data = np.array([data], dtype=dtype)\n",
      "            else:\n",
      "                matrix_data = np.array(data, dtype=dtype)\n",
      "\n",
      "            if len(matrix_data.shape) > 2:\n",
      "                matrix_data = np_tools.clean_no_data_tensors(matrix_data)\n",
      "\n",
      "            if force2d == \"as_row\":\n",
      "                if len(matrix_data.shape) < 2:\n",
      "                    matrix_data = np.array([matrix_data])\n",
      "            elif force2d == \"as_col\":\n",
      "                if len(matrix_data.shape) < 2:\n",
      "                    matrix_data = np.array([matrix_data]).T\n",
      "\n",
      "            assert len(matrix_data.shape) == 2\n",
      "\n",
      "            matrix_data = matrix_data.view(cls)\n",
      "            cls._preprocess_before_init_return(matrix=matrix_data,\n",
      "                                               *args, **kwargs)\n",
      "\n",
      "            return matrix_data\n",
      "\n",
      "    @property\n",
      "    def _is_1d(self):\n",
      "        return len(np_tools.clean_no_data_tensors(self).shape) == 1\n",
      "\n",
      "    @property\n",
      "    def _as_1d_array(self):\n",
      "        assert self._is_1d\n",
      "        return np_tools.clean_no_data_tensors(self)\n",
      "\n",
      "    @property\n",
      "    def _nrow(self):\n",
      "        return self.shape[0]\n",
      "\n",
      "    @property\n",
      "    def _ncol(self):\n",
      "        return self.shape[1]\n",
      "    \n",
      "    @property\n",
      "    def _is_1d_row(self):\n",
      "        return self.shape[0] == 1\n",
      "\n",
      "    @property\n",
      "    def _is_1d_col(self):\n",
      "        return self.shape[1] == 1\n",
      "\n",
      "    @property\n",
      "    def _reconstruct_kwargs(self):\n",
      "        _reconstr_kwargs = {}\n",
      "        return _reconstr_kwargs\n",
      "\n",
      "    @property\n",
      "    def T(self):\n",
      "        tr_array = np.array(self) \n",
      "        return type(self)(data=tr_array.T,**self._reconstruct_kwargs)\n",
      "\n",
      "    def _1d_ngram(self, n):\n",
      "        assert self._is_1d\n",
      "        ngram_results = list(tools.ngram(self.flatten(), n))\n",
      "        return type(self)(data=ngram_results,**self._reconstruct_kwargs)\n",
      "\n",
      "    def build_values_index(self):\n",
      "        u, inv = np.unique(self, return_inverse=True)\n",
      "        states_matrix = StatesMatrix(data=u, eval_cls=type(self))\n",
      "        \n",
      "        assert states_matrix._is_1d\n",
      "        idx_matrix = IndexMatrix(data=inv).reshape(self.shape)\n",
      "        return states_matrix, idx_matrix\n",
      "\n",
      "    def build_row_struct_index(self):\n",
      "        temp_self = self.copy()\n",
      "        temp_self.dtype = np.dtype(zip(map(str, range(self._ncol)),\n",
      "                                       [self.dtype] * self._ncol))\n",
      "\n",
      "        u, i, inv = np.unique(temp_self, return_index=True,\n",
      "                              return_inverse=True)\n",
      "\n",
      "        idx_matrix = IndexMatrix(inv)\n",
      "\n",
      "        states_matrix = StatesMatrix(self[i, :], eval_cls=type(u),\n",
      "                                     is_row_struct=True)\n",
      "        return states_matrix, idx_matrix\n",
      "\n",
      "    def build_index_data_matrix(self, build_type=\"values\"):\n",
      "        assert build_type in (\"values\", \"row_struct\")\n",
      "        if build_type == \"values\":\n",
      "            return IndexedDataMatrix(*self.build_values_index())\n",
      "        else:\n",
      "            return IndexedDataMatrix(*self.build_row_struct_index())\n",
      "\n",
      "\n",
      "        \n",
      "        \n",
      "class ValuesMatrix(Matrix):\n",
      "    pass\n",
      "\n",
      "\n",
      "class IndexMatrix(Matrix):\n",
      "    pass\n",
      "\n",
      "\n",
      "class IndexTransformVector(Vector):\n",
      "    \n",
      "    def __call__(self, trans_matrix, force2d=\"as_row\"):\n",
      "        return self.transform(trans_matrix=trans_matrix, force2d=force2d)\n",
      "    \n",
      "    \n",
      "    def transform(self, trans_matrix, force2d=\"as_row\"):\n",
      "        _states_matrix_checker = isinstance(trans_matrix, StatesMatrix) and (trans_matrix._eval_cls == IndexMatrix)\n",
      "        _index_matrix_checker = isinstance(trans_matrix, IndexMatrix)\n",
      "        \n",
      "        assert _states_matrix_checker or _index_matrix_checker\n",
      "        assert self.validate_trans_matrix_value(trans_matrix)\n",
      "\n",
      "        result_matrix = type(trans_matrix)(data=self[trans_matrix], force2d=force2d, **trans_matrix._reconstruct_kwargs)\n",
      "        return result_matrix\n",
      "\n",
      "\n",
      "    def validate_trans_matrix_value(self, trans_matrix):\n",
      "        return trans_matrix.max().take(0) <= len(self)\n",
      "        \n",
      "        \n",
      "    \n",
      "    \n",
      "    \n",
      "class StatesMatrix(Matrix):\n",
      "    \n",
      "    @classmethod\n",
      "    def _set_ref_data(cls, matrix, *args, **kwargs):\n",
      "        ref_data = kwargs.get(\"ref_data\", list())\n",
      "        if len(ref_data) > 0:\n",
      "            object.__setattr__(matrix, \"_ref_data\", ref_data)\n",
      "        elif not (\"_\" in matrix.__dict__.keys()):\n",
      "            object.__setattr__(matrix, \"_ref_data\", ref_data)\n",
      "\n",
      "    @classmethod\n",
      "    def _set_is_row_struct(cls, matrix, *args, **kwargs):\n",
      "        is_row_struct = kwargs.get(\"is_row_struct\", False)\n",
      "        object.__setattr__(matrix, \"_is_row_struct\", is_row_struct)\n",
      "\n",
      "    @classmethod\n",
      "    def _set_eval_cls(cls, matrix, *args, **kwargs):\n",
      "        eval_cls = kwargs.get(\"eval_cls\", np.ndarray)\n",
      "        object.__setattr__(matrix, \"_eval_cls\", eval_cls)\n",
      "\n",
      "    @classmethod\n",
      "    def _preprocess_if_data_is_cls(cls, matrix, *args, **kwargs):\n",
      "        cls._set_eval_cls(matrix=matrix, *args, **kwargs)\n",
      "        cls._set_is_row_struct(matrix=matrix, *args, **kwargs)\n",
      "        cls._set_ref_data(matrix=matrix, *args, **kwargs)\n",
      "\n",
      "    @classmethod\n",
      "    def _preprocess_before_init_return(cls, matrix, *args, **kwargs):\n",
      "        cls._set_eval_cls(matrix=matrix, *args, **kwargs)\n",
      "        cls._set_is_row_struct(matrix=matrix, *args, **kwargs)\n",
      "        cls._set_ref_data(matrix=matrix, *args, **kwargs)\n",
      "        \n",
      "    @property\n",
      "    def _reconstruct_kwargs(self):\n",
      "        _reconstr_kwargs = {}\n",
      "\n",
      "        if self._has_ref_data:\n",
      "            _reconstr_kwargs[\"ref_data\"] = self._ref_data\n",
      "\n",
      "        _reconstr_kwargs[\"eval_cls\"] = self._eval_cls\n",
      "        _reconstr_kwargs[\"is_row_struct\"] = self._is_row_struct\n",
      "\n",
      "        return _reconstr_kwargs\n",
      "\n",
      "    @property\n",
      "    def _has_ref_data(self):\n",
      "        return len(self._ref_data) > 0\n",
      "\n",
      "    def _eval_values_type(self, idx_mat):\n",
      "        return self._as_1d_array[idx_mat].view(self._eval_cls).copy()\n",
      "\n",
      "    def _eval_row_struct_type(self, idx_mat):\n",
      "        return self[idx_mat._as_1d_array, :].view(self._eval_cls).copy()\n",
      "\n",
      "    def _eval(self, idx_mat):\n",
      "\n",
      "        assert isinstance(idx_mat, IndexMatrix)\n",
      "        _row_struct_type_checkers = (idx_mat._is_1d and self._is_row_struct)\n",
      "        _values_type_checkers = self._is_1d\n",
      "        assert _values_type_checkers or _row_struct_type_checkers\n",
      "        \n",
      "        if _row_struct_type_checkers:\n",
      "            return self._eval_row_struct_type(idx_mat=idx_mat)\n",
      "        else:\n",
      "            return self._eval_values_type(idx_mat=idx_mat)\n",
      "\n",
      "    def add_ref_data(self, idx_data_matrix):\n",
      "        assert isinstance(idx_data_matrix, IndexedDataMatrix)\n",
      "        if not (idx_data_matrix in self._ref_data):\n",
      "            self._ref_data.append(idx_data_matrix)\n",
      "            \n",
      "    def remove_ref_data(self, idx_data_matrix):\n",
      "        assert isinstance(idx_data_matrix, IndexedDataMatrix)\n",
      "        if idx_data_matrix in self._ref_data:\n",
      "            self._ref_data.remove(idx_data_matrix)\n",
      "    \n",
      "    def pop_out_ref_data(self):\n",
      "        while len(self._ref_data) > 0:\n",
      "            yield self._ref_data.pop()\n",
      "    \n",
      "    def pop_out_clean_all_ref_data(self):\n",
      "        for x in self.pop_out_ref_data():\n",
      "            continue\n",
      "    \n",
      "    def create_new_ref_data_list(self):\n",
      "        new_ref_data = list()\n",
      "        self._ref_data = new_ref_data\n",
      "        \n",
      "    def update_all_ref_data(self, new_states_matrix, idx_trans_vec=None, force2d=\"as_row\"):\n",
      "        for one_ref_data in self.pop_out_ref_data():\n",
      "            one_ref_data.update_states_matrix(new_states_matrix=new_states_matrix, \n",
      "                                              idx_trans_vec=idx_trans_vec,\n",
      "                                              force2d=force2d)\n",
      "\n",
      "\n",
      "            "
     ],
     "language": "python",
     "metadata": {},
     "outputs": [],
     "prompt_number": 5
    },
    {
     "cell_type": "code",
     "collapsed": false,
     "input": [
      "\n",
      "class IndexedDataMatrix(object):\n",
      "    def __init__(self, states_matrix, index_matrix):\n",
      "        self.states_matrix = states_matrix\n",
      "        self.index_matrix = index_matrix\n",
      "        self.states_matrix.add_ref_data(self)\n",
      "    \n",
      "    @property\n",
      "    def _data(self):\n",
      "        return self.states_matrix._eval(self.index_matrix)\n",
      "        \n",
      "    def __repr__(self):\n",
      "        return \"{IndexedDataMatrix} \" + self._data.__repr__()\n",
      "    \n",
      "    def update_states_matrix(self, new_states_matrix, idx_trans_vec=None, force2d=\"as_row\"):\n",
      "        self.states_matrix = new_states_matrix\n",
      "        self.states_matrix.add_ref_data(self)\n",
      "        if isinstance(idx_trans_vec, IndexTransformVector):\n",
      "            self.transform_index_matrix(idx_trans_vec=idx_trans_vec, force2d=force2d)\n",
      "    \n",
      "    def transform_index_matrix(self, idx_trans_vec, force2d=\"as_row\"):\n",
      "        self.index_matrix = idx_trans_vec(self.index_matrix, force2d=force2d)\n",
      "\n",
      "    def _1d_ngram(self, n):\n",
      "        self.index_matrix = self.index_matrix._1d_ngram(n)\n",
      "        return self\n",
      "    \n",
      "    \n",
      "\n",
      "\n"
     ],
     "language": "python",
     "metadata": {},
     "outputs": [],
     "prompt_number": 6
    },
    {
     "cell_type": "code",
     "collapsed": false,
     "input": [],
     "language": "python",
     "metadata": {},
     "outputs": [],
     "prompt_number": 6
    },
    {
     "cell_type": "code",
     "collapsed": false,
     "input": [
      "class StatesMatrixMerger(list):\n",
      "    def __init__(self, *states_mats):\n",
      "        \n",
      "        # checking states_mats are all StatesDictionary's instance\n",
      "        assert check_type_of_args(StatesMatrix, *states_mats)\n",
      "        \n",
      "        # checking states_mats have the same _is_row_struct\n",
      "        assert len(np.unique(np.array(map(lambda xx:xx._is_row_struct,states_mats)))) == 1\n",
      "        self._is_row_struct = states_mats[0]._is_row_struct\n",
      "\n",
      "        # checking states_mats have the same dtype.type\n",
      "        assert len(np.unique(np.array(map(lambda xx:xx.dtype.type,states_mats)))) == 1\n",
      "        self._dtype_type = states_mats[0].dtype.type\n",
      "        \n",
      "        # checking states_mats have the same _eval_cls\n",
      "        assert len(np.unique(np.array(map(lambda xx:xx._eval_cls,states_mats)))) == 1\n",
      "        self._eval_cls = states_mats[0]._eval_cls\n",
      "\n",
      "        self._is_already_merged = False\n",
      "        self._is_already_updated = False\n",
      "\n",
      "        list.__init__(self,states_mats)\n",
      "    \n",
      "    @property\n",
      "    def _unique_states_matrix_ids(self):\n",
      "        return np.unique(np.array(map(id,self)))\n",
      "\n",
      "    @property\n",
      "    def merged_index_transform_vectors(self):\n",
      "        # TODO: havn't implement for the case that self._is_row_struct==True\n",
      "        #assert not self._is_row_struct\n",
      "        \n",
      "        if not self._is_already_merged:\n",
      "            self.merge()\n",
      "\n",
      "        if len(self._unique_states_matrix_ids) == 1:\n",
      "            return None\n",
      "\n",
      "        else:\n",
      "            return self._idx_trans_vectors\n",
      "            \n",
      "    \n",
      "    @property\n",
      "    def merged_states_matrix(self):\n",
      "        # TODO: havn't implement for the case that self._is_row_struct==True\n",
      "        #assert not self._is_row_struct\n",
      "        \n",
      "        if not self._is_already_merged:\n",
      "            self.merge()\n",
      "\n",
      "        if len(self._unique_states_matrix_ids) == 1:\n",
      "            return self[0]\n",
      "\n",
      "        else:\n",
      "            return self._new_states_matrix\n",
      "    \n",
      "    def merge(self):\n",
      "        if not self._is_already_merged:\n",
      "            if len(self._unique_states_matrix_ids) > 1:\n",
      "            \n",
      "                if not self._is_row_struct:\n",
      "                    convert_to_1d_arrays = map(lambda xx:xx._as_1d_array,self)\n",
      "                    len_of_1d_arrays = map(len,convert_to_1d_arrays)\n",
      "                \n",
      "                    sector_positions = np.cumsum([0] + len_of_1d_arrays)\n",
      "                    sector_positions_slices = map(lambda xx:slice(*xx),list(tools.ngram(sector_positions,2)))\n",
      "                \n",
      "                    join_all_states_arrays = np.concatenate(tuple(convert_to_1d_arrays),axis=0)\n",
      "\n",
      "                    u,i = np.unique(join_all_states_arrays,return_inverse=True)        \n",
      "\n",
      "                    self._idx_trans_vectors = map(lambda xx:IndexTransformVector(i[xx]),sector_positions_slices)\n",
      "                    self._new_states_matrix = StatesMatrix(data=u, eval_cls=self._eval_cls)\n",
      "            \n",
      "                # TODO: self._is_row_struct == True\n",
      "                else:\n",
      "                    self._is_already_merged = True\n",
      "                    self._is_already_updated = True\n",
      "                    pass\n",
      "                \n",
      "            else:\n",
      "                # Case of len(self._unique_states_matrix_ids) <= 1, \n",
      "                # it means states_mats has only one kind of states matrix\n",
      "                # in this case, we don't need to do anything about merge or update \n",
      "                self._is_already_merged = True\n",
      "                self._is_already_updated = True\n",
      "                \n",
      "        return self\n",
      "\n",
      "    def update(self):\n",
      "        if not self._is_already_merged:\n",
      "            self.merge()\n",
      "            \n",
      "        if not self._is_already_updated:\n",
      "            for states_mat, idx_trans_vec in zip(self,self._idx_trans_vectors):\n",
      "                states_mat.update_all_ref_data(new_states_matrix=self._new_states_matrix, \n",
      "                                               idx_trans_vec=idx_trans_vec)\n",
      "\n",
      "        return self"
     ],
     "language": "python",
     "metadata": {},
     "outputs": [],
     "prompt_number": 7
    },
    {
     "cell_type": "code",
     "collapsed": false,
     "input": [],
     "language": "python",
     "metadata": {},
     "outputs": [],
     "prompt_number": 7
    },
    {
     "cell_type": "code",
     "collapsed": false,
     "input": [],
     "language": "python",
     "metadata": {},
     "outputs": [],
     "prompt_number": 7
    },
    {
     "cell_type": "code",
     "collapsed": false,
     "input": [
      "class IndexedDataMatrixMerger(list):\n",
      "    \n",
      "    def __init__(self, *idxed_data_matrixes):\n",
      "        \n",
      "        # checking states_data_arrays are all StatesDataArray's instance\n",
      "        assert check_type_of_args(IndexedDataMatrix, *idxed_data_matrixes)\n",
      "\n",
      "        list.__init__(self, idxed_data_matrixes)\n",
      "    \n",
      "    @property\n",
      "    def states_matrixes(self):\n",
      "        return map(lambda xx:xx.states_matrix, self)\n",
      "    \n",
      "    @property\n",
      "    def index_matrixes(self):\n",
      "        return map(lambda xx:xx.index_matrix, self)\n",
      "    \n",
      "    @property\n",
      "    def _rbind_index_matrixes_type(self):\n",
      "        unique_types_of_index_matrixes = np.unique(map(type,self.index_matrixes))\n",
      "        assert len(unique_types_of_index_matrixes) == 1\n",
      "        return np.unique(map(type,self.index_matrixes ))[0]\n",
      "    \n",
      "    def rbind(self, clean_all_old_ref_data=True):\n",
      "        # checking states_data_arrays has the same _ncol\n",
      "        assert len(np.unique(map(lambda xx:xx._ncol, self.index_matrixes))) == 1\n",
      "        \n",
      "        states_matrix_merger = StatesMatrixMerger(*self.states_matrixes)\n",
      "        states_matrix_merger.update()\n",
      "        new_index_matrix = self._rbind_index_matrixes_type(np.concatenate(tuple(self.index_matrixes),axis=0))\n",
      "        new_states_matrix = states_matrix_merger.merged_states_matrix\n",
      "        \n",
      "        if clean_all_old_ref_data:\n",
      "            new_states_matrix.pop_out_clean_all_ref_data()\n",
      "        \n",
      "        return IndexedDataMatrix(states_matrix=new_states_matrix, \n",
      "                                 index_matrix=new_index_matrix)\n",
      "    \n",
      "    def cbind(self, auto_extend_rows=True):\n",
      "        if auto_extend_rows:\n",
      "            pass\n",
      "        \n",
      "        else:\n",
      "            pass\n",
      "        \n",
      "        \n",
      "        \n",
      "    \n",
      "    def merge(self, merge_type=\"rbind\", **merge_kwargs):\n",
      "        # rbind <=> axis=0\n",
      "        # cbind <=> axis=1\n",
      "        assert merge_type in (\"cbind\",\"rbind\")\n",
      "\n",
      "        \n",
      "        \n",
      "        "
     ],
     "language": "python",
     "metadata": {},
     "outputs": [],
     "prompt_number": 8
    },
    {
     "cell_type": "code",
     "collapsed": false,
     "input": [],
     "language": "python",
     "metadata": {},
     "outputs": [],
     "prompt_number": 8
    },
    {
     "cell_type": "code",
     "collapsed": false,
     "input": [
      "text_val_matrix = map(lambda xx:ValuesMatrix(list(tools.ngram(xx,[1]))),test_text_df[\"text\"].values)\n",
      "text_idxed_data_matrix = map(lambda xx:xx.build_index_data_matrix()._1d_ngram(2), text_val_matrix)"
     ],
     "language": "python",
     "metadata": {},
     "outputs": [],
     "prompt_number": 9
    },
    {
     "cell_type": "code",
     "collapsed": false,
     "input": [
      "#test_text_df[\"idx\"].values\n",
      "#map(lambda yy:np.tile(yy,(2,1)),map(lambda xx:ValuesMatrix(xx),test_text_df[\"idx\"].values))\n",
      "idx_val_matrix = map(lambda xx:ValuesMatrix(xx),test_text_df[\"idx\"].values)\n",
      "test = idx_val_matrix[0]\n",
      "ss,ii = test.build_values_index()\n",
      "ss._as_1d_array\n",
      "idx_states_data_matrix = map(lambda xx:xx.build_index_data_matrix(), idx_val_matrix)\n",
      "test = idx_states_data_matrix[0]\n",
      "np.tile(idx_val_matrix[0],(2,1))"
     ],
     "language": "python",
     "metadata": {},
     "outputs": [
      {
       "metadata": {},
       "output_type": "pyout",
       "prompt_number": 10,
       "text": [
        "ValuesMatrix([[u'00000'],\n",
        "       [u'00000']], \n",
        "      dtype='<U5')"
       ]
      }
     ],
     "prompt_number": 10
    },
    {
     "cell_type": "code",
     "collapsed": false,
     "input": [
      "np.array(np.array([[\"123\"]]))"
     ],
     "language": "python",
     "metadata": {},
     "outputs": [
      {
       "metadata": {},
       "output_type": "pyout",
       "prompt_number": 11,
       "text": [
        "array([['123']], \n",
        "      dtype='|S3')"
       ]
      }
     ],
     "prompt_number": 11
    },
    {
     "cell_type": "code",
     "collapsed": false,
     "input": [
      "text_idxed_data_matrix"
     ],
     "language": "python",
     "metadata": {},
     "outputs": [
      {
       "metadata": {},
       "output_type": "pyout",
       "prompt_number": 12,
       "text": [
        "[{IndexedDataMatrix} ValuesMatrix([[u'\\u4eca', u'\\u5929'],\n",
        "        [u'\\u5929', u'\\u5929'],\n",
        "        [u'\\u5929', u'\\u6c23'],\n",
        "        [u'\\u6c23', u'\\u5f88'],\n",
        "        [u'\\u5f88', u'\\u597d']], \n",
        "       dtype='<U1'), {IndexedDataMatrix} ValuesMatrix([[u'\\u4eca', u'\\u5929'],\n",
        "        [u'\\u5929', u'\\u5929'],\n",
        "        [u'\\u5929', u'\\u6c23'],\n",
        "        [u'\\u6c23', u'\\u5f88'],\n",
        "        [u'\\u5f88', u'\\u721b']], \n",
        "       dtype='<U1'), {IndexedDataMatrix} ValuesMatrix([[u'\\u6211', u'\\u6068'],\n",
        "        [u'\\u6068', u'\\u5b83']], \n",
        "       dtype='<U1'), {IndexedDataMatrix} ValuesMatrix([[u'\\u5b83', u'\\u6068'],\n",
        "        [u'\\u6068', u'\\u6211']], \n",
        "       dtype='<U1'), {IndexedDataMatrix} ValuesMatrix([[u'\\u6211', u'\\u611b'],\n",
        "        [u'\\u611b', u'\\u5b83']], \n",
        "       dtype='<U1'), {IndexedDataMatrix} ValuesMatrix([[u'\\u5b83', u'\\u611b'],\n",
        "        [u'\\u611b', u'\\u6211']], \n",
        "       dtype='<U1'), {IndexedDataMatrix} ValuesMatrix([[u'\\u4eca', u'\\u5929'],\n",
        "        [u'\\u5929', u'\\u5f88'],\n",
        "        [u'\\u5f88', u'\\u8870']], \n",
        "       dtype='<U1'), {IndexedDataMatrix} ValuesMatrix([[u'\\u65e5', u'\\u5b50'],\n",
        "        [u'\\u5b50', u'\\u4e00'],\n",
        "        [u'\\u4e00', u'\\u5929'],\n",
        "        [u'\\u5929', u'\\u4e00'],\n",
        "        [u'\\u4e00', u'\\u5929'],\n",
        "        [u'\\u5929', u'\\u904e']], \n",
        "       dtype='<U1'), {IndexedDataMatrix} ValuesMatrix([[u'\\u5929', u'\\u5929'],\n",
        "        [u'\\u5929', u'\\u5237'],\n",
        "        [u'\\u5237', u'\\u7259'],\n",
        "        [u'\\u7259', u'\\u6d17'],\n",
        "        [u'\\u6d17', u'\\u81c9']], \n",
        "       dtype='<U1')]"
       ]
      }
     ],
     "prompt_number": 12
    },
    {
     "cell_type": "code",
     "collapsed": false,
     "input": [],
     "language": "python",
     "metadata": {},
     "outputs": [],
     "prompt_number": 12
    },
    {
     "cell_type": "code",
     "collapsed": false,
     "input": [],
     "language": "python",
     "metadata": {},
     "outputs": []
    },
    {
     "cell_type": "code",
     "collapsed": false,
     "input": [],
     "language": "python",
     "metadata": {},
     "outputs": [],
     "prompt_number": 8
    },
    {
     "cell_type": "code",
     "collapsed": false,
     "input": [],
     "language": "python",
     "metadata": {},
     "outputs": [],
     "prompt_number": 8
    },
    {
     "cell_type": "code",
     "collapsed": false,
     "input": [],
     "language": "python",
     "metadata": {},
     "outputs": [],
     "prompt_number": 8
    },
    {
     "cell_type": "code",
     "collapsed": false,
     "input": [
      "text_val_matrix = map(lambda xx:ValuesMatrix(list(tools.ngram(xx,[1]))),test_text_df[\"text\"].values)\n",
      "text_idxed_data_matrix = map(lambda xx:xx.build_index_data_matrix()._1d_ngram(2), text_val_matrix)\n",
      "idxed_data_matrix_merger = IndexedDataMatrixMerger(*text_idxed_data_matrix)"
     ],
     "language": "python",
     "metadata": {},
     "outputs": [],
     "prompt_number": 49
    },
    {
     "cell_type": "code",
     "collapsed": false,
     "input": [],
     "language": "python",
     "metadata": {},
     "outputs": []
    },
    {
     "cell_type": "code",
     "collapsed": false,
     "input": [
      "idxed_data_matrix_merger.rbind()"
     ],
     "language": "python",
     "metadata": {},
     "outputs": [
      {
       "metadata": {},
       "output_type": "pyout",
       "prompt_number": 50,
       "text": [
        "{IndexedDataMatrix} ValuesMatrix([[u'\\u4eca', u'\\u5929'],\n",
        "       [u'\\u5929', u'\\u5929'],\n",
        "       [u'\\u5929', u'\\u6c23'],\n",
        "       [u'\\u6c23', u'\\u5f88'],\n",
        "       [u'\\u5f88', u'\\u597d'],\n",
        "       [u'\\u4eca', u'\\u5929'],\n",
        "       [u'\\u5929', u'\\u5929'],\n",
        "       [u'\\u5929', u'\\u6c23'],\n",
        "       [u'\\u6c23', u'\\u5f88'],\n",
        "       [u'\\u5f88', u'\\u721b'],\n",
        "       [u'\\u6211', u'\\u6068'],\n",
        "       [u'\\u6068', u'\\u5b83'],\n",
        "       [u'\\u5b83', u'\\u6068'],\n",
        "       [u'\\u6068', u'\\u6211'],\n",
        "       [u'\\u6211', u'\\u611b'],\n",
        "       [u'\\u611b', u'\\u5b83'],\n",
        "       [u'\\u5b83', u'\\u611b'],\n",
        "       [u'\\u611b', u'\\u6211'],\n",
        "       [u'\\u4eca', u'\\u5929'],\n",
        "       [u'\\u5929', u'\\u5f88'],\n",
        "       [u'\\u5f88', u'\\u8870'],\n",
        "       [u'\\u65e5', u'\\u5b50'],\n",
        "       [u'\\u5b50', u'\\u4e00'],\n",
        "       [u'\\u4e00', u'\\u5929'],\n",
        "       [u'\\u5929', u'\\u4e00'],\n",
        "       [u'\\u4e00', u'\\u5929'],\n",
        "       [u'\\u5929', u'\\u904e'],\n",
        "       [u'\\u5929', u'\\u5929'],\n",
        "       [u'\\u5929', u'\\u5237'],\n",
        "       [u'\\u5237', u'\\u7259'],\n",
        "       [u'\\u7259', u'\\u6d17'],\n",
        "       [u'\\u6d17', u'\\u81c9']], \n",
        "      dtype='<U1')"
       ]
      }
     ],
     "prompt_number": 50
    },
    {
     "cell_type": "code",
     "collapsed": false,
     "input": [],
     "language": "python",
     "metadata": {},
     "outputs": []
    },
    {
     "cell_type": "code",
     "collapsed": false,
     "input": [],
     "language": "python",
     "metadata": {},
     "outputs": []
    },
    {
     "cell_type": "code",
     "collapsed": false,
     "input": [],
     "language": "python",
     "metadata": {},
     "outputs": []
    },
    {
     "cell_type": "code",
     "collapsed": false,
     "input": [],
     "language": "python",
     "metadata": {},
     "outputs": []
    },
    {
     "cell_type": "code",
     "collapsed": false,
     "input": [],
     "language": "python",
     "metadata": {},
     "outputs": []
    },
    {
     "cell_type": "code",
     "collapsed": false,
     "input": [],
     "language": "python",
     "metadata": {},
     "outputs": [],
     "prompt_number": 10
    },
    {
     "cell_type": "code",
     "collapsed": false,
     "input": [
      "def clean_no_data_tensors(np_array):\n",
      "    clean_idx = map(lambda xx:0 if xx==1 else slice(None,None,None),np_array.shape)\n",
      "    if check_args(lambda xx:xx==1, *np_array.shape):\n",
      "        clean_idx[0] = slice(None,None,None)\n",
      "    return np_array[clean_idx]\n",
      "\n",
      "def temp_clean_no_data_tensors(np_array):\n",
      "    return map(lambda xx:0 if xx==1 else slice(None,None,None),np_array.shape)\n"
     ],
     "language": "python",
     "metadata": {},
     "outputs": [],
     "prompt_number": 186
    },
    {
     "cell_type": "code",
     "collapsed": false,
     "input": [
      "clean_no_data_tensors(np.array([[[\"12345\"]]]))"
     ],
     "language": "python",
     "metadata": {},
     "outputs": [
      {
       "metadata": {},
       "output_type": "pyout",
       "prompt_number": 188,
       "text": [
        "array(['12345'], \n",
        "      dtype='|S5')"
       ]
      }
     ],
     "prompt_number": 188
    },
    {
     "cell_type": "code",
     "collapsed": false,
     "input": [
      "temp_clean_no_data_tensors(np.array([[\"12345\",\"12523523\"]]))"
     ],
     "language": "python",
     "metadata": {},
     "outputs": [
      {
       "metadata": {},
       "output_type": "pyout",
       "prompt_number": 178,
       "text": [
        "[0, slice(None, None, None)]"
       ]
      }
     ],
     "prompt_number": 178
    },
    {
     "cell_type": "code",
     "collapsed": false,
     "input": [
      "np.array([[\"12345\",\"12523523\"]]).shape"
     ],
     "language": "python",
     "metadata": {},
     "outputs": [
      {
       "metadata": {},
       "output_type": "pyout",
       "prompt_number": 176,
       "text": [
        "(1, 2)"
       ]
      }
     ],
     "prompt_number": 176
    },
    {
     "cell_type": "code",
     "collapsed": false,
     "input": [],
     "language": "python",
     "metadata": {},
     "outputs": []
    },
    {
     "cell_type": "code",
     "collapsed": false,
     "input": [
      "check_args(lambda xx:xx==1, *np.array([[[\"12345\"]]]).shape)"
     ],
     "language": "python",
     "metadata": {},
     "outputs": [
      {
       "metadata": {},
       "output_type": "pyout",
       "prompt_number": 184,
       "text": [
        "True"
       ]
      }
     ],
     "prompt_number": 184
    },
    {
     "cell_type": "code",
     "collapsed": false,
     "input": [],
     "language": "python",
     "metadata": {},
     "outputs": []
    },
    {
     "cell_type": "code",
     "collapsed": false,
     "input": [],
     "language": "python",
     "metadata": {},
     "outputs": []
    },
    {
     "cell_type": "code",
     "collapsed": false,
     "input": [],
     "language": "python",
     "metadata": {},
     "outputs": []
    },
    {
     "cell_type": "code",
     "collapsed": false,
     "input": [
      "text_val_matrix = map(lambda xx:ValuesMatrix(list(tools.ngram(xx,[1]))),test_text_df[\"text\"].values)\n",
      "test = text_val_matrix[0]\n",
      "#text_idxed_data_matrix = map(lambda xx:xx.to_states_data_array().ngram(2), text_val_arrays)"
     ],
     "language": "python",
     "metadata": {},
     "outputs": [],
     "prompt_number": 237
    },
    {
     "cell_type": "code",
     "collapsed": false,
     "input": [
      "print test.build_index_data_matrix().states_matrix\n",
      "print test.build_index_data_matrix().index_matrix"
     ],
     "language": "python",
     "metadata": {},
     "outputs": [
      {
       "output_type": "stream",
       "stream": "stdout",
       "text": [
        "[[u'\\u4eca' u'\\u5929' u'\\u597d' u'\\u5f88' u'\\u6c23']]\n",
        "[[0 1 1 4 3 2]]\n"
       ]
      }
     ],
     "prompt_number": 238
    },
    {
     "cell_type": "code",
     "collapsed": false,
     "input": [
      "print test.build_index_data_matrix()._1d_ngram(2)"
     ],
     "language": "python",
     "metadata": {},
     "outputs": [
      {
       "output_type": "stream",
       "stream": "stdout",
       "text": [
        "{IndexedDataMatrix} ValuesMatrix([[u'\\u4eca', u'\\u5929'],\n",
        "       [u'\\u5929', u'\\u5929'],\n",
        "       [u'\\u5929', u'\\u6c23'],\n",
        "       [u'\\u6c23', u'\\u5f88'],\n",
        "       [u'\\u5f88', u'\\u597d']], \n",
        "      dtype='<U1')\n"
       ]
      }
     ],
     "prompt_number": 239
    },
    {
     "cell_type": "code",
     "collapsed": false,
     "input": [
      "text_val_matrix = map(lambda xx:ValuesMatrix(list(tools.ngram(xx,[1]))),test_text_df[\"text\"].values)\n",
      "text_idxed_data_matrix = map(lambda xx:xx.build_index_data_matrix()._1d_ngram(2), text_val_matrix)\n",
      "text_idxed_data_matrix"
     ],
     "language": "python",
     "metadata": {},
     "outputs": [
      {
       "metadata": {},
       "output_type": "pyout",
       "prompt_number": 240,
       "text": [
        "[{IndexedDataMatrix} ValuesMatrix([[u'\\u4eca', u'\\u5929'],\n",
        "        [u'\\u5929', u'\\u5929'],\n",
        "        [u'\\u5929', u'\\u6c23'],\n",
        "        [u'\\u6c23', u'\\u5f88'],\n",
        "        [u'\\u5f88', u'\\u597d']], \n",
        "       dtype='<U1'), {IndexedDataMatrix} ValuesMatrix([[u'\\u4eca', u'\\u5929'],\n",
        "        [u'\\u5929', u'\\u5929'],\n",
        "        [u'\\u5929', u'\\u6c23'],\n",
        "        [u'\\u6c23', u'\\u5f88'],\n",
        "        [u'\\u5f88', u'\\u721b']], \n",
        "       dtype='<U1'), {IndexedDataMatrix} ValuesMatrix([[u'\\u6211', u'\\u6068'],\n",
        "        [u'\\u6068', u'\\u5b83']], \n",
        "       dtype='<U1'), {IndexedDataMatrix} ValuesMatrix([[u'\\u5b83', u'\\u6068'],\n",
        "        [u'\\u6068', u'\\u6211']], \n",
        "       dtype='<U1'), {IndexedDataMatrix} ValuesMatrix([[u'\\u6211', u'\\u611b'],\n",
        "        [u'\\u611b', u'\\u5b83']], \n",
        "       dtype='<U1'), {IndexedDataMatrix} ValuesMatrix([[u'\\u5b83', u'\\u611b'],\n",
        "        [u'\\u611b', u'\\u6211']], \n",
        "       dtype='<U1'), {IndexedDataMatrix} ValuesMatrix([[u'\\u4eca', u'\\u5929'],\n",
        "        [u'\\u5929', u'\\u5f88'],\n",
        "        [u'\\u5f88', u'\\u8870']], \n",
        "       dtype='<U1'), {IndexedDataMatrix} ValuesMatrix([[u'\\u65e5', u'\\u5b50'],\n",
        "        [u'\\u5b50', u'\\u4e00'],\n",
        "        [u'\\u4e00', u'\\u5929'],\n",
        "        [u'\\u5929', u'\\u4e00'],\n",
        "        [u'\\u4e00', u'\\u5929'],\n",
        "        [u'\\u5929', u'\\u904e']], \n",
        "       dtype='<U1'), {IndexedDataMatrix} ValuesMatrix([[u'\\u5929', u'\\u5929'],\n",
        "        [u'\\u5929', u'\\u5237'],\n",
        "        [u'\\u5237', u'\\u7259'],\n",
        "        [u'\\u7259', u'\\u6d17'],\n",
        "        [u'\\u6d17', u'\\u81c9']], \n",
        "       dtype='<U1')]"
       ]
      }
     ],
     "prompt_number": 240
    },
    {
     "cell_type": "code",
     "collapsed": false,
     "input": [],
     "language": "python",
     "metadata": {},
     "outputs": [],
     "prompt_number": 240
    },
    {
     "cell_type": "code",
     "collapsed": false,
     "input": [
      "idxed_data_matrix_merger = IndexedDataMatrixMerger(*text_idxed_data_matrix)\n",
      "np.unique(map(type,idxed_data_matrix_merger.index_matrixes ))[0]"
     ],
     "language": "python",
     "metadata": {},
     "outputs": [
      {
       "metadata": {},
       "output_type": "pyout",
       "prompt_number": 241,
       "text": [
        "__main__.IndexMatrix"
       ]
      }
     ],
     "prompt_number": 241
    },
    {
     "cell_type": "code",
     "collapsed": false,
     "input": [],
     "language": "python",
     "metadata": {},
     "outputs": [],
     "prompt_number": 241
    },
    {
     "cell_type": "code",
     "collapsed": false,
     "input": [
      "idxed_data_matrix_merger._rbind_index_matrixes_type"
     ],
     "language": "python",
     "metadata": {},
     "outputs": [
      {
       "metadata": {},
       "output_type": "pyout",
       "prompt_number": 242,
       "text": [
        "__main__.IndexMatrix"
       ]
      }
     ],
     "prompt_number": 242
    },
    {
     "cell_type": "code",
     "collapsed": false,
     "input": [],
     "language": "python",
     "metadata": {},
     "outputs": [],
     "prompt_number": 242
    },
    {
     "cell_type": "code",
     "collapsed": false,
     "input": [
      "np.array(idxed_data_matrix_merger.states_matrixes)"
     ],
     "language": "python",
     "metadata": {},
     "outputs": [
      {
       "metadata": {},
       "output_type": "pyout",
       "prompt_number": 243,
       "text": [
        "array([[ array([u'\\u4eca', u'\\u5929', u'\\u597d', u'\\u5f88', u'\\u6c23'], \n",
        "      dtype='<U1')],\n",
        "       [ array([u'\\u4eca', u'\\u5929', u'\\u5f88', u'\\u6c23', u'\\u721b'], \n",
        "      dtype='<U1')],\n",
        "       [array([u'\\u5b83', u'\\u6068', u'\\u6211'], \n",
        "      dtype='<U1')],\n",
        "       [array([u'\\u5b83', u'\\u6068', u'\\u6211'], \n",
        "      dtype='<U1')],\n",
        "       [array([u'\\u5b83', u'\\u611b', u'\\u6211'], \n",
        "      dtype='<U1')],\n",
        "       [array([u'\\u5b83', u'\\u611b', u'\\u6211'], \n",
        "      dtype='<U1')],\n",
        "       [array([u'\\u4eca', u'\\u5929', u'\\u5f88', u'\\u8870'], \n",
        "      dtype='<U1')],\n",
        "       [ array([u'\\u4e00', u'\\u5929', u'\\u5b50', u'\\u65e5', u'\\u904e'], \n",
        "      dtype='<U1')],\n",
        "       [ array([u'\\u5237', u'\\u5929', u'\\u6d17', u'\\u7259', u'\\u81c9'], \n",
        "      dtype='<U1')]], dtype=object)"
       ]
      }
     ],
     "prompt_number": 243
    },
    {
     "cell_type": "code",
     "collapsed": false,
     "input": [
      "states_merger = StatesMatrixMerger(*idxed_data_matrix_merger.states_matrixes)\n",
      "states_merger.update()"
     ],
     "language": "python",
     "metadata": {},
     "outputs": [
      {
       "metadata": {},
       "output_type": "pyout",
       "prompt_number": 244,
       "text": [
        "[StatesMatrix([[u'\\u4eca', u'\\u5929', u'\\u597d', u'\\u5f88', u'\\u6c23']], \n",
        "       dtype='<U1'),\n",
        " StatesMatrix([[u'\\u4eca', u'\\u5929', u'\\u5f88', u'\\u6c23', u'\\u721b']], \n",
        "       dtype='<U1'),\n",
        " StatesMatrix([[u'\\u5b83', u'\\u6068', u'\\u6211']], \n",
        "       dtype='<U1'),\n",
        " StatesMatrix([[u'\\u5b83', u'\\u6068', u'\\u6211']], \n",
        "       dtype='<U1'),\n",
        " StatesMatrix([[u'\\u5b83', u'\\u611b', u'\\u6211']], \n",
        "       dtype='<U1'),\n",
        " StatesMatrix([[u'\\u5b83', u'\\u611b', u'\\u6211']], \n",
        "       dtype='<U1'),\n",
        " StatesMatrix([[u'\\u4eca', u'\\u5929', u'\\u5f88', u'\\u8870']], \n",
        "       dtype='<U1'),\n",
        " StatesMatrix([[u'\\u4e00', u'\\u5929', u'\\u5b50', u'\\u65e5', u'\\u904e']], \n",
        "       dtype='<U1'),\n",
        " StatesMatrix([[u'\\u5237', u'\\u5929', u'\\u6d17', u'\\u7259', u'\\u81c9']], \n",
        "       dtype='<U1')]"
       ]
      }
     ],
     "prompt_number": 244
    },
    {
     "cell_type": "code",
     "collapsed": false,
     "input": [],
     "language": "python",
     "metadata": {},
     "outputs": [],
     "prompt_number": 244
    },
    {
     "cell_type": "code",
     "collapsed": false,
     "input": [
      "test = idxed_data_matrix_merger.rbind()"
     ],
     "language": "python",
     "metadata": {},
     "outputs": [],
     "prompt_number": 245
    },
    {
     "cell_type": "code",
     "collapsed": false,
     "input": [
      "test.states_matrix"
     ],
     "language": "python",
     "metadata": {},
     "outputs": [
      {
       "metadata": {},
       "output_type": "pyout",
       "prompt_number": 250,
       "text": [
        "StatesMatrix([[u'\\u4e00', u'\\u4eca', u'\\u5237', u'\\u5929', u'\\u597d', u'\\u5b50',\n",
        "        u'\\u5b83', u'\\u5f88', u'\\u6068', u'\\u611b', u'\\u6211', u'\\u65e5',\n",
        "        u'\\u6c23', u'\\u6d17', u'\\u721b', u'\\u7259', u'\\u81c9', u'\\u8870',\n",
        "        u'\\u904e']], \n",
        "      dtype='<U1')"
       ]
      }
     ],
     "prompt_number": 250
    },
    {
     "cell_type": "code",
     "collapsed": false,
     "input": [
      "test.index_matrix\n"
     ],
     "language": "python",
     "metadata": {},
     "outputs": [
      {
       "metadata": {},
       "output_type": "pyout",
       "prompt_number": 251,
       "text": [
        "IndexMatrix([[ 1,  3],\n",
        "       [ 3,  3],\n",
        "       [ 3, 12],\n",
        "       [12,  7],\n",
        "       [ 7,  4],\n",
        "       [ 1,  3],\n",
        "       [ 3,  3],\n",
        "       [ 3, 12],\n",
        "       [12,  7],\n",
        "       [ 7, 14],\n",
        "       [10,  8],\n",
        "       [ 8,  6],\n",
        "       [ 6,  8],\n",
        "       [ 8, 10],\n",
        "       [10,  9],\n",
        "       [ 9,  6],\n",
        "       [ 6,  9],\n",
        "       [ 9, 10],\n",
        "       [ 1,  3],\n",
        "       [ 3,  7],\n",
        "       [ 7, 17],\n",
        "       [11,  5],\n",
        "       [ 5,  0],\n",
        "       [ 0,  3],\n",
        "       [ 3,  0],\n",
        "       [ 0,  3],\n",
        "       [ 3, 18],\n",
        "       [ 3,  3],\n",
        "       [ 3,  2],\n",
        "       [ 2, 15],\n",
        "       [15, 13],\n",
        "       [13, 16]])"
       ]
      }
     ],
     "prompt_number": 251
    },
    {
     "cell_type": "code",
     "collapsed": false,
     "input": [],
     "language": "python",
     "metadata": {},
     "outputs": []
    },
    {
     "cell_type": "code",
     "collapsed": false,
     "input": [],
     "language": "python",
     "metadata": {},
     "outputs": []
    },
    {
     "cell_type": "code",
     "collapsed": false,
     "input": [],
     "language": "python",
     "metadata": {},
     "outputs": []
    },
    {
     "cell_type": "code",
     "collapsed": false,
     "input": [],
     "language": "python",
     "metadata": {},
     "outputs": []
    },
    {
     "cell_type": "code",
     "collapsed": false,
     "input": [],
     "language": "python",
     "metadata": {},
     "outputs": []
    },
    {
     "cell_type": "code",
     "collapsed": false,
     "input": [],
     "language": "python",
     "metadata": {},
     "outputs": []
    },
    {
     "cell_type": "code",
     "collapsed": false,
     "input": [],
     "language": "python",
     "metadata": {},
     "outputs": []
    },
    {
     "cell_type": "code",
     "collapsed": false,
     "input": [
      "idxed_data_matrix_merger."
     ],
     "language": "python",
     "metadata": {},
     "outputs": [],
     "prompt_number": 194
    },
    {
     "cell_type": "code",
     "collapsed": false,
     "input": [
      "map(lambda xx:xx._ncol,idxed_data_matrix_merger.index_matrixes)"
     ],
     "language": "python",
     "metadata": {},
     "outputs": [
      {
       "metadata": {},
       "output_type": "pyout",
       "prompt_number": 195,
       "text": [
        "[2, 2, 2, 2, 2, 2, 2, 2, 2]"
       ]
      }
     ],
     "prompt_number": 195
    },
    {
     "cell_type": "code",
     "collapsed": false,
     "input": [
      "np.concatenate(tuple(idxed_data_matrix_merger.index_matrixes),axis=0)"
     ],
     "language": "python",
     "metadata": {},
     "outputs": [
      {
       "metadata": {},
       "output_type": "pyout",
       "prompt_number": 196,
       "text": [
        "array([[ 1,  3],\n",
        "       [ 3,  3],\n",
        "       [ 3, 12],\n",
        "       [12,  7],\n",
        "       [ 7,  4],\n",
        "       [ 1,  3],\n",
        "       [ 3,  3],\n",
        "       [ 3, 12],\n",
        "       [12,  7],\n",
        "       [ 7, 14],\n",
        "       [10,  8],\n",
        "       [ 8,  6],\n",
        "       [ 6,  8],\n",
        "       [ 8, 10],\n",
        "       [10,  9],\n",
        "       [ 9,  6],\n",
        "       [ 6,  9],\n",
        "       [ 9, 10],\n",
        "       [ 1,  3],\n",
        "       [ 3,  7],\n",
        "       [ 7, 17],\n",
        "       [11,  5],\n",
        "       [ 5,  0],\n",
        "       [ 0,  3],\n",
        "       [ 3,  0],\n",
        "       [ 0,  3],\n",
        "       [ 3, 18],\n",
        "       [ 3,  3],\n",
        "       [ 3,  2],\n",
        "       [ 2, 15],\n",
        "       [15, 13],\n",
        "       [13, 16]])"
       ]
      }
     ],
     "prompt_number": 196
    },
    {
     "cell_type": "code",
     "collapsed": false,
     "input": [],
     "language": "python",
     "metadata": {},
     "outputs": [],
     "prompt_number": 137
    },
    {
     "cell_type": "code",
     "collapsed": false,
     "input": [
      "print id(states_merger.merged_states_matrix)\n",
      "print states_merger"
     ],
     "language": "python",
     "metadata": {},
     "outputs": [
      {
       "output_type": "stream",
       "stream": "stdout",
       "text": [
        "67038696\n",
        "[StatesMatrix([[u'\\u4eca', u'\\u5929', u'\\u597d', u'\\u5f88', u'\\u6c23']], \n",
        "      dtype='<U1'), StatesMatrix([[u'\\u4eca', u'\\u5929', u'\\u5f88', u'\\u6c23', u'\\u721b']], \n",
        "      dtype='<U1'), StatesMatrix([[u'\\u5b83', u'\\u6068', u'\\u6211']], \n",
        "      dtype='<U1'), StatesMatrix([[u'\\u5b83', u'\\u6068', u'\\u6211']], \n",
        "      dtype='<U1'), StatesMatrix([[u'\\u5b83', u'\\u611b', u'\\u6211']], \n",
        "      dtype='<U1'), StatesMatrix([[u'\\u5b83', u'\\u611b', u'\\u6211']], \n",
        "      dtype='<U1'), StatesMatrix([[u'\\u4eca', u'\\u5929', u'\\u5f88', u'\\u8870']], \n",
        "      dtype='<U1'), StatesMatrix([[u'\\u4e00', u'\\u5929', u'\\u5b50', u'\\u65e5', u'\\u904e']], \n",
        "      dtype='<U1'), StatesMatrix([[u'\\u5237', u'\\u5929', u'\\u6d17', u'\\u7259', u'\\u81c9']], \n",
        "      dtype='<U1')]\n"
       ]
      }
     ],
     "prompt_number": 166
    },
    {
     "cell_type": "code",
     "collapsed": false,
     "input": [
      "np.unique(map(id,idxed_data_matrix_merger.states_matrixes))"
     ],
     "language": "python",
     "metadata": {},
     "outputs": [
      {
       "metadata": {},
       "output_type": "pyout",
       "prompt_number": 169,
       "text": [
        "array([67037496])"
       ]
      }
     ],
     "prompt_number": 169
    },
    {
     "cell_type": "code",
     "collapsed": false,
     "input": [
      "np.unique(map(id,range(10)))"
     ],
     "language": "python",
     "metadata": {},
     "outputs": [
      {
       "metadata": {},
       "output_type": "pyout",
       "prompt_number": 170,
       "text": [
        "array([39483192, 39483216, 39483240, 39483264, 39483288, 39483312,\n",
        "       39483336, 39483360, 39483384, 39483408])"
       ]
      }
     ],
     "prompt_number": 170
    },
    {
     "cell_type": "code",
     "collapsed": false,
     "input": [],
     "language": "python",
     "metadata": {},
     "outputs": []
    },
    {
     "cell_type": "code",
     "collapsed": false,
     "input": [
      "idx_matrixes = map(lambda xx:xx.index_matrix,text_idxed_data_matrix)\n",
      "states_matrixes = map(lambda xx:xx.states_matrix,text_idxed_data_matrix)\n",
      "print idx_matrixes\n",
      "print states_matrixes"
     ],
     "language": "python",
     "metadata": {},
     "outputs": [
      {
       "output_type": "stream",
       "stream": "stdout",
       "text": [
        "[IndexMatrix([[ 1,  3],\n",
        "       [ 3,  3],\n",
        "       [ 3, 12],\n",
        "       [12,  7],\n",
        "       [ 7,  4]]), IndexMatrix([[ 1,  3],\n",
        "       [ 3,  3],\n",
        "       [ 3, 12],\n",
        "       [12,  7],\n",
        "       [ 7, 14]]), IndexMatrix([[10,  8],\n",
        "       [ 8,  6]]), IndexMatrix([[ 6,  8],\n",
        "       [ 8, 10]]), IndexMatrix([[10,  9],\n",
        "       [ 9,  6]]), IndexMatrix([[ 6,  9],\n",
        "       [ 9, 10]]), IndexMatrix([[ 1,  3],\n",
        "       [ 3,  7],\n",
        "       [ 7, 17]]), IndexMatrix([[11,  5],\n",
        "       [ 5,  0],\n",
        "       [ 0,  3],\n",
        "       [ 3,  0],\n",
        "       [ 0,  3],\n",
        "       [ 3, 18]]), IndexMatrix([[ 3,  3],\n",
        "       [ 3,  2],\n",
        "       [ 2, 15],\n",
        "       [15, 13],\n",
        "       [13, 16]])]\n",
        "[StatesMatrix([[u'\\u4e00', u'\\u4eca', u'\\u5237', u'\\u5929', u'\\u597d', u'\\u5b50',\n",
        "        u'\\u5b83', u'\\u5f88', u'\\u6068', u'\\u611b', u'\\u6211', u'\\u65e5',\n",
        "        u'\\u6c23', u'\\u6d17', u'\\u721b', u'\\u7259', u'\\u81c9', u'\\u8870',\n",
        "        u'\\u904e']], \n",
        "      dtype='<U1'), StatesMatrix([[u'\\u4e00', u'\\u4eca', u'\\u5237', u'\\u5929', u'\\u597d', u'\\u5b50',\n",
        "        u'\\u5b83', u'\\u5f88', u'\\u6068', u'\\u611b', u'\\u6211', u'\\u65e5',\n",
        "        u'\\u6c23', u'\\u6d17', u'\\u721b', u'\\u7259', u'\\u81c9', u'\\u8870',\n",
        "        u'\\u904e']], \n",
        "      dtype='<U1'), StatesMatrix([[u'\\u4e00', u'\\u4eca', u'\\u5237', u'\\u5929', u'\\u597d', u'\\u5b50',\n",
        "        u'\\u5b83', u'\\u5f88', u'\\u6068', u'\\u611b', u'\\u6211', u'\\u65e5',\n",
        "        u'\\u6c23', u'\\u6d17', u'\\u721b', u'\\u7259', u'\\u81c9', u'\\u8870',\n",
        "        u'\\u904e']], \n",
        "      dtype='<U1'), StatesMatrix([[u'\\u4e00', u'\\u4eca', u'\\u5237', u'\\u5929', u'\\u597d', u'\\u5b50',\n",
        "        u'\\u5b83', u'\\u5f88', u'\\u6068', u'\\u611b', u'\\u6211', u'\\u65e5',\n",
        "        u'\\u6c23', u'\\u6d17', u'\\u721b', u'\\u7259', u'\\u81c9', u'\\u8870',\n",
        "        u'\\u904e']], \n",
        "      dtype='<U1'), StatesMatrix([[u'\\u4e00', u'\\u4eca', u'\\u5237', u'\\u5929', u'\\u597d', u'\\u5b50',\n",
        "        u'\\u5b83', u'\\u5f88', u'\\u6068', u'\\u611b', u'\\u6211', u'\\u65e5',\n",
        "        u'\\u6c23', u'\\u6d17', u'\\u721b', u'\\u7259', u'\\u81c9', u'\\u8870',\n",
        "        u'\\u904e']], \n",
        "      dtype='<U1'), StatesMatrix([[u'\\u4e00', u'\\u4eca', u'\\u5237', u'\\u5929', u'\\u597d', u'\\u5b50',\n",
        "        u'\\u5b83', u'\\u5f88', u'\\u6068', u'\\u611b', u'\\u6211', u'\\u65e5',\n",
        "        u'\\u6c23', u'\\u6d17', u'\\u721b', u'\\u7259', u'\\u81c9', u'\\u8870',\n",
        "        u'\\u904e']], \n",
        "      dtype='<U1'), StatesMatrix([[u'\\u4e00', u'\\u4eca', u'\\u5237', u'\\u5929', u'\\u597d', u'\\u5b50',\n",
        "        u'\\u5b83', u'\\u5f88', u'\\u6068', u'\\u611b', u'\\u6211', u'\\u65e5',\n",
        "        u'\\u6c23', u'\\u6d17', u'\\u721b', u'\\u7259', u'\\u81c9', u'\\u8870',\n",
        "        u'\\u904e']], \n",
        "      dtype='<U1'), StatesMatrix([[u'\\u4e00', u'\\u4eca', u'\\u5237', u'\\u5929', u'\\u597d', u'\\u5b50',\n",
        "        u'\\u5b83', u'\\u5f88', u'\\u6068', u'\\u611b', u'\\u6211', u'\\u65e5',\n",
        "        u'\\u6c23', u'\\u6d17', u'\\u721b', u'\\u7259', u'\\u81c9', u'\\u8870',\n",
        "        u'\\u904e']], \n",
        "      dtype='<U1'), StatesMatrix([[u'\\u4e00', u'\\u4eca', u'\\u5237', u'\\u5929', u'\\u597d', u'\\u5b50',\n",
        "        u'\\u5b83', u'\\u5f88', u'\\u6068', u'\\u611b', u'\\u6211', u'\\u65e5',\n",
        "        u'\\u6c23', u'\\u6d17', u'\\u721b', u'\\u7259', u'\\u81c9', u'\\u8870',\n",
        "        u'\\u904e']], \n",
        "      dtype='<U1')]\n"
       ]
      }
     ],
     "prompt_number": 121
    },
    {
     "cell_type": "code",
     "collapsed": false,
     "input": [
      "StatesMatrixMerger(*states_matrixes).update()"
     ],
     "language": "python",
     "metadata": {},
     "outputs": [
      {
       "metadata": {},
       "output_type": "pyout",
       "prompt_number": 122,
       "text": [
        "[StatesMatrix([[u'\\u4e00', u'\\u4eca', u'\\u5237', u'\\u5929', u'\\u597d', u'\\u5b50',\n",
        "         u'\\u5b83', u'\\u5f88', u'\\u6068', u'\\u611b', u'\\u6211', u'\\u65e5',\n",
        "         u'\\u6c23', u'\\u6d17', u'\\u721b', u'\\u7259', u'\\u81c9', u'\\u8870',\n",
        "         u'\\u904e']], \n",
        "       dtype='<U1'),\n",
        " StatesMatrix([[u'\\u4e00', u'\\u4eca', u'\\u5237', u'\\u5929', u'\\u597d', u'\\u5b50',\n",
        "         u'\\u5b83', u'\\u5f88', u'\\u6068', u'\\u611b', u'\\u6211', u'\\u65e5',\n",
        "         u'\\u6c23', u'\\u6d17', u'\\u721b', u'\\u7259', u'\\u81c9', u'\\u8870',\n",
        "         u'\\u904e']], \n",
        "       dtype='<U1'),\n",
        " StatesMatrix([[u'\\u4e00', u'\\u4eca', u'\\u5237', u'\\u5929', u'\\u597d', u'\\u5b50',\n",
        "         u'\\u5b83', u'\\u5f88', u'\\u6068', u'\\u611b', u'\\u6211', u'\\u65e5',\n",
        "         u'\\u6c23', u'\\u6d17', u'\\u721b', u'\\u7259', u'\\u81c9', u'\\u8870',\n",
        "         u'\\u904e']], \n",
        "       dtype='<U1'),\n",
        " StatesMatrix([[u'\\u4e00', u'\\u4eca', u'\\u5237', u'\\u5929', u'\\u597d', u'\\u5b50',\n",
        "         u'\\u5b83', u'\\u5f88', u'\\u6068', u'\\u611b', u'\\u6211', u'\\u65e5',\n",
        "         u'\\u6c23', u'\\u6d17', u'\\u721b', u'\\u7259', u'\\u81c9', u'\\u8870',\n",
        "         u'\\u904e']], \n",
        "       dtype='<U1'),\n",
        " StatesMatrix([[u'\\u4e00', u'\\u4eca', u'\\u5237', u'\\u5929', u'\\u597d', u'\\u5b50',\n",
        "         u'\\u5b83', u'\\u5f88', u'\\u6068', u'\\u611b', u'\\u6211', u'\\u65e5',\n",
        "         u'\\u6c23', u'\\u6d17', u'\\u721b', u'\\u7259', u'\\u81c9', u'\\u8870',\n",
        "         u'\\u904e']], \n",
        "       dtype='<U1'),\n",
        " StatesMatrix([[u'\\u4e00', u'\\u4eca', u'\\u5237', u'\\u5929', u'\\u597d', u'\\u5b50',\n",
        "         u'\\u5b83', u'\\u5f88', u'\\u6068', u'\\u611b', u'\\u6211', u'\\u65e5',\n",
        "         u'\\u6c23', u'\\u6d17', u'\\u721b', u'\\u7259', u'\\u81c9', u'\\u8870',\n",
        "         u'\\u904e']], \n",
        "       dtype='<U1'),\n",
        " StatesMatrix([[u'\\u4e00', u'\\u4eca', u'\\u5237', u'\\u5929', u'\\u597d', u'\\u5b50',\n",
        "         u'\\u5b83', u'\\u5f88', u'\\u6068', u'\\u611b', u'\\u6211', u'\\u65e5',\n",
        "         u'\\u6c23', u'\\u6d17', u'\\u721b', u'\\u7259', u'\\u81c9', u'\\u8870',\n",
        "         u'\\u904e']], \n",
        "       dtype='<U1'),\n",
        " StatesMatrix([[u'\\u4e00', u'\\u4eca', u'\\u5237', u'\\u5929', u'\\u597d', u'\\u5b50',\n",
        "         u'\\u5b83', u'\\u5f88', u'\\u6068', u'\\u611b', u'\\u6211', u'\\u65e5',\n",
        "         u'\\u6c23', u'\\u6d17', u'\\u721b', u'\\u7259', u'\\u81c9', u'\\u8870',\n",
        "         u'\\u904e']], \n",
        "       dtype='<U1'),\n",
        " StatesMatrix([[u'\\u4e00', u'\\u4eca', u'\\u5237', u'\\u5929', u'\\u597d', u'\\u5b50',\n",
        "         u'\\u5b83', u'\\u5f88', u'\\u6068', u'\\u611b', u'\\u6211', u'\\u65e5',\n",
        "         u'\\u6c23', u'\\u6d17', u'\\u721b', u'\\u7259', u'\\u81c9', u'\\u8870',\n",
        "         u'\\u904e']], \n",
        "       dtype='<U1')]"
       ]
      }
     ],
     "prompt_number": 122
    },
    {
     "cell_type": "code",
     "collapsed": false,
     "input": [
      "idx_matrixes2 = map(lambda xx:xx.index_matrix,text_idxed_data_matrix)\n",
      "print idx_matrixes2\n",
      "map(lambda xx:xx._data,text_idxed_data_matrix)"
     ],
     "language": "python",
     "metadata": {},
     "outputs": [
      {
       "output_type": "stream",
       "stream": "stdout",
       "text": [
        "[IndexMatrix([[ 1,  3],\n",
        "       [ 3,  3],\n",
        "       [ 3, 12],\n",
        "       [12,  7],\n",
        "       [ 7,  4]]), IndexMatrix([[ 1,  3],\n",
        "       [ 3,  3],\n",
        "       [ 3, 12],\n",
        "       [12,  7],\n",
        "       [ 7, 14]]), IndexMatrix([[10,  8],\n",
        "       [ 8,  6]]), IndexMatrix([[ 6,  8],\n",
        "       [ 8, 10]]), IndexMatrix([[10,  9],\n",
        "       [ 9,  6]]), IndexMatrix([[ 6,  9],\n",
        "       [ 9, 10]]), IndexMatrix([[ 1,  3],\n",
        "       [ 3,  7],\n",
        "       [ 7, 17]]), IndexMatrix([[11,  5],\n",
        "       [ 5,  0],\n",
        "       [ 0,  3],\n",
        "       [ 3,  0],\n",
        "       [ 0,  3],\n",
        "       [ 3, 18]]), IndexMatrix([[ 3,  3],\n",
        "       [ 3,  2],\n",
        "       [ 2, 15],\n",
        "       [15, 13],\n",
        "       [13, 16]])]\n"
       ]
      },
      {
       "metadata": {},
       "output_type": "pyout",
       "prompt_number": 123,
       "text": [
        "[ValuesMatrix([[u'\\u4eca', u'\\u5929'],\n",
        "        [u'\\u5929', u'\\u5929'],\n",
        "        [u'\\u5929', u'\\u6c23'],\n",
        "        [u'\\u6c23', u'\\u5f88'],\n",
        "        [u'\\u5f88', u'\\u597d']], \n",
        "       dtype='<U1'), ValuesMatrix([[u'\\u4eca', u'\\u5929'],\n",
        "        [u'\\u5929', u'\\u5929'],\n",
        "        [u'\\u5929', u'\\u6c23'],\n",
        "        [u'\\u6c23', u'\\u5f88'],\n",
        "        [u'\\u5f88', u'\\u721b']], \n",
        "       dtype='<U1'), ValuesMatrix([[u'\\u6211', u'\\u6068'],\n",
        "        [u'\\u6068', u'\\u5b83']], \n",
        "       dtype='<U1'), ValuesMatrix([[u'\\u5b83', u'\\u6068'],\n",
        "        [u'\\u6068', u'\\u6211']], \n",
        "       dtype='<U1'), ValuesMatrix([[u'\\u6211', u'\\u611b'],\n",
        "        [u'\\u611b', u'\\u5b83']], \n",
        "       dtype='<U1'), ValuesMatrix([[u'\\u5b83', u'\\u611b'],\n",
        "        [u'\\u611b', u'\\u6211']], \n",
        "       dtype='<U1'), ValuesMatrix([[u'\\u4eca', u'\\u5929'],\n",
        "        [u'\\u5929', u'\\u5f88'],\n",
        "        [u'\\u5f88', u'\\u8870']], \n",
        "       dtype='<U1'), ValuesMatrix([[u'\\u65e5', u'\\u5b50'],\n",
        "        [u'\\u5b50', u'\\u4e00'],\n",
        "        [u'\\u4e00', u'\\u5929'],\n",
        "        [u'\\u5929', u'\\u4e00'],\n",
        "        [u'\\u4e00', u'\\u5929'],\n",
        "        [u'\\u5929', u'\\u904e']], \n",
        "       dtype='<U1'), ValuesMatrix([[u'\\u5929', u'\\u5929'],\n",
        "        [u'\\u5929', u'\\u5237'],\n",
        "        [u'\\u5237', u'\\u7259'],\n",
        "        [u'\\u7259', u'\\u6d17'],\n",
        "        [u'\\u6d17', u'\\u81c9']], \n",
        "       dtype='<U1')]"
       ]
      }
     ],
     "prompt_number": 123
    },
    {
     "cell_type": "code",
     "collapsed": false,
     "input": [
      "print idx_matrixes"
     ],
     "language": "python",
     "metadata": {},
     "outputs": [
      {
       "output_type": "stream",
       "stream": "stdout",
       "text": [
        "[IndexMatrix([[ 1,  3],\n",
        "       [ 3,  3],\n",
        "       [ 3, 12],\n",
        "       [12,  7],\n",
        "       [ 7,  4]]), IndexMatrix([[ 1,  3],\n",
        "       [ 3,  3],\n",
        "       [ 3, 12],\n",
        "       [12,  7],\n",
        "       [ 7, 14]]), IndexMatrix([[10,  8],\n",
        "       [ 8,  6]]), IndexMatrix([[ 6,  8],\n",
        "       [ 8, 10]]), IndexMatrix([[10,  9],\n",
        "       [ 9,  6]]), IndexMatrix([[ 6,  9],\n",
        "       [ 9, 10]]), IndexMatrix([[ 1,  3],\n",
        "       [ 3,  7],\n",
        "       [ 7, 17]]), IndexMatrix([[11,  5],\n",
        "       [ 5,  0],\n",
        "       [ 0,  3],\n",
        "       [ 3,  0],\n",
        "       [ 0,  3],\n",
        "       [ 3, 18]]), IndexMatrix([[ 3,  3],\n",
        "       [ 3,  2],\n",
        "       [ 2, 15],\n",
        "       [15, 13],\n",
        "       [13, 16]])]\n"
       ]
      }
     ],
     "prompt_number": 124
    },
    {
     "cell_type": "code",
     "collapsed": false,
     "input": [],
     "language": "python",
     "metadata": {},
     "outputs": [],
     "prompt_number": 124
    },
    {
     "cell_type": "code",
     "collapsed": false,
     "input": [
      "idx_mat = IndexMatrix(np.concatenate(tuple(idx_matrixes),axis=0))\n",
      "idx_mat"
     ],
     "language": "python",
     "metadata": {},
     "outputs": [
      {
       "metadata": {},
       "output_type": "pyout",
       "prompt_number": 125,
       "text": [
        "IndexMatrix([[ 1,  3],\n",
        "       [ 3,  3],\n",
        "       [ 3, 12],\n",
        "       [12,  7],\n",
        "       [ 7,  4],\n",
        "       [ 1,  3],\n",
        "       [ 3,  3],\n",
        "       [ 3, 12],\n",
        "       [12,  7],\n",
        "       [ 7, 14],\n",
        "       [10,  8],\n",
        "       [ 8,  6],\n",
        "       [ 6,  8],\n",
        "       [ 8, 10],\n",
        "       [10,  9],\n",
        "       [ 9,  6],\n",
        "       [ 6,  9],\n",
        "       [ 9, 10],\n",
        "       [ 1,  3],\n",
        "       [ 3,  7],\n",
        "       [ 7, 17],\n",
        "       [11,  5],\n",
        "       [ 5,  0],\n",
        "       [ 0,  3],\n",
        "       [ 3,  0],\n",
        "       [ 0,  3],\n",
        "       [ 3, 18],\n",
        "       [ 3,  3],\n",
        "       [ 3,  2],\n",
        "       [ 2, 15],\n",
        "       [15, 13],\n",
        "       [13, 16]])"
       ]
      }
     ],
     "prompt_number": 125
    },
    {
     "cell_type": "code",
     "collapsed": false,
     "input": [
      "s,i = idx_mat.build_row_struct_index()\n",
      "s,i"
     ],
     "language": "python",
     "metadata": {},
     "outputs": [
      {
       "metadata": {},
       "output_type": "pyout",
       "prompt_number": 126,
       "text": [
        "(StatesMatrix([[ 0,  3],\n",
        "        [ 1,  3],\n",
        "        [ 2, 15],\n",
        "        [ 3,  0],\n",
        "        [ 3,  2],\n",
        "        [ 3,  3],\n",
        "        [ 3,  7],\n",
        "        [ 3, 12],\n",
        "        [ 3, 18],\n",
        "        [ 5,  0],\n",
        "        [ 6,  8],\n",
        "        [ 6,  9],\n",
        "        [ 7,  4],\n",
        "        [ 7, 14],\n",
        "        [ 7, 17],\n",
        "        [ 8,  6],\n",
        "        [ 8, 10],\n",
        "        [ 9,  6],\n",
        "        [ 9, 10],\n",
        "        [10,  8],\n",
        "        [10,  9],\n",
        "        [11,  5],\n",
        "        [12,  7],\n",
        "        [13, 16],\n",
        "        [15, 13]]),\n",
        " IndexMatrix([[ 1,  5,  7, 22, 12,  1,  5,  7, 22, 13, 19, 15, 10, 16, 20, 17, 11,\n",
        "         18,  1,  6, 14, 21,  9,  0,  3,  0,  8,  5,  4,  2, 24, 23]]))"
       ]
      }
     ],
     "prompt_number": 126
    },
    {
     "cell_type": "code",
     "collapsed": false,
     "input": [],
     "language": "python",
     "metadata": {},
     "outputs": [],
     "prompt_number": 67
    },
    {
     "cell_type": "code",
     "collapsed": false,
     "input": [
      "i.T"
     ],
     "language": "python",
     "metadata": {},
     "outputs": [
      {
       "metadata": {},
       "output_type": "pyout",
       "prompt_number": 71,
       "text": [
        "IndexMatrix([[ 1],\n",
        "       [ 5],\n",
        "       [ 7],\n",
        "       [22],\n",
        "       [12],\n",
        "       [ 1],\n",
        "       [ 5],\n",
        "       [ 7],\n",
        "       [22],\n",
        "       [13],\n",
        "       [19],\n",
        "       [15],\n",
        "       [10],\n",
        "       [16],\n",
        "       [20],\n",
        "       [17],\n",
        "       [11],\n",
        "       [18],\n",
        "       [ 1],\n",
        "       [ 6],\n",
        "       [14],\n",
        "       [21],\n",
        "       [ 9],\n",
        "       [ 0],\n",
        "       [ 3],\n",
        "       [ 0],\n",
        "       [ 8],\n",
        "       [ 5],\n",
        "       [ 4],\n",
        "       [ 2],\n",
        "       [24],\n",
        "       [23]])"
       ]
      }
     ],
     "prompt_number": 71
    },
    {
     "cell_type": "code",
     "collapsed": false,
     "input": [],
     "language": "python",
     "metadata": {},
     "outputs": [],
     "prompt_number": 67
    },
    {
     "cell_type": "code",
     "collapsed": false,
     "input": [],
     "language": "python",
     "metadata": {},
     "outputs": []
    }
   ],
   "metadata": {}
  }
 ]
}